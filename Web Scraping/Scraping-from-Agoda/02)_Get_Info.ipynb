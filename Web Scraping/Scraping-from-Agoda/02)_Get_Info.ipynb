{
 "cells": [
  {
   "cell_type": "markdown",
   "metadata": {},
   "source": [
    "# Introduzione"
   ]
  },
  {
   "cell_type": "markdown",
   "metadata": {},
   "source": [
    "# Importazione pacchetti"
   ]
  },
  {
   "cell_type": "markdown",
   "metadata": {},
   "source": [
    "Importare i vari pacchetti necessari  per eseguire le azioni elencate nell'introduzione:\n",
    "   - bs4 (beautiful soup, manipolare gli html)\n",
    "   - tqdm (per le barre di progresso) \n",
    "   - pandas (manipolazione/esportazione dataframes)\n"
   ]
  },
  {
   "cell_type": "code",
   "execution_count": null,
   "metadata": {},
   "outputs": [],
   "source": [
    "from bs4 import BeautifulSoup # Importazione pacchetti per gestire HTML\n",
    "from tqdm import tqdm as tqdm # Importazione pacchetti per barra di progresso\n",
    "import pandas as pd  # Importazione pacchetti per lavorare con i dataframe\n",
    "import numpy as np # Usato per nan\n",
    "\n",
    "#pd.set_option('display.max_rows', None)"
   ]
  },
  {
   "cell_type": "code",
   "execution_count": null,
   "metadata": {},
   "outputs": [],
   "source": [
    "# Directory principale dello scraper, ove vi sono gli script e gli html devono essere posizionati\n",
    "path_main_directory = '...'\n",
    "\n",
    "# Directory del progetto\n",
    "path_progetto = '...'"
   ]
  },
  {
   "cell_type": "code",
   "execution_count": null,
   "metadata": {},
   "outputs": [
    {
     "name": "stderr",
     "output_type": "stream",
     "text": [
      "100%|██████████| 90/90 [00:00<00:00, 712.13it/s]\n",
      "100%|██████████| 90/90 [00:00<00:00, 1003.21it/s]\n",
      "100%|██████████| 90/90 [00:00<00:00, 965.33it/s]\n",
      "100%|██████████| 90/90 [00:00<00:00, 982.83it/s]\n",
      "100%|██████████| 90/90 [00:00<00:00, 959.75it/s]\n",
      "100%|██████████| 90/90 [00:00<00:00, 973.33it/s]\n"
     ]
    }
   ],
   "source": [
    "# Inizializzare il dataframe nel quale verranno inserite le informazioni riguardo gli hotel e  B&B di agoda.\n",
    "booking_dataframe = pd.DataFrame(columns=[\n",
    "   \"titolo\",\n",
    "   \"recensione_voto_numerico\",\n",
    "   \"recensione_voto_parola\",\n",
    "   \"numero_recensioni\",\n",
    "   \"date\",\n",
    "   \"permanenza\",\n",
    "   \"prezzo\",\n",
    "   \"indirizzo\",\n",
    "   \"valutazione\"\n",
    "])\n",
    "\n",
    "\n",
    "# Ciclo for per il numero di pagine dalle quali estrarre i dati.\n",
    "for i in range(1,7):\n",
    "\n",
    "   # Importare l'html del file in questione\n",
    "   with open(f\"{path_main_directory}/html/html_final_pagina{i}.txt\",\"r\") as f:\n",
    "      html = f.read()\n",
    "\n",
    "   # Prendere l'html della pagina \n",
    "   html_bs4 = BeautifulSoup(html,'html.parser')\n",
    "   proprietà = html_bs4.find_all(\"div\",{\"data-element-name\":\"PropertyCardBaseJacket\"})\n",
    "\n",
    "\n",
    "   for post in tqdm(proprietà):\n",
    "      \n",
    "      # DIV info proprietà\n",
    "      header = post.find(\"header\",{\"data-element-name\":\"property-info-header\"})\n",
    "      \n",
    "      # Titolo\n",
    "      try: # Se non ha il titolo non è valida, passare alla successiva\n",
    "         titolo = header.find(\"h3\",{\"data-selenium\":\"hotel-name\"}).text\n",
    "      except:\n",
    "         continue \n",
    "\n",
    "      #  rating-container\n",
    "      rating = header.find(\"div\",{\"data-testid\":\"rating-container\"})\n",
    "      if rating != None:\n",
    "         rating = rating.find_all(\"svg\",{\"opacity\":\"1\"})\n",
    "         stelle = len(rating)\n",
    "      else:\n",
    "         stelle = np.nan\n",
    "\n",
    "      \n",
    "      indirizzo = header.find(\"div\",{\"data-selenium\":\"area-city\"}).text\n",
    "      indirizzo = indirizzo.replace(\"- Guarda sulla mappa\",\"\")\n",
    "      \n",
    "      # Prezzi e recensioni\n",
    "      informazioni = post.find(\"div\",{\"data-element-name\":\"property-card-pricing-info\"})\n",
    "      \n",
    "      ## Recensioni\n",
    "      informazioni_recensioni = informazioni.find(\"div\",{\"class\":\"Box-sc-kv6pi1-0 hRUYUu PropertyCard__PricingHeadliner\"})\n",
    "   \n",
    "      ### Questa div è molto caotica, bisogna cercare le tag p che contengono le recensioni\n",
    "      \n",
    "      for p in informazioni_recensioni.find_all(\"p\"):\n",
    "         \n",
    "         spans = p.find_all(\"span\")\n",
    "         if  len(spans) > 0: # se ci sono più span nella tag p allora si tratta dei voti numerici o parola\n",
    "            for span in spans:\n",
    "               if \",\" in span.text: # se c'è una virgola è voto numerico\n",
    "                  recensione_voto_numerico = span.text\n",
    "               else: # se non c'è la virgola è voto parola\n",
    "                  recensione_voto_parola = span.text\n",
    "         else: # se non ci sono span è il numero di recensioni\n",
    "            numero_recensioni = p.text\n",
    "\n",
    "      # Prezzo\n",
    "      prezzo = informazioni.find(\"div\",{\"data-element-name\":\"property-card-price\"})\n",
    "      prezzo = prezzo.find(\"div\",{\"data-element-name\":\"final-price\"}).text\n",
    "\n",
    "\n",
    "      # Crea il dizionario con i dati della singola proprietà\n",
    "      informazioni_singola_proprietà = {  \"titolo\": titolo,\n",
    "                                          \"recensione_voto_numerico\": recensione_voto_numerico,\n",
    "                                          \"recensione_voto_parola\": recensione_voto_parola,\n",
    "                                          \"numero_recensioni\": numero_recensioni,\n",
    "                                          \"date\": \"1 agosto - 2 agosto\",\n",
    "                                          \"permanenza\": \"1 notte, 2 adulti\",\n",
    "                                          \"prezzo\": prezzo,\n",
    "                                          \"indirizzo\": indirizzo,\n",
    "                                          \"valutazione\": stelle,\n",
    "                                       }\n",
    "      \n",
    "      # Aggiunge direttamente come nuova riga\n",
    "      booking_dataframe.loc[len(booking_dataframe)] = informazioni_singola_proprietà\n"
   ]
  },
  {
   "cell_type": "code",
   "execution_count": null,
   "metadata": {},
   "outputs": [],
   "source": [
    "# Esportare il dataframe\n",
    "booking_dataframe.to_csv(f\"{path_progetto}/Data Lake/agodaRoma.csv\")"
   ]
  },
  {
   "cell_type": "code",
   "execution_count": null,
   "metadata": {},
   "outputs": [],
   "source": [
    "#pd.set_option('display.max_rows', None)\n",
    "#booking_dataframe.sort_values(by=\"titolo\")"
   ]
  }
 ],
 "metadata": {
  "kernelspec": {
   "display_name": "web_scraping",
   "language": "python",
   "name": "python3"
  },
  "language_info": {
   "codemirror_mode": {
    "name": "ipython",
    "version": 3
   },
   "file_extension": ".py",
   "mimetype": "text/x-python",
   "name": "python",
   "nbconvert_exporter": "python",
   "pygments_lexer": "ipython3",
   "version": "3.10.13"
  }
 },
 "nbformat": 4,
 "nbformat_minor": 2
}
