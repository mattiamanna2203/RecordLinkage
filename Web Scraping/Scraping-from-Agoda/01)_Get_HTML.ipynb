{
 "cells": [
  {
   "cell_type": "markdown",
   "metadata": {},
   "source": [
    "# Introduzione"
   ]
  },
  {
   "cell_type": "markdown",
   "metadata": {},
   "source": [
    "# Importazione pacchetti"
   ]
  },
  {
   "cell_type": "markdown",
   "metadata": {},
   "source": [
    "Importare i vari pacchetti necessari  per eseguire le azioni elencate nell'introduzione:\n",
    "   - selenium (per navigare sulle pagine web)\n",
    "   - bs4 (beautiful soup, estrarre informazioni dal codice html)\n",
    "   - pandas (manipolazione/esportazione dataframes)\n",
    "   - time (per i time sleep ovvero periodi di attesa)\n",
    "   - tqdm (per le barre di progresso) "
   ]
  },
  {
   "cell_type": "code",
   "execution_count": null,
   "metadata": {},
   "outputs": [],
   "source": [
    "#%% Pacchetti\n",
    "## Importazione pacchetti per selenium\n",
    "from selenium import webdriver\n",
    "from selenium.webdriver.chrome.service import Service # Selezionare il chrome driver\n",
    "#-------##-------##-------##-------##-------##-------##-------##-------##-------##-------#\n",
    "\n",
    "from bs4 import BeautifulSoup # Per gestire HTML\n",
    "\n",
    "import os # Muoversi tra directory ecc...\n",
    "from tqdm import tqdm as tqdm # Barra di progresso\n",
    "\n",
    "\n",
    "import time   # Per utilizzare dei time.sleep()\n",
    "import random # Per ottenere numeri casuali, utile per utilizzare time.sleep() randomici (meno identificabili)\n",
    "\n",
    "# Importare sys per indicare il path della cartella ove sono collocate le funzioni selfmade.\n",
    "import sys\n",
    "sys.path.append('.../funzioni')\n",
    "\n",
    "# Importare le funzioni per lavorare su instagram con il selenium both\n",
    "from funzioni_selenium_bot_agoda import *"
   ]
  },
  {
   "cell_type": "markdown",
   "metadata": {},
   "source": [
    "# Percorsi file \n",
    "Siccome questo bot leggerà e scriverà file localmente, stabilire quali sono i percorsi file di questi elementi.   "
   ]
  },
  {
   "cell_type": "code",
   "execution_count": null,
   "metadata": {},
   "outputs": [],
   "source": [
    "# Path per il driver di selenium\n",
    "path_driver=\"...\"\n",
    "\n",
    "# Directory principale dello scraper, ove vi sono gli script e gli html devono essere posizionati\n",
    "path_main_directory = '...'"
   ]
  },
  {
   "cell_type": "markdown",
   "metadata": {},
   "source": [
    "Creare le directory ove mettere i file"
   ]
  },
  {
   "cell_type": "code",
   "execution_count": null,
   "metadata": {},
   "outputs": [],
   "source": [
    "# Andare alla directory principale specificata nella precedente linea di codice\n",
    "os.chdir(path_main_directory)\n",
    "\n",
    "# Se non c'è la directory html crearla. Viene inserita questa clausola per evitare che una directory esistente\n",
    "# venga cancellata\n",
    "if \"html\" not in os.listdir():\n",
    "   os.mkdir(\"html\")"
   ]
  },
  {
   "cell_type": "markdown",
   "metadata": {},
   "source": [
    "# Impostare il selenium bot e accesso ad Instagram"
   ]
  },
  {
   "cell_type": "code",
   "execution_count": null,
   "metadata": {},
   "outputs": [],
   "source": [
    "# La classe Service di Selenium viene utilizzata per gestire e configurare il driver del browser\n",
    "service = Service(executable_path=path_driver)\n",
    "\n",
    "# Configurare il driver di Chrome \n",
    "options = webdriver.ChromeOptions()\n",
    "\n",
    "# Questa impostazionie permette di non caricare le immagini, rende lo scraping più veloce.\n",
    "prefs = {\"profile.managed_default_content_settings.images\": 2}\n",
    "options.add_experimental_option(\"prefs\", prefs)\n",
    "\n",
    "# Definire il driver: utilizzare il driver scelto (service) e passargli le impostazioni scelte (options)\n",
    "driver = webdriver.Chrome(service=service, options=options)\n",
    "\n",
    "# Impostare le dimensioni della finestra google sulla quale il bot selenium opera.\n",
    "driver.maximize_window()            # dimensioni massime per la finestra\n",
    "#driver.set_window_size(600, 800)   # dimensioni customizzate per la finestra"
   ]
  },
  {
   "cell_type": "markdown",
   "metadata": {},
   "source": [
    "# Istruzioni per il selenium bot "
   ]
  },
  {
   "cell_type": "markdown",
   "metadata": {},
   "source": [
    "Il selenium bot per agoda "
   ]
  },
  {
   "cell_type": "code",
   "execution_count": null,
   "metadata": {},
   "outputs": [
    {
     "name": "stdout",
     "output_type": "stream",
     "text": [
      "Cookie accettati metodo 1\n",
      "Avanti cliccato metodo 1\n",
      "pagina successiva, si va a pagina: 2\n",
      "Avanti cliccato metodo 1\n",
      "pagina successiva, si va a pagina: 3\n",
      "Avanti cliccato metodo 1\n",
      "pagina successiva, si va a pagina: 4\n",
      "Avanti cliccato metodo 1\n",
      "pagina successiva, si va a pagina: 5\n",
      "Avanti cliccato metodo 1\n",
      "pagina successiva, si va a pagina: 6\n",
      "Avanti cliccato metodo 1\n",
      "pagina successiva, si va a pagina: 7\n"
     ]
    },
    {
     "ename": "KeyboardInterrupt",
     "evalue": "",
     "output_type": "error",
     "traceback": [
      "\u001b[0;31m---------------------------------------------------------------------------\u001b[0m",
      "\u001b[0;31mKeyboardInterrupt\u001b[0m                         Traceback (most recent call last)",
      "\u001b[0;32m/var/folders/j4/9fk3st2d30g22vff83pj6cnw0000gn/T/ipykernel_14300/4092597815.py\u001b[0m in \u001b[0;36m<cell line: 19>\u001b[0;34m()\u001b[0m\n\u001b[1;32m     39\u001b[0m    \u001b[0;31m# Tempo di attesa randomico, meno riconoscibile\u001b[0m\u001b[0;34m\u001b[0m\u001b[0;34m\u001b[0m\u001b[0m\n\u001b[1;32m     40\u001b[0m    \u001b[0mtempo_attesa\u001b[0m \u001b[0;34m=\u001b[0m \u001b[0mrandom\u001b[0m\u001b[0;34m.\u001b[0m\u001b[0mrandint\u001b[0m\u001b[0;34m(\u001b[0m\u001b[0;36m3\u001b[0m\u001b[0;34m,\u001b[0m\u001b[0;36m6\u001b[0m\u001b[0;34m)\u001b[0m\u001b[0;34m\u001b[0m\u001b[0;34m\u001b[0m\u001b[0m\n\u001b[0;32m---> 41\u001b[0;31m    \u001b[0mtime\u001b[0m\u001b[0;34m.\u001b[0m\u001b[0msleep\u001b[0m\u001b[0;34m(\u001b[0m\u001b[0mtempo_attesa\u001b[0m\u001b[0;34m)\u001b[0m\u001b[0;34m\u001b[0m\u001b[0;34m\u001b[0m\u001b[0m\n\u001b[0m\u001b[1;32m     42\u001b[0m \u001b[0;34m\u001b[0m\u001b[0m\n\u001b[1;32m     43\u001b[0m    \u001b[0mcurrent_position\u001b[0m \u001b[0;34m+=\u001b[0m \u001b[0mscroll_step\u001b[0m\u001b[0;34m\u001b[0m\u001b[0;34m\u001b[0m\u001b[0m\n",
      "\u001b[0;31mKeyboardInterrupt\u001b[0m: "
     ]
    }
   ],
   "source": [
    "# Specificare il link della pagina dalla quale estrarre i dati.\n",
    "link = \"\"\"https://www.agoda.com/search?guid=669ab2ec-48e1-4352-9316-2acd622148c4&asq=u2qcKLxwzRU5NDuxJ0kOF3T91go8JoYYMxAgy8FkBH1BN0lGAtYH25sdXoy34qb9PINtsSLFICq1nQEls9V31kbe5%2FeRO08Xj7Btxoc0FhR9LlVYLumtQbdAjkwbrgpDCpAzJy%2BIPcIhZIlXClDyyvFa0n%2BkEMJafpcscbBJpFTHO8GSTit5qfwwBQvCgLXLW6v%2B1z7ngi%2Fh%2BcIMzh%2Fx3w%3D%3D&city=16594&tick=638855606350&locale=en-us&ckuid=45687004-1d36-4d5b-a134-176448822573&prid=0&currency=EUR&correlationId=21b6ff6b-77a0-4560-836b-1190abb45234&analyticsSessionId=4946736805396046751&pageTypeId=1&realLanguageId=1&languageId=1&origin=IT&stateCode=RM&cid=-1&userId=45687004-1d36-4d5b-a134-176448822573&whitelabelid=1&loginLvl=0&storefrontId=3&currencyId=1&currencyCode=EUR&htmlLanguage=en-us&cultureInfoName=en-us&machineName=am-pc-4h-acm-web-user-69f7876d78-7xhgt&trafficGroupId=4&trafficSubGroupId=4&aid=130243&useFullPageLogin=true&cttp=4&isRealUser=true&mode=production&browserFamily=Safari&cdnDomain=agoda.net&checkIn=2025-08-01&checkOut=2025-08-02&rooms=1&adults=2&children=0&priceCur=EUR&los=1&textToSearch=Rome&travellerType=1&familyMode=off&ds=Nfjv0Uc2AgHSoE4w&productType=-1\"\"\"\n",
    "\n",
    "# Andare alla pagina assegnata alla variabile 'link' \n",
    "driver.get(link) \n",
    "\n",
    "# Aspettare 10 secondi per far caricare la pagina\n",
    "time.sleep(10)\n",
    "\n",
    "# Accettare i cookie\n",
    "click_cookie_button(driver)\n",
    "\n",
    "\n",
    "scroll_step = 200\n",
    "last_height = driver.execute_script(\"return document.body.scrollHeight\")\n",
    "current_position = 0\n",
    "scroll = 0\n",
    "\n",
    "\n",
    "while True:\n",
    "   # Prendere l'html della pagina \n",
    "   html=driver.page_source \n",
    "   \n",
    "   # Trasformare l'html in un oggetto BeautifulSoup. Permette di  estrarre le informazioni dall'html.\n",
    "   html_bs4 = BeautifulSoup(html,'html.parser')\n",
    "   \n",
    "\n",
    "   # Identificare numero di pagine e pagine corrente  \n",
    "   pagine = html_bs4.find(\"div\",{\"id\":\"paginationContainer\"}).find(\"span\",{\"id\":\"paginationPageCount\"}).text.replace(\"Pagina\",\"\")\n",
    "   pagina_corrente = int(pagine.split(\"di\")[0])\n",
    "   pagine_totali = int(pagine.split(\"di\")[1])\n",
    "\n",
    "   \n",
    "   # Salvare l'html in un file txt\n",
    "   with open(f\"{path_main_directory}/html/html_{scroll}.txt\",\"w+\") as f:\n",
    "      f.write(str(html))    \n",
    "      \n",
    "    \n",
    "   driver.execute_script(f\"window.scrollBy(0, {scroll_step});\")\n",
    "   \n",
    "   # Tempo di attesa randomico, meno riconoscibile\n",
    "   tempo_attesa = random.randint(3,6)\n",
    "   time.sleep(tempo_attesa)\n",
    "   \n",
    "   current_position += scroll_step\n",
    "   last_height = driver.execute_script(\"return document.body.scrollHeight\")\n",
    "   scroll += 1\n",
    "   \n",
    "\n",
    "\n",
    "   # Se si è arrivati al finale della pagina e si è alla pagina finale interrompere\n",
    "   if (current_position >= last_height) and (pagina_corrente == pagine_totali) :\n",
    "      with open(f\"{path_main_directory}/html/html_final_pagina{pagina_corrente}.txt\",\"w+\") as f:\n",
    "         f.write(str(html))  \n",
    "      break \n",
    "   \n",
    "\n",
    "   # se si è arrivati al finale della pagina ma ci sono ancora pagine andare alla pagina successivaa\n",
    "   elif (current_position >= last_height) and (pagina_corrente < pagine_totali) :\n",
    "      # Salvare l'html in un file txt, quando si clicca si andrà su una nuova pagina, salvare tutti i risultati\n",
    "      with open(f\"{path_main_directory}/html/html_final_pagina{pagina_corrente}.txt\",\"w+\") as f:\n",
    "         f.write(str(html))  \n",
    "\n",
    "      current_position = 0\n",
    "      click_avanti_button(driver)\n",
    "      time.sleep(20)\n",
    "      \n",
    "      print(\"pagina successiva, si va a pagina:\",pagina_corrente+1)\n",
    "      continue \n",
    "\n",
    "      \n",
    "\n",
    "\n",
    "   \n",
    "driver.quit()"
   ]
  }
 ],
 "metadata": {
  "kernelspec": {
   "display_name": "ddmcs",
   "language": "python",
   "name": "python3"
  },
  "language_info": {
   "codemirror_mode": {
    "name": "ipython",
    "version": 3
   },
   "file_extension": ".py",
   "mimetype": "text/x-python",
   "name": "python",
   "nbconvert_exporter": "python",
   "pygments_lexer": "ipython3",
   "version": "3.10.13"
  }
 },
 "nbformat": 4,
 "nbformat_minor": 2
}
