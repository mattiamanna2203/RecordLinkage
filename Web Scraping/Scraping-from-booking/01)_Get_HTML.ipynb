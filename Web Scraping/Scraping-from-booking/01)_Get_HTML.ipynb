{
 "cells": [
  {
   "cell_type": "markdown",
   "metadata": {},
   "source": [
    "# Introduzione"
   ]
  },
  {
   "cell_type": "markdown",
   "metadata": {},
   "source": [
    "L'environment **anaconda** da utilizzare è **ddmcs**.  "
   ]
  },
  {
   "cell_type": "markdown",
   "metadata": {},
   "source": [
    "# Importazione pacchetti"
   ]
  },
  {
   "cell_type": "markdown",
   "metadata": {},
   "source": [
    "Importare i vari pacchetti necessari  per eseguire le azioni elencate nell'introduzione:\n",
    "   - selenium (per navigare sulle pagine web)\n",
    "   - request (scaricare dati da internet)\n",
    "   - bs4 (beautiful soup, manipolare gli html)\n",
    "   - os (navigare nei file del computer)\n",
    "   - pandas (manipolazione/esportazione dataframes)\n",
    "   - time (per i time sleep)\n",
    "   - datetime (gestire i timestamp, ovvero le stringhe contenti date e orari)\n",
    "   - tqdm (per le barre di progresso) \n",
    "   - re (lavorare con regex e le regular expressions)"
   ]
  },
  {
   "cell_type": "code",
   "execution_count": null,
   "metadata": {},
   "outputs": [],
   "source": [
    "# Selenium\n",
    "from selenium import webdriver\n",
    "from selenium.webdriver.chrome.service import Service # Selezionare il chrome driver\n",
    "#-------##-------##-------##-------##-------##-------##-------##-------##-------##-------#\n",
    "from bs4 import BeautifulSoup # Importazione pacchetti per gestire HTML\n",
    "import os # Interagire con i file del pc \n",
    "from tqdm import tqdm as tqdm # Importazione pacchetti per barra di progresso\n",
    "import time # Importazione pacchetti per utilizzare dei time.sleep()\n",
    "import random # Importazione pacchetti per ottenere numeri casuali, utile per utilizzare time.sleep() randomici (meno identificabili)\n",
    "#from datetime import datetime # Importazione pacchetti per lavorare con timestamps, orari e date\n",
    "\n",
    "import json # Lavorare con file json\n",
    "\n",
    "from pathlib import Path # Per identificare il path del file 'config'\n",
    "\n",
    "# Identificare il file config.json \n",
    "start = Path.cwd()\n",
    "current = start.resolve()\n",
    "for parent in [current] + list(current.parents):\n",
    "   json_path_config_path = parent / \"config.json\"\n",
    "   if json_path_config_path.exists():\n",
    "      break \n",
    "\n",
    "with open(json_path_config_path) as f:\n",
    "   paths = json.load(f)\n",
    "\n",
    "# Importare sys per indicare il path della cartella ove sono collocate le funzioni selfmade.\n",
    "import sys\n",
    "sys.path.append(f'{paths[\"path_progetto\"]}{paths[\"path_funzioni_booking\"]}')\n",
    "\n",
    "\n",
    "# Importare le funzioni per lavorare su instagram con il selenium both\n",
    "from funzioni_selenium_bot_booking import *\n"
   ]
  },
  {
   "cell_type": "markdown",
   "metadata": {},
   "source": [
    "# Percorsi file \n",
    "Siccome questo bot leggerà e scriverà file localmente, stabilire quali sono i percorsi file di questi elementi.   "
   ]
  },
  {
   "cell_type": "code",
   "execution_count": 6,
   "metadata": {},
   "outputs": [],
   "source": [
    "# Path per il driver di selenium\n",
    "path_driver= paths[\"path_selenium_driver\"]\n",
    "\n",
    "# Directory principale dello scraper, ove vi sono gli script e gli html devono essere posizionati\n",
    "path_main_directory = f\"{paths['path_progetto']}{paths['path_scraper_booking']}\""
   ]
  },
  {
   "cell_type": "markdown",
   "metadata": {},
   "source": [
    "Creare le directory ove mettere i file"
   ]
  },
  {
   "cell_type": "code",
   "execution_count": 7,
   "metadata": {},
   "outputs": [],
   "source": [
    "# Andare alla directory principale specificata nella precedente linea di codice\n",
    "os.chdir(path_main_directory)\n",
    "\n",
    "# Se non c'è la directory html crearla. Viene inserita questa clausola per evitare che una directory esistente\n",
    "# venga cancellata\n",
    "if \"html\" not in os.listdir():\n",
    "   os.mkdir(\"html\")\n"
   ]
  },
  {
   "cell_type": "markdown",
   "metadata": {},
   "source": [
    "# Impostare il selenium bot e accesso ad Instagram"
   ]
  },
  {
   "cell_type": "code",
   "execution_count": null,
   "metadata": {},
   "outputs": [],
   "source": [
    "# La classe Service di Selenium viene utilizzata per gestire e configurare il driver del browser\n",
    "service = Service(executable_path=path_driver)\n",
    "\n",
    "# Configurare il driver di Chrome \n",
    "options = webdriver.ChromeOptions()\n",
    "\n",
    "# Questa impostazionie permette di non caricare le immagini, rende lo scraping più veloce.\n",
    "prefs = {\"profile.managed_default_content_settings.images\": 2}\n",
    "options.add_experimental_option(\"prefs\", prefs)\n",
    "\n",
    "# Definire il driver: utilizzare il driver scelto (service) e passargli le impostazioni scelte (options)\n",
    "driver = webdriver.Chrome(service=service, options=options)\n",
    "\n",
    "# Impostare le dimensioni della finestra google sulla quale il bot selenium opera.\n",
    "driver.maximize_window()            # dimensioni massime per la finestra\n",
    "#driver.set_window_size(600, 800)   # dimensioni customizzate per la finestra"
   ]
  },
  {
   "cell_type": "markdown",
   "metadata": {},
   "source": [
    "# Istruzioni per il selenium bot "
   ]
  },
  {
   "cell_type": "markdown",
   "metadata": {},
   "source": [
    "Il sito web **booking** non suddivide i risultati in diverse pagine, si possono caricare risultati aggiuntivi continuando a scrollare la pagina.\n",
    "\n",
    "Questo **bot** continua l'estrazione dati finchè non si arriva fondo della pagina, ci si assicura questo tramite l'uso di un **while loop**."
   ]
  },
  {
   "cell_type": "code",
   "execution_count": null,
   "metadata": {},
   "outputs": [],
   "source": [
    "# Specificare il link della pagina dalla quale estrarre i dati.\n",
    "link = \"\"\"https://www.booking.com/searchresults.it.html?ss=Roma%2C+Lazio%2C+Italia&efdco=1&label=it-it-booking-desktop-VRZD0IC5lt9Ulq*ajTZ_bgS652829000338%3Apl%3Ata%3Ap1%3Ap2%3Aac%3Aap%3Aneg%3Afi%3Atikwd-65526620%3Alp9198605%3Ali%3Adec%3Adm&aid=2311236&lang=it&sb=1&src_elem=sb&src=index&dest_id=-126693&dest_type=city&place_id=city%2F-126693&ac_position=0&ac_click_type=b&ac_langcode=it&ac_suggestion_list_length=5&search_selected=true&search_pageview_id=c9c296d9b1a203be&ac_meta=GhBjOWMyOTZkOWIxYTIwM2JlIAAoATICaXQ6AnJvQABKAFAA&checkin=2025-08-01&checkout=2025-08-02&group_adults=2&no_rooms=1&group_children=0\"\"\"\n",
    "\n",
    "# Andare alla pagina assegnata alla variabile 'link' \n",
    "driver.get(link) \n",
    "\n",
    "# Aspettare 10 secondi per far caricare la pagina\n",
    "time.sleep(10)\n",
    "\n",
    "# Accettare i cookie\n",
    "click_cookie_button(driver)\n",
    "\n",
    "\n",
    "# Parametri per scrollare la pagina\n",
    "scroll_step = 200 # Di quanto scrollare la pagina verso il basso ogni iterazione\n",
    "current_position = 0 # Posizioni di inizio\n",
    "scroll = 0 # Numero di scroll\n",
    "last_height = driver.execute_script(\"return document.body.scrollHeight\") # Altezza della pagina, sarà utile per capire se il fondo della pagina è stato raggiunto. Quando last_height = current_position il fondo della pagina è raggiunto.\n",
    "\n",
    "# Loop per l'estrazione dell'html\n",
    "while (current_position < last_height):\n",
    "   # Prendere l'html della pagina \n",
    "   html=driver.page_source \n",
    "   \n",
    "\n",
    "   # Capire se compare il carica altri button e provare a cliccarlo\n",
    "   html_bs4 = BeautifulSoup(html,'html.parser')\n",
    "   if html_bs4.find(\"button\",{\"class\":\"de576f5064 b46cd7aad7 d0a01e3d83 dda427e6b5 bbf83acb81 a0ddd706cc\"}) != None:\n",
    "      click_caricaaltri_button(driver)\n",
    "\n",
    "\n",
    "   # Salvare l'html in un file txt\n",
    "   with open(f\"{path_main_directory}/html/html_{scroll}.txt\",\"w+\") as f:\n",
    "      f.write(str(html))    \n",
    "\n",
    "   # Scrollare la pagina\n",
    "   driver.execute_script(f\"window.scrollBy(0, {scroll_step});\")\n",
    "   \n",
    "   # Tempo di attesa randomico, meno riconoscibile\n",
    "   tempo_attesa = random.randint(1,3)\n",
    "   time.sleep(tempo_attesa)\n",
    "      \n",
    "   # Aggiornare i parametri di scroll\n",
    "   current_position += scroll_step    # Aggiornare la current_position\n",
    "   last_height = driver.execute_script(\"return document.body.scrollHeight\") # Aggiornare la last_height\n",
    "   scroll += 1 # Aggiornare il numero di scroll \n",
    "\n",
    "\n",
    "\n",
    "\n",
    "# Salvare l'html in un file txt\n",
    "with open(f\"{path_main_directory}/html/html_final.txt\",\"w+\") as f:\n",
    "   f.write(str(html)) "
   ]
  }
 ],
 "metadata": {
  "kernelspec": {
   "display_name": "recordlinkage",
   "language": "python",
   "name": "python3"
  },
  "language_info": {
   "codemirror_mode": {
    "name": "ipython",
    "version": 3
   },
   "file_extension": ".py",
   "mimetype": "text/x-python",
   "name": "python",
   "nbconvert_exporter": "python",
   "pygments_lexer": "ipython3",
   "version": "3.10.18"
  }
 },
 "nbformat": 4,
 "nbformat_minor": 2
}
