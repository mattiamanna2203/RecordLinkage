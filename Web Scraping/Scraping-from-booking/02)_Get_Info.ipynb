{
 "cells": [
  {
   "cell_type": "markdown",
   "metadata": {},
   "source": [
    "# Introduzione"
   ]
  },
  {
   "cell_type": "markdown",
   "metadata": {},
   "source": [
    "L'environment **anaconda** da utilizzare è **webscraping**.  "
   ]
  },
  {
   "cell_type": "markdown",
   "metadata": {},
   "source": [
    "# Importazione pacchetti"
   ]
  },
  {
   "cell_type": "markdown",
   "metadata": {},
   "source": [
    "Importare i vari pacchetti necessari  per eseguire le azioni elencate nell'introduzione:\n",
    "   - selenium (per navigare sulle pagine web)\n",
    "   - request (scaricare dati da internet)\n",
    "   - bs4 (beautiful soup, manipolare gli html)\n",
    "   - os (navigare nei file del computer)\n",
    "   - pandas (manipolazione/esportazione dataframes)\n",
    "   - time (per i time sleep)\n",
    "   - datetime (gestire i timestamp, ovvero le stringhe contenti date e orari)\n",
    "   - tqdm (per le barre di progresso) \n",
    "   - re (lavorare con regex e le regular expressions)"
   ]
  },
  {
   "cell_type": "code",
   "execution_count": 2,
   "metadata": {},
   "outputs": [],
   "source": [
    "from bs4 import BeautifulSoup # Importazione pacchetti per gestire HTML\n",
    "from tqdm import tqdm as tqdm # Importazione pacchetti per barra di progresso\n",
    "import pandas as pd  # Importazione pacchetti per lavorare con i dataframe\n",
    "import numpy as np \n",
    "\n",
    "import json # Lavorare con file json\n",
    "from pathlib import Path # Per identificare il path del file 'config'\n",
    "\n",
    "# Identificare il file config.json \n",
    "start = Path.cwd()\n",
    "current = start.resolve()\n",
    "for parent in [current] + list(current.parents):\n",
    "   json_path_config_path = parent / \"config.json\"\n",
    "   if json_path_config_path.exists():\n",
    "      break \n",
    "\n",
    "with open(json_path_config_path) as f:\n",
    "   paths = json.load(f)"
   ]
  },
  {
   "cell_type": "code",
   "execution_count": 3,
   "metadata": {},
   "outputs": [],
   "source": [
    "# Directory principale dello scraper, ove vi sono gli script e gli html devono essere posizionati\n",
    "path_main_directory = f'{paths[\"path_progetto\"]}{paths[\"path_scraper_booking\"]}'\n",
    "\n",
    "# Directory del progetto\n",
    "path_data_lake = f'{paths[\"path_progetto\"]}{paths[\"path_data_lake\"]}'"
   ]
  },
  {
   "cell_type": "code",
   "execution_count": null,
   "metadata": {},
   "outputs": [
    {
     "name": "stderr",
     "output_type": "stream",
     "text": [
      "100%|██████████| 816/816 [00:01<00:00, 537.38it/s]\n"
     ]
    }
   ],
   "source": [
    "# Importare l'html del file in questione\n",
    "with open(f\"{path_main_directory}/html/html_final.txt\",\"r\") as f:\n",
    "   html = f.read()\n",
    "\n",
    "# Prendere l'html della pagina e renderlo un oggetto BeautifulSoup per estrarre informazioni\n",
    "html_bs4 = BeautifulSoup(html,'html.parser')\n",
    "# Identificare ed aggiungere ad una lista tutte  gli hotel e  B&B ecc... di booking.\n",
    "proprietà = html_bs4.find_all(\"div\",{\"data-testid\":\"property-card\"})\n",
    "\n",
    "# Inizializzare il dataframe nel quale verranno inserite le informazioni riguardo gli hotel e  B&B di booking.\n",
    "booking_dataframe = pd.DataFrame(columns=[\n",
    "    \"titolo\",\n",
    "    \"recensione_voto_numerico\",\n",
    "    \"recensione_voto_parola\",\n",
    "    \"numero_recensioni\",\n",
    "    \"date\",\n",
    "    \"permanenza\",\n",
    "    \"prezzo\",\n",
    "    \"distanza_centro\",\n",
    "    \"indirizzo\",\n",
    "    \"stelle\",\n",
    "    \"valutazione_booking\",\n",
    "    \"descrizione_camera\",\n",
    "    \"configurazione_camera\",\n",
    "    \"descrizione_unprocessed\"\n",
    "])\n",
    "\n",
    "# Per ogni proprietà su booking estrarre le informazioni.\n",
    "for post in tqdm(proprietà):\n",
    "   # Prendere il titolo della proprietà\n",
    "   titolo = post.find(\"div\",{\"data-testid\":\"title\"}).text\n",
    "   \n",
    "   # Selezionare la tag delle recensioni\n",
    "   review = post.find(\"div\",{\"data-testid\":\"review-score\"})#.text\n",
    "   \n",
    "   ## In caso di nuovi insererimenti  (novità su booking) non ci sono votazioni.\n",
    "   if review != None:\n",
    "      ## Estrarre voto numerico dalla tag delle recensioni\n",
    "      recensione_voto_numerico = review.find(\"div\",{\"aria-hidden\":\"true\"}).text\n",
    "\n",
    "      ## Estrarre il voto in parole ed il numero di recensioni dalla tag delle recensioni\n",
    "      info_recensioni = review.find(\"div\",{\"aria-hidden\":\"false\"})\n",
    "      for div in info_recensioni:\n",
    "         if (\"recensioni\" in div.text.lower()) or (\"recensione\" in div.text.lower()):\n",
    "            numero_recensioni = div.text\n",
    "\n",
    "         else:\n",
    "            recensione_voto_parola = div.text\n",
    "   else:\n",
    "      recensione_voto_numerico = \"Novità su booking\"\n",
    "      numero_recensioni = \"Novità su booking\"\n",
    "      recensione_voto_parola = \"Novità su booking\"\n",
    "         \n",
    "\n",
    "   # Selezionare la tag dei prezzi e per il numero di persone e notti\n",
    "   info_costi = post.find(\"div\",{\"data-testid\":\"availability-rate-wrapper\"})#.text\n",
    "\n",
    "   ## Prezzo per notti e numero di persone\n",
    "   permanenza =  info_costi.find(\"div\",{\"data-testid\":\"price-for-x-nights\"}).text\n",
    "   \n",
    "   ## Prezzo\n",
    "   prezzo =  info_costi.find(\"span\",{\"data-testid\":\"price-and-discounted-price\"}).text\n",
    "\n",
    "\n",
    "   # Selezionare la località\n",
    "   ## Distanza dal centro\n",
    "   distanza_centro = post.find(\"span\",{\"data-testid\":\"distance\"}).text\n",
    "\n",
    "\n",
    "   indirizzo = post.find(\"span\",{\"data-testid\":\"address\"}).text\n",
    "\n",
    "\n",
    "   # Valutazioni\n",
    "\n",
    "   ## Rating stars\n",
    "   rating_stars = post.find(\"div\",{\"data-testid\":\"rating-stars\"})\n",
    "   \n",
    "   ### La proprietà potrebbe non essere un albergo e quindi non avere stelle\n",
    "   if rating_stars != None:\n",
    "      stelle = len(rating_stars.find_all(\"div\"))\n",
    "   else:\n",
    "      stelle = np.nan\n",
    "         \n",
    "   ## Rating booking\n",
    "   rating_booking = post.find(\"div\",{\"data-testid\":\"rating-squares\"})\n",
    "   \n",
    "   ### La proprietà potrebbe  essere un albergo e quindi non avere valutazione booking\n",
    "   if rating_booking != None:\n",
    "      valutazione_booking = len(rating_booking.find_all(\"div\"))\n",
    "   else:\n",
    "      valutazione_booking = np.nan\n",
    "\n",
    "\n",
    "   # Descrizione della camera offerta\n",
    "   \n",
    "   ## Tutta la descrizione\n",
    "   descrizione_unprocessed = post.find(\"div\",{\"data-testid\":\"recommended-units\"}).text\n",
    "   \n",
    "   ## tag descrizione per estrarre cose estraibili\n",
    "   descrizione = post.find(\"div\",{\"data-testid\":\"recommended-units\"})\n",
    "\n",
    "   ### Descrizione camera\n",
    "   descrizione_camera = descrizione.find(\"h4\").text\n",
    "   \n",
    "   ### Configurazione camera, che potrebbe non esistere \n",
    "   configurazione_camera = descrizione.find(\"div\",{\"data-testid\":\"property-card-unit-configuration\"})\n",
    "\n",
    "   if  configurazione_camera != None:\n",
    "      configurazione_camera = configurazione_camera.text\n",
    "\n",
    "   else:\n",
    "      configurazione_camera = \"Configurazione camera non disponibile\"\n",
    "\n",
    "\n",
    "\n",
    "   # Crea il dizionario con i dati della singola proprietà\n",
    "   informazioni_singola_proprietà = {  \"titolo\": titolo,\n",
    "                                       \"recensione_voto_numerico\": recensione_voto_numerico,\n",
    "                                       \"recensione_voto_parola\": recensione_voto_parola,\n",
    "                                       \"numero_recensioni\": numero_recensioni,\n",
    "                                       \"date\": \"1 agosto - 2 agosto\",\n",
    "                                       \"permanenza\": permanenza,\n",
    "                                       \"prezzo\": prezzo,\n",
    "                                       \"distanza_centro\": distanza_centro,\n",
    "                                       \"indirizzo\": indirizzo,\n",
    "                                       \"stelle\": stelle,\n",
    "                                       \"valutazione_booking\": valutazione_booking,\n",
    "                                       \"descrizione_camera\": descrizione_camera,\n",
    "                                       \"configurazione_camera\": configurazione_camera,\n",
    "                                       \"descrizione_unprocessed\": descrizione_unprocessed\n",
    "\n",
    "                                    }\n",
    "   \n",
    "   # Aggiunge direttamente come nuova riga\n",
    "   booking_dataframe.loc[len(booking_dataframe)] = informazioni_singola_proprietà"
   ]
  },
  {
   "cell_type": "code",
   "execution_count": null,
   "metadata": {},
   "outputs": [],
   "source": [
    "# Esportare il dataframe\n",
    "booking_dataframe.to_csv(f\"{path_data_lake}/bookingRoma.csv\")"
   ]
  },
  {
   "cell_type": "code",
   "execution_count": null,
   "metadata": {},
   "outputs": [],
   "source": [
    "#pd.set_option('display.max_rows', None)\n",
    "#booking_dataframe.sort_values(by=\"titolo\")"
   ]
  }
 ],
 "metadata": {
  "kernelspec": {
   "display_name": "recordlinkage",
   "language": "python",
   "name": "python3"
  },
  "language_info": {
   "codemirror_mode": {
    "name": "ipython",
    "version": 3
   },
   "file_extension": ".py",
   "mimetype": "text/x-python",
   "name": "python",
   "nbconvert_exporter": "python",
   "pygments_lexer": "ipython3",
   "version": "3.10.18"
  }
 },
 "nbformat": 4,
 "nbformat_minor": 2
}
