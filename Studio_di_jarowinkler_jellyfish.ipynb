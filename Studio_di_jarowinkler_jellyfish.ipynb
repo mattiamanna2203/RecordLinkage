{
 "cells": [
  {
   "cell_type": "markdown",
   "id": "8cc0627f",
   "metadata": {},
   "source": [
    "Script per capire  il funzionamento del calcolo delle similarità con **jarowinkler**.    "
   ]
  },
  {
   "cell_type": "markdown",
   "id": "31ab710b",
   "metadata": {},
   "source": [
    "## jarowinkler"
   ]
  },
  {
   "cell_type": "markdown",
   "id": "9c666f18",
   "metadata": {},
   "source": [
    "In sintesi nel seguente script si trova conferma che:\n",
    "\n",
    "- Il candidate pairs è case sensitive.\n",
    "\n",
    "-  Jarowinkler è case sensitive.\n",
    "\n",
    "- **jarowinkler** non guarda solo alle lettere presenti ma anche alla loro disposizione."
   ]
  },
  {
   "cell_type": "code",
   "execution_count": 26,
   "id": "681da326",
   "metadata": {},
   "outputs": [],
   "source": [
    "import pandas as pd \n",
    "import recordlinkage\n",
    "def similarity_winkler(dataset):\n",
    "   dataset[\"indice\"]= dataset.index\n",
    "\n",
    "   dataset = dataset.set_index(\"indice\")  # Impostare l'indice richiesto da recordlinkage\n",
    "\n",
    "   # Step 2: Aggiungere colonna per il blocking (prima lettera)\n",
    "   dataset[\"first_letter\"] = dataset[\"titolo\"].str[0]\n",
    "\n",
    "   # Step 3: Creare l'indice con blocking sulla prima lettera\n",
    "   indexer = recordlinkage.Index()\n",
    "   indexer.block(\"first_letter\")\n",
    "   candidate_links = indexer.index(dataset)\n",
    "\n",
    "   print(f\"Coppie candidate: {len(candidate_links)}\")\n",
    "\n",
    "   # Step 4: Confronto tra i titoli\n",
    "   compare = recordlinkage.Compare()\n",
    "   compare.string('titolo', 'titolo', method='jarowinkler', label='name_similarity')\n",
    "\n",
    "   features = compare.compute(candidate_links, dataset)\n",
    "\n",
    "   # Mostrare le coppie con similarità\n",
    "   features.reset_index(inplace=True)\n",
    "   features = pd.merge(features,dataset,left_on=\"indice_1\",right_on=\"indice\")\n",
    "   features = pd.merge(features,dataset,left_on=\"indice_2\",right_on=\"indice\",suffixes=(\"_1\",\"_2\"))\n",
    "   features.drop(columns=[\"first_letter_1\",\"first_letter_2\"],inplace=True)\n",
    "   return features"
   ]
  },
  {
   "cell_type": "code",
   "execution_count": 27,
   "id": "e1847426",
   "metadata": {},
   "outputs": [
    {
     "name": "stdout",
     "output_type": "stream",
     "text": [
      "Coppie candidate: 2\n"
     ]
    },
    {
     "data": {
      "text/html": [
       "<div>\n",
       "<style scoped>\n",
       "    .dataframe tbody tr th:only-of-type {\n",
       "        vertical-align: middle;\n",
       "    }\n",
       "\n",
       "    .dataframe tbody tr th {\n",
       "        vertical-align: top;\n",
       "    }\n",
       "\n",
       "    .dataframe thead th {\n",
       "        text-align: right;\n",
       "    }\n",
       "</style>\n",
       "<table border=\"1\" class=\"dataframe\">\n",
       "  <thead>\n",
       "    <tr style=\"text-align: right;\">\n",
       "      <th></th>\n",
       "      <th>indice_1</th>\n",
       "      <th>indice_2</th>\n",
       "      <th>name_similarity</th>\n",
       "      <th>titolo_1</th>\n",
       "      <th>titolo_2</th>\n",
       "    </tr>\n",
       "  </thead>\n",
       "  <tbody>\n",
       "    <tr>\n",
       "      <th>0</th>\n",
       "      <td>1</td>\n",
       "      <td>0</td>\n",
       "      <td>0.666667</td>\n",
       "      <td>Ramo</td>\n",
       "      <td>Roma</td>\n",
       "    </tr>\n",
       "    <tr>\n",
       "      <th>1</th>\n",
       "      <td>3</td>\n",
       "      <td>2</td>\n",
       "      <td>0.666667</td>\n",
       "      <td>ramo</td>\n",
       "      <td>roma</td>\n",
       "    </tr>\n",
       "  </tbody>\n",
       "</table>\n",
       "</div>"
      ],
      "text/plain": [
       "   indice_1  indice_2  name_similarity titolo_1 titolo_2\n",
       "0         1         0         0.666667     Ramo     Roma\n",
       "1         3         2         0.666667     ramo     roma"
      ]
     },
     "execution_count": 27,
     "metadata": {},
     "output_type": "execute_result"
    }
   ],
   "source": [
    "prova = pd.DataFrame({\n",
    "    \"titolo\": [\"Roma\",\n",
    "                \"Ramo\",\n",
    "                \"roma\",\n",
    "                \"ramo\"\n",
    "                ]\n",
    "})\n",
    "\n",
    "similarity_winkler(prova.copy())"
   ]
  },
  {
   "cell_type": "markdown",
   "id": "e04071cb",
   "metadata": {},
   "source": [
    "Roma e roma non prese in considerazione perchè il **candidate pairs** di default è case sensitive."
   ]
  },
  {
   "cell_type": "code",
   "execution_count": 28,
   "id": "ed3d4d44",
   "metadata": {},
   "outputs": [
    {
     "name": "stdout",
     "output_type": "stream",
     "text": [
      "Coppie candidate: 6\n"
     ]
    },
    {
     "data": {
      "text/html": [
       "<div>\n",
       "<style scoped>\n",
       "    .dataframe tbody tr th:only-of-type {\n",
       "        vertical-align: middle;\n",
       "    }\n",
       "\n",
       "    .dataframe tbody tr th {\n",
       "        vertical-align: top;\n",
       "    }\n",
       "\n",
       "    .dataframe thead th {\n",
       "        text-align: right;\n",
       "    }\n",
       "</style>\n",
       "<table border=\"1\" class=\"dataframe\">\n",
       "  <thead>\n",
       "    <tr style=\"text-align: right;\">\n",
       "      <th></th>\n",
       "      <th>indice_1</th>\n",
       "      <th>indice_2</th>\n",
       "      <th>name_similarity</th>\n",
       "      <th>titolo_1</th>\n",
       "      <th>titolo_2</th>\n",
       "    </tr>\n",
       "  </thead>\n",
       "  <tbody>\n",
       "    <tr>\n",
       "      <th>0</th>\n",
       "      <td>1</td>\n",
       "      <td>0</td>\n",
       "      <td>0.666667</td>\n",
       "      <td>Ramo</td>\n",
       "      <td>Roma</td>\n",
       "    </tr>\n",
       "    <tr>\n",
       "      <th>1</th>\n",
       "      <td>2</td>\n",
       "      <td>0</td>\n",
       "      <td>1.000000</td>\n",
       "      <td>Roma</td>\n",
       "      <td>Roma</td>\n",
       "    </tr>\n",
       "    <tr>\n",
       "      <th>2</th>\n",
       "      <td>2</td>\n",
       "      <td>1</td>\n",
       "      <td>0.666667</td>\n",
       "      <td>Roma</td>\n",
       "      <td>Ramo</td>\n",
       "    </tr>\n",
       "    <tr>\n",
       "      <th>3</th>\n",
       "      <td>3</td>\n",
       "      <td>0</td>\n",
       "      <td>0.666667</td>\n",
       "      <td>Ramo</td>\n",
       "      <td>Roma</td>\n",
       "    </tr>\n",
       "    <tr>\n",
       "      <th>4</th>\n",
       "      <td>3</td>\n",
       "      <td>1</td>\n",
       "      <td>1.000000</td>\n",
       "      <td>Ramo</td>\n",
       "      <td>Ramo</td>\n",
       "    </tr>\n",
       "    <tr>\n",
       "      <th>5</th>\n",
       "      <td>3</td>\n",
       "      <td>2</td>\n",
       "      <td>0.666667</td>\n",
       "      <td>Ramo</td>\n",
       "      <td>Roma</td>\n",
       "    </tr>\n",
       "  </tbody>\n",
       "</table>\n",
       "</div>"
      ],
      "text/plain": [
       "   indice_1  indice_2  name_similarity titolo_1 titolo_2\n",
       "0         1         0         0.666667     Ramo     Roma\n",
       "1         2         0         1.000000     Roma     Roma\n",
       "2         2         1         0.666667     Roma     Ramo\n",
       "3         3         0         0.666667     Ramo     Roma\n",
       "4         3         1         1.000000     Ramo     Ramo\n",
       "5         3         2         0.666667     Ramo     Roma"
      ]
     },
     "execution_count": 28,
     "metadata": {},
     "output_type": "execute_result"
    }
   ],
   "source": [
    "# Step 1: Creare il DataFrame\n",
    "prova = pd.DataFrame({\n",
    "    \"titolo\": [\"Roma\",\n",
    "                \"Ramo\",\n",
    "                \"Roma\",\n",
    "                \"Ramo\"\n",
    "                ]\n",
    "})\n",
    "\n",
    "similarity_winkler(prova.copy())"
   ]
  },
  {
   "cell_type": "markdown",
   "id": "46ab0e1e",
   "metadata": {},
   "source": [
    "Ora Roma e Roma sono prese in considerazione, così come Roma e Ramo, conferma che il **candidate pairs** case sensitive."
   ]
  },
  {
   "cell_type": "code",
   "execution_count": 29,
   "id": "99127546",
   "metadata": {},
   "outputs": [
    {
     "name": "stdout",
     "output_type": "stream",
     "text": [
      "Coppie candidate: 3\n"
     ]
    },
    {
     "data": {
      "text/html": [
       "<div>\n",
       "<style scoped>\n",
       "    .dataframe tbody tr th:only-of-type {\n",
       "        vertical-align: middle;\n",
       "    }\n",
       "\n",
       "    .dataframe tbody tr th {\n",
       "        vertical-align: top;\n",
       "    }\n",
       "\n",
       "    .dataframe thead th {\n",
       "        text-align: right;\n",
       "    }\n",
       "</style>\n",
       "<table border=\"1\" class=\"dataframe\">\n",
       "  <thead>\n",
       "    <tr style=\"text-align: right;\">\n",
       "      <th></th>\n",
       "      <th>indice_1</th>\n",
       "      <th>indice_2</th>\n",
       "      <th>name_similarity</th>\n",
       "      <th>titolo_1</th>\n",
       "      <th>titolo_2</th>\n",
       "    </tr>\n",
       "  </thead>\n",
       "  <tbody>\n",
       "    <tr>\n",
       "      <th>0</th>\n",
       "      <td>1</td>\n",
       "      <td>0</td>\n",
       "      <td>0.866667</td>\n",
       "      <td>RoMa</td>\n",
       "      <td>Roma</td>\n",
       "    </tr>\n",
       "    <tr>\n",
       "      <th>1</th>\n",
       "      <td>2</td>\n",
       "      <td>0</td>\n",
       "      <td>1.000000</td>\n",
       "      <td>Roma</td>\n",
       "      <td>Roma</td>\n",
       "    </tr>\n",
       "    <tr>\n",
       "      <th>2</th>\n",
       "      <td>2</td>\n",
       "      <td>1</td>\n",
       "      <td>0.866667</td>\n",
       "      <td>Roma</td>\n",
       "      <td>RoMa</td>\n",
       "    </tr>\n",
       "  </tbody>\n",
       "</table>\n",
       "</div>"
      ],
      "text/plain": [
       "   indice_1  indice_2  name_similarity titolo_1 titolo_2\n",
       "0         1         0         0.866667     RoMa     Roma\n",
       "1         2         0         1.000000     Roma     Roma\n",
       "2         2         1         0.866667     Roma     RoMa"
      ]
     },
     "execution_count": 29,
     "metadata": {},
     "output_type": "execute_result"
    }
   ],
   "source": [
    "prova = pd.DataFrame({\n",
    "    \"titolo\": [\"Roma\",\n",
    "                \"RoMa\",\n",
    "               \"Roma\"\n",
    "                ]\n",
    "})\n",
    "\n",
    "similarity_winkler(prova.copy())"
   ]
  },
  {
   "cell_type": "markdown",
   "id": "1f889d80",
   "metadata": {},
   "source": [
    "Conferma che la similarità di **jarowinkler** è case sensitive. Roma risulta diverso da RoMa."
   ]
  },
  {
   "cell_type": "code",
   "execution_count": 30,
   "id": "d2dd6160",
   "metadata": {},
   "outputs": [
    {
     "name": "stdout",
     "output_type": "stream",
     "text": [
      "Coppie candidate: 1\n"
     ]
    },
    {
     "data": {
      "text/html": [
       "<div>\n",
       "<style scoped>\n",
       "    .dataframe tbody tr th:only-of-type {\n",
       "        vertical-align: middle;\n",
       "    }\n",
       "\n",
       "    .dataframe tbody tr th {\n",
       "        vertical-align: top;\n",
       "    }\n",
       "\n",
       "    .dataframe thead th {\n",
       "        text-align: right;\n",
       "    }\n",
       "</style>\n",
       "<table border=\"1\" class=\"dataframe\">\n",
       "  <thead>\n",
       "    <tr style=\"text-align: right;\">\n",
       "      <th></th>\n",
       "      <th>indice_1</th>\n",
       "      <th>indice_2</th>\n",
       "      <th>name_similarity</th>\n",
       "      <th>titolo_1</th>\n",
       "      <th>titolo_2</th>\n",
       "    </tr>\n",
       "  </thead>\n",
       "  <tbody>\n",
       "    <tr>\n",
       "      <th>0</th>\n",
       "      <td>1</td>\n",
       "      <td>0</td>\n",
       "      <td>0.666667</td>\n",
       "      <td>Ramo</td>\n",
       "      <td>Roma</td>\n",
       "    </tr>\n",
       "  </tbody>\n",
       "</table>\n",
       "</div>"
      ],
      "text/plain": [
       "   indice_1  indice_2  name_similarity titolo_1 titolo_2\n",
       "0         1         0         0.666667     Ramo     Roma"
      ]
     },
     "execution_count": 30,
     "metadata": {},
     "output_type": "execute_result"
    }
   ],
   "source": [
    "prova = pd.DataFrame({\n",
    "    \"titolo\": [\"Roma\",\n",
    "               \"Ramo\"\n",
    "                ]\n",
    "})\n",
    "\n",
    "similarity_winkler(prova.copy())"
   ]
  },
  {
   "cell_type": "markdown",
   "id": "736d80eb",
   "metadata": {},
   "source": [
    "**jarowinkler** non guarda solo alle lettere presenti ma anche alla loro disposizione. Ramo e Roma hanno le stesse lettere ma valori di similarità diversi."
   ]
  },
  {
   "cell_type": "markdown",
   "id": "862d9018",
   "metadata": {},
   "source": [
    "# jellyfish"
   ]
  },
  {
   "cell_type": "markdown",
   "id": "fb0f5b10",
   "metadata": {},
   "source": [
    "### Applicare **jellyfish** a due stringhe"
   ]
  },
  {
   "cell_type": "markdown",
   "id": "14d64a25",
   "metadata": {},
   "source": [
    "Applicare **jellyfish**, ovvero calcolare direttamente tra due stringhe la loro similarity.    \n",
    "In questo caso si applica la **jaro_winkler_similarity**."
   ]
  },
  {
   "cell_type": "code",
   "execution_count": 38,
   "id": "4b0a2c5a",
   "metadata": {},
   "outputs": [
    {
     "name": "stdout",
     "output_type": "stream",
     "text": [
      "Similarità \"Charles Leclerc\",\"Charles Bass\": 0.8400000000000001\n",
      "Similarità \"Charles\",\"Charles\": 1.0\n",
      "Similarità \"Charles\",\"charles\": 0.9047619047619048\n"
     ]
    }
   ],
   "source": [
    "print(f'Similarità \"Charles Leclerc\",\"Charles Bass\": {jellyfish.jaro_winkler_similarity(\"Charles Leclerc\",\"Charles Bass\")}')\n",
    "\n",
    "print(f'Similarità \"Charles\",\"Charles\": {jellyfish.jaro_winkler_similarity(\"Charles\",\"Charles\")}')\n",
    "\n",
    "print(f'Similarità \"Charles\",\"charles\": {jellyfish.jaro_winkler_similarity(\"Charles\",\"charles\")}')"
   ]
  },
  {
   "cell_type": "markdown",
   "id": "2c7c0392",
   "metadata": {},
   "source": [
    "Aiuta molto a capire come funziona **jarowinkler**, si nota infatti l'importanza che attribuisce alle minuscole o alle maiuscole. "
   ]
  },
  {
   "cell_type": "markdown",
   "id": "708b1531",
   "metadata": {},
   "source": [
    "### Applicare **jellyfish** ad un dataset."
   ]
  },
  {
   "cell_type": "code",
   "execution_count": 31,
   "id": "3449b79c",
   "metadata": {},
   "outputs": [
    {
     "name": "stdout",
     "output_type": "stream",
     "text": [
      "Match con nomi molto simili (Jaro-Winkler > 0.95): 247 su 275 totali\n"
     ]
    }
   ],
   "source": [
    "import jellyfish\n",
    "path_dati = \"/Users/mattia/Desktop/Università/Data Science in Python/_Progetti/MatchAnalysis_Imputation/Progetto/Results/\"\n",
    "df = pd.read_csv(f\"{path_dati}/matches_titolo_095.csv\",index_col=0)\n",
    "\n",
    "\n",
    "df['name_similarity'] = df.apply(\n",
    "    lambda row: jellyfish.jaro_winkler_similarity(\n",
    "        row['titolo_booking'], row['titolo_agoda']\n",
    "    ),\n",
    "    axis=1\n",
    ")\n",
    "\n",
    "# Conta quelli con similarity > 0.95\n",
    "high_sim_name = (df['name_similarity'] > 0.95).sum()\n",
    "print(f\"Match con nomi molto simili (Jaro-Winkler > 0.95): {high_sim_name} su {len(df)} totali\")"
   ]
  }
 ],
 "metadata": {
  "kernelspec": {
   "display_name": "recordlinkage",
   "language": "python",
   "name": "python3"
  },
  "language_info": {
   "codemirror_mode": {
    "name": "ipython",
    "version": 3
   },
   "file_extension": ".py",
   "mimetype": "text/x-python",
   "name": "python",
   "nbconvert_exporter": "python",
   "pygments_lexer": "ipython3",
   "version": "3.10.18"
  }
 },
 "nbformat": 4,
 "nbformat_minor": 5
}
