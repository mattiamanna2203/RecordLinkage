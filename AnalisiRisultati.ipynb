{
 "cells": [
  {
   "cell_type": "code",
   "execution_count": 1,
   "id": "56cff5e2",
   "metadata": {},
   "outputs": [],
   "source": [
    "import pandas as pd\n",
    "import seaborn as sns\n",
    "import matplotlib.pyplot as plt\n",
    "\n",
    "import json # Lavorare con file json\n",
    "from pathlib import Path # Per identificare il path del file 'config'\n",
    "\n",
    "# Identificare il file config.json \n",
    "start = Path.cwd()\n",
    "current = start.resolve()\n",
    "for parent in [current] + list(current.parents):\n",
    "   json_path_config_path = parent / \"config.json\"\n",
    "   if json_path_config_path.exists():\n",
    "      break \n",
    "\n",
    "with open(json_path_config_path) as f:\n",
    "   paths = json.load(f)\n",
    "\n",
    "path_dati = f'{paths[\"path_progetto\"]}{paths[\"path_results\"]}'"
   ]
  },
  {
   "cell_type": "markdown",
   "id": "92b447bd",
   "metadata": {},
   "source": [
    "# Analisi match"
   ]
  },
  {
   "cell_type": "code",
   "execution_count": 2,
   "id": "95023bcb",
   "metadata": {},
   "outputs": [
    {
     "name": "stdout",
     "output_type": "stream",
     "text": [
      "(275, 24)\n",
      "(275, 26)\n"
     ]
    }
   ],
   "source": [
    "titolo = pd.read_csv(f\"{path_dati}/matches_titolo_095.csv\",index_col=0)\n",
    "print(titolo.shape)\n",
    "titolo_città = pd.read_csv(f\"{path_dati}/matches_titolo_095_città_08.csv\")\n",
    "print(titolo_città.shape)"
   ]
  },
  {
   "cell_type": "markdown",
   "id": "022091f1",
   "metadata": {},
   "source": [
    "Hanno lo stesso numero di match, controllare che siano gli stessi. Si può controllare che i match siano gli stessi tramite la variabile **pair**.   \n",
    "\n",
    "Per controllare si trasformano i oggetti **set** tutte le coppie di pair per ogni dataset. \n",
    "Successivamente si fa l'intersezione di questi due insiemi, se l'intersezione è pari al numero di elementi significa che gli elementi tutti uguali. "
   ]
  },
  {
   "cell_type": "code",
   "execution_count": 3,
   "id": "dfa55860",
   "metadata": {},
   "outputs": [],
   "source": [
    "coppie_titolo_città=set(titolo_città.pair)\n",
    "coppie_titolo= set(titolo.pair)"
   ]
  },
  {
   "cell_type": "code",
   "execution_count": 4,
   "id": "598ea5e8",
   "metadata": {},
   "outputs": [
    {
     "data": {
      "text/plain": [
       "275"
      ]
     },
     "execution_count": 4,
     "metadata": {},
     "output_type": "execute_result"
    }
   ],
   "source": [
    "len(coppie_titolo_città.intersection(coppie_titolo))"
   ]
  },
  {
   "cell_type": "markdown",
   "id": "cc2c09db",
   "metadata": {},
   "source": [
    "Il numero di elementi nell'intersezione è pari al numero di elementi perciò i match sono gli stessi per entrambi i dataset.      \n",
    "Dato questo si procederà con i match basati solo sul titolo."
   ]
  },
  {
   "cell_type": "code",
   "execution_count": 5,
   "id": "7db66c5d",
   "metadata": {},
   "outputs": [],
   "source": [
    "df = titolo # Per assegnare al dataframe titolo la variabile df, più facile da richiamare\n",
    "            # non essendo assegnazione tramite copy le due variabili ora codificano per lo stesso dataframe"
   ]
  },
  {
   "cell_type": "markdown",
   "id": "90a9084f",
   "metadata": {},
   "source": [
    "# Statistiche descrittive"
   ]
  },
  {
   "cell_type": "markdown",
   "id": "fecdc794",
   "metadata": {},
   "source": [
    "## Differenze di prezzo (Booking - Agoda)"
   ]
  },
  {
   "cell_type": "markdown",
   "id": "852e01ad",
   "metadata": {},
   "source": [
    "### Differenze di prezzo (Booking - Agoda)"
   ]
  },
  {
   "cell_type": "code",
   "execution_count": 6,
   "id": "3a911e03",
   "metadata": {},
   "outputs": [
    {
     "name": "stdout",
     "output_type": "stream",
     "text": [
      "Differenze di prezzo (Booking - Agoda):\n"
     ]
    },
    {
     "data": {
      "application/vnd.microsoft.datawrangler.viewer.v0+json": {
       "columns": [
        {
         "name": "index",
         "rawType": "object",
         "type": "string"
        },
        {
         "name": "differenza_assoluta",
         "rawType": "float64",
         "type": "float"
        },
        {
         "name": "differenza_percentuale",
         "rawType": "float64",
         "type": "float"
        }
       ],
       "ref": "3f9394b9-bf22-4394-be6c-bc6d0c767a06",
       "rows": [
        [
         "count",
         "275.0",
         "275.0"
        ],
        [
         "mean",
         "22.454545454545453",
         "13.920644905725904"
        ],
        [
         "std",
         "30.523305791095463",
         "19.973386007393955"
        ],
        [
         "min",
         "-61.0",
         "-19.303797468354432"
        ],
        [
         "25%",
         "0.0",
         "0.0"
        ],
        [
         "50%",
         "11.0",
         "6.504065040650407"
        ],
        [
         "75%",
         "36.0",
         "21.169938687064366"
        ],
        [
         "max",
         "150.0",
         "127.11864406779661"
        ]
       ],
       "shape": {
        "columns": 2,
        "rows": 8
       }
      },
      "text/html": [
       "<div>\n",
       "<style scoped>\n",
       "    .dataframe tbody tr th:only-of-type {\n",
       "        vertical-align: middle;\n",
       "    }\n",
       "\n",
       "    .dataframe tbody tr th {\n",
       "        vertical-align: top;\n",
       "    }\n",
       "\n",
       "    .dataframe thead th {\n",
       "        text-align: right;\n",
       "    }\n",
       "</style>\n",
       "<table border=\"1\" class=\"dataframe\">\n",
       "  <thead>\n",
       "    <tr style=\"text-align: right;\">\n",
       "      <th></th>\n",
       "      <th>differenza_assoluta</th>\n",
       "      <th>differenza_percentuale</th>\n",
       "    </tr>\n",
       "  </thead>\n",
       "  <tbody>\n",
       "    <tr>\n",
       "      <th>count</th>\n",
       "      <td>275.000000</td>\n",
       "      <td>275.000000</td>\n",
       "    </tr>\n",
       "    <tr>\n",
       "      <th>mean</th>\n",
       "      <td>22.454545</td>\n",
       "      <td>13.920645</td>\n",
       "    </tr>\n",
       "    <tr>\n",
       "      <th>std</th>\n",
       "      <td>30.523306</td>\n",
       "      <td>19.973386</td>\n",
       "    </tr>\n",
       "    <tr>\n",
       "      <th>min</th>\n",
       "      <td>-61.000000</td>\n",
       "      <td>-19.303797</td>\n",
       "    </tr>\n",
       "    <tr>\n",
       "      <th>25%</th>\n",
       "      <td>0.000000</td>\n",
       "      <td>0.000000</td>\n",
       "    </tr>\n",
       "    <tr>\n",
       "      <th>50%</th>\n",
       "      <td>11.000000</td>\n",
       "      <td>6.504065</td>\n",
       "    </tr>\n",
       "    <tr>\n",
       "      <th>75%</th>\n",
       "      <td>36.000000</td>\n",
       "      <td>21.169939</td>\n",
       "    </tr>\n",
       "    <tr>\n",
       "      <th>max</th>\n",
       "      <td>150.000000</td>\n",
       "      <td>127.118644</td>\n",
       "    </tr>\n",
       "  </tbody>\n",
       "</table>\n",
       "</div>"
      ],
      "text/plain": [
       "       differenza_assoluta  differenza_percentuale\n",
       "count           275.000000              275.000000\n",
       "mean             22.454545               13.920645\n",
       "std              30.523306               19.973386\n",
       "min             -61.000000              -19.303797\n",
       "25%               0.000000                0.000000\n",
       "50%              11.000000                6.504065\n",
       "75%              36.000000               21.169939\n",
       "max             150.000000              127.118644"
      ]
     },
     "metadata": {},
     "output_type": "display_data"
    }
   ],
   "source": [
    "# Calcolo differenza di prezzo assoluta e percentuale\n",
    "df['differenza_assoluta'] = df['prezzo_booking'] - df['prezzo_agoda']\n",
    "df['differenza_percentuale'] = ( df['differenza_assoluta'] / df['prezzo_agoda'].replace(0, pd.NA)\n",
    ") * 100\n",
    "\n",
    "print(\"Differenze di prezzo (Booking - Agoda):\")\n",
    "display(df[['differenza_assoluta', 'differenza_percentuale']].describe())\n"
   ]
  },
  {
   "cell_type": "markdown",
   "id": "6790de21",
   "metadata": {},
   "source": [
    "### Confronto prezzi"
   ]
  },
  {
   "cell_type": "code",
   "execution_count": 7,
   "id": "5b44b859",
   "metadata": {},
   "outputs": [
    {
     "name": "stdout",
     "output_type": "stream",
     "text": [
      "\n",
      "Esempi dove Booking è più caro:\n"
     ]
    },
    {
     "data": {
      "application/vnd.microsoft.datawrangler.viewer.v0+json": {
       "columns": [
        {
         "name": "index",
         "rawType": "int64",
         "type": "integer"
        },
        {
         "name": "titolo_booking",
         "rawType": "object",
         "type": "string"
        },
        {
         "name": "prezzo_booking",
         "rawType": "int64",
         "type": "integer"
        },
        {
         "name": "prezzo_agoda",
         "rawType": "int64",
         "type": "integer"
        },
        {
         "name": "differenza_assoluta",
         "rawType": "int64",
         "type": "integer"
        }
       ],
       "ref": "0db0901c-c1d7-4724-a8cd-14298687a7eb",
       "rows": [
        [
         "206",
         "Trevi Palace Luxury Inn",
         "416",
         "266",
         "150"
        ],
        [
         "50",
         "Domus Sessoriana",
         "268",
         "118",
         "150"
        ],
        [
         "216",
         "Hotel Napoleon",
         "256",
         "122",
         "134"
        ],
        [
         "169",
         "Colonna Palace Hotel",
         "331",
         "203",
         "128"
        ],
        [
         "76",
         "Hotel dei Mellini",
         "310",
         "191",
         "119"
        ]
       ],
       "shape": {
        "columns": 4,
        "rows": 5
       }
      },
      "text/html": [
       "<div>\n",
       "<style scoped>\n",
       "    .dataframe tbody tr th:only-of-type {\n",
       "        vertical-align: middle;\n",
       "    }\n",
       "\n",
       "    .dataframe tbody tr th {\n",
       "        vertical-align: top;\n",
       "    }\n",
       "\n",
       "    .dataframe thead th {\n",
       "        text-align: right;\n",
       "    }\n",
       "</style>\n",
       "<table border=\"1\" class=\"dataframe\">\n",
       "  <thead>\n",
       "    <tr style=\"text-align: right;\">\n",
       "      <th></th>\n",
       "      <th>titolo_booking</th>\n",
       "      <th>prezzo_booking</th>\n",
       "      <th>prezzo_agoda</th>\n",
       "      <th>differenza_assoluta</th>\n",
       "    </tr>\n",
       "  </thead>\n",
       "  <tbody>\n",
       "    <tr>\n",
       "      <th>206</th>\n",
       "      <td>Trevi Palace Luxury Inn</td>\n",
       "      <td>416</td>\n",
       "      <td>266</td>\n",
       "      <td>150</td>\n",
       "    </tr>\n",
       "    <tr>\n",
       "      <th>50</th>\n",
       "      <td>Domus Sessoriana</td>\n",
       "      <td>268</td>\n",
       "      <td>118</td>\n",
       "      <td>150</td>\n",
       "    </tr>\n",
       "    <tr>\n",
       "      <th>216</th>\n",
       "      <td>Hotel Napoleon</td>\n",
       "      <td>256</td>\n",
       "      <td>122</td>\n",
       "      <td>134</td>\n",
       "    </tr>\n",
       "    <tr>\n",
       "      <th>169</th>\n",
       "      <td>Colonna Palace Hotel</td>\n",
       "      <td>331</td>\n",
       "      <td>203</td>\n",
       "      <td>128</td>\n",
       "    </tr>\n",
       "    <tr>\n",
       "      <th>76</th>\n",
       "      <td>Hotel dei Mellini</td>\n",
       "      <td>310</td>\n",
       "      <td>191</td>\n",
       "      <td>119</td>\n",
       "    </tr>\n",
       "  </tbody>\n",
       "</table>\n",
       "</div>"
      ],
      "text/plain": [
       "              titolo_booking  prezzo_booking  prezzo_agoda  \\\n",
       "206  Trevi Palace Luxury Inn             416           266   \n",
       "50          Domus Sessoriana             268           118   \n",
       "216           Hotel Napoleon             256           122   \n",
       "169     Colonna Palace Hotel             331           203   \n",
       "76         Hotel dei Mellini             310           191   \n",
       "\n",
       "     differenza_assoluta  \n",
       "206                  150  \n",
       "50                   150  \n",
       "216                  134  \n",
       "169                  128  \n",
       "76                   119  "
      ]
     },
     "metadata": {},
     "output_type": "display_data"
    },
    {
     "name": "stdout",
     "output_type": "stream",
     "text": [
      "\n",
      "Esempi dove Agoda è più caro:\n"
     ]
    },
    {
     "data": {
      "application/vnd.microsoft.datawrangler.viewer.v0+json": {
       "columns": [
        {
         "name": "index",
         "rawType": "int64",
         "type": "integer"
        },
        {
         "name": "titolo_booking",
         "rawType": "object",
         "type": "string"
        },
        {
         "name": "prezzo_booking",
         "rawType": "int64",
         "type": "integer"
        },
        {
         "name": "prezzo_agoda",
         "rawType": "int64",
         "type": "integer"
        },
        {
         "name": "differenza_assoluta",
         "rawType": "int64",
         "type": "integer"
        }
       ],
       "ref": "bbdb2e74-b00b-4d9d-9a33-6d54ecde86e9",
       "rows": [
        [
         "20",
         "The Spanish Suite Campo de' Fiori",
         "255",
         "316",
         "-61"
        ],
        [
         "113",
         "Corso Suite 107 Rooms Wellness & Spa",
         "240",
         "270",
         "-30"
        ],
        [
         "281",
         "Favolosa \"Dimora del Capriolo\" con Giardino e Parcheggio",
         "216",
         "228",
         "-12"
        ]
       ],
       "shape": {
        "columns": 4,
        "rows": 3
       }
      },
      "text/html": [
       "<div>\n",
       "<style scoped>\n",
       "    .dataframe tbody tr th:only-of-type {\n",
       "        vertical-align: middle;\n",
       "    }\n",
       "\n",
       "    .dataframe tbody tr th {\n",
       "        vertical-align: top;\n",
       "    }\n",
       "\n",
       "    .dataframe thead th {\n",
       "        text-align: right;\n",
       "    }\n",
       "</style>\n",
       "<table border=\"1\" class=\"dataframe\">\n",
       "  <thead>\n",
       "    <tr style=\"text-align: right;\">\n",
       "      <th></th>\n",
       "      <th>titolo_booking</th>\n",
       "      <th>prezzo_booking</th>\n",
       "      <th>prezzo_agoda</th>\n",
       "      <th>differenza_assoluta</th>\n",
       "    </tr>\n",
       "  </thead>\n",
       "  <tbody>\n",
       "    <tr>\n",
       "      <th>20</th>\n",
       "      <td>The Spanish Suite Campo de' Fiori</td>\n",
       "      <td>255</td>\n",
       "      <td>316</td>\n",
       "      <td>-61</td>\n",
       "    </tr>\n",
       "    <tr>\n",
       "      <th>113</th>\n",
       "      <td>Corso Suite 107 Rooms Wellness &amp; Spa</td>\n",
       "      <td>240</td>\n",
       "      <td>270</td>\n",
       "      <td>-30</td>\n",
       "    </tr>\n",
       "    <tr>\n",
       "      <th>281</th>\n",
       "      <td>Favolosa \"Dimora del Capriolo\" con Giardino e ...</td>\n",
       "      <td>216</td>\n",
       "      <td>228</td>\n",
       "      <td>-12</td>\n",
       "    </tr>\n",
       "  </tbody>\n",
       "</table>\n",
       "</div>"
      ],
      "text/plain": [
       "                                        titolo_booking  prezzo_booking  \\\n",
       "20                   The Spanish Suite Campo de' Fiori             255   \n",
       "113               Corso Suite 107 Rooms Wellness & Spa             240   \n",
       "281  Favolosa \"Dimora del Capriolo\" con Giardino e ...             216   \n",
       "\n",
       "     prezzo_agoda  differenza_assoluta  \n",
       "20            316                  -61  \n",
       "113           270                  -30  \n",
       "281           228                  -12  "
      ]
     },
     "metadata": {},
     "output_type": "display_data"
    }
   ],
   "source": [
    "# Booking più caro\n",
    "piu_caro_booking = df[df['differenza_assoluta'] > 0].sort_values(by='differenza_assoluta', ascending=False)\n",
    "print(\"\\nEsempi dove Booking è più caro:\")\n",
    "display(piu_caro_booking[['titolo_booking', 'prezzo_booking', 'prezzo_agoda', 'differenza_assoluta']].head())\n",
    "\n",
    "# Agoda più caro\n",
    "piu_caro_agoda = df[df['differenza_assoluta'] < 0].sort_values(by='differenza_assoluta')\n",
    "print(\"\\nEsempi dove Agoda è più caro:\")\n",
    "display(piu_caro_agoda[['titolo_booking', 'prezzo_booking', 'prezzo_agoda', 'differenza_assoluta']].head())\n"
   ]
  },
  {
   "cell_type": "code",
   "execution_count": 8,
   "id": "09065b63",
   "metadata": {},
   "outputs": [],
   "source": [
    "# Etichetta testuale su quale portale è più economico\n",
    "def confronta_prezzi(row):\n",
    "    if pd.isna(row['prezzo_booking']) or pd.isna(row['prezzo_agoda']):\n",
    "        return 'missing price'\n",
    "    elif row['prezzo_booking'] < row['prezzo_agoda']:\n",
    "        return 'more convenient on booking'\n",
    "    elif row['prezzo_booking'] > row['prezzo_agoda']:\n",
    "        return 'more convenient on agoda'\n",
    "    else:\n",
    "        return 'same price'"
   ]
  },
  {
   "cell_type": "code",
   "execution_count": 9,
   "id": "b0a09f36",
   "metadata": {},
   "outputs": [
    {
     "data": {
      "application/vnd.microsoft.datawrangler.viewer.v0+json": {
       "columns": [
        {
         "name": "index",
         "rawType": "int64",
         "type": "integer"
        },
        {
         "name": "titolo_booking",
         "rawType": "object",
         "type": "string"
        },
        {
         "name": "prezzo_booking",
         "rawType": "int64",
         "type": "integer"
        },
        {
         "name": "prezzo_agoda",
         "rawType": "int64",
         "type": "integer"
        },
        {
         "name": "convenienza",
         "rawType": "object",
         "type": "string"
        }
       ],
       "ref": "0565870d-7b23-436b-b113-d7b768e5d9b6",
       "rows": [
        [
         "0",
         "Sonder by Marriott Bonvoy Piazza Venezia Apartments",
         "322",
         "228",
         "more convenient on agoda"
        ],
        [
         "1",
         "ASTORIA GOLDEN GATE",
         "110",
         "110",
         "same price"
        ],
        [
         "2",
         "Suite Art Navona",
         "162",
         "162",
         "same price"
        ],
        [
         "3",
         "Terrace Pantheon Relais",
         "366",
         "366",
         "same price"
        ],
        [
         "4",
         "Hotel Fiori",
         "150",
         "150",
         "same price"
        ],
        [
         "5",
         "Bhr Cavour 150",
         "170",
         "122",
         "more convenient on agoda"
        ],
        [
         "7",
         "Hotel Relais Dei Papi",
         "264",
         "226",
         "more convenient on agoda"
        ],
        [
         "8",
         "Torre Argentina Relais - Residenze di Charme",
         "282",
         "282",
         "same price"
        ],
        [
         "9",
         "Profumo Maison Colosseo",
         "194",
         "163",
         "more convenient on agoda"
        ],
        [
         "10",
         "Hotel Abitart",
         "205",
         "156",
         "more convenient on agoda"
        ],
        [
         "11",
         "Charme & Chic Luxury",
         "304",
         "221",
         "more convenient on agoda"
        ],
        [
         "12",
         "Corso Boutique Luxury Rooms",
         "306",
         "198",
         "more convenient on agoda"
        ],
        [
         "13",
         "The RomeHello",
         "161",
         "146",
         "more convenient on agoda"
        ],
        [
         "14",
         "Orazio Palace Hotel",
         "234",
         "204",
         "more convenient on agoda"
        ],
        [
         "15",
         "Grand Hotel Fleming by OMNIA hotels",
         "156",
         "121",
         "more convenient on agoda"
        ],
        [
         "16",
         "Hotel Impero",
         "173",
         "142",
         "more convenient on agoda"
        ],
        [
         "17",
         "Moderno Hotel Roma",
         "175",
         "138",
         "more convenient on agoda"
        ],
        [
         "18",
         "Hotel Caravel",
         "140",
         "116",
         "more convenient on agoda"
        ],
        [
         "19",
         "Casa San Giuseppe",
         "154",
         "120",
         "more convenient on agoda"
        ],
        [
         "20",
         "The Spanish Suite Campo de' Fiori",
         "255",
         "316",
         "more convenient on booking"
        ],
        [
         "21",
         "Roma Vatican",
         "162",
         "120",
         "more convenient on agoda"
        ],
        [
         "22",
         "Hotel American Palace Eur",
         "135",
         "105",
         "more convenient on agoda"
        ],
        [
         "23",
         "LUDUS ROOMS",
         "414",
         "412",
         "more convenient on agoda"
        ],
        [
         "24",
         "Camplus Hotel Roma Centro",
         "180",
         "178",
         "more convenient on agoda"
        ],
        [
         "25",
         "Madison Hotel",
         "184",
         "124",
         "more convenient on agoda"
        ],
        [
         "26",
         "Arenula Suites",
         "221",
         "221",
         "same price"
        ],
        [
         "29",
         "Hotel Latinum",
         "152",
         "123",
         "more convenient on agoda"
        ],
        [
         "30",
         "Holiday Inn Rome - Eur Parco Dei Medici by IHG",
         "190",
         "190",
         "same price"
        ],
        [
         "31",
         "Crowne Plaza Rome St. Peter's by IHG",
         "245",
         "245",
         "same price"
        ],
        [
         "32",
         "Marta Inn",
         "193",
         "113",
         "more convenient on agoda"
        ],
        [
         "33",
         "Ibis Roma Fiera",
         "108",
         "96",
         "more convenient on agoda"
        ],
        [
         "34",
         "Maison Tritone",
         "321",
         "321",
         "same price"
        ],
        [
         "35",
         "Hotel Mecenate Palace",
         "271",
         "230",
         "more convenient on agoda"
        ],
        [
         "36",
         "Casa I Cappuccini",
         "164",
         "133",
         "more convenient on agoda"
        ],
        [
         "37",
         "Albani Hotel Roma",
         "150",
         "124",
         "more convenient on agoda"
        ],
        [
         "38",
         "Nazionale Palace Suites",
         "206",
         "154",
         "more convenient on agoda"
        ],
        [
         "39",
         "Hotel Ripa Roma",
         "179",
         "122",
         "more convenient on agoda"
        ],
        [
         "40",
         "Hotel Windrose",
         "228",
         "169",
         "more convenient on agoda"
        ],
        [
         "41",
         "Generator Rome",
         "173",
         "173",
         "same price"
        ],
        [
         "42",
         "Hotel Croce Di Malta",
         "165",
         "165",
         "same price"
        ],
        [
         "43",
         "Hotel Villa Glori",
         "802",
         "752",
         "more convenient on agoda"
        ],
        [
         "44",
         "Hotel Viminale",
         "386",
         "367",
         "more convenient on agoda"
        ],
        [
         "45",
         "Hotel Piemonte",
         "176",
         "155",
         "more convenient on agoda"
        ],
        [
         "47",
         "Hotel Paolo II",
         "206",
         "133",
         "more convenient on agoda"
        ],
        [
         "48",
         "Hotel Hiberia",
         "237",
         "228",
         "more convenient on agoda"
        ],
        [
         "49",
         "La Vite Vaticana",
         "146",
         "135",
         "more convenient on agoda"
        ],
        [
         "50",
         "Domus Sessoriana",
         "268",
         "118",
         "more convenient on agoda"
        ],
        [
         "51",
         "A.Roma Lifestyle Hotel",
         "248",
         "207",
         "more convenient on agoda"
        ],
        [
         "52",
         "Hotel Medici",
         "183",
         "156",
         "more convenient on agoda"
        ],
        [
         "53",
         "The B Place",
         "166",
         "143",
         "more convenient on agoda"
        ]
       ],
       "shape": {
        "columns": 4,
        "rows": 275
       }
      },
      "text/html": [
       "<div>\n",
       "<style scoped>\n",
       "    .dataframe tbody tr th:only-of-type {\n",
       "        vertical-align: middle;\n",
       "    }\n",
       "\n",
       "    .dataframe tbody tr th {\n",
       "        vertical-align: top;\n",
       "    }\n",
       "\n",
       "    .dataframe thead th {\n",
       "        text-align: right;\n",
       "    }\n",
       "</style>\n",
       "<table border=\"1\" class=\"dataframe\">\n",
       "  <thead>\n",
       "    <tr style=\"text-align: right;\">\n",
       "      <th></th>\n",
       "      <th>titolo_booking</th>\n",
       "      <th>prezzo_booking</th>\n",
       "      <th>prezzo_agoda</th>\n",
       "      <th>convenienza</th>\n",
       "    </tr>\n",
       "  </thead>\n",
       "  <tbody>\n",
       "    <tr>\n",
       "      <th>0</th>\n",
       "      <td>Sonder by Marriott Bonvoy Piazza Venezia Apart...</td>\n",
       "      <td>322</td>\n",
       "      <td>228</td>\n",
       "      <td>more convenient on agoda</td>\n",
       "    </tr>\n",
       "    <tr>\n",
       "      <th>1</th>\n",
       "      <td>ASTORIA GOLDEN GATE</td>\n",
       "      <td>110</td>\n",
       "      <td>110</td>\n",
       "      <td>same price</td>\n",
       "    </tr>\n",
       "    <tr>\n",
       "      <th>2</th>\n",
       "      <td>Suite Art Navona</td>\n",
       "      <td>162</td>\n",
       "      <td>162</td>\n",
       "      <td>same price</td>\n",
       "    </tr>\n",
       "    <tr>\n",
       "      <th>3</th>\n",
       "      <td>Terrace Pantheon Relais</td>\n",
       "      <td>366</td>\n",
       "      <td>366</td>\n",
       "      <td>same price</td>\n",
       "    </tr>\n",
       "    <tr>\n",
       "      <th>4</th>\n",
       "      <td>Hotel Fiori</td>\n",
       "      <td>150</td>\n",
       "      <td>150</td>\n",
       "      <td>same price</td>\n",
       "    </tr>\n",
       "    <tr>\n",
       "      <th>...</th>\n",
       "      <td>...</td>\n",
       "      <td>...</td>\n",
       "      <td>...</td>\n",
       "      <td>...</td>\n",
       "    </tr>\n",
       "    <tr>\n",
       "      <th>191</th>\n",
       "      <td>Hotel Genio</td>\n",
       "      <td>213</td>\n",
       "      <td>146</td>\n",
       "      <td>more convenient on agoda</td>\n",
       "    </tr>\n",
       "    <tr>\n",
       "      <th>215</th>\n",
       "      <td>Grand Hotel Palace Rome</td>\n",
       "      <td>332</td>\n",
       "      <td>332</td>\n",
       "      <td>same price</td>\n",
       "    </tr>\n",
       "    <tr>\n",
       "      <th>252</th>\n",
       "      <td>San Francesco Home</td>\n",
       "      <td>84</td>\n",
       "      <td>84</td>\n",
       "      <td>same price</td>\n",
       "    </tr>\n",
       "    <tr>\n",
       "      <th>102</th>\n",
       "      <td>Hotel Valadier</td>\n",
       "      <td>249</td>\n",
       "      <td>206</td>\n",
       "      <td>more convenient on agoda</td>\n",
       "    </tr>\n",
       "    <tr>\n",
       "      <th>6</th>\n",
       "      <td>Room Mate Collection Filippo, Rome-Fontana di ...</td>\n",
       "      <td>384</td>\n",
       "      <td>358</td>\n",
       "      <td>more convenient on agoda</td>\n",
       "    </tr>\n",
       "  </tbody>\n",
       "</table>\n",
       "<p>275 rows × 4 columns</p>\n",
       "</div>"
      ],
      "text/plain": [
       "                                        titolo_booking  prezzo_booking  \\\n",
       "0    Sonder by Marriott Bonvoy Piazza Venezia Apart...             322   \n",
       "1                                  ASTORIA GOLDEN GATE             110   \n",
       "2                                     Suite Art Navona             162   \n",
       "3                              Terrace Pantheon Relais             366   \n",
       "4                                          Hotel Fiori             150   \n",
       "..                                                 ...             ...   \n",
       "191                                        Hotel Genio             213   \n",
       "215                            Grand Hotel Palace Rome             332   \n",
       "252                                 San Francesco Home              84   \n",
       "102                                     Hotel Valadier             249   \n",
       "6    Room Mate Collection Filippo, Rome-Fontana di ...             384   \n",
       "\n",
       "     prezzo_agoda               convenienza  \n",
       "0             228  more convenient on agoda  \n",
       "1             110                same price  \n",
       "2             162                same price  \n",
       "3             366                same price  \n",
       "4             150                same price  \n",
       "..            ...                       ...  \n",
       "191           146  more convenient on agoda  \n",
       "215           332                same price  \n",
       "252            84                same price  \n",
       "102           206  more convenient on agoda  \n",
       "6             358  more convenient on agoda  \n",
       "\n",
       "[275 rows x 4 columns]"
      ]
     },
     "metadata": {},
     "output_type": "display_data"
    }
   ],
   "source": [
    "df['convenienza'] = df.apply(confronta_prezzi, axis=1)\n",
    "\n",
    "display(df[['titolo_booking', 'prezzo_booking', 'prezzo_agoda', 'convenienza']])\n"
   ]
  },
  {
   "cell_type": "code",
   "execution_count": 10,
   "id": "7d988075",
   "metadata": {},
   "outputs": [
    {
     "name": "stderr",
     "output_type": "stream",
     "text": [
      "/var/folders/j4/9fk3st2d30g22vff83pj6cnw0000gn/T/ipykernel_13398/1875112919.py:7: FutureWarning: \n",
      "\n",
      "Passing `palette` without assigning `hue` is deprecated and will be removed in v0.14.0. Assign the `x` variable to `hue` and set `legend=False` for the same effect.\n",
      "\n",
      "  sns.barplot(data=conteggio_convenienza, x='Portale più conveniente', y='Numero di hotel', palette='viridis')\n"
     ]
    },
    {
     "data": {
      "image/png": "[encoded data removed]",
      "text/plain": [
       "<Figure size 800x500 with 1 Axes>"
      ]
     },
     "metadata": {},
     "output_type": "display_data"
    }
   ],
   "source": [
    "# Conta quante volte ciascuna etichetta appare\n",
    "conteggio_convenienza = df['convenienza'].value_counts().reset_index()\n",
    "conteggio_convenienza.columns = ['Portale più conveniente', 'Numero di hotel']\n",
    "\n",
    "# Grafico\n",
    "plt.figure(figsize=(8, 5))\n",
    "sns.barplot(data=conteggio_convenienza, x='Portale più conveniente', y='Numero di hotel', palette='viridis')\n",
    "plt.title('Comparison of Booking and Agoda prices')\n",
    "plt.ylabel('Number of hotel')\n",
    "plt.xlabel('')\n",
    "plt.xticks(rotation=15)\n",
    "plt.tight_layout()\n",
    "plt.show()\n"
   ]
  },
  {
   "cell_type": "code",
   "execution_count": 11,
   "id": "885070d1",
   "metadata": {},
   "outputs": [
    {
     "name": "stdout",
     "output_type": "stream",
     "text": [
      "La media della variabile 'differenza_percentuale' è: 13.920644905725904\n"
     ]
    }
   ],
   "source": [
    "# Calculate the mean of the 'differenza_percentuale' column\n",
    "media_differenza_percentuale = df['differenza_percentuale'].mean()\n",
    "\n",
    "# Print the result\n",
    "print(f\"La media della variabile 'differenza_percentuale' è: {media_differenza_percentuale}\")\n"
   ]
  },
  {
   "cell_type": "code",
   "execution_count": 12,
   "id": "5991e786",
   "metadata": {},
   "outputs": [
    {
     "name": "stdout",
     "output_type": "stream",
     "text": [
      "\n",
      "Esempi dove Booking è più caro:\n"
     ]
    },
    {
     "data": {
      "application/vnd.microsoft.datawrangler.viewer.v0+json": {
       "columns": [
        {
         "name": "index",
         "rawType": "int64",
         "type": "integer"
        },
        {
         "name": "titolo_booking",
         "rawType": "object",
         "type": "string"
        },
        {
         "name": "prezzo_booking",
         "rawType": "int64",
         "type": "integer"
        },
        {
         "name": "prezzo_agoda",
         "rawType": "int64",
         "type": "integer"
        },
        {
         "name": "differenza",
         "rawType": "int64",
         "type": "integer"
        }
       ],
       "ref": "f0a0cc38-331b-433e-9c9b-7e294413915f",
       "rows": [
        [
         "0",
         "Sonder by Marriott Bonvoy Piazza Venezia Apartments",
         "322",
         "228",
         "94"
        ],
        [
         "5",
         "Bhr Cavour 150",
         "170",
         "122",
         "48"
        ],
        [
         "7",
         "Hotel Relais Dei Papi",
         "264",
         "226",
         "38"
        ],
        [
         "9",
         "Profumo Maison Colosseo",
         "194",
         "163",
         "31"
        ],
        [
         "10",
         "Hotel Abitart",
         "205",
         "156",
         "49"
        ]
       ],
       "shape": {
        "columns": 4,
        "rows": 5
       }
      },
      "text/html": [
       "<div>\n",
       "<style scoped>\n",
       "    .dataframe tbody tr th:only-of-type {\n",
       "        vertical-align: middle;\n",
       "    }\n",
       "\n",
       "    .dataframe tbody tr th {\n",
       "        vertical-align: top;\n",
       "    }\n",
       "\n",
       "    .dataframe thead th {\n",
       "        text-align: right;\n",
       "    }\n",
       "</style>\n",
       "<table border=\"1\" class=\"dataframe\">\n",
       "  <thead>\n",
       "    <tr style=\"text-align: right;\">\n",
       "      <th></th>\n",
       "      <th>titolo_booking</th>\n",
       "      <th>prezzo_booking</th>\n",
       "      <th>prezzo_agoda</th>\n",
       "      <th>differenza</th>\n",
       "    </tr>\n",
       "  </thead>\n",
       "  <tbody>\n",
       "    <tr>\n",
       "      <th>0</th>\n",
       "      <td>Sonder by Marriott Bonvoy Piazza Venezia Apart...</td>\n",
       "      <td>322</td>\n",
       "      <td>228</td>\n",
       "      <td>94</td>\n",
       "    </tr>\n",
       "    <tr>\n",
       "      <th>5</th>\n",
       "      <td>Bhr Cavour 150</td>\n",
       "      <td>170</td>\n",
       "      <td>122</td>\n",
       "      <td>48</td>\n",
       "    </tr>\n",
       "    <tr>\n",
       "      <th>7</th>\n",
       "      <td>Hotel Relais Dei Papi</td>\n",
       "      <td>264</td>\n",
       "      <td>226</td>\n",
       "      <td>38</td>\n",
       "    </tr>\n",
       "    <tr>\n",
       "      <th>9</th>\n",
       "      <td>Profumo Maison Colosseo</td>\n",
       "      <td>194</td>\n",
       "      <td>163</td>\n",
       "      <td>31</td>\n",
       "    </tr>\n",
       "    <tr>\n",
       "      <th>10</th>\n",
       "      <td>Hotel Abitart</td>\n",
       "      <td>205</td>\n",
       "      <td>156</td>\n",
       "      <td>49</td>\n",
       "    </tr>\n",
       "  </tbody>\n",
       "</table>\n",
       "</div>"
      ],
      "text/plain": [
       "                                       titolo_booking  prezzo_booking  \\\n",
       "0   Sonder by Marriott Bonvoy Piazza Venezia Apart...             322   \n",
       "5                                      Bhr Cavour 150             170   \n",
       "7                               Hotel Relais Dei Papi             264   \n",
       "9                             Profumo Maison Colosseo             194   \n",
       "10                                      Hotel Abitart             205   \n",
       "\n",
       "    prezzo_agoda  differenza  \n",
       "0            228          94  \n",
       "5            122          48  \n",
       "7            226          38  \n",
       "9            163          31  \n",
       "10           156          49  "
      ]
     },
     "metadata": {},
     "output_type": "display_data"
    },
    {
     "name": "stdout",
     "output_type": "stream",
     "text": [
      "\n",
      "Esempi dove Agoda è più caro:\n"
     ]
    },
    {
     "data": {
      "application/vnd.microsoft.datawrangler.viewer.v0+json": {
       "columns": [
        {
         "name": "index",
         "rawType": "int64",
         "type": "integer"
        },
        {
         "name": "titolo_booking",
         "rawType": "object",
         "type": "string"
        },
        {
         "name": "prezzo_booking",
         "rawType": "int64",
         "type": "integer"
        },
        {
         "name": "prezzo_agoda",
         "rawType": "int64",
         "type": "integer"
        },
        {
         "name": "differenza",
         "rawType": "int64",
         "type": "integer"
        }
       ],
       "ref": "1b23084a-7868-4674-8a0a-65bab5be0848",
       "rows": [
        [
         "20",
         "The Spanish Suite Campo de' Fiori",
         "255",
         "316",
         "-61"
        ],
        [
         "113",
         "Corso Suite 107 Rooms Wellness & Spa",
         "240",
         "270",
         "-30"
        ],
        [
         "281",
         "Favolosa \"Dimora del Capriolo\" con Giardino e Parcheggio",
         "216",
         "228",
         "-12"
        ]
       ],
       "shape": {
        "columns": 4,
        "rows": 3
       }
      },
      "text/html": [
       "<div>\n",
       "<style scoped>\n",
       "    .dataframe tbody tr th:only-of-type {\n",
       "        vertical-align: middle;\n",
       "    }\n",
       "\n",
       "    .dataframe tbody tr th {\n",
       "        vertical-align: top;\n",
       "    }\n",
       "\n",
       "    .dataframe thead th {\n",
       "        text-align: right;\n",
       "    }\n",
       "</style>\n",
       "<table border=\"1\" class=\"dataframe\">\n",
       "  <thead>\n",
       "    <tr style=\"text-align: right;\">\n",
       "      <th></th>\n",
       "      <th>titolo_booking</th>\n",
       "      <th>prezzo_booking</th>\n",
       "      <th>prezzo_agoda</th>\n",
       "      <th>differenza</th>\n",
       "    </tr>\n",
       "  </thead>\n",
       "  <tbody>\n",
       "    <tr>\n",
       "      <th>20</th>\n",
       "      <td>The Spanish Suite Campo de' Fiori</td>\n",
       "      <td>255</td>\n",
       "      <td>316</td>\n",
       "      <td>-61</td>\n",
       "    </tr>\n",
       "    <tr>\n",
       "      <th>113</th>\n",
       "      <td>Corso Suite 107 Rooms Wellness &amp; Spa</td>\n",
       "      <td>240</td>\n",
       "      <td>270</td>\n",
       "      <td>-30</td>\n",
       "    </tr>\n",
       "    <tr>\n",
       "      <th>281</th>\n",
       "      <td>Favolosa \"Dimora del Capriolo\" con Giardino e ...</td>\n",
       "      <td>216</td>\n",
       "      <td>228</td>\n",
       "      <td>-12</td>\n",
       "    </tr>\n",
       "  </tbody>\n",
       "</table>\n",
       "</div>"
      ],
      "text/plain": [
       "                                        titolo_booking  prezzo_booking  \\\n",
       "20                   The Spanish Suite Campo de' Fiori             255   \n",
       "113               Corso Suite 107 Rooms Wellness & Spa             240   \n",
       "281  Favolosa \"Dimora del Capriolo\" con Giardino e ...             216   \n",
       "\n",
       "     prezzo_agoda  differenza  \n",
       "20            316         -61  \n",
       "113           270         -30  \n",
       "281           228         -12  "
      ]
     },
     "metadata": {},
     "output_type": "display_data"
    }
   ],
   "source": [
    "# Differenza\n",
    "df['differenza'] = df['prezzo_booking'] - df['prezzo_agoda']\n",
    "df['differenza_assoluta'] = df['differenza'].abs()\n",
    "\n",
    "# Booking più caro\n",
    "piu_caro_booking = df[df['differenza'] > 0]\n",
    "# Agoda più caro\n",
    "piu_caro_agoda = df[df['differenza'] < 0]\n",
    "\n",
    "# Esempi\n",
    "print(\"\\nEsempi dove Booking è più caro:\")\n",
    "display(piu_caro_booking[['titolo_booking', 'prezzo_booking', 'prezzo_agoda', 'differenza']].head())\n",
    "\n",
    "print(\"\\nEsempi dove Agoda è più caro:\")\n",
    "display(piu_caro_agoda[['titolo_booking', 'prezzo_booking', 'prezzo_agoda', 'differenza']].head())\n"
   ]
  },
  {
   "cell_type": "code",
   "execution_count": 13,
   "id": "2b946b28",
   "metadata": {},
   "outputs": [
    {
     "name": "stdout",
     "output_type": "stream",
     "text": [
      "\n",
      "In media Booking è più caro di 22.45 euro (positivo significa Booking più caro).\n",
      "In media la differenza assoluta è di 23.20 euro.\n",
      "In media Agoda è più conveniente del 10.10% rispetto a Booking (segno positivo = Booking più caro).\n",
      "In media la differenza percentuale assoluta è del 10.41%.\n"
     ]
    }
   ],
   "source": [
    "# Media delle differenze\n",
    "media_diff = df['differenza'].mean()\n",
    "media_diff_assoluta = df['differenza'].abs().mean()\n",
    "\n",
    "print(f\"\\nIn media Booking è più caro di {media_diff:.2f} euro (positivo significa Booking più caro).\")\n",
    "print(f\"In media la differenza assoluta è di {media_diff_assoluta:.2f} euro.\")\n",
    "\n",
    "\n",
    "\n",
    "df['percentuale_diff'] = (df['differenza'] / df['prezzo_booking']) * 100\n",
    "media_percentuale_diff = df['percentuale_diff'].mean()\n",
    "media_percentuale_diff_assoluta = df['percentuale_diff'].abs().mean()\n",
    "print(f\"In media Agoda è più conveniente del {abs(media_percentuale_diff):.2f}% rispetto a Booking (segno positivo = Booking più caro).\")\n",
    "print(f\"In media la differenza percentuale assoluta è del {media_percentuale_diff_assoluta:.2f}%.\")\n"
   ]
  },
  {
   "cell_type": "code",
   "execution_count": 14,
   "id": "043a48e2",
   "metadata": {},
   "outputs": [
    {
     "name": "stdout",
     "output_type": "stream",
     "text": [
      "La differenza media di prezzo è -22.45 euro.\n",
      "La differenza media percentuale è -10.10%.\n"
     ]
    },
    {
     "data": {
      "application/vnd.microsoft.datawrangler.viewer.v0+json": {
       "columns": [
        {
         "name": "città_agoda",
         "rawType": "object",
         "type": "string"
        },
        {
         "name": "prezzo_agoda",
         "rawType": "float64",
         "type": "float"
        },
        {
         "name": "prezzo_booking",
         "rawType": "float64",
         "type": "float"
        }
       ],
       "ref": "02c87771-82a8-41e7-97be-606a34740572",
       "rows": [
        [
         "roma",
         "194.4834123222749",
         "223.66350710900474"
        ],
        [
         "terni",
         "99.046875",
         "99.328125"
        ]
       ],
       "shape": {
        "columns": 2,
        "rows": 2
       }
      },
      "text/html": [
       "<div>\n",
       "<style scoped>\n",
       "    .dataframe tbody tr th:only-of-type {\n",
       "        vertical-align: middle;\n",
       "    }\n",
       "\n",
       "    .dataframe tbody tr th {\n",
       "        vertical-align: top;\n",
       "    }\n",
       "\n",
       "    .dataframe thead th {\n",
       "        text-align: right;\n",
       "    }\n",
       "</style>\n",
       "<table border=\"1\" class=\"dataframe\">\n",
       "  <thead>\n",
       "    <tr style=\"text-align: right;\">\n",
       "      <th></th>\n",
       "      <th>prezzo_agoda</th>\n",
       "      <th>prezzo_booking</th>\n",
       "    </tr>\n",
       "    <tr>\n",
       "      <th>città_agoda</th>\n",
       "      <th></th>\n",
       "      <th></th>\n",
       "    </tr>\n",
       "  </thead>\n",
       "  <tbody>\n",
       "    <tr>\n",
       "      <th>roma</th>\n",
       "      <td>194.483412</td>\n",
       "      <td>223.663507</td>\n",
       "    </tr>\n",
       "    <tr>\n",
       "      <th>terni</th>\n",
       "      <td>99.046875</td>\n",
       "      <td>99.328125</td>\n",
       "    </tr>\n",
       "  </tbody>\n",
       "</table>\n",
       "</div>"
      ],
      "text/plain": [
       "             prezzo_agoda  prezzo_booking\n",
       "città_agoda                              \n",
       "roma           194.483412      223.663507\n",
       "terni           99.046875       99.328125"
      ]
     },
     "metadata": {},
     "output_type": "display_data"
    }
   ],
   "source": [
    "# Supponiamo che matches_df_2_new sia già caricato\n",
    "# matches_df_2_new = pd.read_csv(\"tuo_file.csv\")\n",
    "\n",
    "# Calcola la differenza di prezzo per ciascun record\n",
    "df[\"differenza_prezzo\"] = df[\"prezzo_agoda\"] - df[\"prezzo_booking\"]\n",
    "\n",
    "# Calcola la media della differenza\n",
    "media_differenza = df[\"differenza_prezzo\"].mean()\n",
    "\n",
    "# Calcola la percentuale media di differenza rispetto al prezzo booking\n",
    "df[\"percentuale_differenza\"] = df[\"differenza_prezzo\"] / df[\"prezzo_booking\"] * 100\n",
    "\n",
    "# Media della percentuale\n",
    "media_percentuale = df[\"percentuale_differenza\"].mean()\n",
    "\n",
    "print(f\"La differenza media di prezzo è {media_differenza:.2f} euro.\")\n",
    "print(f\"La differenza media percentuale è {media_percentuale:.2f}%.\")\n",
    "\n",
    "\n",
    "# Raggruppa per città e calcola la media dei prezzi su Agoda e Booking\n",
    "prezzi_medi = df.groupby('città_agoda')[['prezzo_agoda', 'prezzo_booking']].mean()\n",
    "\n",
    "display(prezzi_medi)\n"
   ]
  },
  {
   "cell_type": "markdown",
   "id": "4de11731",
   "metadata": {},
   "source": [
    "# individua outliers"
   ]
  },
  {
   "cell_type": "code",
   "execution_count": 15,
   "id": "88d1cdef",
   "metadata": {},
   "outputs": [],
   "source": [
    "def trova_outlier_iqr(series):\n",
    "    Q1 = series.quantile(0.25)\n",
    "    Q3 = series.quantile(0.75)\n",
    "    IQR = Q3 - Q1\n",
    "    lower_bound = Q1 - 1.5 * IQR\n",
    "    upper_bound = Q3 + 1.5 * IQR\n",
    "    # restituisce un booleano: True se è outlier\n",
    "    return (series < lower_bound) | (series > upper_bound)\n",
    "\n"
   ]
  },
  {
   "cell_type": "code",
   "execution_count": 16,
   "id": "d8129d1a",
   "metadata": {},
   "outputs": [
    {
     "name": "stdout",
     "output_type": "stream",
     "text": [
      "Numero totale outlier: 15\n"
     ]
    },
    {
     "data": {
      "application/vnd.microsoft.datawrangler.viewer.v0+json": {
       "columns": [
        {
         "name": "index",
         "rawType": "int64",
         "type": "integer"
        },
        {
         "name": "pair",
         "rawType": "object",
         "type": "string"
        },
        {
         "name": "name_similarity",
         "rawType": "float64",
         "type": "float"
        },
        {
         "name": "titolo_booking",
         "rawType": "object",
         "type": "string"
        },
        {
         "name": "titolo_agoda",
         "rawType": "object",
         "type": "string"
        },
        {
         "name": "zona_booking",
         "rawType": "object",
         "type": "string"
        },
        {
         "name": "zona_agoda",
         "rawType": "object",
         "type": "string"
        },
        {
         "name": "città_booking",
         "rawType": "object",
         "type": "string"
        },
        {
         "name": "città_agoda",
         "rawType": "object",
         "type": "string"
        },
        {
         "name": "prezzo_booking",
         "rawType": "int64",
         "type": "integer"
        },
        {
         "name": "prezzo_agoda",
         "rawType": "int64",
         "type": "integer"
        },
        {
         "name": "index_booking",
         "rawType": "int64",
         "type": "integer"
        },
        {
         "name": "index_agoda",
         "rawType": "int64",
         "type": "integer"
        },
        {
         "name": "distanza_centro_booking",
         "rawType": "float64",
         "type": "float"
        },
        {
         "name": "distanza_centro_agoda",
         "rawType": "float64",
         "type": "float"
        },
        {
         "name": "recensione_voto_numerico_booking",
         "rawType": "object",
         "type": "string"
        },
        {
         "name": "recensione_voto_numerico_agoda",
         "rawType": "object",
         "type": "string"
        },
        {
         "name": "recensione_voto_parola_booking",
         "rawType": "object",
         "type": "string"
        },
        {
         "name": "recensione_voto_parola_agoda",
         "rawType": "object",
         "type": "string"
        },
        {
         "name": "numero_recensioni_booking",
         "rawType": "int64",
         "type": "integer"
        },
        {
         "name": "numero_recensioni_agoda",
         "rawType": "float64",
         "type": "float"
        },
        {
         "name": "numero_notti",
         "rawType": "float64",
         "type": "float"
        },
        {
         "name": "numero_persone",
         "rawType": "float64",
         "type": "float"
        },
        {
         "name": "inizio_permanenza",
         "rawType": "object",
         "type": "string"
        },
        {
         "name": "fine_permanenza",
         "rawType": "object",
         "type": "string"
        },
        {
         "name": "differenza_assoluta",
         "rawType": "int64",
         "type": "integer"
        },
        {
         "name": "differenza_percentuale",
         "rawType": "float64",
         "type": "float"
        },
        {
         "name": "convenienza",
         "rawType": "object",
         "type": "string"
        },
        {
         "name": "differenza",
         "rawType": "int64",
         "type": "integer"
        },
        {
         "name": "percentuale_diff",
         "rawType": "float64",
         "type": "float"
        },
        {
         "name": "differenza_prezzo",
         "rawType": "int64",
         "type": "integer"
        },
        {
         "name": "percentuale_differenza",
         "rawType": "float64",
         "type": "float"
        }
       ],
       "ref": "00f348ff-ca81-4417-8eca-9fc61a970602",
       "rows": [
        [
         "3",
         "27#487",
         "1.0",
         "Terrace Pantheon Relais",
         "Terrace Pantheon Relais",
         "Pantheon",
         "Pantheon",
         "roma",
         "roma",
         "366",
         "366",
         "27",
         "487",
         "0.5",
         "0.0",
         "9,3",
         "9,2",
         "Eccellente ",
         "Eccezionale",
         "907",
         "1286.0",
         "1.0",
         "2.0",
         "01-08-25",
         "02-08-25",
         "0",
         "0.0",
         "same price",
         "0",
         "0.0",
         "0",
         "0.0"
        ],
        [
         "23",
         "140#419",
         "1.0",
         "LUDUS ROOMS",
         "Ludus Rooms",
         "Rione Monti",
         "Colosseo e Foro Romano",
         "roma",
         "roma",
         "414",
         "412",
         "140",
         "419",
         "1.2",
         "0.0",
         "9,0",
         "9,2",
         "Eccellente ",
         "Eccezionale",
         "484",
         "515.0",
         "1.0",
         "2.0",
         "01-08-25",
         "02-08-25",
         "2",
         "0.48543689320388345",
         "more convenient on agoda",
         "2",
         "0.4830917874396135",
         "-2",
         "-0.4830917874396135"
        ],
        [
         "43",
         "222#155",
         "1.0",
         "Hotel Villa Glori",
         "Hotel Villa Glori",
         "Villa Borghese/Parioli",
         "Flaminio e Parioli",
         "roma",
         "roma",
         "802",
         "752",
         "222",
         "155",
         "3.4",
         "1.2",
         "8,5",
         "8,6",
         "Ottimo ",
         "Fantastico",
         "2275",
         "2417.0",
         "1.0",
         "2.0",
         "01-08-25",
         "02-08-25",
         "50",
         "6.648936170212766",
         "more convenient on agoda",
         "50",
         "6.234413965087282",
         "-50",
         "-6.234413965087282"
        ],
        [
         "44",
         "227#415",
         "1.0",
         "Hotel Viminale",
         "Viminale Hotel",
         "Rione Monti",
         "Monti",
         "roma",
         "roma",
         "386",
         "367",
         "227",
         "415",
         "1.1",
         "0.0",
         "9,4",
         "9,2",
         "Eccellente ",
         "Eccezionale",
         "1291",
         "1527.0",
         "1.0",
         "2.0",
         "01-08-25",
         "02-08-25",
         "19",
         "5.177111716621254",
         "more convenient on agoda",
         "19",
         "4.922279792746114",
         "-19",
         "-4.922279792746114"
        ],
        [
         "66",
         "301#521",
         "1.0",
         "Atlante Star Hotel",
         "Atlante Star Hotel",
         "Vaticano Prati",
         "Città del Vaticano",
         "roma",
         "roma",
         "410",
         "345",
         "301",
         "521",
         "2.0",
         "0.0",
         "8,0",
         "8,2",
         "Ottimo ",
         "Fantastico",
         "1989",
         "2091.0",
         "1.0",
         "2.0",
         "01-08-25",
         "02-08-25",
         "65",
         "18.84057971014493",
         "more convenient on agoda",
         "65",
         "15.853658536585366",
         "-65",
         "-15.853658536585366"
        ],
        [
         "82",
         "363#523",
         "1.0",
         "Hotel Locarno",
         "Hotel Locarno",
         "Spagna",
         "Piazza di Spagna",
         "roma",
         "roma",
         "599",
         "500",
         "363",
         "523",
         "1.7",
         "0.0",
         "9,4",
         "9,4",
         "Eccellente ",
         "Eccezionale",
         "734",
         "859.0",
         "1.0",
         "2.0",
         "01-08-25",
         "02-08-25",
         "99",
         "19.8",
         "more convenient on agoda",
         "99",
         "16.52754590984975",
         "-99",
         "-16.52754590984975"
        ],
        [
         "89",
         "381#416",
         "1.0",
         "Residenza Paolo VI",
         "Residenza Paolo VI",
         "Vaticano Prati",
         "Città del Vaticano",
         "roma",
         "roma",
         "502",
         "427",
         "381",
         "416",
         "2.2",
         "0.2",
         "8,8",
         "9,0",
         "Favoloso ",
         "Eccezionale",
         "868",
         "198.0",
         "1.0",
         "2.0",
         "01-08-25",
         "02-08-25",
         "75",
         "17.56440281030445",
         "more convenient on agoda",
         "75",
         "14.940239043824702",
         "-75",
         "-14.940239043824702"
        ],
        [
         "117",
         "481#275",
         "1.0",
         "Hotel Barberini",
         "Hotel Barberini",
         "Trevi",
         "Fontana di Trevi",
         "roma",
         "roma",
         "364",
         "359",
         "481",
         "275",
         "0.9",
         "0.0",
         "8,9",
         "9,0",
         "Favoloso ",
         "Eccezionale",
         "1996",
         "2165.0",
         "1.0",
         "2.0",
         "01-08-25",
         "02-08-25",
         "5",
         "1.392757660167131",
         "more convenient on agoda",
         "5",
         "1.3736263736263736",
         "-5",
         "-1.3736263736263736"
        ],
        [
         "121",
         "492#132",
         "1.0",
         "Domus 21 Luxury Suites",
         "Domus 21 Luxury Suites",
         "Pantheon",
         "Pantheon",
         "roma",
         "roma",
         "421",
         "338",
         "492",
         "132",
         "0.35",
         "0.0",
         "9,1",
         "9,2",
         "Eccellente ",
         "Eccezionale",
         "454",
         "634.0",
         "1.0",
         "2.0",
         "01-08-25",
         "02-08-25",
         "83",
         "24.556213017751478",
         "more convenient on agoda",
         "83",
         "19.71496437054632",
         "-83",
         "-19.71496437054632"
        ],
        [
         "135",
         "540#421",
         "1.0",
         "Hotel Barocco",
         "Hotel Barocco",
         "Via Veneto",
         "Via Veneto",
         "roma",
         "roma",
         "349",
         "349",
         "540",
         "421",
         "1.0",
         "0.0",
         "9,0",
         "9,2",
         "Eccellente ",
         "Eccezionale",
         "1420",
         "1584.0",
         "1.0",
         "2.0",
         "01-08-25",
         "02-08-25",
         "0",
         "0.0",
         "same price",
         "0",
         "0.0",
         "0",
         "0.0"
        ],
        [
         "190",
         "707#3",
         "1.0",
         "Rome Cavalieri, A Waldorf Astoria Hotel",
         "Rome Cavalieri A Waldorf Astoria Hotel",
         "Trionfale",
         "Trionfale",
         "roma",
         "roma",
         "1620",
         "1620",
         "707",
         "3",
         "4.0",
         "1.2",
         "8,9",
         "8,9",
         "Favoloso ",
         "Fantastico",
         "795",
         "1161.0",
         "1.0",
         "2.0",
         "01-08-25",
         "02-08-25",
         "0",
         "0.0",
         "same price",
         "0",
         "0.0",
         "0",
         "0.0"
        ],
        [
         "206",
         "769#274",
         "1.0",
         "Trevi Palace Luxury Inn",
         "Trevi Palace Luxury Inn",
         "Trevi",
         "Fontana di Trevi",
         "roma",
         "roma",
         "416",
         "266",
         "769",
         "274",
         "0.6",
         "0.0",
         "8,1",
         "8,6",
         "Ottimo ",
         "Fantastico",
         "613",
         "188.0",
         "1.0",
         "2.0",
         "01-08-25",
         "02-08-25",
         "150",
         "56.390977443609025",
         "more convenient on agoda",
         "150",
         "36.05769230769231",
         "-150",
         "-36.05769230769231"
        ],
        [
         "217",
         "811#515",
         "1.0",
         "Boutique Hotel Campo de' Fiori",
         "Boutique Hotel Campo de' Fiori",
         "Piazza Navona",
         "Piazza Navona",
         "roma",
         "roma",
         "499",
         "470",
         "811",
         "515",
         "0.8",
         "0.0",
         "8,8",
         "9,3",
         "Favoloso ",
         "Eccezionale",
         "805",
         "7.0",
         "1.0",
         "2.0",
         "01-08-25",
         "02-08-25",
         "29",
         "6.170212765957447",
         "more convenient on agoda",
         "29",
         "5.811623246492986",
         "-29",
         "-5.811623246492986"
        ],
        [
         "27",
         "152#243",
         "1.0",
         "Grand Hotel Plaza",
         "Grand Hotel Plaza",
         "Spagna",
         "Piazza di Spagna",
         "roma",
         "roma",
         "376",
         "345",
         "152",
         "243",
         "1.1",
         "0.0",
         "8,0",
         "8,2",
         "Ottimo ",
         "Fantastico",
         "526",
         "565.0",
         "1.0",
         "2.0",
         "01-08-25",
         "02-08-25",
         "31",
         "8.985507246376812",
         "more convenient on agoda",
         "31",
         "8.24468085106383",
         "-31",
         "-8.24468085106383"
        ],
        [
         "6",
         "33#530",
         "1.0",
         "Room Mate Collection Filippo, Rome-Fontana di Trevi",
         "Room Mate Collection Filippo, Rome-Fontana di Trevi",
         "Via Veneto",
         "Via Veneto",
         "roma",
         "roma",
         "384",
         "358",
         "33",
         "530",
         "1.1",
         "0.0",
         "9,4",
         "9,4",
         "Eccellente ",
         "Eccezionale",
         "1169",
         "1335.0",
         "1.0",
         "2.0",
         "01-08-25",
         "02-08-25",
         "26",
         "7.262569832402235",
         "more convenient on agoda",
         "26",
         "6.770833333333333",
         "-26",
         "-6.770833333333333"
        ]
       ],
       "shape": {
        "columns": 31,
        "rows": 15
       }
      },
      "text/html": [
       "<div>\n",
       "<style scoped>\n",
       "    .dataframe tbody tr th:only-of-type {\n",
       "        vertical-align: middle;\n",
       "    }\n",
       "\n",
       "    .dataframe tbody tr th {\n",
       "        vertical-align: top;\n",
       "    }\n",
       "\n",
       "    .dataframe thead th {\n",
       "        text-align: right;\n",
       "    }\n",
       "</style>\n",
       "<table border=\"1\" class=\"dataframe\">\n",
       "  <thead>\n",
       "    <tr style=\"text-align: right;\">\n",
       "      <th></th>\n",
       "      <th>pair</th>\n",
       "      <th>name_similarity</th>\n",
       "      <th>titolo_booking</th>\n",
       "      <th>titolo_agoda</th>\n",
       "      <th>zona_booking</th>\n",
       "      <th>zona_agoda</th>\n",
       "      <th>città_booking</th>\n",
       "      <th>città_agoda</th>\n",
       "      <th>prezzo_booking</th>\n",
       "      <th>prezzo_agoda</th>\n",
       "      <th>...</th>\n",
       "      <th>numero_persone</th>\n",
       "      <th>inizio_permanenza</th>\n",
       "      <th>fine_permanenza</th>\n",
       "      <th>differenza_assoluta</th>\n",
       "      <th>differenza_percentuale</th>\n",
       "      <th>convenienza</th>\n",
       "      <th>differenza</th>\n",
       "      <th>percentuale_diff</th>\n",
       "      <th>differenza_prezzo</th>\n",
       "      <th>percentuale_differenza</th>\n",
       "    </tr>\n",
       "  </thead>\n",
       "  <tbody>\n",
       "    <tr>\n",
       "      <th>3</th>\n",
       "      <td>27#487</td>\n",
       "      <td>1.0</td>\n",
       "      <td>Terrace Pantheon Relais</td>\n",
       "      <td>Terrace Pantheon Relais</td>\n",
       "      <td>Pantheon</td>\n",
       "      <td>Pantheon</td>\n",
       "      <td>roma</td>\n",
       "      <td>roma</td>\n",
       "      <td>366</td>\n",
       "      <td>366</td>\n",
       "      <td>...</td>\n",
       "      <td>2.0</td>\n",
       "      <td>01-08-25</td>\n",
       "      <td>02-08-25</td>\n",
       "      <td>0</td>\n",
       "      <td>0.000000</td>\n",
       "      <td>same price</td>\n",
       "      <td>0</td>\n",
       "      <td>0.000000</td>\n",
       "      <td>0</td>\n",
       "      <td>0.000000</td>\n",
       "    </tr>\n",
       "    <tr>\n",
       "      <th>23</th>\n",
       "      <td>140#419</td>\n",
       "      <td>1.0</td>\n",
       "      <td>LUDUS ROOMS</td>\n",
       "      <td>Ludus Rooms</td>\n",
       "      <td>Rione Monti</td>\n",
       "      <td>Colosseo e Foro Romano</td>\n",
       "      <td>roma</td>\n",
       "      <td>roma</td>\n",
       "      <td>414</td>\n",
       "      <td>412</td>\n",
       "      <td>...</td>\n",
       "      <td>2.0</td>\n",
       "      <td>01-08-25</td>\n",
       "      <td>02-08-25</td>\n",
       "      <td>2</td>\n",
       "      <td>0.485437</td>\n",
       "      <td>more convenient on agoda</td>\n",
       "      <td>2</td>\n",
       "      <td>0.483092</td>\n",
       "      <td>-2</td>\n",
       "      <td>-0.483092</td>\n",
       "    </tr>\n",
       "    <tr>\n",
       "      <th>43</th>\n",
       "      <td>222#155</td>\n",
       "      <td>1.0</td>\n",
       "      <td>Hotel Villa Glori</td>\n",
       "      <td>Hotel Villa Glori</td>\n",
       "      <td>Villa Borghese/Parioli</td>\n",
       "      <td>Flaminio e Parioli</td>\n",
       "      <td>roma</td>\n",
       "      <td>roma</td>\n",
       "      <td>802</td>\n",
       "      <td>752</td>\n",
       "      <td>...</td>\n",
       "      <td>2.0</td>\n",
       "      <td>01-08-25</td>\n",
       "      <td>02-08-25</td>\n",
       "      <td>50</td>\n",
       "      <td>6.648936</td>\n",
       "      <td>more convenient on agoda</td>\n",
       "      <td>50</td>\n",
       "      <td>6.234414</td>\n",
       "      <td>-50</td>\n",
       "      <td>-6.234414</td>\n",
       "    </tr>\n",
       "    <tr>\n",
       "      <th>44</th>\n",
       "      <td>227#415</td>\n",
       "      <td>1.0</td>\n",
       "      <td>Hotel Viminale</td>\n",
       "      <td>Viminale Hotel</td>\n",
       "      <td>Rione Monti</td>\n",
       "      <td>Monti</td>\n",
       "      <td>roma</td>\n",
       "      <td>roma</td>\n",
       "      <td>386</td>\n",
       "      <td>367</td>\n",
       "      <td>...</td>\n",
       "      <td>2.0</td>\n",
       "      <td>01-08-25</td>\n",
       "      <td>02-08-25</td>\n",
       "      <td>19</td>\n",
       "      <td>5.177112</td>\n",
       "      <td>more convenient on agoda</td>\n",
       "      <td>19</td>\n",
       "      <td>4.922280</td>\n",
       "      <td>-19</td>\n",
       "      <td>-4.922280</td>\n",
       "    </tr>\n",
       "    <tr>\n",
       "      <th>66</th>\n",
       "      <td>301#521</td>\n",
       "      <td>1.0</td>\n",
       "      <td>Atlante Star Hotel</td>\n",
       "      <td>Atlante Star Hotel</td>\n",
       "      <td>Vaticano Prati</td>\n",
       "      <td>Città del Vaticano</td>\n",
       "      <td>roma</td>\n",
       "      <td>roma</td>\n",
       "      <td>410</td>\n",
       "      <td>345</td>\n",
       "      <td>...</td>\n",
       "      <td>2.0</td>\n",
       "      <td>01-08-25</td>\n",
       "      <td>02-08-25</td>\n",
       "      <td>65</td>\n",
       "      <td>18.840580</td>\n",
       "      <td>more convenient on agoda</td>\n",
       "      <td>65</td>\n",
       "      <td>15.853659</td>\n",
       "      <td>-65</td>\n",
       "      <td>-15.853659</td>\n",
       "    </tr>\n",
       "    <tr>\n",
       "      <th>82</th>\n",
       "      <td>363#523</td>\n",
       "      <td>1.0</td>\n",
       "      <td>Hotel Locarno</td>\n",
       "      <td>Hotel Locarno</td>\n",
       "      <td>Spagna</td>\n",
       "      <td>Piazza di Spagna</td>\n",
       "      <td>roma</td>\n",
       "      <td>roma</td>\n",
       "      <td>599</td>\n",
       "      <td>500</td>\n",
       "      <td>...</td>\n",
       "      <td>2.0</td>\n",
       "      <td>01-08-25</td>\n",
       "      <td>02-08-25</td>\n",
       "      <td>99</td>\n",
       "      <td>19.800000</td>\n",
       "      <td>more convenient on agoda</td>\n",
       "      <td>99</td>\n",
       "      <td>16.527546</td>\n",
       "      <td>-99</td>\n",
       "      <td>-16.527546</td>\n",
       "    </tr>\n",
       "    <tr>\n",
       "      <th>89</th>\n",
       "      <td>381#416</td>\n",
       "      <td>1.0</td>\n",
       "      <td>Residenza Paolo VI</td>\n",
       "      <td>Residenza Paolo VI</td>\n",
       "      <td>Vaticano Prati</td>\n",
       "      <td>Città del Vaticano</td>\n",
       "      <td>roma</td>\n",
       "      <td>roma</td>\n",
       "      <td>502</td>\n",
       "      <td>427</td>\n",
       "      <td>...</td>\n",
       "      <td>2.0</td>\n",
       "      <td>01-08-25</td>\n",
       "      <td>02-08-25</td>\n",
       "      <td>75</td>\n",
       "      <td>17.564403</td>\n",
       "      <td>more convenient on agoda</td>\n",
       "      <td>75</td>\n",
       "      <td>14.940239</td>\n",
       "      <td>-75</td>\n",
       "      <td>-14.940239</td>\n",
       "    </tr>\n",
       "    <tr>\n",
       "      <th>117</th>\n",
       "      <td>481#275</td>\n",
       "      <td>1.0</td>\n",
       "      <td>Hotel Barberini</td>\n",
       "      <td>Hotel Barberini</td>\n",
       "      <td>Trevi</td>\n",
       "      <td>Fontana di Trevi</td>\n",
       "      <td>roma</td>\n",
       "      <td>roma</td>\n",
       "      <td>364</td>\n",
       "      <td>359</td>\n",
       "      <td>...</td>\n",
       "      <td>2.0</td>\n",
       "      <td>01-08-25</td>\n",
       "      <td>02-08-25</td>\n",
       "      <td>5</td>\n",
       "      <td>1.392758</td>\n",
       "      <td>more convenient on agoda</td>\n",
       "      <td>5</td>\n",
       "      <td>1.373626</td>\n",
       "      <td>-5</td>\n",
       "      <td>-1.373626</td>\n",
       "    </tr>\n",
       "    <tr>\n",
       "      <th>121</th>\n",
       "      <td>492#132</td>\n",
       "      <td>1.0</td>\n",
       "      <td>Domus 21 Luxury Suites</td>\n",
       "      <td>Domus 21 Luxury Suites</td>\n",
       "      <td>Pantheon</td>\n",
       "      <td>Pantheon</td>\n",
       "      <td>roma</td>\n",
       "      <td>roma</td>\n",
       "      <td>421</td>\n",
       "      <td>338</td>\n",
       "      <td>...</td>\n",
       "      <td>2.0</td>\n",
       "      <td>01-08-25</td>\n",
       "      <td>02-08-25</td>\n",
       "      <td>83</td>\n",
       "      <td>24.556213</td>\n",
       "      <td>more convenient on agoda</td>\n",
       "      <td>83</td>\n",
       "      <td>19.714964</td>\n",
       "      <td>-83</td>\n",
       "      <td>-19.714964</td>\n",
       "    </tr>\n",
       "    <tr>\n",
       "      <th>135</th>\n",
       "      <td>540#421</td>\n",
       "      <td>1.0</td>\n",
       "      <td>Hotel Barocco</td>\n",
       "      <td>Hotel Barocco</td>\n",
       "      <td>Via Veneto</td>\n",
       "      <td>Via Veneto</td>\n",
       "      <td>roma</td>\n",
       "      <td>roma</td>\n",
       "      <td>349</td>\n",
       "      <td>349</td>\n",
       "      <td>...</td>\n",
       "      <td>2.0</td>\n",
       "      <td>01-08-25</td>\n",
       "      <td>02-08-25</td>\n",
       "      <td>0</td>\n",
       "      <td>0.000000</td>\n",
       "      <td>same price</td>\n",
       "      <td>0</td>\n",
       "      <td>0.000000</td>\n",
       "      <td>0</td>\n",
       "      <td>0.000000</td>\n",
       "    </tr>\n",
       "    <tr>\n",
       "      <th>190</th>\n",
       "      <td>707#3</td>\n",
       "      <td>1.0</td>\n",
       "      <td>Rome Cavalieri, A Waldorf Astoria Hotel</td>\n",
       "      <td>Rome Cavalieri A Waldorf Astoria Hotel</td>\n",
       "      <td>Trionfale</td>\n",
       "      <td>Trionfale</td>\n",
       "      <td>roma</td>\n",
       "      <td>roma</td>\n",
       "      <td>1620</td>\n",
       "      <td>1620</td>\n",
       "      <td>...</td>\n",
       "      <td>2.0</td>\n",
       "      <td>01-08-25</td>\n",
       "      <td>02-08-25</td>\n",
       "      <td>0</td>\n",
       "      <td>0.000000</td>\n",
       "      <td>same price</td>\n",
       "      <td>0</td>\n",
       "      <td>0.000000</td>\n",
       "      <td>0</td>\n",
       "      <td>0.000000</td>\n",
       "    </tr>\n",
       "    <tr>\n",
       "      <th>206</th>\n",
       "      <td>769#274</td>\n",
       "      <td>1.0</td>\n",
       "      <td>Trevi Palace Luxury Inn</td>\n",
       "      <td>Trevi Palace Luxury Inn</td>\n",
       "      <td>Trevi</td>\n",
       "      <td>Fontana di Trevi</td>\n",
       "      <td>roma</td>\n",
       "      <td>roma</td>\n",
       "      <td>416</td>\n",
       "      <td>266</td>\n",
       "      <td>...</td>\n",
       "      <td>2.0</td>\n",
       "      <td>01-08-25</td>\n",
       "      <td>02-08-25</td>\n",
       "      <td>150</td>\n",
       "      <td>56.390977</td>\n",
       "      <td>more convenient on agoda</td>\n",
       "      <td>150</td>\n",
       "      <td>36.057692</td>\n",
       "      <td>-150</td>\n",
       "      <td>-36.057692</td>\n",
       "    </tr>\n",
       "    <tr>\n",
       "      <th>217</th>\n",
       "      <td>811#515</td>\n",
       "      <td>1.0</td>\n",
       "      <td>Boutique Hotel Campo de' Fiori</td>\n",
       "      <td>Boutique Hotel Campo de' Fiori</td>\n",
       "      <td>Piazza Navona</td>\n",
       "      <td>Piazza Navona</td>\n",
       "      <td>roma</td>\n",
       "      <td>roma</td>\n",
       "      <td>499</td>\n",
       "      <td>470</td>\n",
       "      <td>...</td>\n",
       "      <td>2.0</td>\n",
       "      <td>01-08-25</td>\n",
       "      <td>02-08-25</td>\n",
       "      <td>29</td>\n",
       "      <td>6.170213</td>\n",
       "      <td>more convenient on agoda</td>\n",
       "      <td>29</td>\n",
       "      <td>5.811623</td>\n",
       "      <td>-29</td>\n",
       "      <td>-5.811623</td>\n",
       "    </tr>\n",
       "    <tr>\n",
       "      <th>27</th>\n",
       "      <td>152#243</td>\n",
       "      <td>1.0</td>\n",
       "      <td>Grand Hotel Plaza</td>\n",
       "      <td>Grand Hotel Plaza</td>\n",
       "      <td>Spagna</td>\n",
       "      <td>Piazza di Spagna</td>\n",
       "      <td>roma</td>\n",
       "      <td>roma</td>\n",
       "      <td>376</td>\n",
       "      <td>345</td>\n",
       "      <td>...</td>\n",
       "      <td>2.0</td>\n",
       "      <td>01-08-25</td>\n",
       "      <td>02-08-25</td>\n",
       "      <td>31</td>\n",
       "      <td>8.985507</td>\n",
       "      <td>more convenient on agoda</td>\n",
       "      <td>31</td>\n",
       "      <td>8.244681</td>\n",
       "      <td>-31</td>\n",
       "      <td>-8.244681</td>\n",
       "    </tr>\n",
       "    <tr>\n",
       "      <th>6</th>\n",
       "      <td>33#530</td>\n",
       "      <td>1.0</td>\n",
       "      <td>Room Mate Collection Filippo, Rome-Fontana di ...</td>\n",
       "      <td>Room Mate Collection Filippo, Rome-Fontana di ...</td>\n",
       "      <td>Via Veneto</td>\n",
       "      <td>Via Veneto</td>\n",
       "      <td>roma</td>\n",
       "      <td>roma</td>\n",
       "      <td>384</td>\n",
       "      <td>358</td>\n",
       "      <td>...</td>\n",
       "      <td>2.0</td>\n",
       "      <td>01-08-25</td>\n",
       "      <td>02-08-25</td>\n",
       "      <td>26</td>\n",
       "      <td>7.262570</td>\n",
       "      <td>more convenient on agoda</td>\n",
       "      <td>26</td>\n",
       "      <td>6.770833</td>\n",
       "      <td>-26</td>\n",
       "      <td>-6.770833</td>\n",
       "    </tr>\n",
       "  </tbody>\n",
       "</table>\n",
       "<p>15 rows × 31 columns</p>\n",
       "</div>"
      ],
      "text/plain": [
       "        pair  name_similarity  \\\n",
       "3     27#487              1.0   \n",
       "23   140#419              1.0   \n",
       "43   222#155              1.0   \n",
       "44   227#415              1.0   \n",
       "66   301#521              1.0   \n",
       "82   363#523              1.0   \n",
       "89   381#416              1.0   \n",
       "117  481#275              1.0   \n",
       "121  492#132              1.0   \n",
       "135  540#421              1.0   \n",
       "190    707#3              1.0   \n",
       "206  769#274              1.0   \n",
       "217  811#515              1.0   \n",
       "27   152#243              1.0   \n",
       "6     33#530              1.0   \n",
       "\n",
       "                                        titolo_booking  \\\n",
       "3                              Terrace Pantheon Relais   \n",
       "23                                         LUDUS ROOMS   \n",
       "43                                   Hotel Villa Glori   \n",
       "44                                      Hotel Viminale   \n",
       "66                                  Atlante Star Hotel   \n",
       "82                                       Hotel Locarno   \n",
       "89                                  Residenza Paolo VI   \n",
       "117                                    Hotel Barberini   \n",
       "121                             Domus 21 Luxury Suites   \n",
       "135                                      Hotel Barocco   \n",
       "190            Rome Cavalieri, A Waldorf Astoria Hotel   \n",
       "206                            Trevi Palace Luxury Inn   \n",
       "217                     Boutique Hotel Campo de' Fiori   \n",
       "27                                   Grand Hotel Plaza   \n",
       "6    Room Mate Collection Filippo, Rome-Fontana di ...   \n",
       "\n",
       "                                          titolo_agoda  \\\n",
       "3                              Terrace Pantheon Relais   \n",
       "23                                         Ludus Rooms   \n",
       "43                                   Hotel Villa Glori   \n",
       "44                                      Viminale Hotel   \n",
       "66                                  Atlante Star Hotel   \n",
       "82                                       Hotel Locarno   \n",
       "89                                  Residenza Paolo VI   \n",
       "117                                    Hotel Barberini   \n",
       "121                             Domus 21 Luxury Suites   \n",
       "135                                      Hotel Barocco   \n",
       "190             Rome Cavalieri A Waldorf Astoria Hotel   \n",
       "206                            Trevi Palace Luxury Inn   \n",
       "217                     Boutique Hotel Campo de' Fiori   \n",
       "27                                   Grand Hotel Plaza   \n",
       "6    Room Mate Collection Filippo, Rome-Fontana di ...   \n",
       "\n",
       "               zona_booking              zona_agoda città_booking città_agoda  \\\n",
       "3                  Pantheon                Pantheon          roma        roma   \n",
       "23              Rione Monti  Colosseo e Foro Romano          roma        roma   \n",
       "43   Villa Borghese/Parioli      Flaminio e Parioli          roma        roma   \n",
       "44              Rione Monti                   Monti          roma        roma   \n",
       "66           Vaticano Prati      Città del Vaticano          roma        roma   \n",
       "82                   Spagna        Piazza di Spagna          roma        roma   \n",
       "89           Vaticano Prati      Città del Vaticano          roma        roma   \n",
       "117                   Trevi        Fontana di Trevi          roma        roma   \n",
       "121                Pantheon                Pantheon          roma        roma   \n",
       "135              Via Veneto              Via Veneto          roma        roma   \n",
       "190               Trionfale               Trionfale          roma        roma   \n",
       "206                   Trevi        Fontana di Trevi          roma        roma   \n",
       "217           Piazza Navona           Piazza Navona          roma        roma   \n",
       "27                   Spagna        Piazza di Spagna          roma        roma   \n",
       "6                Via Veneto              Via Veneto          roma        roma   \n",
       "\n",
       "     prezzo_booking  prezzo_agoda  ...  numero_persone  inizio_permanenza  \\\n",
       "3               366           366  ...             2.0           01-08-25   \n",
       "23              414           412  ...             2.0           01-08-25   \n",
       "43              802           752  ...             2.0           01-08-25   \n",
       "44              386           367  ...             2.0           01-08-25   \n",
       "66              410           345  ...             2.0           01-08-25   \n",
       "82              599           500  ...             2.0           01-08-25   \n",
       "89              502           427  ...             2.0           01-08-25   \n",
       "117             364           359  ...             2.0           01-08-25   \n",
       "121             421           338  ...             2.0           01-08-25   \n",
       "135             349           349  ...             2.0           01-08-25   \n",
       "190            1620          1620  ...             2.0           01-08-25   \n",
       "206             416           266  ...             2.0           01-08-25   \n",
       "217             499           470  ...             2.0           01-08-25   \n",
       "27              376           345  ...             2.0           01-08-25   \n",
       "6               384           358  ...             2.0           01-08-25   \n",
       "\n",
       "     fine_permanenza  differenza_assoluta differenza_percentuale  \\\n",
       "3           02-08-25                    0               0.000000   \n",
       "23          02-08-25                    2               0.485437   \n",
       "43          02-08-25                   50               6.648936   \n",
       "44          02-08-25                   19               5.177112   \n",
       "66          02-08-25                   65              18.840580   \n",
       "82          02-08-25                   99              19.800000   \n",
       "89          02-08-25                   75              17.564403   \n",
       "117         02-08-25                    5               1.392758   \n",
       "121         02-08-25                   83              24.556213   \n",
       "135         02-08-25                    0               0.000000   \n",
       "190         02-08-25                    0               0.000000   \n",
       "206         02-08-25                  150              56.390977   \n",
       "217         02-08-25                   29               6.170213   \n",
       "27          02-08-25                   31               8.985507   \n",
       "6           02-08-25                   26               7.262570   \n",
       "\n",
       "                  convenienza differenza percentuale_diff  differenza_prezzo  \\\n",
       "3                  same price          0         0.000000                  0   \n",
       "23   more convenient on agoda          2         0.483092                 -2   \n",
       "43   more convenient on agoda         50         6.234414                -50   \n",
       "44   more convenient on agoda         19         4.922280                -19   \n",
       "66   more convenient on agoda         65        15.853659                -65   \n",
       "82   more convenient on agoda         99        16.527546                -99   \n",
       "89   more convenient on agoda         75        14.940239                -75   \n",
       "117  more convenient on agoda          5         1.373626                 -5   \n",
       "121  more convenient on agoda         83        19.714964                -83   \n",
       "135                same price          0         0.000000                  0   \n",
       "190                same price          0         0.000000                  0   \n",
       "206  more convenient on agoda        150        36.057692               -150   \n",
       "217  more convenient on agoda         29         5.811623                -29   \n",
       "27   more convenient on agoda         31         8.244681                -31   \n",
       "6    more convenient on agoda         26         6.770833                -26   \n",
       "\n",
       "     percentuale_differenza  \n",
       "3                  0.000000  \n",
       "23                -0.483092  \n",
       "43                -6.234414  \n",
       "44                -4.922280  \n",
       "66               -15.853659  \n",
       "82               -16.527546  \n",
       "89               -14.940239  \n",
       "117               -1.373626  \n",
       "121              -19.714964  \n",
       "135                0.000000  \n",
       "190                0.000000  \n",
       "206              -36.057692  \n",
       "217               -5.811623  \n",
       "27                -8.244681  \n",
       "6                 -6.770833  \n",
       "\n",
       "[15 rows x 31 columns]"
      ]
     },
     "metadata": {},
     "output_type": "display_data"
    }
   ],
   "source": [
    "# Trova outlier su entrambe le colonne\n",
    "outlier_agoda = trova_outlier_iqr(df['prezzo_agoda'])\n",
    "outlier_booking = trova_outlier_iqr(df['prezzo_booking'])\n",
    "\n",
    "# Tutti gli outlier (su almeno una delle due colonne)\n",
    "outliers = outlier_agoda | outlier_booking\n",
    "\n",
    "print(f\"Numero totale outlier: {outliers.sum()}\")\n",
    "\n",
    "# Mostra gli outlier\n",
    "display(df[outliers])"
   ]
  },
  {
   "cell_type": "code",
   "execution_count": 17,
   "id": "f7f0587a",
   "metadata": {},
   "outputs": [
    {
     "data": {
      "application/vnd.microsoft.datawrangler.viewer.v0+json": {
       "columns": [
        {
         "name": "città_agoda",
         "rawType": "object",
         "type": "string"
        },
        {
         "name": "prezzo_agoda",
         "rawType": "float64",
         "type": "float"
        },
        {
         "name": "prezzo_booking",
         "rawType": "float64",
         "type": "float"
        }
       ],
       "ref": "8b506d6f-75a1-4b54-9f21-7c6beb711391",
       "rows": [
        [
         "roma",
         "172.25510204081633",
         "200.43367346938774"
        ],
        [
         "terni",
         "99.046875",
         "99.328125"
        ]
       ],
       "shape": {
        "columns": 2,
        "rows": 2
       }
      },
      "text/html": [
       "<div>\n",
       "<style scoped>\n",
       "    .dataframe tbody tr th:only-of-type {\n",
       "        vertical-align: middle;\n",
       "    }\n",
       "\n",
       "    .dataframe tbody tr th {\n",
       "        vertical-align: top;\n",
       "    }\n",
       "\n",
       "    .dataframe thead th {\n",
       "        text-align: right;\n",
       "    }\n",
       "</style>\n",
       "<table border=\"1\" class=\"dataframe\">\n",
       "  <thead>\n",
       "    <tr style=\"text-align: right;\">\n",
       "      <th></th>\n",
       "      <th>prezzo_agoda</th>\n",
       "      <th>prezzo_booking</th>\n",
       "    </tr>\n",
       "    <tr>\n",
       "      <th>città_agoda</th>\n",
       "      <th></th>\n",
       "      <th></th>\n",
       "    </tr>\n",
       "  </thead>\n",
       "  <tbody>\n",
       "    <tr>\n",
       "      <th>roma</th>\n",
       "      <td>172.255102</td>\n",
       "      <td>200.433673</td>\n",
       "    </tr>\n",
       "    <tr>\n",
       "      <th>terni</th>\n",
       "      <td>99.046875</td>\n",
       "      <td>99.328125</td>\n",
       "    </tr>\n",
       "  </tbody>\n",
       "</table>\n",
       "</div>"
      ],
      "text/plain": [
       "             prezzo_agoda  prezzo_booking\n",
       "città_agoda                              \n",
       "roma           172.255102      200.433673\n",
       "terni           99.046875       99.328125"
      ]
     },
     "metadata": {},
     "output_type": "display_data"
    }
   ],
   "source": [
    "# Dataframe senza outlier\n",
    "df_senza_outlier = df[~outliers]\n",
    "\n",
    "# Calcolo prezzi medi senza outlier\n",
    "prezzi_medi_no_outlier = df_senza_outlier.groupby('città_agoda')[['prezzo_agoda', 'prezzo_booking']].mean()\n",
    "\n",
    "display(prezzi_medi_no_outlier)\n"
   ]
  }
 ],
 "metadata": {
  "kernelspec": {
   "display_name": "recordlinkage",
   "language": "python",
   "name": "python3"
  },
  "language_info": {
   "codemirror_mode": {
    "name": "ipython",
    "version": 3
   },
   "file_extension": ".py",
   "mimetype": "text/x-python",
   "name": "python",
   "nbconvert_exporter": "python",
   "pygments_lexer": "ipython3",
   "version": "3.10.18"
  }
 },
 "nbformat": 4,
 "nbformat_minor": 5
}
