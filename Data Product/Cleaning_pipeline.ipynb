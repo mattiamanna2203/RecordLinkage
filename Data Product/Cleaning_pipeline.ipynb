{
  "cells": [
    {
      "cell_type": "markdown",
      "metadata": {},
      "source": [
        "# Set Up"
      ]
    },
    {
      "cell_type": "markdown",
      "metadata": {},
      "source": [
        "## Import Packages"
      ]
    },
    {
      "cell_type": "code",
      "execution_count": 8,
      "metadata": {
        "colab": {
          "base_uri": "https://localhost:8080/"
        },
        "id": "_YJZe2bN2R9V",
        "outputId": "2ca5d035-9b43-4513-8286-d74f69736f3d"
      },
      "outputs": [],
      "source": [
        "# Lavorare con i dataframe\n",
        "import pandas as pd\n",
        "pd.set_option('display.max_columns', None) # Per visualizzare tutte le colonne di un dataset, display(df)\n",
        "#pd.set_option('display.max_rows', None) # Per visualizzare tutte le righe di un dataset, display(df)\n",
        "import numpy as np\n",
        "from recordlinkage.preprocessing import clean\n",
        "# Importare sys per indicare il path della cartella ove sono collocate le funzioni selfmade.\n",
        "import sys\n",
        "#sys.path.append('/Users/mattia/Desktop/MatchAnalysis_Imputation/Progetto/Funzioni')\n",
        "from funzioni import alfabeto, pulisci_prezzo, pulisci_recensione, pulisci_distanza_centro, trasforma_in_data # Funzioni fatte da se\n",
        "\n",
        "\n",
        "import json # Lavorare con file json\n",
        "from pathlib import Path # Per identificare il path del file 'config'\n",
        "\n",
        "# Identificare il file config.json \n",
        "start = Path.cwd()\n",
        "current = start.resolve()\n",
        "for parent in [current] + list(current.parents):\n",
        "   json_path_config_path = parent / \"config.json\"\n",
        "   if json_path_config_path.exists():\n",
        "      break \n",
        "\n",
        "with open(json_path_config_path) as f:\n",
        "   paths = json.load(f)\n",
        "\n",
        "path_data_lake = f'{paths[\"path_progetto\"]}{paths[\"path_data_lake\"]}'\n",
        "path_data_product = f'{paths[\"path_progetto\"]}{paths[\"path_data_product\"]}'"
      ]
    },
    {
      "cell_type": "markdown",
      "metadata": {
        "id": "oaZ6x0c_2R9a"
      },
      "source": [
        "## Load the Data"
      ]
    },
    {
      "cell_type": "markdown",
      "metadata": {},
      "source": [
        "Importare i dataframe contenenti informazioni su hotel e B&B riguardanti le città di Roma e Terni disponibili\n",
        "sulle piattaforme di agoda e booking.     \n",
        "Dati ottenuti tramite **web scraping**, per osservare il processo di scraping guardare al folder dedicato."
      ]
    },
    {
      "cell_type": "code",
      "execution_count": 9,
      "metadata": {},
      "outputs": [],
      "source": [
        "agoda_terni = pd.read_csv(f'{path_data_lake}/agoda_Terni.csv',index_col=0)\n",
        "booking_terni = pd.read_csv(f'{path_data_lake}/booking_Terni.csv',index_col=0)\n",
        "\n",
        "booking_roma = pd.read_csv(f'{path_data_lake}/booking_Roma.csv',index_col=0)\n",
        "agoda_roma = pd.read_csv(f'{path_data_lake}/agoda_Roma.csv',index_col=0)"
      ]
    },
    {
      "cell_type": "markdown",
      "metadata": {},
      "source": [
        "# Data overview"
      ]
    },
    {
      "cell_type": "markdown",
      "metadata": {},
      "source": [
        "Osservare i dati per:\n",
        " - Capire se c'è possibilità di feature engineering;\n",
        " - Capire inoltre se ci sono delle variabili\n",
        "che necessitano di pulizia."
      ]
    },
    {
      "cell_type": "markdown",
      "metadata": {},
      "source": [
        "## Dati riguardanti Agoda"
      ]
    },
    {
      "cell_type": "markdown",
      "metadata": {},
      "source": [
        "Visualizzazione dati:"
      ]
    },
    {
      "cell_type": "code",
      "execution_count": 10,
      "metadata": {},
      "outputs": [
        {
          "data": {
            "application/vnd.microsoft.datawrangler.viewer.v0+json": {
              "columns": [
                {
                  "name": "index",
                  "rawType": "int64",
                  "type": "integer"
                },
                {
                  "name": "titolo",
                  "rawType": "object",
                  "type": "string"
                },
                {
                  "name": "recensione_voto_numerico",
                  "rawType": "object",
                  "type": "string"
                },
                {
                  "name": "recensione_voto_parola",
                  "rawType": "object",
                  "type": "string"
                },
                {
                  "name": "numero_recensioni",
                  "rawType": "object",
                  "type": "string"
                },
                {
                  "name": "date",
                  "rawType": "object",
                  "type": "string"
                },
                {
                  "name": "permanenza",
                  "rawType": "object",
                  "type": "string"
                },
                {
                  "name": "prezzo",
                  "rawType": "object",
                  "type": "string"
                },
                {
                  "name": "indirizzo",
                  "rawType": "object",
                  "type": "string"
                },
                {
                  "name": "valutazione",
                  "rawType": "int64",
                  "type": "integer"
                }
              ],
              "ref": "76e8de49-53e4-44fc-a599-8df6200c6f0f",
              "rows": [
                [
                  "0",
                  "Raeli Hotel Lazio",
                  "7,7",
                  "Ottimo",
                  "321 recensioni",
                  "1 agosto - 2 agosto",
                  "1 notte, 2 adulti",
                  "€159",
                  "Stazione centrale Roma Termini, Roma - In pieno centro",
                  "3"
                ]
              ],
              "shape": {
                "columns": 9,
                "rows": 1
              }
            },
            "text/html": [
              "<div>\n",
              "<style scoped>\n",
              "    .dataframe tbody tr th:only-of-type {\n",
              "        vertical-align: middle;\n",
              "    }\n",
              "\n",
              "    .dataframe tbody tr th {\n",
              "        vertical-align: top;\n",
              "    }\n",
              "\n",
              "    .dataframe thead th {\n",
              "        text-align: right;\n",
              "    }\n",
              "</style>\n",
              "<table border=\"1\" class=\"dataframe\">\n",
              "  <thead>\n",
              "    <tr style=\"text-align: right;\">\n",
              "      <th></th>\n",
              "      <th>titolo</th>\n",
              "      <th>recensione_voto_numerico</th>\n",
              "      <th>recensione_voto_parola</th>\n",
              "      <th>numero_recensioni</th>\n",
              "      <th>date</th>\n",
              "      <th>permanenza</th>\n",
              "      <th>prezzo</th>\n",
              "      <th>indirizzo</th>\n",
              "      <th>valutazione</th>\n",
              "    </tr>\n",
              "  </thead>\n",
              "  <tbody>\n",
              "    <tr>\n",
              "      <th>0</th>\n",
              "      <td>Raeli Hotel Lazio</td>\n",
              "      <td>7,7</td>\n",
              "      <td>Ottimo</td>\n",
              "      <td>321 recensioni</td>\n",
              "      <td>1 agosto - 2 agosto</td>\n",
              "      <td>1 notte, 2 adulti</td>\n",
              "      <td>€159</td>\n",
              "      <td>Stazione centrale Roma Termini, Roma - In pien...</td>\n",
              "      <td>3</td>\n",
              "    </tr>\n",
              "  </tbody>\n",
              "</table>\n",
              "</div>"
            ],
            "text/plain": [
              "              titolo recensione_voto_numerico recensione_voto_parola  \\\n",
              "0  Raeli Hotel Lazio                      7,7                 Ottimo   \n",
              "\n",
              "  numero_recensioni                 date         permanenza prezzo  \\\n",
              "0    321 recensioni  1 agosto - 2 agosto  1 notte, 2 adulti   €159   \n",
              "\n",
              "                                           indirizzo  valutazione  \n",
              "0  Stazione centrale Roma Termini, Roma - In pien...            3  "
            ]
          },
          "metadata": {},
          "output_type": "display_data"
        },
        {
          "data": {
            "application/vnd.microsoft.datawrangler.viewer.v0+json": {
              "columns": [
                {
                  "name": "index",
                  "rawType": "int64",
                  "type": "integer"
                },
                {
                  "name": "titolo",
                  "rawType": "object",
                  "type": "string"
                },
                {
                  "name": "recensione_voto_numerico",
                  "rawType": "object",
                  "type": "string"
                },
                {
                  "name": "recensione_voto_parola",
                  "rawType": "object",
                  "type": "string"
                },
                {
                  "name": "numero_recensioni",
                  "rawType": "object",
                  "type": "string"
                },
                {
                  "name": "date",
                  "rawType": "object",
                  "type": "string"
                },
                {
                  "name": "permanenza",
                  "rawType": "object",
                  "type": "string"
                },
                {
                  "name": "prezzo",
                  "rawType": "object",
                  "type": "string"
                },
                {
                  "name": "indirizzo",
                  "rawType": "object",
                  "type": "string"
                },
                {
                  "name": "valutazione",
                  "rawType": "float64",
                  "type": "float"
                }
              ],
              "ref": "fa9125d6-e650-469e-9d81-a6a822e445c6",
              "rows": [
                [
                  "0",
                  "Hotel Valentino",
                  "9,0",
                  "Eccezionale",
                  "2 recensioni",
                  "1 agosto - 2 agosto",
                  "1 notte, 2 adulti",
                  "258 €",
                  "Terni, Terni ",
                  "4.0"
                ]
              ],
              "shape": {
                "columns": 9,
                "rows": 1
              }
            },
            "text/html": [
              "<div>\n",
              "<style scoped>\n",
              "    .dataframe tbody tr th:only-of-type {\n",
              "        vertical-align: middle;\n",
              "    }\n",
              "\n",
              "    .dataframe tbody tr th {\n",
              "        vertical-align: top;\n",
              "    }\n",
              "\n",
              "    .dataframe thead th {\n",
              "        text-align: right;\n",
              "    }\n",
              "</style>\n",
              "<table border=\"1\" class=\"dataframe\">\n",
              "  <thead>\n",
              "    <tr style=\"text-align: right;\">\n",
              "      <th></th>\n",
              "      <th>titolo</th>\n",
              "      <th>recensione_voto_numerico</th>\n",
              "      <th>recensione_voto_parola</th>\n",
              "      <th>numero_recensioni</th>\n",
              "      <th>date</th>\n",
              "      <th>permanenza</th>\n",
              "      <th>prezzo</th>\n",
              "      <th>indirizzo</th>\n",
              "      <th>valutazione</th>\n",
              "    </tr>\n",
              "  </thead>\n",
              "  <tbody>\n",
              "    <tr>\n",
              "      <th>0</th>\n",
              "      <td>Hotel Valentino</td>\n",
              "      <td>9,0</td>\n",
              "      <td>Eccezionale</td>\n",
              "      <td>2 recensioni</td>\n",
              "      <td>1 agosto - 2 agosto</td>\n",
              "      <td>1 notte, 2 adulti</td>\n",
              "      <td>258 €</td>\n",
              "      <td>Terni, Terni</td>\n",
              "      <td>4.0</td>\n",
              "    </tr>\n",
              "  </tbody>\n",
              "</table>\n",
              "</div>"
            ],
            "text/plain": [
              "            titolo recensione_voto_numerico recensione_voto_parola  \\\n",
              "0  Hotel Valentino                      9,0            Eccezionale   \n",
              "\n",
              "  numero_recensioni                 date         permanenza prezzo  \\\n",
              "0      2 recensioni  1 agosto - 2 agosto  1 notte, 2 adulti  258 €   \n",
              "\n",
              "       indirizzo  valutazione  \n",
              "0  Terni, Terni           4.0  "
            ]
          },
          "metadata": {},
          "output_type": "display_data"
        }
      ],
      "source": [
        "display(agoda_roma.head(1))\n",
        "display(agoda_terni.head(1))"
      ]
    },
    {
      "cell_type": "markdown",
      "metadata": {},
      "source": [
        "Controllare che le variabili tra sul sito di **agoda** riguardo a Roma e Terni siano le stesse."
      ]
    },
    {
      "cell_type": "code",
      "execution_count": 11,
      "metadata": {},
      "outputs": [
        {
          "data": {
            "text/plain": [
              "True"
            ]
          },
          "execution_count": 11,
          "metadata": {},
          "output_type": "execute_result"
        }
      ],
      "source": [
        "agoda_terni.columns.equals(agoda_roma.columns)"
      ]
    },
    {
      "cell_type": "markdown",
      "metadata": {},
      "source": [
        "Le variabili tra agoda Roma e agoda Terni sono le stesse e sono:\n",
        "   1. **Titolo** -> Nome della struttura;\n",
        "\n",
        "   2. **Recensione voto numerico** -> Recensione con voto numerico;\n",
        "\n",
        "   3. **Recensione voto parola** -> Recensione con voto a parola;\n",
        "\n",
        "   4. **Numero recensioni** -> Numero di recensioni fatte alla struttura;\n",
        "\n",
        "   5. **Date** -> Data di permanenza nella struttura;\n",
        "\n",
        "   6. **Permanenza** -> Informazioni sulla permanenza, numero di notti e numero di persone (adulti o bambini);\n",
        "\n",
        "   7. **Prezzo** -> Costo della permanenza;\n",
        "\n",
        "   8. **Indirizzo** -> Indirizzo della struttura formato (città, provincia);\n",
        "\n",
        "   9. **Valutazione** -> Le stelle di un hotel o la valutazione assegnata al B&B."
      ]
    },
    {
      "cell_type": "markdown",
      "metadata": {},
      "source": [
        "Sul dataset di agoda si può fare del feature engineering:\n",
        "\n",
        "   - Creare variabile NUMERO NOTTI dalla variabile **permanenza**, deve essere un numero;\n",
        "\n",
        "   - Creare variabile NUMERO PERSONE (adulte) e NUMERO PERSONE (bambini) dalla variabile **permanenza**;\n",
        "\n",
        "   - Creare variabile DATA CHECK IN da **date**;\n",
        "\n",
        "   - Creare variabile DATA CHECK OUT da **date**.\n",
        "\n",
        "\n",
        "\n",
        "Per quanto riguarda la variabile **indirizzo**:\n",
        "   - Nel dataframe **ROMA** ha il formato (zona, città - distanza centro)  es. Stazione centrale Roma Termini, Roma - In pieno centro;\n",
        "\n",
        "   - Nel dataframe **TERNI** ha il formato (zona, città)  es. Terni, Terni;\n",
        "\n",
        "\n",
        "Perciò per quanto riguarda Roma può anche essere creata la variabile **distanza dal centro**, oltre a **zona** e **città**.      \n",
        "Invece riguarda Terni può essere creata la variabile **zona** e **città**.                  "
      ]
    },
    {
      "cell_type": "markdown",
      "metadata": {},
      "source": [
        "Inoltre per effettuare le dovute analisi bisogna:\n",
        "   - Ricodificare la variabile **prezzo** rimuovendo il simbolo dell'euro (accertarsi che i prezzi siano tutti in euro);\n",
        "\n",
        "   - Sempre riguardo alla variabile **prezzo** eliminare il punto come separatore delle migliaia;\n",
        "\n",
        "   - **numero recensioni** qualora comparisse \"Novità su Agoda\" inserire 0 (zero).\n",
        "\n",
        "   - **numero recensioni** estrarre solo il numero di recensioni eliminado la stringa **recensioni** contenuta.\n",
        "\n",
        "   - La variabile **distanza centro** andrà pulita e resa un numero (float)."
      ]
    },
    {
      "cell_type": "markdown",
      "metadata": {},
      "source": [
        "## Dati riguardanti booking"
      ]
    },
    {
      "cell_type": "markdown",
      "metadata": {},
      "source": [
        "Visualizzazione dati:"
      ]
    },
    {
      "cell_type": "code",
      "execution_count": 12,
      "metadata": {},
      "outputs": [
        {
          "data": {
            "application/vnd.microsoft.datawrangler.viewer.v0+json": {
              "columns": [
                {
                  "name": "index",
                  "rawType": "int64",
                  "type": "integer"
                },
                {
                  "name": "titolo",
                  "rawType": "object",
                  "type": "string"
                },
                {
                  "name": "recensione_voto_numerico",
                  "rawType": "object",
                  "type": "string"
                },
                {
                  "name": "recensione_voto_parola",
                  "rawType": "object",
                  "type": "string"
                },
                {
                  "name": "numero_recensioni",
                  "rawType": "object",
                  "type": "string"
                },
                {
                  "name": "date",
                  "rawType": "object",
                  "type": "string"
                },
                {
                  "name": "permanenza",
                  "rawType": "object",
                  "type": "string"
                },
                {
                  "name": "prezzo",
                  "rawType": "object",
                  "type": "string"
                },
                {
                  "name": "distanza_centro",
                  "rawType": "object",
                  "type": "string"
                },
                {
                  "name": "indirizzo",
                  "rawType": "object",
                  "type": "string"
                },
                {
                  "name": "stelle",
                  "rawType": "float64",
                  "type": "float"
                },
                {
                  "name": "valutazione_booking",
                  "rawType": "float64",
                  "type": "float"
                },
                {
                  "name": "descrizione_camera",
                  "rawType": "object",
                  "type": "string"
                },
                {
                  "name": "configurazione_camera",
                  "rawType": "object",
                  "type": "string"
                },
                {
                  "name": "descrizione_unprocessed",
                  "rawType": "object",
                  "type": "string"
                }
              ],
              "ref": "5a07f34c-3acf-4f0d-aef3-ff7c4ba8bc0a",
              "rows": [
                [
                  "0",
                  "The Sereno-3",
                  "8,1",
                  "Ottimo ",
                  "10 recensioni",
                  "1 agosto - 2 agosto",
                  "1 notte, 2 adulti",
                  "€ 242",
                  "3,5 km dal centro",
                  "Trionfale, Roma",
                  null,
                  "4.0",
                  "Appartamento con 2 Camere da Letto e Vista Città",
                  "Intero appartamento • 2 camere da letto • 1 bagno • 1 cucina • 88 m²",
                  "Appartamento con 2 Camere da Letto e Vista CittàIntero appartamento • 2 camere da letto • 1 bagno • 1 cucina • 88 m²3 letti (2 matrimoniali grandi, 1 divano letto)"
                ]
              ],
              "shape": {
                "columns": 14,
                "rows": 1
              }
            },
            "text/html": [
              "<div>\n",
              "<style scoped>\n",
              "    .dataframe tbody tr th:only-of-type {\n",
              "        vertical-align: middle;\n",
              "    }\n",
              "\n",
              "    .dataframe tbody tr th {\n",
              "        vertical-align: top;\n",
              "    }\n",
              "\n",
              "    .dataframe thead th {\n",
              "        text-align: right;\n",
              "    }\n",
              "</style>\n",
              "<table border=\"1\" class=\"dataframe\">\n",
              "  <thead>\n",
              "    <tr style=\"text-align: right;\">\n",
              "      <th></th>\n",
              "      <th>titolo</th>\n",
              "      <th>recensione_voto_numerico</th>\n",
              "      <th>recensione_voto_parola</th>\n",
              "      <th>numero_recensioni</th>\n",
              "      <th>date</th>\n",
              "      <th>permanenza</th>\n",
              "      <th>prezzo</th>\n",
              "      <th>distanza_centro</th>\n",
              "      <th>indirizzo</th>\n",
              "      <th>stelle</th>\n",
              "      <th>valutazione_booking</th>\n",
              "      <th>descrizione_camera</th>\n",
              "      <th>configurazione_camera</th>\n",
              "      <th>descrizione_unprocessed</th>\n",
              "    </tr>\n",
              "  </thead>\n",
              "  <tbody>\n",
              "    <tr>\n",
              "      <th>0</th>\n",
              "      <td>The Sereno-3</td>\n",
              "      <td>8,1</td>\n",
              "      <td>Ottimo</td>\n",
              "      <td>10 recensioni</td>\n",
              "      <td>1 agosto - 2 agosto</td>\n",
              "      <td>1 notte, 2 adulti</td>\n",
              "      <td>€ 242</td>\n",
              "      <td>3,5 km dal centro</td>\n",
              "      <td>Trionfale, Roma</td>\n",
              "      <td>NaN</td>\n",
              "      <td>4.0</td>\n",
              "      <td>Appartamento con 2 Camere da Letto e Vista Città</td>\n",
              "      <td>Intero appartamento • 2 camere da letto • 1 ba...</td>\n",
              "      <td>Appartamento con 2 Camere da Letto e Vista Cit...</td>\n",
              "    </tr>\n",
              "  </tbody>\n",
              "</table>\n",
              "</div>"
            ],
            "text/plain": [
              "         titolo recensione_voto_numerico recensione_voto_parola  \\\n",
              "0  The Sereno-3                      8,1                Ottimo    \n",
              "\n",
              "  numero_recensioni                 date         permanenza prezzo  \\\n",
              "0     10 recensioni  1 agosto - 2 agosto  1 notte, 2 adulti  € 242   \n",
              "\n",
              "     distanza_centro        indirizzo  stelle  valutazione_booking  \\\n",
              "0  3,5 km dal centro  Trionfale, Roma     NaN                  4.0   \n",
              "\n",
              "                                 descrizione_camera  \\\n",
              "0  Appartamento con 2 Camere da Letto e Vista Città   \n",
              "\n",
              "                               configurazione_camera  \\\n",
              "0  Intero appartamento • 2 camere da letto • 1 ba...   \n",
              "\n",
              "                             descrizione_unprocessed  \n",
              "0  Appartamento con 2 Camere da Letto e Vista Cit...  "
            ]
          },
          "metadata": {},
          "output_type": "display_data"
        },
        {
          "data": {
            "application/vnd.microsoft.datawrangler.viewer.v0+json": {
              "columns": [
                {
                  "name": "index",
                  "rawType": "int64",
                  "type": "integer"
                },
                {
                  "name": "titolo",
                  "rawType": "object",
                  "type": "string"
                },
                {
                  "name": "recensione_voto_numerico",
                  "rawType": "object",
                  "type": "string"
                },
                {
                  "name": "recensione_voto_parola",
                  "rawType": "object",
                  "type": "string"
                },
                {
                  "name": "numero_recensioni",
                  "rawType": "object",
                  "type": "string"
                },
                {
                  "name": "date",
                  "rawType": "object",
                  "type": "string"
                },
                {
                  "name": "permanenza",
                  "rawType": "object",
                  "type": "string"
                },
                {
                  "name": "prezzo",
                  "rawType": "object",
                  "type": "string"
                },
                {
                  "name": "distanza_centro",
                  "rawType": "object",
                  "type": "string"
                },
                {
                  "name": "indirizzo",
                  "rawType": "object",
                  "type": "string"
                },
                {
                  "name": "stelle",
                  "rawType": "float64",
                  "type": "float"
                },
                {
                  "name": "valutazione_booking",
                  "rawType": "float64",
                  "type": "float"
                },
                {
                  "name": "descrizione_camera",
                  "rawType": "object",
                  "type": "string"
                },
                {
                  "name": "configurazione_camera",
                  "rawType": "object",
                  "type": "string"
                },
                {
                  "name": "descrizione_unprocessed",
                  "rawType": "object",
                  "type": "string"
                }
              ],
              "ref": "e2f72a2a-d34e-4a40-a38c-dc87c3ca1398",
              "rows": [
                [
                  "0",
                  "Hotel De Paris",
                  "7,2",
                  "Buono ",
                  "869 recensioni",
                  "1 agosto - 2 agosto",
                  "1 notte, 2 adulti",
                  "€ 69",
                  "0,9 km dal centro",
                  "Terni",
                  "3.0",
                  null,
                  "Camera Doppia con Letti Singoli",
                  "Configurazione camera non disponibile",
                  "Camera Doppia con Letti Singoli2 letti singoliColazione inclusaRestano solo 6 camere a questo prezzo sul nostro sito"
                ]
              ],
              "shape": {
                "columns": 14,
                "rows": 1
              }
            },
            "text/html": [
              "<div>\n",
              "<style scoped>\n",
              "    .dataframe tbody tr th:only-of-type {\n",
              "        vertical-align: middle;\n",
              "    }\n",
              "\n",
              "    .dataframe tbody tr th {\n",
              "        vertical-align: top;\n",
              "    }\n",
              "\n",
              "    .dataframe thead th {\n",
              "        text-align: right;\n",
              "    }\n",
              "</style>\n",
              "<table border=\"1\" class=\"dataframe\">\n",
              "  <thead>\n",
              "    <tr style=\"text-align: right;\">\n",
              "      <th></th>\n",
              "      <th>titolo</th>\n",
              "      <th>recensione_voto_numerico</th>\n",
              "      <th>recensione_voto_parola</th>\n",
              "      <th>numero_recensioni</th>\n",
              "      <th>date</th>\n",
              "      <th>permanenza</th>\n",
              "      <th>prezzo</th>\n",
              "      <th>distanza_centro</th>\n",
              "      <th>indirizzo</th>\n",
              "      <th>stelle</th>\n",
              "      <th>valutazione_booking</th>\n",
              "      <th>descrizione_camera</th>\n",
              "      <th>configurazione_camera</th>\n",
              "      <th>descrizione_unprocessed</th>\n",
              "    </tr>\n",
              "  </thead>\n",
              "  <tbody>\n",
              "    <tr>\n",
              "      <th>0</th>\n",
              "      <td>Hotel De Paris</td>\n",
              "      <td>7,2</td>\n",
              "      <td>Buono</td>\n",
              "      <td>869 recensioni</td>\n",
              "      <td>1 agosto - 2 agosto</td>\n",
              "      <td>1 notte, 2 adulti</td>\n",
              "      <td>€ 69</td>\n",
              "      <td>0,9 km dal centro</td>\n",
              "      <td>Terni</td>\n",
              "      <td>3.0</td>\n",
              "      <td>NaN</td>\n",
              "      <td>Camera Doppia con Letti Singoli</td>\n",
              "      <td>Configurazione camera non disponibile</td>\n",
              "      <td>Camera Doppia con Letti Singoli2 letti singoli...</td>\n",
              "    </tr>\n",
              "  </tbody>\n",
              "</table>\n",
              "</div>"
            ],
            "text/plain": [
              "           titolo recensione_voto_numerico recensione_voto_parola  \\\n",
              "0  Hotel De Paris                      7,2                 Buono    \n",
              "\n",
              "  numero_recensioni                 date         permanenza prezzo  \\\n",
              "0    869 recensioni  1 agosto - 2 agosto  1 notte, 2 adulti   € 69   \n",
              "\n",
              "     distanza_centro indirizzo  stelle  valutazione_booking  \\\n",
              "0  0,9 km dal centro     Terni     3.0                  NaN   \n",
              "\n",
              "                descrizione_camera                  configurazione_camera  \\\n",
              "0  Camera Doppia con Letti Singoli  Configurazione camera non disponibile   \n",
              "\n",
              "                             descrizione_unprocessed  \n",
              "0  Camera Doppia con Letti Singoli2 letti singoli...  "
            ]
          },
          "metadata": {},
          "output_type": "display_data"
        }
      ],
      "source": [
        "display(booking_roma.head(1))\n",
        "display(booking_terni.head(1))"
      ]
    },
    {
      "cell_type": "markdown",
      "metadata": {},
      "source": [
        "Controllare che le variabili tra sul sito di **booking** riguardo a Roma e Terni siano le stesse."
      ]
    },
    {
      "cell_type": "code",
      "execution_count": 13,
      "metadata": {},
      "outputs": [
        {
          "data": {
            "text/plain": [
              "True"
            ]
          },
          "execution_count": 13,
          "metadata": {},
          "output_type": "execute_result"
        }
      ],
      "source": [
        "booking_terni.columns.equals(booking_roma.columns)"
      ]
    },
    {
      "cell_type": "markdown",
      "metadata": {},
      "source": [
        "Le variabili tra agoda Roma e agoda Terni sono le stesse e sono:\n",
        "   1. **Titolo** -> Nome della struttura;\n",
        "\n",
        "   2. **Recensione voto numerico** -> Recensione con voto numerico;\n",
        "\n",
        "   3. **Recensione voto parola** -> Recensione con voto a parola;\n",
        "\n",
        "   4. **Numero recensioni** -> Numero di recensioni fatte alla struttura;\n",
        "\n",
        "   5. **Date** -> Data di permanenza nella struttura;\n",
        "\n",
        "   6. **Permanenza** -> Informazioni sulla permanenza, numero di notti e numero di personev(adulti o bambini);\n",
        "\n",
        "   7. **Prezzo** -> Costo della permanenza;\n",
        "\n",
        "   8. **Distanza centro** -> Distanza dal centro della città di riferimento; \n",
        "\n",
        "   9. **Indirizzo** -> Indirizzo della struttura formato (città, provincia);\n",
        "\n",
        "   10. **Stelle** -> Stelle se la struttura è un hotel (NAN se non è hotel);\n",
        "\n",
        "   11. **Valutazione booking** -> Valutazione assegnata al B&B (NAN se non è B&B);\n",
        "\n",
        "   12. **Descrizione camera** -> Descrizione della camera, quante camere se c'è vista ecc...;\n",
        "\n",
        "   13. **Configurazione camera** -> Se c'è il bagno, numero di letti ecc...;\n",
        "\n",
        "   14. **Descrizione unprocessed** -> Descrizione camera + Configurazione camera."
      ]
    },
    {
      "cell_type": "markdown",
      "metadata": {},
      "source": [
        "Sul dataset di booking si può fare del feature engineering:\n",
        "   - Creare variabile NUMERO NOTTI dalla variabile **permanenza**, deve essere un numero;\n",
        "\n",
        "   - Creare variabile NUMERO PERSONE (adulte) e NUMERO PERSONE (bambini) dalla variabile **permanenza**;\n",
        "\n",
        "   - Creare variabile DATA CHECK IN da **date**;\n",
        "\n",
        "   - Creare variabile DATA CHECK OUT da **date**.\n",
        "\n",
        "Per quanto riguarda la variabile **indirizzo**:\n",
        "   - Nel dataframe **ROMA** ha il formato (zona, città)  es. Trionfale, Roma;\n",
        "\n",
        "   - Nel dataframe **TERNI** ha il formato (città)  es. Terni;\n",
        "\n",
        "\n",
        "Perciò per quanto riguarda Roma può anche essere creata la variabile **distanza dal centro**, oltre a **zona** e **città**.      \n",
        "Invece riguarda Terni può essere creata la variabile **zona** e **città**.   "
      ]
    },
    {
      "cell_type": "markdown",
      "metadata": {},
      "source": [
        "Inoltre per effettuare le dovute analisi bisogna:\n",
        "   - Ricodificare la variabile **prezzo** rimuovendo il simbolo dell'euro (accertarsi che i prezzi siano tutti in euro);\n",
        "\n",
        "   - Sempre riguardo alla variabile **prezzo** eliminare il punto come separatore delle migliaia;\n",
        "\n",
        "   - **numero recensioni** qualora comparisse \"Novità su booking\" inserire 0 (zero).\n",
        "\n",
        "   - **numero recensioni** estrarre solo il numero di recensioni eliminado la stringa **recensioni** contenuta.\n",
        "\n",
        "   - La variabile **distanza centro** andrà pulita e resa un numero (float)."
      ]
    },
    {
      "cell_type": "markdown",
      "metadata": {},
      "source": [
        "# Feature engineering"
      ]
    },
    {
      "cell_type": "markdown",
      "metadata": {},
      "source": [
        "Creazione di nuove variabili partendo da quelle che si ha per estrarre informazioni aggiuntive."
      ]
    },
    {
      "cell_type": "markdown",
      "metadata": {},
      "source": [
        "## Feature engineering applicato ad Agoda"
      ]
    },
    {
      "cell_type": "markdown",
      "metadata": {},
      "source": [
        "Queste trasformazioni saranno le stesse applicate al dataframe **agoda roma** e **agoda terni**. Si lavora su:\n",
        "   - Numero notti;\n",
        "   - Numero persone -> Numero adulti, numero bambini, totale ospiti;\n",
        "   - Inizio permanenza;\n",
        "   - Fine permanenza.\n",
        "   \n",
        "Per quanto riguarda le variabili da estrarre da **indirizzo** queste andranno trattate diversamente tra agoda ROMA e agoda TERNI:\n",
        "   - Distanza centro;\n",
        "   - Zona;\n",
        "   - Città.\n",
        "\n"
      ]
    },
    {
      "cell_type": "markdown",
      "metadata": {},
      "source": [
        "Già da questa fase di feature engineering si potrebbero unire i dataset riguardanti lo stesso sito web, per evitare errori sarà fatto nella fase di cleaning."
      ]
    },
    {
      "cell_type": "code",
      "execution_count": 14,
      "metadata": {},
      "outputs": [
        {
          "data": {
            "application/vnd.microsoft.datawrangler.viewer.v0+json": {
              "columns": [
                {
                  "name": "index",
                  "rawType": "int64",
                  "type": "integer"
                },
                {
                  "name": "titolo",
                  "rawType": "object",
                  "type": "string"
                },
                {
                  "name": "recensione_voto_numerico",
                  "rawType": "object",
                  "type": "string"
                },
                {
                  "name": "recensione_voto_parola",
                  "rawType": "object",
                  "type": "string"
                },
                {
                  "name": "numero_recensioni",
                  "rawType": "object",
                  "type": "string"
                },
                {
                  "name": "date",
                  "rawType": "object",
                  "type": "string"
                },
                {
                  "name": "permanenza",
                  "rawType": "object",
                  "type": "string"
                },
                {
                  "name": "prezzo",
                  "rawType": "object",
                  "type": "string"
                },
                {
                  "name": "indirizzo",
                  "rawType": "object",
                  "type": "string"
                },
                {
                  "name": "valutazione",
                  "rawType": "float64",
                  "type": "float"
                }
              ],
              "ref": "99b2c47c-8dd7-47df-8d9b-d7d04525392f",
              "rows": [
                [
                  "0",
                  "Hotel Valentino",
                  "9,0",
                  "Eccezionale",
                  "2 recensioni",
                  "1 agosto - 2 agosto",
                  "1 notte, 2 adulti",
                  "258 €",
                  "Terni, Terni ",
                  "4.0"
                ]
              ],
              "shape": {
                "columns": 9,
                "rows": 1
              }
            },
            "text/html": [
              "<div>\n",
              "<style scoped>\n",
              "    .dataframe tbody tr th:only-of-type {\n",
              "        vertical-align: middle;\n",
              "    }\n",
              "\n",
              "    .dataframe tbody tr th {\n",
              "        vertical-align: top;\n",
              "    }\n",
              "\n",
              "    .dataframe thead th {\n",
              "        text-align: right;\n",
              "    }\n",
              "</style>\n",
              "<table border=\"1\" class=\"dataframe\">\n",
              "  <thead>\n",
              "    <tr style=\"text-align: right;\">\n",
              "      <th></th>\n",
              "      <th>titolo</th>\n",
              "      <th>recensione_voto_numerico</th>\n",
              "      <th>recensione_voto_parola</th>\n",
              "      <th>numero_recensioni</th>\n",
              "      <th>date</th>\n",
              "      <th>permanenza</th>\n",
              "      <th>prezzo</th>\n",
              "      <th>indirizzo</th>\n",
              "      <th>valutazione</th>\n",
              "    </tr>\n",
              "  </thead>\n",
              "  <tbody>\n",
              "    <tr>\n",
              "      <th>0</th>\n",
              "      <td>Hotel Valentino</td>\n",
              "      <td>9,0</td>\n",
              "      <td>Eccezionale</td>\n",
              "      <td>2 recensioni</td>\n",
              "      <td>1 agosto - 2 agosto</td>\n",
              "      <td>1 notte, 2 adulti</td>\n",
              "      <td>258 €</td>\n",
              "      <td>Terni, Terni</td>\n",
              "      <td>4.0</td>\n",
              "    </tr>\n",
              "  </tbody>\n",
              "</table>\n",
              "</div>"
            ],
            "text/plain": [
              "            titolo recensione_voto_numerico recensione_voto_parola  \\\n",
              "0  Hotel Valentino                      9,0            Eccezionale   \n",
              "\n",
              "  numero_recensioni                 date         permanenza prezzo  \\\n",
              "0      2 recensioni  1 agosto - 2 agosto  1 notte, 2 adulti  258 €   \n",
              "\n",
              "       indirizzo  valutazione  \n",
              "0  Terni, Terni           4.0  "
            ]
          },
          "execution_count": 14,
          "metadata": {},
          "output_type": "execute_result"
        }
      ],
      "source": [
        "#pd.set_option('display.max_rows', 10)\n",
        "agoda_terni.head(1)"
      ]
    },
    {
      "cell_type": "markdown",
      "metadata": {},
      "source": [
        "### Agoda Terni"
      ]
    },
    {
      "cell_type": "code",
      "execution_count": 15,
      "metadata": {},
      "outputs": [],
      "source": [
        "# Numero notti, estraggo il numero di notti dalla variabile permanenza e lo assegno ad una nuova variabile. Successivamente la variabile sarà pulita.\n",
        "agoda_terni[\"numero_notti\"]=agoda_terni.permanenza.str.split(\",\").str[0]\n",
        "\n",
        "# Numero persone, estraggo il numero di persone dalla variabile permanenza e lo assegno ad una nuova variabile. Successivamente la variabile sarà ancora più elaborata e verranno create le variabili. Tuttavia  numero di adulti, Numero bambini, Numero totale ospiti non vengono create perchè ci sono solo 2 adulti per tutto il dataset.\n",
        "agoda_terni[\"numero_persone\"]=agoda_terni.permanenza.str.split(\",\").str[1]\n",
        "\n",
        "# Data di inizio permanenza, estraggo la data di inzio permanenza  dalla variabile 'date' e lo assegno ad una nuova variabile. Successivamente la variabile sarà pulita ulteriormente.\n",
        "agoda_terni[\"inizio_permanenza\"]=agoda_terni.date.str.split(\"-\").str[0]\n",
        "\n",
        "# Data di fine permanenza, estraggo la data di fine permanenza  dalla variabile 'date' e lo assegno ad una nuova variabile. Successivamente la variabile sarà pulita ulteriormente.\n",
        "agoda_terni[\"fine_permanenza\"]=agoda_terni.date.str.split(\"-\").str[1]\n",
        "\n",
        "#-----#\n",
        "# Variabile da estrarre da indirizzo.\n",
        "\n",
        "# Distanza centro, estratto dalla variabile indirizzo. Non è presente la distanza dal centro.\n",
        "agoda_terni[\"distanza_centro\"] = np.nan\n",
        "\n",
        "# Zona, estratta dalla variabile indirizzo.\n",
        "agoda_terni[\"zona\"] = agoda_terni.indirizzo.str.split(\",\").str[0]\n",
        "\n",
        "# Città, estratta dalla variabile indirizzo.\n",
        "agoda_terni[\"città\"] = \"terni\"#agoda_terni.indirizzo.str.split(\",\").str[1]"
      ]
    },
    {
      "cell_type": "code",
      "execution_count": 16,
      "metadata": {},
      "outputs": [
        {
          "data": {
            "application/vnd.microsoft.datawrangler.viewer.v0+json": {
              "columns": [
                {
                  "name": "index",
                  "rawType": "int64",
                  "type": "integer"
                },
                {
                  "name": "titolo",
                  "rawType": "object",
                  "type": "string"
                },
                {
                  "name": "recensione_voto_numerico",
                  "rawType": "object",
                  "type": "string"
                },
                {
                  "name": "recensione_voto_parola",
                  "rawType": "object",
                  "type": "string"
                },
                {
                  "name": "numero_recensioni",
                  "rawType": "object",
                  "type": "string"
                },
                {
                  "name": "date",
                  "rawType": "object",
                  "type": "string"
                },
                {
                  "name": "permanenza",
                  "rawType": "object",
                  "type": "string"
                },
                {
                  "name": "prezzo",
                  "rawType": "object",
                  "type": "string"
                },
                {
                  "name": "indirizzo",
                  "rawType": "object",
                  "type": "string"
                },
                {
                  "name": "valutazione",
                  "rawType": "float64",
                  "type": "float"
                },
                {
                  "name": "numero_notti",
                  "rawType": "object",
                  "type": "string"
                },
                {
                  "name": "numero_persone",
                  "rawType": "object",
                  "type": "string"
                },
                {
                  "name": "inizio_permanenza",
                  "rawType": "object",
                  "type": "string"
                },
                {
                  "name": "fine_permanenza",
                  "rawType": "object",
                  "type": "string"
                },
                {
                  "name": "distanza_centro",
                  "rawType": "float64",
                  "type": "float"
                },
                {
                  "name": "zona",
                  "rawType": "object",
                  "type": "string"
                },
                {
                  "name": "città",
                  "rawType": "object",
                  "type": "string"
                }
              ],
              "ref": "7433f928-dbca-4f53-82c1-c44d759d539f",
              "rows": [
                [
                  "0",
                  "Hotel Valentino",
                  "9,0",
                  "Eccezionale",
                  "2 recensioni",
                  "1 agosto - 2 agosto",
                  "1 notte, 2 adulti",
                  "258 €",
                  "Terni, Terni ",
                  "4.0",
                  "1 notte",
                  " 2 adulti",
                  "1 agosto ",
                  " 2 agosto",
                  null,
                  "Terni",
                  "terni"
                ]
              ],
              "shape": {
                "columns": 16,
                "rows": 1
              }
            },
            "text/html": [
              "<div>\n",
              "<style scoped>\n",
              "    .dataframe tbody tr th:only-of-type {\n",
              "        vertical-align: middle;\n",
              "    }\n",
              "\n",
              "    .dataframe tbody tr th {\n",
              "        vertical-align: top;\n",
              "    }\n",
              "\n",
              "    .dataframe thead th {\n",
              "        text-align: right;\n",
              "    }\n",
              "</style>\n",
              "<table border=\"1\" class=\"dataframe\">\n",
              "  <thead>\n",
              "    <tr style=\"text-align: right;\">\n",
              "      <th></th>\n",
              "      <th>titolo</th>\n",
              "      <th>recensione_voto_numerico</th>\n",
              "      <th>recensione_voto_parola</th>\n",
              "      <th>numero_recensioni</th>\n",
              "      <th>date</th>\n",
              "      <th>permanenza</th>\n",
              "      <th>prezzo</th>\n",
              "      <th>indirizzo</th>\n",
              "      <th>valutazione</th>\n",
              "      <th>numero_notti</th>\n",
              "      <th>numero_persone</th>\n",
              "      <th>inizio_permanenza</th>\n",
              "      <th>fine_permanenza</th>\n",
              "      <th>distanza_centro</th>\n",
              "      <th>zona</th>\n",
              "      <th>città</th>\n",
              "    </tr>\n",
              "  </thead>\n",
              "  <tbody>\n",
              "    <tr>\n",
              "      <th>0</th>\n",
              "      <td>Hotel Valentino</td>\n",
              "      <td>9,0</td>\n",
              "      <td>Eccezionale</td>\n",
              "      <td>2 recensioni</td>\n",
              "      <td>1 agosto - 2 agosto</td>\n",
              "      <td>1 notte, 2 adulti</td>\n",
              "      <td>258 €</td>\n",
              "      <td>Terni, Terni</td>\n",
              "      <td>4.0</td>\n",
              "      <td>1 notte</td>\n",
              "      <td>2 adulti</td>\n",
              "      <td>1 agosto</td>\n",
              "      <td>2 agosto</td>\n",
              "      <td>NaN</td>\n",
              "      <td>Terni</td>\n",
              "      <td>terni</td>\n",
              "    </tr>\n",
              "  </tbody>\n",
              "</table>\n",
              "</div>"
            ],
            "text/plain": [
              "            titolo recensione_voto_numerico recensione_voto_parola  \\\n",
              "0  Hotel Valentino                      9,0            Eccezionale   \n",
              "\n",
              "  numero_recensioni                 date         permanenza prezzo  \\\n",
              "0      2 recensioni  1 agosto - 2 agosto  1 notte, 2 adulti  258 €   \n",
              "\n",
              "       indirizzo  valutazione numero_notti numero_persone inizio_permanenza  \\\n",
              "0  Terni, Terni           4.0      1 notte       2 adulti         1 agosto    \n",
              "\n",
              "  fine_permanenza  distanza_centro   zona  città  \n",
              "0        2 agosto              NaN  Terni  terni  "
            ]
          },
          "execution_count": 16,
          "metadata": {},
          "output_type": "execute_result"
        }
      ],
      "source": [
        "agoda_terni.head(1)"
      ]
    },
    {
      "cell_type": "markdown",
      "metadata": {},
      "source": [
        "### Agoda Roma"
      ]
    },
    {
      "cell_type": "code",
      "execution_count": 17,
      "metadata": {},
      "outputs": [],
      "source": [
        "# Numero notti, estraggo il numero di notti dalla variabile permanenza e lo assegno ad una nuova variabile. Successivamente la variabile sarà pulita.\n",
        "agoda_roma[\"numero_notti\"]=agoda_roma.permanenza.str.split(\",\").str[0]\n",
        "\n",
        "# Numero persone, estraggo il numero di persone dalla variabile permanenza e lo assegno ad una nuova variabile. Successivamente la variabile sarà ancora più elaborata e verranno create le variabili. Tuttavia  numero di adulti, Numero bambini, Numero totale ospiti non vengono create perchè ci sono solo 2 adulti per tutto il dataset.\n",
        "agoda_roma[\"numero_persone\"]=agoda_roma.permanenza.str.split(\",\").str[1]\n",
        "\n",
        "# Data di inizio permanenza, estraggo la data di inzio permanenza  dalla variabile 'date' e lo assegno ad una nuova variabile. Successivamente la variabile sarà pulita ulteriormente.\n",
        "agoda_roma[\"inizio_permanenza\"]=agoda_roma.date.str.split(\"-\").str[0]\n",
        "\n",
        "# Data di fine permanenza, estraggo la data di fine permanenza  dalla variabile 'date' e lo assegno ad una nuova variabile. Successivamente la variabile sarà pulita ulteriormente.\n",
        "agoda_roma[\"fine_permanenza\"]=agoda_roma.date.str.split(\"-\").str[1]\n",
        "\n",
        "#-----#\n",
        "# Variabile da estrarre da indirizzo.\n",
        "\n",
        "# Distanza centro, estratto dalla variabile indirizzo.\n",
        "agoda_roma[\"distanza_centro\"] = agoda_roma.indirizzo.str.split(\"-\").str[1]\n",
        "\n",
        "# Zona, estratta dalla variabile indirizzo.\n",
        "agoda_roma[\"zona\"] = agoda_roma.indirizzo.str.split(\"-\").str[0].str.split(\",\").str[0]\n",
        "\n",
        "# Città, estratta dalla variabile indirizzo.\n",
        "agoda_roma[\"città\"] = \"roma\"#agoda_roma.indirizzo.str.split(\"-\").str[0].str.split(\",\").str[1]"
      ]
    },
    {
      "cell_type": "code",
      "execution_count": 18,
      "metadata": {},
      "outputs": [
        {
          "data": {
            "application/vnd.microsoft.datawrangler.viewer.v0+json": {
              "columns": [
                {
                  "name": "index",
                  "rawType": "int64",
                  "type": "integer"
                },
                {
                  "name": "titolo",
                  "rawType": "object",
                  "type": "string"
                },
                {
                  "name": "recensione_voto_numerico",
                  "rawType": "object",
                  "type": "string"
                },
                {
                  "name": "recensione_voto_parola",
                  "rawType": "object",
                  "type": "string"
                },
                {
                  "name": "numero_recensioni",
                  "rawType": "object",
                  "type": "string"
                },
                {
                  "name": "date",
                  "rawType": "object",
                  "type": "string"
                },
                {
                  "name": "permanenza",
                  "rawType": "object",
                  "type": "string"
                },
                {
                  "name": "prezzo",
                  "rawType": "object",
                  "type": "string"
                },
                {
                  "name": "indirizzo",
                  "rawType": "object",
                  "type": "string"
                },
                {
                  "name": "valutazione",
                  "rawType": "int64",
                  "type": "integer"
                },
                {
                  "name": "numero_notti",
                  "rawType": "object",
                  "type": "string"
                },
                {
                  "name": "numero_persone",
                  "rawType": "object",
                  "type": "string"
                },
                {
                  "name": "inizio_permanenza",
                  "rawType": "object",
                  "type": "string"
                },
                {
                  "name": "fine_permanenza",
                  "rawType": "object",
                  "type": "string"
                },
                {
                  "name": "distanza_centro",
                  "rawType": "object",
                  "type": "string"
                },
                {
                  "name": "zona",
                  "rawType": "object",
                  "type": "string"
                },
                {
                  "name": "città",
                  "rawType": "object",
                  "type": "string"
                }
              ],
              "ref": "765cab2c-2497-4aa9-b49d-99e7d3c445b9",
              "rows": [
                [
                  "0",
                  "Raeli Hotel Lazio",
                  "7,7",
                  "Ottimo",
                  "321 recensioni",
                  "1 agosto - 2 agosto",
                  "1 notte, 2 adulti",
                  "€159",
                  "Stazione centrale Roma Termini, Roma - In pieno centro",
                  "3",
                  "1 notte",
                  " 2 adulti",
                  "1 agosto ",
                  " 2 agosto",
                  " In pieno centro",
                  "Stazione centrale Roma Termini",
                  "roma"
                ]
              ],
              "shape": {
                "columns": 16,
                "rows": 1
              }
            },
            "text/html": [
              "<div>\n",
              "<style scoped>\n",
              "    .dataframe tbody tr th:only-of-type {\n",
              "        vertical-align: middle;\n",
              "    }\n",
              "\n",
              "    .dataframe tbody tr th {\n",
              "        vertical-align: top;\n",
              "    }\n",
              "\n",
              "    .dataframe thead th {\n",
              "        text-align: right;\n",
              "    }\n",
              "</style>\n",
              "<table border=\"1\" class=\"dataframe\">\n",
              "  <thead>\n",
              "    <tr style=\"text-align: right;\">\n",
              "      <th></th>\n",
              "      <th>titolo</th>\n",
              "      <th>recensione_voto_numerico</th>\n",
              "      <th>recensione_voto_parola</th>\n",
              "      <th>numero_recensioni</th>\n",
              "      <th>date</th>\n",
              "      <th>permanenza</th>\n",
              "      <th>prezzo</th>\n",
              "      <th>indirizzo</th>\n",
              "      <th>valutazione</th>\n",
              "      <th>numero_notti</th>\n",
              "      <th>numero_persone</th>\n",
              "      <th>inizio_permanenza</th>\n",
              "      <th>fine_permanenza</th>\n",
              "      <th>distanza_centro</th>\n",
              "      <th>zona</th>\n",
              "      <th>città</th>\n",
              "    </tr>\n",
              "  </thead>\n",
              "  <tbody>\n",
              "    <tr>\n",
              "      <th>0</th>\n",
              "      <td>Raeli Hotel Lazio</td>\n",
              "      <td>7,7</td>\n",
              "      <td>Ottimo</td>\n",
              "      <td>321 recensioni</td>\n",
              "      <td>1 agosto - 2 agosto</td>\n",
              "      <td>1 notte, 2 adulti</td>\n",
              "      <td>€159</td>\n",
              "      <td>Stazione centrale Roma Termini, Roma - In pien...</td>\n",
              "      <td>3</td>\n",
              "      <td>1 notte</td>\n",
              "      <td>2 adulti</td>\n",
              "      <td>1 agosto</td>\n",
              "      <td>2 agosto</td>\n",
              "      <td>In pieno centro</td>\n",
              "      <td>Stazione centrale Roma Termini</td>\n",
              "      <td>roma</td>\n",
              "    </tr>\n",
              "  </tbody>\n",
              "</table>\n",
              "</div>"
            ],
            "text/plain": [
              "              titolo recensione_voto_numerico recensione_voto_parola  \\\n",
              "0  Raeli Hotel Lazio                      7,7                 Ottimo   \n",
              "\n",
              "  numero_recensioni                 date         permanenza prezzo  \\\n",
              "0    321 recensioni  1 agosto - 2 agosto  1 notte, 2 adulti   €159   \n",
              "\n",
              "                                           indirizzo  valutazione  \\\n",
              "0  Stazione centrale Roma Termini, Roma - In pien...            3   \n",
              "\n",
              "  numero_notti numero_persone inizio_permanenza fine_permanenza  \\\n",
              "0      1 notte       2 adulti         1 agosto         2 agosto   \n",
              "\n",
              "    distanza_centro                            zona città  \n",
              "0   In pieno centro  Stazione centrale Roma Termini  roma  "
            ]
          },
          "execution_count": 18,
          "metadata": {},
          "output_type": "execute_result"
        }
      ],
      "source": [
        "agoda_roma.head(1)"
      ]
    },
    {
      "cell_type": "markdown",
      "metadata": {},
      "source": [
        "## Feature engineering applicato a Booking"
      ]
    },
    {
      "cell_type": "markdown",
      "metadata": {},
      "source": [
        "### Booking Terni"
      ]
    },
    {
      "cell_type": "code",
      "execution_count": 19,
      "metadata": {},
      "outputs": [
        {
          "data": {
            "application/vnd.microsoft.datawrangler.viewer.v0+json": {
              "columns": [
                {
                  "name": "index",
                  "rawType": "int64",
                  "type": "integer"
                },
                {
                  "name": "titolo",
                  "rawType": "object",
                  "type": "string"
                },
                {
                  "name": "recensione_voto_numerico",
                  "rawType": "object",
                  "type": "string"
                },
                {
                  "name": "recensione_voto_parola",
                  "rawType": "object",
                  "type": "string"
                },
                {
                  "name": "numero_recensioni",
                  "rawType": "object",
                  "type": "string"
                },
                {
                  "name": "date",
                  "rawType": "object",
                  "type": "string"
                },
                {
                  "name": "permanenza",
                  "rawType": "object",
                  "type": "string"
                },
                {
                  "name": "prezzo",
                  "rawType": "object",
                  "type": "string"
                },
                {
                  "name": "distanza_centro",
                  "rawType": "object",
                  "type": "string"
                },
                {
                  "name": "indirizzo",
                  "rawType": "object",
                  "type": "string"
                },
                {
                  "name": "stelle",
                  "rawType": "float64",
                  "type": "float"
                },
                {
                  "name": "valutazione_booking",
                  "rawType": "float64",
                  "type": "float"
                },
                {
                  "name": "descrizione_camera",
                  "rawType": "object",
                  "type": "string"
                },
                {
                  "name": "configurazione_camera",
                  "rawType": "object",
                  "type": "string"
                },
                {
                  "name": "descrizione_unprocessed",
                  "rawType": "object",
                  "type": "string"
                }
              ],
              "ref": "78927473-2c3f-4085-a97a-a44db084d945",
              "rows": [
                [
                  "0",
                  "Hotel De Paris",
                  "7,2",
                  "Buono ",
                  "869 recensioni",
                  "1 agosto - 2 agosto",
                  "1 notte, 2 adulti",
                  "€ 69",
                  "0,9 km dal centro",
                  "Terni",
                  "3.0",
                  null,
                  "Camera Doppia con Letti Singoli",
                  "Configurazione camera non disponibile",
                  "Camera Doppia con Letti Singoli2 letti singoliColazione inclusaRestano solo 6 camere a questo prezzo sul nostro sito"
                ]
              ],
              "shape": {
                "columns": 14,
                "rows": 1
              }
            },
            "text/html": [
              "<div>\n",
              "<style scoped>\n",
              "    .dataframe tbody tr th:only-of-type {\n",
              "        vertical-align: middle;\n",
              "    }\n",
              "\n",
              "    .dataframe tbody tr th {\n",
              "        vertical-align: top;\n",
              "    }\n",
              "\n",
              "    .dataframe thead th {\n",
              "        text-align: right;\n",
              "    }\n",
              "</style>\n",
              "<table border=\"1\" class=\"dataframe\">\n",
              "  <thead>\n",
              "    <tr style=\"text-align: right;\">\n",
              "      <th></th>\n",
              "      <th>titolo</th>\n",
              "      <th>recensione_voto_numerico</th>\n",
              "      <th>recensione_voto_parola</th>\n",
              "      <th>numero_recensioni</th>\n",
              "      <th>date</th>\n",
              "      <th>permanenza</th>\n",
              "      <th>prezzo</th>\n",
              "      <th>distanza_centro</th>\n",
              "      <th>indirizzo</th>\n",
              "      <th>stelle</th>\n",
              "      <th>valutazione_booking</th>\n",
              "      <th>descrizione_camera</th>\n",
              "      <th>configurazione_camera</th>\n",
              "      <th>descrizione_unprocessed</th>\n",
              "    </tr>\n",
              "  </thead>\n",
              "  <tbody>\n",
              "    <tr>\n",
              "      <th>0</th>\n",
              "      <td>Hotel De Paris</td>\n",
              "      <td>7,2</td>\n",
              "      <td>Buono</td>\n",
              "      <td>869 recensioni</td>\n",
              "      <td>1 agosto - 2 agosto</td>\n",
              "      <td>1 notte, 2 adulti</td>\n",
              "      <td>€ 69</td>\n",
              "      <td>0,9 km dal centro</td>\n",
              "      <td>Terni</td>\n",
              "      <td>3.0</td>\n",
              "      <td>NaN</td>\n",
              "      <td>Camera Doppia con Letti Singoli</td>\n",
              "      <td>Configurazione camera non disponibile</td>\n",
              "      <td>Camera Doppia con Letti Singoli2 letti singoli...</td>\n",
              "    </tr>\n",
              "  </tbody>\n",
              "</table>\n",
              "</div>"
            ],
            "text/plain": [
              "           titolo recensione_voto_numerico recensione_voto_parola  \\\n",
              "0  Hotel De Paris                      7,2                 Buono    \n",
              "\n",
              "  numero_recensioni                 date         permanenza prezzo  \\\n",
              "0    869 recensioni  1 agosto - 2 agosto  1 notte, 2 adulti   € 69   \n",
              "\n",
              "     distanza_centro indirizzo  stelle  valutazione_booking  \\\n",
              "0  0,9 km dal centro     Terni     3.0                  NaN   \n",
              "\n",
              "                descrizione_camera                  configurazione_camera  \\\n",
              "0  Camera Doppia con Letti Singoli  Configurazione camera non disponibile   \n",
              "\n",
              "                             descrizione_unprocessed  \n",
              "0  Camera Doppia con Letti Singoli2 letti singoli...  "
            ]
          },
          "execution_count": 19,
          "metadata": {},
          "output_type": "execute_result"
        }
      ],
      "source": [
        "booking_terni.head(1)"
      ]
    },
    {
      "cell_type": "code",
      "execution_count": 20,
      "metadata": {},
      "outputs": [],
      "source": [
        "# Numero notti, estraggo il numero di notti dalla variabile permanenza e lo assegno ad una nuova variabile. Successivamente la variabile sarà pulita.\n",
        "booking_terni[\"numero_notti\"]=booking_terni.permanenza.str.split(\",\").str[0]\n",
        "\n",
        "# Numero persone, estraggo il numero di persone dalla variabile permanenza e lo assegno ad una nuova variabile. Successivamente la variabile sarà ancora più elaborata e verranno create le variabili. Tuttavia  numero di adulti, Numero bambini, Numero totale ospiti non vengono create perchè ci sono solo 2 adulti per tutto il dataset.\n",
        "booking_terni[\"numero_persone\"]=booking_terni.permanenza.str.split(\",\").str[1]\n",
        "\n",
        "# Data di inizio permanenza, estraggo la data di inzio permanenza  dalla variabile 'date' e lo assegno ad una nuova variabile. Successivamente la variabile sarà pulita ulteriormente.\n",
        "booking_terni[\"inizio_permanenza\"]=booking_terni.date.str.split(\"-\").str[0]\n",
        "\n",
        "# Data di fine permanenza, estraggo la data di fine permanenza  dalla variabile 'date' e lo assegno ad una nuova variabile. Successivamente la variabile sarà pulita ulteriormente.\n",
        "booking_terni[\"fine_permanenza\"]=booking_terni.date.str.split(\"-\").str[1]\n",
        "\n",
        "# Zona, estratta dalla variabile indirizzo.\n",
        "booking_terni[\"zona\"] = booking_terni.indirizzo\n",
        "\n",
        "# Città, estratta dalla variabile indirizzo.\n",
        "booking_terni[\"città\"] = \"terni\"#booking_terni.indirizzo"
      ]
    },
    {
      "cell_type": "code",
      "execution_count": 21,
      "metadata": {},
      "outputs": [
        {
          "data": {
            "application/vnd.microsoft.datawrangler.viewer.v0+json": {
              "columns": [
                {
                  "name": "index",
                  "rawType": "int64",
                  "type": "integer"
                },
                {
                  "name": "titolo",
                  "rawType": "object",
                  "type": "string"
                },
                {
                  "name": "recensione_voto_numerico",
                  "rawType": "object",
                  "type": "string"
                },
                {
                  "name": "recensione_voto_parola",
                  "rawType": "object",
                  "type": "string"
                },
                {
                  "name": "numero_recensioni",
                  "rawType": "object",
                  "type": "string"
                },
                {
                  "name": "date",
                  "rawType": "object",
                  "type": "string"
                },
                {
                  "name": "permanenza",
                  "rawType": "object",
                  "type": "string"
                },
                {
                  "name": "prezzo",
                  "rawType": "object",
                  "type": "string"
                },
                {
                  "name": "distanza_centro",
                  "rawType": "object",
                  "type": "string"
                },
                {
                  "name": "indirizzo",
                  "rawType": "object",
                  "type": "string"
                },
                {
                  "name": "stelle",
                  "rawType": "float64",
                  "type": "float"
                },
                {
                  "name": "valutazione_booking",
                  "rawType": "float64",
                  "type": "float"
                },
                {
                  "name": "descrizione_camera",
                  "rawType": "object",
                  "type": "string"
                },
                {
                  "name": "configurazione_camera",
                  "rawType": "object",
                  "type": "string"
                },
                {
                  "name": "descrizione_unprocessed",
                  "rawType": "object",
                  "type": "string"
                },
                {
                  "name": "numero_notti",
                  "rawType": "object",
                  "type": "string"
                },
                {
                  "name": "numero_persone",
                  "rawType": "object",
                  "type": "string"
                },
                {
                  "name": "inizio_permanenza",
                  "rawType": "object",
                  "type": "string"
                },
                {
                  "name": "fine_permanenza",
                  "rawType": "object",
                  "type": "string"
                },
                {
                  "name": "zona",
                  "rawType": "object",
                  "type": "string"
                },
                {
                  "name": "città",
                  "rawType": "object",
                  "type": "string"
                }
              ],
              "ref": "2e6e3a1e-479b-4445-ae6e-e001026046e6",
              "rows": [
                [
                  "0",
                  "Hotel De Paris",
                  "7,2",
                  "Buono ",
                  "869 recensioni",
                  "1 agosto - 2 agosto",
                  "1 notte, 2 adulti",
                  "€ 69",
                  "0,9 km dal centro",
                  "Terni",
                  "3.0",
                  null,
                  "Camera Doppia con Letti Singoli",
                  "Configurazione camera non disponibile",
                  "Camera Doppia con Letti Singoli2 letti singoliColazione inclusaRestano solo 6 camere a questo prezzo sul nostro sito",
                  "1 notte",
                  " 2 adulti",
                  "1 agosto ",
                  " 2 agosto",
                  "Terni",
                  "terni"
                ]
              ],
              "shape": {
                "columns": 20,
                "rows": 1
              }
            },
            "text/html": [
              "<div>\n",
              "<style scoped>\n",
              "    .dataframe tbody tr th:only-of-type {\n",
              "        vertical-align: middle;\n",
              "    }\n",
              "\n",
              "    .dataframe tbody tr th {\n",
              "        vertical-align: top;\n",
              "    }\n",
              "\n",
              "    .dataframe thead th {\n",
              "        text-align: right;\n",
              "    }\n",
              "</style>\n",
              "<table border=\"1\" class=\"dataframe\">\n",
              "  <thead>\n",
              "    <tr style=\"text-align: right;\">\n",
              "      <th></th>\n",
              "      <th>titolo</th>\n",
              "      <th>recensione_voto_numerico</th>\n",
              "      <th>recensione_voto_parola</th>\n",
              "      <th>numero_recensioni</th>\n",
              "      <th>date</th>\n",
              "      <th>permanenza</th>\n",
              "      <th>prezzo</th>\n",
              "      <th>distanza_centro</th>\n",
              "      <th>indirizzo</th>\n",
              "      <th>stelle</th>\n",
              "      <th>valutazione_booking</th>\n",
              "      <th>descrizione_camera</th>\n",
              "      <th>configurazione_camera</th>\n",
              "      <th>descrizione_unprocessed</th>\n",
              "      <th>numero_notti</th>\n",
              "      <th>numero_persone</th>\n",
              "      <th>inizio_permanenza</th>\n",
              "      <th>fine_permanenza</th>\n",
              "      <th>zona</th>\n",
              "      <th>città</th>\n",
              "    </tr>\n",
              "  </thead>\n",
              "  <tbody>\n",
              "    <tr>\n",
              "      <th>0</th>\n",
              "      <td>Hotel De Paris</td>\n",
              "      <td>7,2</td>\n",
              "      <td>Buono</td>\n",
              "      <td>869 recensioni</td>\n",
              "      <td>1 agosto - 2 agosto</td>\n",
              "      <td>1 notte, 2 adulti</td>\n",
              "      <td>€ 69</td>\n",
              "      <td>0,9 km dal centro</td>\n",
              "      <td>Terni</td>\n",
              "      <td>3.0</td>\n",
              "      <td>NaN</td>\n",
              "      <td>Camera Doppia con Letti Singoli</td>\n",
              "      <td>Configurazione camera non disponibile</td>\n",
              "      <td>Camera Doppia con Letti Singoli2 letti singoli...</td>\n",
              "      <td>1 notte</td>\n",
              "      <td>2 adulti</td>\n",
              "      <td>1 agosto</td>\n",
              "      <td>2 agosto</td>\n",
              "      <td>Terni</td>\n",
              "      <td>terni</td>\n",
              "    </tr>\n",
              "  </tbody>\n",
              "</table>\n",
              "</div>"
            ],
            "text/plain": [
              "           titolo recensione_voto_numerico recensione_voto_parola  \\\n",
              "0  Hotel De Paris                      7,2                 Buono    \n",
              "\n",
              "  numero_recensioni                 date         permanenza prezzo  \\\n",
              "0    869 recensioni  1 agosto - 2 agosto  1 notte, 2 adulti   € 69   \n",
              "\n",
              "     distanza_centro indirizzo  stelle  valutazione_booking  \\\n",
              "0  0,9 km dal centro     Terni     3.0                  NaN   \n",
              "\n",
              "                descrizione_camera                  configurazione_camera  \\\n",
              "0  Camera Doppia con Letti Singoli  Configurazione camera non disponibile   \n",
              "\n",
              "                             descrizione_unprocessed numero_notti  \\\n",
              "0  Camera Doppia con Letti Singoli2 letti singoli...      1 notte   \n",
              "\n",
              "  numero_persone inizio_permanenza fine_permanenza   zona  città  \n",
              "0       2 adulti         1 agosto         2 agosto  Terni  terni  "
            ]
          },
          "execution_count": 21,
          "metadata": {},
          "output_type": "execute_result"
        }
      ],
      "source": [
        "booking_terni.head(1)"
      ]
    },
    {
      "cell_type": "markdown",
      "metadata": {},
      "source": [
        "### Booking Roma"
      ]
    },
    {
      "cell_type": "code",
      "execution_count": 22,
      "metadata": {},
      "outputs": [
        {
          "data": {
            "application/vnd.microsoft.datawrangler.viewer.v0+json": {
              "columns": [
                {
                  "name": "index",
                  "rawType": "int64",
                  "type": "integer"
                },
                {
                  "name": "titolo",
                  "rawType": "object",
                  "type": "string"
                },
                {
                  "name": "recensione_voto_numerico",
                  "rawType": "object",
                  "type": "string"
                },
                {
                  "name": "recensione_voto_parola",
                  "rawType": "object",
                  "type": "string"
                },
                {
                  "name": "numero_recensioni",
                  "rawType": "object",
                  "type": "string"
                },
                {
                  "name": "date",
                  "rawType": "object",
                  "type": "string"
                },
                {
                  "name": "permanenza",
                  "rawType": "object",
                  "type": "string"
                },
                {
                  "name": "prezzo",
                  "rawType": "object",
                  "type": "string"
                },
                {
                  "name": "distanza_centro",
                  "rawType": "object",
                  "type": "string"
                },
                {
                  "name": "indirizzo",
                  "rawType": "object",
                  "type": "string"
                },
                {
                  "name": "stelle",
                  "rawType": "float64",
                  "type": "float"
                },
                {
                  "name": "valutazione_booking",
                  "rawType": "float64",
                  "type": "float"
                },
                {
                  "name": "descrizione_camera",
                  "rawType": "object",
                  "type": "string"
                },
                {
                  "name": "configurazione_camera",
                  "rawType": "object",
                  "type": "string"
                },
                {
                  "name": "descrizione_unprocessed",
                  "rawType": "object",
                  "type": "string"
                }
              ],
              "ref": "4b8a2c0a-ab20-4282-b32d-958d6f081afe",
              "rows": [
                [
                  "0",
                  "The Sereno-3",
                  "8,1",
                  "Ottimo ",
                  "10 recensioni",
                  "1 agosto - 2 agosto",
                  "1 notte, 2 adulti",
                  "€ 242",
                  "3,5 km dal centro",
                  "Trionfale, Roma",
                  null,
                  "4.0",
                  "Appartamento con 2 Camere da Letto e Vista Città",
                  "Intero appartamento • 2 camere da letto • 1 bagno • 1 cucina • 88 m²",
                  "Appartamento con 2 Camere da Letto e Vista CittàIntero appartamento • 2 camere da letto • 1 bagno • 1 cucina • 88 m²3 letti (2 matrimoniali grandi, 1 divano letto)"
                ]
              ],
              "shape": {
                "columns": 14,
                "rows": 1
              }
            },
            "text/html": [
              "<div>\n",
              "<style scoped>\n",
              "    .dataframe tbody tr th:only-of-type {\n",
              "        vertical-align: middle;\n",
              "    }\n",
              "\n",
              "    .dataframe tbody tr th {\n",
              "        vertical-align: top;\n",
              "    }\n",
              "\n",
              "    .dataframe thead th {\n",
              "        text-align: right;\n",
              "    }\n",
              "</style>\n",
              "<table border=\"1\" class=\"dataframe\">\n",
              "  <thead>\n",
              "    <tr style=\"text-align: right;\">\n",
              "      <th></th>\n",
              "      <th>titolo</th>\n",
              "      <th>recensione_voto_numerico</th>\n",
              "      <th>recensione_voto_parola</th>\n",
              "      <th>numero_recensioni</th>\n",
              "      <th>date</th>\n",
              "      <th>permanenza</th>\n",
              "      <th>prezzo</th>\n",
              "      <th>distanza_centro</th>\n",
              "      <th>indirizzo</th>\n",
              "      <th>stelle</th>\n",
              "      <th>valutazione_booking</th>\n",
              "      <th>descrizione_camera</th>\n",
              "      <th>configurazione_camera</th>\n",
              "      <th>descrizione_unprocessed</th>\n",
              "    </tr>\n",
              "  </thead>\n",
              "  <tbody>\n",
              "    <tr>\n",
              "      <th>0</th>\n",
              "      <td>The Sereno-3</td>\n",
              "      <td>8,1</td>\n",
              "      <td>Ottimo</td>\n",
              "      <td>10 recensioni</td>\n",
              "      <td>1 agosto - 2 agosto</td>\n",
              "      <td>1 notte, 2 adulti</td>\n",
              "      <td>€ 242</td>\n",
              "      <td>3,5 km dal centro</td>\n",
              "      <td>Trionfale, Roma</td>\n",
              "      <td>NaN</td>\n",
              "      <td>4.0</td>\n",
              "      <td>Appartamento con 2 Camere da Letto e Vista Città</td>\n",
              "      <td>Intero appartamento • 2 camere da letto • 1 ba...</td>\n",
              "      <td>Appartamento con 2 Camere da Letto e Vista Cit...</td>\n",
              "    </tr>\n",
              "  </tbody>\n",
              "</table>\n",
              "</div>"
            ],
            "text/plain": [
              "         titolo recensione_voto_numerico recensione_voto_parola  \\\n",
              "0  The Sereno-3                      8,1                Ottimo    \n",
              "\n",
              "  numero_recensioni                 date         permanenza prezzo  \\\n",
              "0     10 recensioni  1 agosto - 2 agosto  1 notte, 2 adulti  € 242   \n",
              "\n",
              "     distanza_centro        indirizzo  stelle  valutazione_booking  \\\n",
              "0  3,5 km dal centro  Trionfale, Roma     NaN                  4.0   \n",
              "\n",
              "                                 descrizione_camera  \\\n",
              "0  Appartamento con 2 Camere da Letto e Vista Città   \n",
              "\n",
              "                               configurazione_camera  \\\n",
              "0  Intero appartamento • 2 camere da letto • 1 ba...   \n",
              "\n",
              "                             descrizione_unprocessed  \n",
              "0  Appartamento con 2 Camere da Letto e Vista Cit...  "
            ]
          },
          "execution_count": 22,
          "metadata": {},
          "output_type": "execute_result"
        }
      ],
      "source": [
        "booking_roma.head(1)"
      ]
    },
    {
      "cell_type": "code",
      "execution_count": 23,
      "metadata": {},
      "outputs": [],
      "source": [
        "# Numero notti, estraggo il numero di notti dalla variabile permanenza e lo assegno ad una nuova variabile. Successivamente la variabile sarà pulita.\n",
        "booking_roma[\"numero_notti\"]=booking_roma.permanenza.str.split(\",\").str[0]\n",
        "\n",
        "# Numero persone, estraggo il numero di persone dalla variabile permanenza e lo assegno ad una nuova variabile. Successivamente la variabile sarà ancora più elaborata e verranno create le variabili. Tuttavia  numero di adulti, Numero bambini, Numero totale ospiti non vengono create perchè ci sono solo 2 adulti per tutto il dataset.\n",
        "booking_roma[\"numero_persone\"]=booking_roma.permanenza.str.split(\",\").str[1]\n",
        "\n",
        "# Data di inizio permanenza, estraggo la data di inzio permanenza  dalla variabile 'date' e lo assegno ad una nuova variabile. Successivamente la variabile sarà pulita ulteriormente.\n",
        "booking_roma[\"inizio_permanenza\"]=booking_roma.date.str.split(\"-\").str[0]\n",
        "\n",
        "# Data di fine permanenza, estraggo la data di fine permanenza  dalla variabile 'date' e lo assegno ad una nuova variabile. Successivamente la variabile sarà pulita ulteriormente.\n",
        "booking_roma[\"fine_permanenza\"]=booking_roma.date.str.split(\"-\").str[1]\n",
        "\n",
        "# Zona, estratta dalla variabile indirizzo.\n",
        "booking_roma[\"zona\"] = booking_roma.indirizzo.str.split(\",\").str[0]\n",
        "\n",
        "# Città, estratta dalla variabile indirizzo.\n",
        "#booking_roma[\"città\"] = booking_roma.indirizzo.str.split(\",\").str[1]\n",
        "booking_roma[\"città\"] = \"roma\" # Il codice precedente generava alcuni NAN, assegnare manualmente la città è più preciso."
      ]
    },
    {
      "cell_type": "code",
      "execution_count": 24,
      "metadata": {},
      "outputs": [
        {
          "data": {
            "application/vnd.microsoft.datawrangler.viewer.v0+json": {
              "columns": [
                {
                  "name": "index",
                  "rawType": "int64",
                  "type": "integer"
                },
                {
                  "name": "titolo",
                  "rawType": "object",
                  "type": "string"
                },
                {
                  "name": "recensione_voto_numerico",
                  "rawType": "object",
                  "type": "string"
                },
                {
                  "name": "recensione_voto_parola",
                  "rawType": "object",
                  "type": "string"
                },
                {
                  "name": "numero_recensioni",
                  "rawType": "object",
                  "type": "string"
                },
                {
                  "name": "date",
                  "rawType": "object",
                  "type": "string"
                },
                {
                  "name": "permanenza",
                  "rawType": "object",
                  "type": "string"
                },
                {
                  "name": "prezzo",
                  "rawType": "object",
                  "type": "string"
                },
                {
                  "name": "distanza_centro",
                  "rawType": "object",
                  "type": "string"
                },
                {
                  "name": "indirizzo",
                  "rawType": "object",
                  "type": "string"
                },
                {
                  "name": "stelle",
                  "rawType": "float64",
                  "type": "float"
                },
                {
                  "name": "valutazione_booking",
                  "rawType": "float64",
                  "type": "float"
                },
                {
                  "name": "descrizione_camera",
                  "rawType": "object",
                  "type": "string"
                },
                {
                  "name": "configurazione_camera",
                  "rawType": "object",
                  "type": "string"
                },
                {
                  "name": "descrizione_unprocessed",
                  "rawType": "object",
                  "type": "string"
                },
                {
                  "name": "numero_notti",
                  "rawType": "object",
                  "type": "string"
                },
                {
                  "name": "numero_persone",
                  "rawType": "object",
                  "type": "string"
                },
                {
                  "name": "inizio_permanenza",
                  "rawType": "object",
                  "type": "string"
                },
                {
                  "name": "fine_permanenza",
                  "rawType": "object",
                  "type": "string"
                },
                {
                  "name": "zona",
                  "rawType": "object",
                  "type": "string"
                },
                {
                  "name": "città",
                  "rawType": "object",
                  "type": "string"
                }
              ],
              "ref": "0513c9f2-505d-4fcc-a5eb-76d12621fb52",
              "rows": [
                [
                  "0",
                  "The Sereno-3",
                  "8,1",
                  "Ottimo ",
                  "10 recensioni",
                  "1 agosto - 2 agosto",
                  "1 notte, 2 adulti",
                  "€ 242",
                  "3,5 km dal centro",
                  "Trionfale, Roma",
                  null,
                  "4.0",
                  "Appartamento con 2 Camere da Letto e Vista Città",
                  "Intero appartamento • 2 camere da letto • 1 bagno • 1 cucina • 88 m²",
                  "Appartamento con 2 Camere da Letto e Vista CittàIntero appartamento • 2 camere da letto • 1 bagno • 1 cucina • 88 m²3 letti (2 matrimoniali grandi, 1 divano letto)",
                  "1 notte",
                  " 2 adulti",
                  "1 agosto ",
                  " 2 agosto",
                  "Trionfale",
                  "roma"
                ]
              ],
              "shape": {
                "columns": 20,
                "rows": 1
              }
            },
            "text/html": [
              "<div>\n",
              "<style scoped>\n",
              "    .dataframe tbody tr th:only-of-type {\n",
              "        vertical-align: middle;\n",
              "    }\n",
              "\n",
              "    .dataframe tbody tr th {\n",
              "        vertical-align: top;\n",
              "    }\n",
              "\n",
              "    .dataframe thead th {\n",
              "        text-align: right;\n",
              "    }\n",
              "</style>\n",
              "<table border=\"1\" class=\"dataframe\">\n",
              "  <thead>\n",
              "    <tr style=\"text-align: right;\">\n",
              "      <th></th>\n",
              "      <th>titolo</th>\n",
              "      <th>recensione_voto_numerico</th>\n",
              "      <th>recensione_voto_parola</th>\n",
              "      <th>numero_recensioni</th>\n",
              "      <th>date</th>\n",
              "      <th>permanenza</th>\n",
              "      <th>prezzo</th>\n",
              "      <th>distanza_centro</th>\n",
              "      <th>indirizzo</th>\n",
              "      <th>stelle</th>\n",
              "      <th>valutazione_booking</th>\n",
              "      <th>descrizione_camera</th>\n",
              "      <th>configurazione_camera</th>\n",
              "      <th>descrizione_unprocessed</th>\n",
              "      <th>numero_notti</th>\n",
              "      <th>numero_persone</th>\n",
              "      <th>inizio_permanenza</th>\n",
              "      <th>fine_permanenza</th>\n",
              "      <th>zona</th>\n",
              "      <th>città</th>\n",
              "    </tr>\n",
              "  </thead>\n",
              "  <tbody>\n",
              "    <tr>\n",
              "      <th>0</th>\n",
              "      <td>The Sereno-3</td>\n",
              "      <td>8,1</td>\n",
              "      <td>Ottimo</td>\n",
              "      <td>10 recensioni</td>\n",
              "      <td>1 agosto - 2 agosto</td>\n",
              "      <td>1 notte, 2 adulti</td>\n",
              "      <td>€ 242</td>\n",
              "      <td>3,5 km dal centro</td>\n",
              "      <td>Trionfale, Roma</td>\n",
              "      <td>NaN</td>\n",
              "      <td>4.0</td>\n",
              "      <td>Appartamento con 2 Camere da Letto e Vista Città</td>\n",
              "      <td>Intero appartamento • 2 camere da letto • 1 ba...</td>\n",
              "      <td>Appartamento con 2 Camere da Letto e Vista Cit...</td>\n",
              "      <td>1 notte</td>\n",
              "      <td>2 adulti</td>\n",
              "      <td>1 agosto</td>\n",
              "      <td>2 agosto</td>\n",
              "      <td>Trionfale</td>\n",
              "      <td>roma</td>\n",
              "    </tr>\n",
              "  </tbody>\n",
              "</table>\n",
              "</div>"
            ],
            "text/plain": [
              "         titolo recensione_voto_numerico recensione_voto_parola  \\\n",
              "0  The Sereno-3                      8,1                Ottimo    \n",
              "\n",
              "  numero_recensioni                 date         permanenza prezzo  \\\n",
              "0     10 recensioni  1 agosto - 2 agosto  1 notte, 2 adulti  € 242   \n",
              "\n",
              "     distanza_centro        indirizzo  stelle  valutazione_booking  \\\n",
              "0  3,5 km dal centro  Trionfale, Roma     NaN                  4.0   \n",
              "\n",
              "                                 descrizione_camera  \\\n",
              "0  Appartamento con 2 Camere da Letto e Vista Città   \n",
              "\n",
              "                               configurazione_camera  \\\n",
              "0  Intero appartamento • 2 camere da letto • 1 ba...   \n",
              "\n",
              "                             descrizione_unprocessed numero_notti  \\\n",
              "0  Appartamento con 2 Camere da Letto e Vista Cit...      1 notte   \n",
              "\n",
              "  numero_persone inizio_permanenza fine_permanenza       zona città  \n",
              "0       2 adulti         1 agosto         2 agosto  Trionfale  roma  "
            ]
          },
          "execution_count": 24,
          "metadata": {},
          "output_type": "execute_result"
        }
      ],
      "source": [
        "booking_roma.head(1)"
      ]
    },
    {
      "cell_type": "markdown",
      "metadata": {},
      "source": [
        "# Data Cleaning"
      ]
    },
    {
      "cell_type": "markdown",
      "metadata": {},
      "source": [
        "## Riodinare le variabili"
      ]
    },
    {
      "cell_type": "markdown",
      "metadata": {},
      "source": [
        "Solo per maggiore ordine e chiarezza riordino le variabili."
      ]
    },
    {
      "cell_type": "code",
      "execution_count": 25,
      "metadata": {},
      "outputs": [],
      "source": [
        "agoda_roma = agoda_roma[['titolo','zona','città','distanza_centro','prezzo','numero_notti','numero_persone','inizio_permanenza',\n",
        "'fine_permanenza', 'recensione_voto_numerico', 'recensione_voto_parola',\n",
        "'numero_recensioni', 'date', 'permanenza', 'indirizzo',\n",
        "'valutazione']]\n",
        "\n",
        "agoda_terni = agoda_terni[['titolo','zona','città','distanza_centro','prezzo','numero_notti','numero_persone','inizio_permanenza',\n",
        "'fine_permanenza', 'recensione_voto_numerico', 'recensione_voto_parola',\n",
        "'numero_recensioni', 'date', 'permanenza', 'indirizzo',\n",
        "'valutazione']]\n",
        "\n",
        "booking_roma = booking_roma[['titolo','zona','città','distanza_centro','prezzo','numero_notti','numero_persone','inizio_permanenza',\n",
        "'fine_permanenza', 'recensione_voto_numerico', 'recensione_voto_parola',\n",
        "'numero_recensioni', 'date', 'permanenza', 'indirizzo','valutazione_booking','stelle',  'descrizione_camera',\n",
        "       'configurazione_camera', 'descrizione_unprocessed']]\n",
        "\n",
        "booking_terni = booking_terni[['titolo','zona','città','distanza_centro','prezzo','numero_notti','numero_persone','inizio_permanenza',\n",
        "'fine_permanenza', 'recensione_voto_numerico', 'recensione_voto_parola',\n",
        "'numero_recensioni', 'date', 'permanenza', 'indirizzo','valutazione_booking','stelle',  'descrizione_camera',\n",
        "       'configurazione_camera', 'descrizione_unprocessed']]"
      ]
    },
    {
      "cell_type": "markdown",
      "metadata": {},
      "source": [
        "## Cleaning dei dati riguardanti Agoda"
      ]
    },
    {
      "cell_type": "markdown",
      "metadata": {},
      "source": [
        "Come prima cosa si uniscono i datataset **agoda_roma** e **agoda_terni** così da lavorare su un solo dataset."
      ]
    },
    {
      "cell_type": "code",
      "execution_count": 26,
      "metadata": {},
      "outputs": [],
      "source": [
        "agoda = pd.concat([agoda_roma,agoda_terni]) # Unisco agoda_roma e agoda_terni\n",
        "agoda.reset_index(inplace=True,drop=True) # Nuovi indici, Eliminare quelli precedenti"
      ]
    },
    {
      "cell_type": "code",
      "execution_count": 27,
      "metadata": {},
      "outputs": [
        {
          "data": {
            "application/vnd.microsoft.datawrangler.viewer.v0+json": {
              "columns": [
                {
                  "name": "index",
                  "rawType": "int64",
                  "type": "integer"
                },
                {
                  "name": "titolo",
                  "rawType": "object",
                  "type": "string"
                },
                {
                  "name": "zona",
                  "rawType": "object",
                  "type": "string"
                },
                {
                  "name": "città",
                  "rawType": "object",
                  "type": "string"
                },
                {
                  "name": "distanza_centro",
                  "rawType": "object",
                  "type": "string"
                },
                {
                  "name": "prezzo",
                  "rawType": "object",
                  "type": "string"
                },
                {
                  "name": "numero_notti",
                  "rawType": "object",
                  "type": "string"
                },
                {
                  "name": "numero_persone",
                  "rawType": "object",
                  "type": "string"
                },
                {
                  "name": "inizio_permanenza",
                  "rawType": "object",
                  "type": "string"
                },
                {
                  "name": "fine_permanenza",
                  "rawType": "object",
                  "type": "string"
                },
                {
                  "name": "recensione_voto_numerico",
                  "rawType": "object",
                  "type": "string"
                },
                {
                  "name": "recensione_voto_parola",
                  "rawType": "object",
                  "type": "string"
                },
                {
                  "name": "numero_recensioni",
                  "rawType": "object",
                  "type": "string"
                },
                {
                  "name": "date",
                  "rawType": "object",
                  "type": "string"
                },
                {
                  "name": "permanenza",
                  "rawType": "object",
                  "type": "string"
                },
                {
                  "name": "indirizzo",
                  "rawType": "object",
                  "type": "string"
                },
                {
                  "name": "valutazione",
                  "rawType": "float64",
                  "type": "float"
                }
              ],
              "ref": "a105c92d-47df-4eed-a326-be06e0de7869",
              "rows": [
                [
                  "0",
                  "Raeli Hotel Lazio",
                  "Stazione centrale Roma Termini",
                  "roma",
                  " In pieno centro",
                  "€159",
                  "1 notte",
                  " 2 adulti",
                  "1 agosto ",
                  " 2 agosto",
                  "7,7",
                  "Ottimo",
                  "321 recensioni",
                  "1 agosto - 2 agosto",
                  "1 notte, 2 adulti",
                  "Stazione centrale Roma Termini, Roma - In pieno centro",
                  "3.0"
                ]
              ],
              "shape": {
                "columns": 16,
                "rows": 1
              }
            },
            "text/html": [
              "<div>\n",
              "<style scoped>\n",
              "    .dataframe tbody tr th:only-of-type {\n",
              "        vertical-align: middle;\n",
              "    }\n",
              "\n",
              "    .dataframe tbody tr th {\n",
              "        vertical-align: top;\n",
              "    }\n",
              "\n",
              "    .dataframe thead th {\n",
              "        text-align: right;\n",
              "    }\n",
              "</style>\n",
              "<table border=\"1\" class=\"dataframe\">\n",
              "  <thead>\n",
              "    <tr style=\"text-align: right;\">\n",
              "      <th></th>\n",
              "      <th>titolo</th>\n",
              "      <th>zona</th>\n",
              "      <th>città</th>\n",
              "      <th>distanza_centro</th>\n",
              "      <th>prezzo</th>\n",
              "      <th>numero_notti</th>\n",
              "      <th>numero_persone</th>\n",
              "      <th>inizio_permanenza</th>\n",
              "      <th>fine_permanenza</th>\n",
              "      <th>recensione_voto_numerico</th>\n",
              "      <th>recensione_voto_parola</th>\n",
              "      <th>numero_recensioni</th>\n",
              "      <th>date</th>\n",
              "      <th>permanenza</th>\n",
              "      <th>indirizzo</th>\n",
              "      <th>valutazione</th>\n",
              "    </tr>\n",
              "  </thead>\n",
              "  <tbody>\n",
              "    <tr>\n",
              "      <th>0</th>\n",
              "      <td>Raeli Hotel Lazio</td>\n",
              "      <td>Stazione centrale Roma Termini</td>\n",
              "      <td>roma</td>\n",
              "      <td>In pieno centro</td>\n",
              "      <td>€159</td>\n",
              "      <td>1 notte</td>\n",
              "      <td>2 adulti</td>\n",
              "      <td>1 agosto</td>\n",
              "      <td>2 agosto</td>\n",
              "      <td>7,7</td>\n",
              "      <td>Ottimo</td>\n",
              "      <td>321 recensioni</td>\n",
              "      <td>1 agosto - 2 agosto</td>\n",
              "      <td>1 notte, 2 adulti</td>\n",
              "      <td>Stazione centrale Roma Termini, Roma - In pien...</td>\n",
              "      <td>3.0</td>\n",
              "    </tr>\n",
              "  </tbody>\n",
              "</table>\n",
              "</div>"
            ],
            "text/plain": [
              "              titolo                            zona città   distanza_centro  \\\n",
              "0  Raeli Hotel Lazio  Stazione centrale Roma Termini  roma   In pieno centro   \n",
              "\n",
              "  prezzo numero_notti numero_persone inizio_permanenza fine_permanenza  \\\n",
              "0   €159      1 notte       2 adulti         1 agosto         2 agosto   \n",
              "\n",
              "  recensione_voto_numerico recensione_voto_parola numero_recensioni  \\\n",
              "0                      7,7                 Ottimo    321 recensioni   \n",
              "\n",
              "                  date         permanenza  \\\n",
              "0  1 agosto - 2 agosto  1 notte, 2 adulti   \n",
              "\n",
              "                                           indirizzo  valutazione  \n",
              "0  Stazione centrale Roma Termini, Roma - In pien...          3.0  "
            ]
          },
          "metadata": {},
          "output_type": "display_data"
        },
        {
          "data": {
            "application/vnd.microsoft.datawrangler.viewer.v0+json": {
              "columns": [
                {
                  "name": "index",
                  "rawType": "int64",
                  "type": "integer"
                },
                {
                  "name": "titolo",
                  "rawType": "object",
                  "type": "string"
                },
                {
                  "name": "zona",
                  "rawType": "object",
                  "type": "string"
                },
                {
                  "name": "città",
                  "rawType": "object",
                  "type": "string"
                },
                {
                  "name": "distanza_centro",
                  "rawType": "object",
                  "type": "unknown"
                },
                {
                  "name": "prezzo",
                  "rawType": "object",
                  "type": "string"
                },
                {
                  "name": "numero_notti",
                  "rawType": "object",
                  "type": "string"
                },
                {
                  "name": "numero_persone",
                  "rawType": "object",
                  "type": "string"
                },
                {
                  "name": "inizio_permanenza",
                  "rawType": "object",
                  "type": "string"
                },
                {
                  "name": "fine_permanenza",
                  "rawType": "object",
                  "type": "string"
                },
                {
                  "name": "recensione_voto_numerico",
                  "rawType": "object",
                  "type": "string"
                },
                {
                  "name": "recensione_voto_parola",
                  "rawType": "object",
                  "type": "string"
                },
                {
                  "name": "numero_recensioni",
                  "rawType": "object",
                  "type": "string"
                },
                {
                  "name": "date",
                  "rawType": "object",
                  "type": "string"
                },
                {
                  "name": "permanenza",
                  "rawType": "object",
                  "type": "string"
                },
                {
                  "name": "indirizzo",
                  "rawType": "object",
                  "type": "string"
                },
                {
                  "name": "valutazione",
                  "rawType": "float64",
                  "type": "float"
                }
              ],
              "ref": "826d5277-d43b-4dd2-8800-a07e44b52a47",
              "rows": [
                [
                  "676",
                  "Casa vacanze TERRA DI ASLAN",
                  "Narni",
                  "terni",
                  null,
                  "119 €",
                  "1 notte",
                  " 2 adulti",
                  "1 agosto ",
                  " 2 agosto",
                  "9,6",
                  "Eccezionale",
                  "7 recensioni",
                  "1 agosto - 2 agosto",
                  "1 notte, 2 adulti",
                  "Narni, Narni ",
                  "3.0"
                ]
              ],
              "shape": {
                "columns": 16,
                "rows": 1
              }
            },
            "text/html": [
              "<div>\n",
              "<style scoped>\n",
              "    .dataframe tbody tr th:only-of-type {\n",
              "        vertical-align: middle;\n",
              "    }\n",
              "\n",
              "    .dataframe tbody tr th {\n",
              "        vertical-align: top;\n",
              "    }\n",
              "\n",
              "    .dataframe thead th {\n",
              "        text-align: right;\n",
              "    }\n",
              "</style>\n",
              "<table border=\"1\" class=\"dataframe\">\n",
              "  <thead>\n",
              "    <tr style=\"text-align: right;\">\n",
              "      <th></th>\n",
              "      <th>titolo</th>\n",
              "      <th>zona</th>\n",
              "      <th>città</th>\n",
              "      <th>distanza_centro</th>\n",
              "      <th>prezzo</th>\n",
              "      <th>numero_notti</th>\n",
              "      <th>numero_persone</th>\n",
              "      <th>inizio_permanenza</th>\n",
              "      <th>fine_permanenza</th>\n",
              "      <th>recensione_voto_numerico</th>\n",
              "      <th>recensione_voto_parola</th>\n",
              "      <th>numero_recensioni</th>\n",
              "      <th>date</th>\n",
              "      <th>permanenza</th>\n",
              "      <th>indirizzo</th>\n",
              "      <th>valutazione</th>\n",
              "    </tr>\n",
              "  </thead>\n",
              "  <tbody>\n",
              "    <tr>\n",
              "      <th>676</th>\n",
              "      <td>Casa vacanze TERRA DI ASLAN</td>\n",
              "      <td>Narni</td>\n",
              "      <td>terni</td>\n",
              "      <td>NaN</td>\n",
              "      <td>119 €</td>\n",
              "      <td>1 notte</td>\n",
              "      <td>2 adulti</td>\n",
              "      <td>1 agosto</td>\n",
              "      <td>2 agosto</td>\n",
              "      <td>9,6</td>\n",
              "      <td>Eccezionale</td>\n",
              "      <td>7 recensioni</td>\n",
              "      <td>1 agosto - 2 agosto</td>\n",
              "      <td>1 notte, 2 adulti</td>\n",
              "      <td>Narni, Narni</td>\n",
              "      <td>3.0</td>\n",
              "    </tr>\n",
              "  </tbody>\n",
              "</table>\n",
              "</div>"
            ],
            "text/plain": [
              "                          titolo   zona  città distanza_centro prezzo  \\\n",
              "676  Casa vacanze TERRA DI ASLAN  Narni  terni             NaN  119 €   \n",
              "\n",
              "    numero_notti numero_persone inizio_permanenza fine_permanenza  \\\n",
              "676      1 notte       2 adulti         1 agosto         2 agosto   \n",
              "\n",
              "    recensione_voto_numerico recensione_voto_parola numero_recensioni  \\\n",
              "676                      9,6            Eccezionale      7 recensioni   \n",
              "\n",
              "                    date         permanenza      indirizzo  valutazione  \n",
              "676  1 agosto - 2 agosto  1 notte, 2 adulti  Narni, Narni           3.0  "
            ]
          },
          "metadata": {},
          "output_type": "display_data"
        }
      ],
      "source": [
        "display(agoda.head(1))\n",
        "display(agoda.tail(1))"
      ]
    },
    {
      "cell_type": "code",
      "execution_count": 28,
      "metadata": {},
      "outputs": [],
      "source": [
        "# Pulizia della variabile 'prezzo' : rimosso simbolo euro ed il punto separatore delle migliaia tramite la funzione pulisci_prezzo, variabile trasformata da object a int.\n",
        "agoda.prezzo = pulisci_prezzo(agoda.prezzo)\n",
        "\n",
        "# Pulizia della variabile 'numero di recensioni' -> rimuove la parola 'recensioni, Se la recensione risulta 'novità su agoda' assegna 0. rimuove anche il separatore delle migliaia. Discutible l'assegnazione di 0 recensioni quando è una novita.\n",
        "agoda.numero_recensioni =  agoda.numero_recensioni.apply(lambda row: pulisci_recensione(row))\n",
        "\n",
        "# Pulizia della variabile 'distanza_centro' -> Lascia solo la distanza in km.\n",
        "agoda[\"distanza_centro\"] =  agoda.distanza_centro.apply(lambda row: pulisci_distanza_centro(row))\n",
        "\n",
        "# Rendere la variabile numero di persone un intero ed eliminare la parola 'adulti'\n",
        "agoda[\"numero_persone\"]=agoda.numero_persone.str.replace(\"adulti\",\"\").astype(int)\n",
        "\n",
        "# Rendere la variabile numero di notti un intero ed eliminare la parola 'notte'\n",
        "agoda[\"numero_notti\"]=agoda.numero_notti.str.replace(\"notte\",\"\").astype(int)\n",
        "\n",
        "# Pulizia della variabile 'inizio_permanenza' -> Trasforma la data in formato italiano.\n",
        "agoda[\"inizio_permanenza\"] =  agoda.inizio_permanenza.apply(lambda row: trasforma_in_data(row))\n",
        "\n",
        "# Trasformare la colonna in un datetime (formato datetime, standard python)\n",
        "agoda[\"inizio_permanenza_datetime\"]=pd.to_datetime(agoda[\"inizio_permanenza\"])\n",
        "\n",
        "# Pulizia della variabile 'fine_permanenza' -> -> Trasforma la data in formato italiano.\n",
        "agoda[\"fine_permanenza\"] =  agoda.fine_permanenza.apply(lambda row: trasforma_in_data(row))\n",
        "\n",
        "# Trasformare la colonna in un datetime (formato datetime, standard python)\n",
        "agoda[\"fine_permanenza_datetime\"]=pd.to_datetime(agoda[\"fine_permanenza\"])\n"
      ]
    },
    {
      "cell_type": "code",
      "execution_count": 29,
      "metadata": {},
      "outputs": [
        {
          "data": {
            "application/vnd.microsoft.datawrangler.viewer.v0+json": {
              "columns": [
                {
                  "name": "index",
                  "rawType": "int64",
                  "type": "integer"
                },
                {
                  "name": "titolo",
                  "rawType": "object",
                  "type": "string"
                },
                {
                  "name": "zona",
                  "rawType": "object",
                  "type": "string"
                },
                {
                  "name": "città",
                  "rawType": "object",
                  "type": "string"
                },
                {
                  "name": "distanza_centro",
                  "rawType": "float64",
                  "type": "float"
                },
                {
                  "name": "prezzo",
                  "rawType": "int64",
                  "type": "integer"
                },
                {
                  "name": "numero_notti",
                  "rawType": "int64",
                  "type": "integer"
                },
                {
                  "name": "numero_persone",
                  "rawType": "int64",
                  "type": "integer"
                },
                {
                  "name": "inizio_permanenza",
                  "rawType": "object",
                  "type": "string"
                },
                {
                  "name": "fine_permanenza",
                  "rawType": "object",
                  "type": "string"
                },
                {
                  "name": "recensione_voto_numerico",
                  "rawType": "object",
                  "type": "string"
                },
                {
                  "name": "recensione_voto_parola",
                  "rawType": "object",
                  "type": "string"
                },
                {
                  "name": "numero_recensioni",
                  "rawType": "int64",
                  "type": "integer"
                },
                {
                  "name": "date",
                  "rawType": "object",
                  "type": "string"
                },
                {
                  "name": "permanenza",
                  "rawType": "object",
                  "type": "string"
                },
                {
                  "name": "indirizzo",
                  "rawType": "object",
                  "type": "string"
                },
                {
                  "name": "valutazione",
                  "rawType": "float64",
                  "type": "float"
                },
                {
                  "name": "inizio_permanenza_datetime",
                  "rawType": "datetime64[ns]",
                  "type": "datetime"
                },
                {
                  "name": "fine_permanenza_datetime",
                  "rawType": "datetime64[ns]",
                  "type": "datetime"
                }
              ],
              "ref": "529410f1-a9da-4a28-b61e-24c1005cfa98",
              "rows": [
                [
                  "0",
                  "Raeli Hotel Lazio",
                  "Stazione centrale Roma Termini",
                  "roma",
                  "0.0",
                  "159",
                  "1",
                  "2",
                  "01-08-25",
                  "02-08-25",
                  "7,7",
                  "Ottimo",
                  "321",
                  "1 agosto - 2 agosto",
                  "1 notte, 2 adulti",
                  "Stazione centrale Roma Termini, Roma - In pieno centro",
                  "3.0",
                  "2025-01-08 00:00:00",
                  "2025-02-08 00:00:00"
                ]
              ],
              "shape": {
                "columns": 18,
                "rows": 1
              }
            },
            "text/html": [
              "<div>\n",
              "<style scoped>\n",
              "    .dataframe tbody tr th:only-of-type {\n",
              "        vertical-align: middle;\n",
              "    }\n",
              "\n",
              "    .dataframe tbody tr th {\n",
              "        vertical-align: top;\n",
              "    }\n",
              "\n",
              "    .dataframe thead th {\n",
              "        text-align: right;\n",
              "    }\n",
              "</style>\n",
              "<table border=\"1\" class=\"dataframe\">\n",
              "  <thead>\n",
              "    <tr style=\"text-align: right;\">\n",
              "      <th></th>\n",
              "      <th>titolo</th>\n",
              "      <th>zona</th>\n",
              "      <th>città</th>\n",
              "      <th>distanza_centro</th>\n",
              "      <th>prezzo</th>\n",
              "      <th>numero_notti</th>\n",
              "      <th>numero_persone</th>\n",
              "      <th>inizio_permanenza</th>\n",
              "      <th>fine_permanenza</th>\n",
              "      <th>recensione_voto_numerico</th>\n",
              "      <th>recensione_voto_parola</th>\n",
              "      <th>numero_recensioni</th>\n",
              "      <th>date</th>\n",
              "      <th>permanenza</th>\n",
              "      <th>indirizzo</th>\n",
              "      <th>valutazione</th>\n",
              "      <th>inizio_permanenza_datetime</th>\n",
              "      <th>fine_permanenza_datetime</th>\n",
              "    </tr>\n",
              "  </thead>\n",
              "  <tbody>\n",
              "    <tr>\n",
              "      <th>0</th>\n",
              "      <td>Raeli Hotel Lazio</td>\n",
              "      <td>Stazione centrale Roma Termini</td>\n",
              "      <td>roma</td>\n",
              "      <td>0.0</td>\n",
              "      <td>159</td>\n",
              "      <td>1</td>\n",
              "      <td>2</td>\n",
              "      <td>01-08-25</td>\n",
              "      <td>02-08-25</td>\n",
              "      <td>7,7</td>\n",
              "      <td>Ottimo</td>\n",
              "      <td>321</td>\n",
              "      <td>1 agosto - 2 agosto</td>\n",
              "      <td>1 notte, 2 adulti</td>\n",
              "      <td>Stazione centrale Roma Termini, Roma - In pien...</td>\n",
              "      <td>3.0</td>\n",
              "      <td>2025-01-08</td>\n",
              "      <td>2025-02-08</td>\n",
              "    </tr>\n",
              "  </tbody>\n",
              "</table>\n",
              "</div>"
            ],
            "text/plain": [
              "              titolo                            zona città  distanza_centro  \\\n",
              "0  Raeli Hotel Lazio  Stazione centrale Roma Termini  roma              0.0   \n",
              "\n",
              "   prezzo  numero_notti  numero_persone inizio_permanenza fine_permanenza  \\\n",
              "0     159             1               2          01-08-25        02-08-25   \n",
              "\n",
              "  recensione_voto_numerico recensione_voto_parola  numero_recensioni  \\\n",
              "0                      7,7                 Ottimo                321   \n",
              "\n",
              "                  date         permanenza  \\\n",
              "0  1 agosto - 2 agosto  1 notte, 2 adulti   \n",
              "\n",
              "                                           indirizzo  valutazione  \\\n",
              "0  Stazione centrale Roma Termini, Roma - In pien...          3.0   \n",
              "\n",
              "  inizio_permanenza_datetime fine_permanenza_datetime  \n",
              "0                 2025-01-08               2025-02-08  "
            ]
          },
          "metadata": {},
          "output_type": "display_data"
        },
        {
          "data": {
            "application/vnd.microsoft.datawrangler.viewer.v0+json": {
              "columns": [
                {
                  "name": "index",
                  "rawType": "int64",
                  "type": "integer"
                },
                {
                  "name": "titolo",
                  "rawType": "object",
                  "type": "string"
                },
                {
                  "name": "zona",
                  "rawType": "object",
                  "type": "string"
                },
                {
                  "name": "città",
                  "rawType": "object",
                  "type": "string"
                },
                {
                  "name": "distanza_centro",
                  "rawType": "float64",
                  "type": "float"
                },
                {
                  "name": "prezzo",
                  "rawType": "int64",
                  "type": "integer"
                },
                {
                  "name": "numero_notti",
                  "rawType": "int64",
                  "type": "integer"
                },
                {
                  "name": "numero_persone",
                  "rawType": "int64",
                  "type": "integer"
                },
                {
                  "name": "inizio_permanenza",
                  "rawType": "object",
                  "type": "string"
                },
                {
                  "name": "fine_permanenza",
                  "rawType": "object",
                  "type": "string"
                },
                {
                  "name": "recensione_voto_numerico",
                  "rawType": "object",
                  "type": "string"
                },
                {
                  "name": "recensione_voto_parola",
                  "rawType": "object",
                  "type": "string"
                },
                {
                  "name": "numero_recensioni",
                  "rawType": "int64",
                  "type": "integer"
                },
                {
                  "name": "date",
                  "rawType": "object",
                  "type": "string"
                },
                {
                  "name": "permanenza",
                  "rawType": "object",
                  "type": "string"
                },
                {
                  "name": "indirizzo",
                  "rawType": "object",
                  "type": "string"
                },
                {
                  "name": "valutazione",
                  "rawType": "float64",
                  "type": "float"
                },
                {
                  "name": "inizio_permanenza_datetime",
                  "rawType": "datetime64[ns]",
                  "type": "datetime"
                },
                {
                  "name": "fine_permanenza_datetime",
                  "rawType": "datetime64[ns]",
                  "type": "datetime"
                }
              ],
              "ref": "51c10814-300d-4cb0-9f06-9be960dcb237",
              "rows": [
                [
                  "676",
                  "Casa vacanze TERRA DI ASLAN",
                  "Narni",
                  "terni",
                  null,
                  "119",
                  "1",
                  "2",
                  "01-08-25",
                  "02-08-25",
                  "9,6",
                  "Eccezionale",
                  "7",
                  "1 agosto - 2 agosto",
                  "1 notte, 2 adulti",
                  "Narni, Narni ",
                  "3.0",
                  "2025-01-08 00:00:00",
                  "2025-02-08 00:00:00"
                ]
              ],
              "shape": {
                "columns": 18,
                "rows": 1
              }
            },
            "text/html": [
              "<div>\n",
              "<style scoped>\n",
              "    .dataframe tbody tr th:only-of-type {\n",
              "        vertical-align: middle;\n",
              "    }\n",
              "\n",
              "    .dataframe tbody tr th {\n",
              "        vertical-align: top;\n",
              "    }\n",
              "\n",
              "    .dataframe thead th {\n",
              "        text-align: right;\n",
              "    }\n",
              "</style>\n",
              "<table border=\"1\" class=\"dataframe\">\n",
              "  <thead>\n",
              "    <tr style=\"text-align: right;\">\n",
              "      <th></th>\n",
              "      <th>titolo</th>\n",
              "      <th>zona</th>\n",
              "      <th>città</th>\n",
              "      <th>distanza_centro</th>\n",
              "      <th>prezzo</th>\n",
              "      <th>numero_notti</th>\n",
              "      <th>numero_persone</th>\n",
              "      <th>inizio_permanenza</th>\n",
              "      <th>fine_permanenza</th>\n",
              "      <th>recensione_voto_numerico</th>\n",
              "      <th>recensione_voto_parola</th>\n",
              "      <th>numero_recensioni</th>\n",
              "      <th>date</th>\n",
              "      <th>permanenza</th>\n",
              "      <th>indirizzo</th>\n",
              "      <th>valutazione</th>\n",
              "      <th>inizio_permanenza_datetime</th>\n",
              "      <th>fine_permanenza_datetime</th>\n",
              "    </tr>\n",
              "  </thead>\n",
              "  <tbody>\n",
              "    <tr>\n",
              "      <th>676</th>\n",
              "      <td>Casa vacanze TERRA DI ASLAN</td>\n",
              "      <td>Narni</td>\n",
              "      <td>terni</td>\n",
              "      <td>NaN</td>\n",
              "      <td>119</td>\n",
              "      <td>1</td>\n",
              "      <td>2</td>\n",
              "      <td>01-08-25</td>\n",
              "      <td>02-08-25</td>\n",
              "      <td>9,6</td>\n",
              "      <td>Eccezionale</td>\n",
              "      <td>7</td>\n",
              "      <td>1 agosto - 2 agosto</td>\n",
              "      <td>1 notte, 2 adulti</td>\n",
              "      <td>Narni, Narni</td>\n",
              "      <td>3.0</td>\n",
              "      <td>2025-01-08</td>\n",
              "      <td>2025-02-08</td>\n",
              "    </tr>\n",
              "  </tbody>\n",
              "</table>\n",
              "</div>"
            ],
            "text/plain": [
              "                          titolo   zona  città  distanza_centro  prezzo  \\\n",
              "676  Casa vacanze TERRA DI ASLAN  Narni  terni              NaN     119   \n",
              "\n",
              "     numero_notti  numero_persone inizio_permanenza fine_permanenza  \\\n",
              "676             1               2          01-08-25        02-08-25   \n",
              "\n",
              "    recensione_voto_numerico recensione_voto_parola  numero_recensioni  \\\n",
              "676                      9,6            Eccezionale                  7   \n",
              "\n",
              "                    date         permanenza      indirizzo  valutazione  \\\n",
              "676  1 agosto - 2 agosto  1 notte, 2 adulti  Narni, Narni           3.0   \n",
              "\n",
              "    inizio_permanenza_datetime fine_permanenza_datetime  \n",
              "676                 2025-01-08               2025-02-08  "
            ]
          },
          "metadata": {},
          "output_type": "display_data"
        }
      ],
      "source": [
        "display(agoda.head(1))\n",
        "display(agoda.tail(1))"
      ]
    },
    {
      "cell_type": "code",
      "execution_count": 30,
      "metadata": {},
      "outputs": [
        {
          "name": "stdout",
          "output_type": "stream",
          "text": [
            "<class 'pandas.core.frame.DataFrame'>\n",
            "RangeIndex: 677 entries, 0 to 676\n",
            "Data columns (total 18 columns):\n",
            " #   Column                      Non-Null Count  Dtype         \n",
            "---  ------                      --------------  -----         \n",
            " 0   titolo                      677 non-null    object        \n",
            " 1   zona                        677 non-null    object        \n",
            " 2   città                       677 non-null    object        \n",
            " 3   distanza_centro             539 non-null    float64       \n",
            " 4   prezzo                      677 non-null    int64         \n",
            " 5   numero_notti                677 non-null    int64         \n",
            " 6   numero_persone              677 non-null    int64         \n",
            " 7   inizio_permanenza           677 non-null    object        \n",
            " 8   fine_permanenza             677 non-null    object        \n",
            " 9   recensione_voto_numerico    677 non-null    object        \n",
            " 10  recensione_voto_parola      677 non-null    object        \n",
            " 11  numero_recensioni           677 non-null    int64         \n",
            " 12  date                        677 non-null    object        \n",
            " 13  permanenza                  677 non-null    object        \n",
            " 14  indirizzo                   677 non-null    object        \n",
            " 15  valutazione                 665 non-null    float64       \n",
            " 16  inizio_permanenza_datetime  677 non-null    datetime64[ns]\n",
            " 17  fine_permanenza_datetime    677 non-null    datetime64[ns]\n",
            "dtypes: datetime64[ns](2), float64(2), int64(4), object(10)\n",
            "memory usage: 95.3+ KB\n"
          ]
        }
      ],
      "source": [
        "agoda.info()"
      ]
    },
    {
      "cell_type": "markdown",
      "metadata": {},
      "source": [
        "## Cleaning dei dati riguardanti Booking"
      ]
    },
    {
      "cell_type": "markdown",
      "metadata": {},
      "source": [
        "Come prima cosa si uniscono i datataset **booking_roma** e **booking_terni** così da lavorare su un solo dataset."
      ]
    },
    {
      "cell_type": "code",
      "execution_count": 31,
      "metadata": {},
      "outputs": [
        {
          "data": {
            "application/vnd.microsoft.datawrangler.viewer.v0+json": {
              "columns": [
                {
                  "name": "index",
                  "rawType": "int64",
                  "type": "integer"
                },
                {
                  "name": "titolo",
                  "rawType": "object",
                  "type": "string"
                },
                {
                  "name": "zona",
                  "rawType": "object",
                  "type": "string"
                },
                {
                  "name": "città",
                  "rawType": "object",
                  "type": "string"
                },
                {
                  "name": "distanza_centro",
                  "rawType": "object",
                  "type": "string"
                },
                {
                  "name": "prezzo",
                  "rawType": "object",
                  "type": "string"
                },
                {
                  "name": "numero_notti",
                  "rawType": "object",
                  "type": "string"
                },
                {
                  "name": "numero_persone",
                  "rawType": "object",
                  "type": "string"
                },
                {
                  "name": "inizio_permanenza",
                  "rawType": "object",
                  "type": "string"
                },
                {
                  "name": "fine_permanenza",
                  "rawType": "object",
                  "type": "string"
                },
                {
                  "name": "recensione_voto_numerico",
                  "rawType": "object",
                  "type": "string"
                },
                {
                  "name": "recensione_voto_parola",
                  "rawType": "object",
                  "type": "string"
                },
                {
                  "name": "numero_recensioni",
                  "rawType": "object",
                  "type": "string"
                },
                {
                  "name": "date",
                  "rawType": "object",
                  "type": "string"
                },
                {
                  "name": "permanenza",
                  "rawType": "object",
                  "type": "string"
                },
                {
                  "name": "indirizzo",
                  "rawType": "object",
                  "type": "string"
                },
                {
                  "name": "valutazione_booking",
                  "rawType": "float64",
                  "type": "float"
                },
                {
                  "name": "stelle",
                  "rawType": "float64",
                  "type": "float"
                },
                {
                  "name": "descrizione_camera",
                  "rawType": "object",
                  "type": "string"
                },
                {
                  "name": "configurazione_camera",
                  "rawType": "object",
                  "type": "string"
                },
                {
                  "name": "descrizione_unprocessed",
                  "rawType": "object",
                  "type": "string"
                }
              ],
              "ref": "8b9dee64-36f6-41dc-a45a-a6e9d2a00bdc",
              "rows": [
                [
                  "0",
                  "The Sereno-3",
                  "Trionfale",
                  "roma",
                  "3,5 km dal centro",
                  "€ 242",
                  "1 notte",
                  " 2 adulti",
                  "1 agosto ",
                  " 2 agosto",
                  "8,1",
                  "Ottimo ",
                  "10 recensioni",
                  "1 agosto - 2 agosto",
                  "1 notte, 2 adulti",
                  "Trionfale, Roma",
                  "4.0",
                  null,
                  "Appartamento con 2 Camere da Letto e Vista Città",
                  "Intero appartamento • 2 camere da letto • 1 bagno • 1 cucina • 88 m²",
                  "Appartamento con 2 Camere da Letto e Vista CittàIntero appartamento • 2 camere da letto • 1 bagno • 1 cucina • 88 m²3 letti (2 matrimoniali grandi, 1 divano letto)"
                ]
              ],
              "shape": {
                "columns": 20,
                "rows": 1
              }
            },
            "text/html": [
              "<div>\n",
              "<style scoped>\n",
              "    .dataframe tbody tr th:only-of-type {\n",
              "        vertical-align: middle;\n",
              "    }\n",
              "\n",
              "    .dataframe tbody tr th {\n",
              "        vertical-align: top;\n",
              "    }\n",
              "\n",
              "    .dataframe thead th {\n",
              "        text-align: right;\n",
              "    }\n",
              "</style>\n",
              "<table border=\"1\" class=\"dataframe\">\n",
              "  <thead>\n",
              "    <tr style=\"text-align: right;\">\n",
              "      <th></th>\n",
              "      <th>titolo</th>\n",
              "      <th>zona</th>\n",
              "      <th>città</th>\n",
              "      <th>distanza_centro</th>\n",
              "      <th>prezzo</th>\n",
              "      <th>numero_notti</th>\n",
              "      <th>numero_persone</th>\n",
              "      <th>inizio_permanenza</th>\n",
              "      <th>fine_permanenza</th>\n",
              "      <th>recensione_voto_numerico</th>\n",
              "      <th>recensione_voto_parola</th>\n",
              "      <th>numero_recensioni</th>\n",
              "      <th>date</th>\n",
              "      <th>permanenza</th>\n",
              "      <th>indirizzo</th>\n",
              "      <th>valutazione_booking</th>\n",
              "      <th>stelle</th>\n",
              "      <th>descrizione_camera</th>\n",
              "      <th>configurazione_camera</th>\n",
              "      <th>descrizione_unprocessed</th>\n",
              "    </tr>\n",
              "  </thead>\n",
              "  <tbody>\n",
              "    <tr>\n",
              "      <th>0</th>\n",
              "      <td>The Sereno-3</td>\n",
              "      <td>Trionfale</td>\n",
              "      <td>roma</td>\n",
              "      <td>3,5 km dal centro</td>\n",
              "      <td>€ 242</td>\n",
              "      <td>1 notte</td>\n",
              "      <td>2 adulti</td>\n",
              "      <td>1 agosto</td>\n",
              "      <td>2 agosto</td>\n",
              "      <td>8,1</td>\n",
              "      <td>Ottimo</td>\n",
              "      <td>10 recensioni</td>\n",
              "      <td>1 agosto - 2 agosto</td>\n",
              "      <td>1 notte, 2 adulti</td>\n",
              "      <td>Trionfale, Roma</td>\n",
              "      <td>4.0</td>\n",
              "      <td>NaN</td>\n",
              "      <td>Appartamento con 2 Camere da Letto e Vista Città</td>\n",
              "      <td>Intero appartamento • 2 camere da letto • 1 ba...</td>\n",
              "      <td>Appartamento con 2 Camere da Letto e Vista Cit...</td>\n",
              "    </tr>\n",
              "  </tbody>\n",
              "</table>\n",
              "</div>"
            ],
            "text/plain": [
              "         titolo       zona città    distanza_centro prezzo numero_notti  \\\n",
              "0  The Sereno-3  Trionfale  roma  3,5 km dal centro  € 242      1 notte   \n",
              "\n",
              "  numero_persone inizio_permanenza fine_permanenza recensione_voto_numerico  \\\n",
              "0       2 adulti         1 agosto         2 agosto                      8,1   \n",
              "\n",
              "  recensione_voto_parola numero_recensioni                 date  \\\n",
              "0                Ottimo      10 recensioni  1 agosto - 2 agosto   \n",
              "\n",
              "          permanenza        indirizzo  valutazione_booking  stelle  \\\n",
              "0  1 notte, 2 adulti  Trionfale, Roma                  4.0     NaN   \n",
              "\n",
              "                                 descrizione_camera  \\\n",
              "0  Appartamento con 2 Camere da Letto e Vista Città   \n",
              "\n",
              "                               configurazione_camera  \\\n",
              "0  Intero appartamento • 2 camere da letto • 1 ba...   \n",
              "\n",
              "                             descrizione_unprocessed  \n",
              "0  Appartamento con 2 Camere da Letto e Vista Cit...  "
            ]
          },
          "metadata": {},
          "output_type": "display_data"
        },
        {
          "data": {
            "application/vnd.microsoft.datawrangler.viewer.v0+json": {
              "columns": [
                {
                  "name": "index",
                  "rawType": "int64",
                  "type": "integer"
                },
                {
                  "name": "titolo",
                  "rawType": "object",
                  "type": "string"
                },
                {
                  "name": "zona",
                  "rawType": "object",
                  "type": "string"
                },
                {
                  "name": "città",
                  "rawType": "object",
                  "type": "string"
                },
                {
                  "name": "distanza_centro",
                  "rawType": "object",
                  "type": "string"
                },
                {
                  "name": "prezzo",
                  "rawType": "object",
                  "type": "string"
                },
                {
                  "name": "numero_notti",
                  "rawType": "object",
                  "type": "string"
                },
                {
                  "name": "numero_persone",
                  "rawType": "object",
                  "type": "string"
                },
                {
                  "name": "inizio_permanenza",
                  "rawType": "object",
                  "type": "string"
                },
                {
                  "name": "fine_permanenza",
                  "rawType": "object",
                  "type": "string"
                },
                {
                  "name": "recensione_voto_numerico",
                  "rawType": "object",
                  "type": "string"
                },
                {
                  "name": "recensione_voto_parola",
                  "rawType": "object",
                  "type": "string"
                },
                {
                  "name": "numero_recensioni",
                  "rawType": "object",
                  "type": "string"
                },
                {
                  "name": "date",
                  "rawType": "object",
                  "type": "string"
                },
                {
                  "name": "permanenza",
                  "rawType": "object",
                  "type": "string"
                },
                {
                  "name": "indirizzo",
                  "rawType": "object",
                  "type": "string"
                },
                {
                  "name": "valutazione_booking",
                  "rawType": "float64",
                  "type": "float"
                },
                {
                  "name": "stelle",
                  "rawType": "float64",
                  "type": "float"
                },
                {
                  "name": "descrizione_camera",
                  "rawType": "object",
                  "type": "string"
                },
                {
                  "name": "configurazione_camera",
                  "rawType": "object",
                  "type": "string"
                },
                {
                  "name": "descrizione_unprocessed",
                  "rawType": "object",
                  "type": "string"
                }
              ],
              "ref": "9d1935c3-3306-4b85-98c0-4515f0c4243c",
              "rows": [
                [
                  "885",
                  "-15min Marmore- Ampio Appartamento Terra e Cuore",
                  "Terni",
                  "terni",
                  "2,9 km dal centro",
                  "€ 182",
                  "1 notte",
                  " 2 adulti",
                  "1 agosto ",
                  " 2 agosto",
                  "Novità su booking",
                  "Novità su booking",
                  "Novità su booking",
                  "1 agosto - 2 agosto",
                  "1 notte, 2 adulti",
                  "Terni",
                  null,
                  null,
                  "Appartamento con 2 Camere da Letto",
                  "Configurazione camera non disponibile",
                  "Appartamento con 2 Camere da Letto4 letti (2 singoli, 1 matrimoniale alla francese, 1 divano letto)Cancellazione gratuita"
                ]
              ],
              "shape": {
                "columns": 20,
                "rows": 1
              }
            },
            "text/html": [
              "<div>\n",
              "<style scoped>\n",
              "    .dataframe tbody tr th:only-of-type {\n",
              "        vertical-align: middle;\n",
              "    }\n",
              "\n",
              "    .dataframe tbody tr th {\n",
              "        vertical-align: top;\n",
              "    }\n",
              "\n",
              "    .dataframe thead th {\n",
              "        text-align: right;\n",
              "    }\n",
              "</style>\n",
              "<table border=\"1\" class=\"dataframe\">\n",
              "  <thead>\n",
              "    <tr style=\"text-align: right;\">\n",
              "      <th></th>\n",
              "      <th>titolo</th>\n",
              "      <th>zona</th>\n",
              "      <th>città</th>\n",
              "      <th>distanza_centro</th>\n",
              "      <th>prezzo</th>\n",
              "      <th>numero_notti</th>\n",
              "      <th>numero_persone</th>\n",
              "      <th>inizio_permanenza</th>\n",
              "      <th>fine_permanenza</th>\n",
              "      <th>recensione_voto_numerico</th>\n",
              "      <th>recensione_voto_parola</th>\n",
              "      <th>numero_recensioni</th>\n",
              "      <th>date</th>\n",
              "      <th>permanenza</th>\n",
              "      <th>indirizzo</th>\n",
              "      <th>valutazione_booking</th>\n",
              "      <th>stelle</th>\n",
              "      <th>descrizione_camera</th>\n",
              "      <th>configurazione_camera</th>\n",
              "      <th>descrizione_unprocessed</th>\n",
              "    </tr>\n",
              "  </thead>\n",
              "  <tbody>\n",
              "    <tr>\n",
              "      <th>885</th>\n",
              "      <td>-15min Marmore- Ampio Appartamento Terra e Cuore</td>\n",
              "      <td>Terni</td>\n",
              "      <td>terni</td>\n",
              "      <td>2,9 km dal centro</td>\n",
              "      <td>€ 182</td>\n",
              "      <td>1 notte</td>\n",
              "      <td>2 adulti</td>\n",
              "      <td>1 agosto</td>\n",
              "      <td>2 agosto</td>\n",
              "      <td>Novità su booking</td>\n",
              "      <td>Novità su booking</td>\n",
              "      <td>Novità su booking</td>\n",
              "      <td>1 agosto - 2 agosto</td>\n",
              "      <td>1 notte, 2 adulti</td>\n",
              "      <td>Terni</td>\n",
              "      <td>NaN</td>\n",
              "      <td>NaN</td>\n",
              "      <td>Appartamento con 2 Camere da Letto</td>\n",
              "      <td>Configurazione camera non disponibile</td>\n",
              "      <td>Appartamento con 2 Camere da Letto4 letti (2 s...</td>\n",
              "    </tr>\n",
              "  </tbody>\n",
              "</table>\n",
              "</div>"
            ],
            "text/plain": [
              "                                               titolo   zona  città  \\\n",
              "885  -15min Marmore- Ampio Appartamento Terra e Cuore  Terni  terni   \n",
              "\n",
              "       distanza_centro prezzo numero_notti numero_persone inizio_permanenza  \\\n",
              "885  2,9 km dal centro  € 182      1 notte       2 adulti         1 agosto    \n",
              "\n",
              "    fine_permanenza recensione_voto_numerico recensione_voto_parola  \\\n",
              "885        2 agosto        Novità su booking      Novità su booking   \n",
              "\n",
              "     numero_recensioni                 date         permanenza indirizzo  \\\n",
              "885  Novità su booking  1 agosto - 2 agosto  1 notte, 2 adulti     Terni   \n",
              "\n",
              "     valutazione_booking  stelle                  descrizione_camera  \\\n",
              "885                  NaN     NaN  Appartamento con 2 Camere da Letto   \n",
              "\n",
              "                     configurazione_camera  \\\n",
              "885  Configurazione camera non disponibile   \n",
              "\n",
              "                               descrizione_unprocessed  \n",
              "885  Appartamento con 2 Camere da Letto4 letti (2 s...  "
            ]
          },
          "metadata": {},
          "output_type": "display_data"
        }
      ],
      "source": [
        "booking = pd.concat([booking_roma,booking_terni]) # Unisco agoda_roma e agoda_terni\n",
        "booking.reset_index(inplace=True,drop=True) # Nuovi indici, Eliminare quelli precedenti\n",
        "display(booking.head(1))\n",
        "display(booking.tail(1))"
      ]
    },
    {
      "cell_type": "code",
      "execution_count": 32,
      "metadata": {},
      "outputs": [],
      "source": [
        "# Pulizia della variabile 'prezzo' : rimosso simbolo euro ed il punto separatore delle migliaia tramite la funzione pulisci_prezzo, variabile trasformata da object a int.\n",
        "booking.prezzo = pulisci_prezzo(booking.prezzo)\n",
        "\n",
        "# Pulizia della variabile 'numero di recensioni' -> rimuove la parola 'recensioni, Se la recensione risulta 'novità su agoda' assegna 0. rimuove anche il separatore delle migliaia. Discutible l'assegnazione di 0 recensioni quando è una novita.\n",
        "booking.numero_recensioni =  booking.numero_recensioni.apply(lambda row: pulisci_recensione(row))\n",
        "\n",
        "# Pulizia della variabile 'distanza_centro' -> Lascia solo la distanza in km.\n",
        "booking[\"distanza_centro\"] =  booking.distanza_centro.apply(lambda row: pulisci_distanza_centro(row))\n",
        "\n",
        "# Pulizia variabili: recensione_voto_parola, recensione_voto_parola mettere NAN dove è specificato 'Novità su booking'\n",
        "booking.loc[booking.recensione_voto_numerico == \"Novità su booking\",\"recensione_voto_numerico\"] = np.nan # Questo è il formato giusto per assegnare un nuovo valore ad una variabile nel dataframe che rispetta alcune condizioni\n",
        "booking.loc[booking.recensione_voto_parola == \"Novità su booking\",\"recensione_voto_parola\"] = np.nan\n",
        "\n",
        "# Rendere la variabile numero di persone un intero ed eliminare la parola 'adulti'\n",
        "booking[\"numero_persone\"]=booking.numero_persone.str.replace(\"adulti\",\"\").astype(int)\n",
        "\n",
        "# Rendere la variabile numero di notti un intero ed eliminare la parola 'notte'\n",
        "booking[\"numero_notti\"]=booking.numero_notti.str.replace(\"notte\",\"\").astype(int)\n",
        "\n",
        "# Pulizia della variabile 'inizio_permanenza' -> Trasforma la data in formato italiano.\n",
        "booking[\"inizio_permanenza\"] =  booking.inizio_permanenza.apply(lambda row: trasforma_in_data(row))\n",
        "\n",
        "# Trasformare la colonna in un datetime (formato datetime, standard python)\n",
        "booking[\"inizio_permanenza_datetime\"]=pd.to_datetime(booking[\"inizio_permanenza\"])\n",
        "\n",
        "# Pulizia della variabile 'fine_permanenza' -> -> Trasforma la data in formato italiano.\n",
        "booking[\"fine_permanenza\"] =  booking.fine_permanenza.apply(lambda row: trasforma_in_data(row))\n",
        "\n",
        "# Trasformare la colonna in un datetime (formato datetime, standard python)\n",
        "booking[\"fine_permanenza_datetime\"]=pd.to_datetime(booking[\"fine_permanenza\"])"
      ]
    },
    {
      "cell_type": "code",
      "execution_count": 33,
      "metadata": {},
      "outputs": [
        {
          "data": {
            "application/vnd.microsoft.datawrangler.viewer.v0+json": {
              "columns": [
                {
                  "name": "index",
                  "rawType": "int64",
                  "type": "integer"
                },
                {
                  "name": "titolo",
                  "rawType": "object",
                  "type": "string"
                },
                {
                  "name": "zona",
                  "rawType": "object",
                  "type": "string"
                },
                {
                  "name": "città",
                  "rawType": "object",
                  "type": "string"
                },
                {
                  "name": "distanza_centro",
                  "rawType": "float64",
                  "type": "float"
                },
                {
                  "name": "prezzo",
                  "rawType": "int64",
                  "type": "integer"
                },
                {
                  "name": "numero_notti",
                  "rawType": "int64",
                  "type": "integer"
                },
                {
                  "name": "numero_persone",
                  "rawType": "int64",
                  "type": "integer"
                },
                {
                  "name": "inizio_permanenza",
                  "rawType": "object",
                  "type": "string"
                },
                {
                  "name": "fine_permanenza",
                  "rawType": "object",
                  "type": "string"
                },
                {
                  "name": "recensione_voto_numerico",
                  "rawType": "object",
                  "type": "string"
                },
                {
                  "name": "recensione_voto_parola",
                  "rawType": "object",
                  "type": "string"
                },
                {
                  "name": "numero_recensioni",
                  "rawType": "int64",
                  "type": "integer"
                },
                {
                  "name": "date",
                  "rawType": "object",
                  "type": "string"
                },
                {
                  "name": "permanenza",
                  "rawType": "object",
                  "type": "string"
                },
                {
                  "name": "indirizzo",
                  "rawType": "object",
                  "type": "string"
                },
                {
                  "name": "valutazione_booking",
                  "rawType": "float64",
                  "type": "float"
                },
                {
                  "name": "stelle",
                  "rawType": "float64",
                  "type": "float"
                },
                {
                  "name": "descrizione_camera",
                  "rawType": "object",
                  "type": "string"
                },
                {
                  "name": "configurazione_camera",
                  "rawType": "object",
                  "type": "string"
                },
                {
                  "name": "descrizione_unprocessed",
                  "rawType": "object",
                  "type": "string"
                },
                {
                  "name": "inizio_permanenza_datetime",
                  "rawType": "datetime64[ns]",
                  "type": "datetime"
                },
                {
                  "name": "fine_permanenza_datetime",
                  "rawType": "datetime64[ns]",
                  "type": "datetime"
                }
              ],
              "ref": "b0c11e2b-eddc-4721-b59f-ca0d80b4ca8f",
              "rows": [
                [
                  "0",
                  "The Sereno-3",
                  "Trionfale",
                  "roma",
                  "3.5",
                  "242",
                  "1",
                  "2",
                  "01-08-25",
                  "02-08-25",
                  "8,1",
                  "Ottimo ",
                  "10",
                  "1 agosto - 2 agosto",
                  "1 notte, 2 adulti",
                  "Trionfale, Roma",
                  "4.0",
                  null,
                  "Appartamento con 2 Camere da Letto e Vista Città",
                  "Intero appartamento • 2 camere da letto • 1 bagno • 1 cucina • 88 m²",
                  "Appartamento con 2 Camere da Letto e Vista CittàIntero appartamento • 2 camere da letto • 1 bagno • 1 cucina • 88 m²3 letti (2 matrimoniali grandi, 1 divano letto)",
                  "2025-01-08 00:00:00",
                  "2025-02-08 00:00:00"
                ]
              ],
              "shape": {
                "columns": 22,
                "rows": 1
              }
            },
            "text/html": [
              "<div>\n",
              "<style scoped>\n",
              "    .dataframe tbody tr th:only-of-type {\n",
              "        vertical-align: middle;\n",
              "    }\n",
              "\n",
              "    .dataframe tbody tr th {\n",
              "        vertical-align: top;\n",
              "    }\n",
              "\n",
              "    .dataframe thead th {\n",
              "        text-align: right;\n",
              "    }\n",
              "</style>\n",
              "<table border=\"1\" class=\"dataframe\">\n",
              "  <thead>\n",
              "    <tr style=\"text-align: right;\">\n",
              "      <th></th>\n",
              "      <th>titolo</th>\n",
              "      <th>zona</th>\n",
              "      <th>città</th>\n",
              "      <th>distanza_centro</th>\n",
              "      <th>prezzo</th>\n",
              "      <th>numero_notti</th>\n",
              "      <th>numero_persone</th>\n",
              "      <th>inizio_permanenza</th>\n",
              "      <th>fine_permanenza</th>\n",
              "      <th>recensione_voto_numerico</th>\n",
              "      <th>recensione_voto_parola</th>\n",
              "      <th>numero_recensioni</th>\n",
              "      <th>date</th>\n",
              "      <th>permanenza</th>\n",
              "      <th>indirizzo</th>\n",
              "      <th>valutazione_booking</th>\n",
              "      <th>stelle</th>\n",
              "      <th>descrizione_camera</th>\n",
              "      <th>configurazione_camera</th>\n",
              "      <th>descrizione_unprocessed</th>\n",
              "      <th>inizio_permanenza_datetime</th>\n",
              "      <th>fine_permanenza_datetime</th>\n",
              "    </tr>\n",
              "  </thead>\n",
              "  <tbody>\n",
              "    <tr>\n",
              "      <th>0</th>\n",
              "      <td>The Sereno-3</td>\n",
              "      <td>Trionfale</td>\n",
              "      <td>roma</td>\n",
              "      <td>3.5</td>\n",
              "      <td>242</td>\n",
              "      <td>1</td>\n",
              "      <td>2</td>\n",
              "      <td>01-08-25</td>\n",
              "      <td>02-08-25</td>\n",
              "      <td>8,1</td>\n",
              "      <td>Ottimo</td>\n",
              "      <td>10</td>\n",
              "      <td>1 agosto - 2 agosto</td>\n",
              "      <td>1 notte, 2 adulti</td>\n",
              "      <td>Trionfale, Roma</td>\n",
              "      <td>4.0</td>\n",
              "      <td>NaN</td>\n",
              "      <td>Appartamento con 2 Camere da Letto e Vista Città</td>\n",
              "      <td>Intero appartamento • 2 camere da letto • 1 ba...</td>\n",
              "      <td>Appartamento con 2 Camere da Letto e Vista Cit...</td>\n",
              "      <td>2025-01-08</td>\n",
              "      <td>2025-02-08</td>\n",
              "    </tr>\n",
              "  </tbody>\n",
              "</table>\n",
              "</div>"
            ],
            "text/plain": [
              "         titolo       zona città  distanza_centro  prezzo  numero_notti  \\\n",
              "0  The Sereno-3  Trionfale  roma              3.5     242             1   \n",
              "\n",
              "   numero_persone inizio_permanenza fine_permanenza recensione_voto_numerico  \\\n",
              "0               2          01-08-25        02-08-25                      8,1   \n",
              "\n",
              "  recensione_voto_parola  numero_recensioni                 date  \\\n",
              "0                Ottimo                  10  1 agosto - 2 agosto   \n",
              "\n",
              "          permanenza        indirizzo  valutazione_booking  stelle  \\\n",
              "0  1 notte, 2 adulti  Trionfale, Roma                  4.0     NaN   \n",
              "\n",
              "                                 descrizione_camera  \\\n",
              "0  Appartamento con 2 Camere da Letto e Vista Città   \n",
              "\n",
              "                               configurazione_camera  \\\n",
              "0  Intero appartamento • 2 camere da letto • 1 ba...   \n",
              "\n",
              "                             descrizione_unprocessed  \\\n",
              "0  Appartamento con 2 Camere da Letto e Vista Cit...   \n",
              "\n",
              "  inizio_permanenza_datetime fine_permanenza_datetime  \n",
              "0                 2025-01-08               2025-02-08  "
            ]
          },
          "metadata": {},
          "output_type": "display_data"
        },
        {
          "data": {
            "application/vnd.microsoft.datawrangler.viewer.v0+json": {
              "columns": [
                {
                  "name": "index",
                  "rawType": "int64",
                  "type": "integer"
                },
                {
                  "name": "titolo",
                  "rawType": "object",
                  "type": "string"
                },
                {
                  "name": "zona",
                  "rawType": "object",
                  "type": "string"
                },
                {
                  "name": "città",
                  "rawType": "object",
                  "type": "string"
                },
                {
                  "name": "distanza_centro",
                  "rawType": "float64",
                  "type": "float"
                },
                {
                  "name": "prezzo",
                  "rawType": "int64",
                  "type": "integer"
                },
                {
                  "name": "numero_notti",
                  "rawType": "int64",
                  "type": "integer"
                },
                {
                  "name": "numero_persone",
                  "rawType": "int64",
                  "type": "integer"
                },
                {
                  "name": "inizio_permanenza",
                  "rawType": "object",
                  "type": "string"
                },
                {
                  "name": "fine_permanenza",
                  "rawType": "object",
                  "type": "string"
                },
                {
                  "name": "recensione_voto_numerico",
                  "rawType": "object",
                  "type": "unknown"
                },
                {
                  "name": "recensione_voto_parola",
                  "rawType": "object",
                  "type": "unknown"
                },
                {
                  "name": "numero_recensioni",
                  "rawType": "int64",
                  "type": "integer"
                },
                {
                  "name": "date",
                  "rawType": "object",
                  "type": "string"
                },
                {
                  "name": "permanenza",
                  "rawType": "object",
                  "type": "string"
                },
                {
                  "name": "indirizzo",
                  "rawType": "object",
                  "type": "string"
                },
                {
                  "name": "valutazione_booking",
                  "rawType": "float64",
                  "type": "float"
                },
                {
                  "name": "stelle",
                  "rawType": "float64",
                  "type": "float"
                },
                {
                  "name": "descrizione_camera",
                  "rawType": "object",
                  "type": "string"
                },
                {
                  "name": "configurazione_camera",
                  "rawType": "object",
                  "type": "string"
                },
                {
                  "name": "descrizione_unprocessed",
                  "rawType": "object",
                  "type": "string"
                },
                {
                  "name": "inizio_permanenza_datetime",
                  "rawType": "datetime64[ns]",
                  "type": "datetime"
                },
                {
                  "name": "fine_permanenza_datetime",
                  "rawType": "datetime64[ns]",
                  "type": "datetime"
                }
              ],
              "ref": "6f967949-8b15-49f1-8ace-20c538d8b8f4",
              "rows": [
                [
                  "885",
                  "-15min Marmore- Ampio Appartamento Terra e Cuore",
                  "Terni",
                  "terni",
                  "2.9",
                  "182",
                  "1",
                  "2",
                  "01-08-25",
                  "02-08-25",
                  null,
                  null,
                  "0",
                  "1 agosto - 2 agosto",
                  "1 notte, 2 adulti",
                  "Terni",
                  null,
                  null,
                  "Appartamento con 2 Camere da Letto",
                  "Configurazione camera non disponibile",
                  "Appartamento con 2 Camere da Letto4 letti (2 singoli, 1 matrimoniale alla francese, 1 divano letto)Cancellazione gratuita",
                  "2025-01-08 00:00:00",
                  "2025-02-08 00:00:00"
                ]
              ],
              "shape": {
                "columns": 22,
                "rows": 1
              }
            },
            "text/html": [
              "<div>\n",
              "<style scoped>\n",
              "    .dataframe tbody tr th:only-of-type {\n",
              "        vertical-align: middle;\n",
              "    }\n",
              "\n",
              "    .dataframe tbody tr th {\n",
              "        vertical-align: top;\n",
              "    }\n",
              "\n",
              "    .dataframe thead th {\n",
              "        text-align: right;\n",
              "    }\n",
              "</style>\n",
              "<table border=\"1\" class=\"dataframe\">\n",
              "  <thead>\n",
              "    <tr style=\"text-align: right;\">\n",
              "      <th></th>\n",
              "      <th>titolo</th>\n",
              "      <th>zona</th>\n",
              "      <th>città</th>\n",
              "      <th>distanza_centro</th>\n",
              "      <th>prezzo</th>\n",
              "      <th>numero_notti</th>\n",
              "      <th>numero_persone</th>\n",
              "      <th>inizio_permanenza</th>\n",
              "      <th>fine_permanenza</th>\n",
              "      <th>recensione_voto_numerico</th>\n",
              "      <th>recensione_voto_parola</th>\n",
              "      <th>numero_recensioni</th>\n",
              "      <th>date</th>\n",
              "      <th>permanenza</th>\n",
              "      <th>indirizzo</th>\n",
              "      <th>valutazione_booking</th>\n",
              "      <th>stelle</th>\n",
              "      <th>descrizione_camera</th>\n",
              "      <th>configurazione_camera</th>\n",
              "      <th>descrizione_unprocessed</th>\n",
              "      <th>inizio_permanenza_datetime</th>\n",
              "      <th>fine_permanenza_datetime</th>\n",
              "    </tr>\n",
              "  </thead>\n",
              "  <tbody>\n",
              "    <tr>\n",
              "      <th>885</th>\n",
              "      <td>-15min Marmore- Ampio Appartamento Terra e Cuore</td>\n",
              "      <td>Terni</td>\n",
              "      <td>terni</td>\n",
              "      <td>2.9</td>\n",
              "      <td>182</td>\n",
              "      <td>1</td>\n",
              "      <td>2</td>\n",
              "      <td>01-08-25</td>\n",
              "      <td>02-08-25</td>\n",
              "      <td>NaN</td>\n",
              "      <td>NaN</td>\n",
              "      <td>0</td>\n",
              "      <td>1 agosto - 2 agosto</td>\n",
              "      <td>1 notte, 2 adulti</td>\n",
              "      <td>Terni</td>\n",
              "      <td>NaN</td>\n",
              "      <td>NaN</td>\n",
              "      <td>Appartamento con 2 Camere da Letto</td>\n",
              "      <td>Configurazione camera non disponibile</td>\n",
              "      <td>Appartamento con 2 Camere da Letto4 letti (2 s...</td>\n",
              "      <td>2025-01-08</td>\n",
              "      <td>2025-02-08</td>\n",
              "    </tr>\n",
              "  </tbody>\n",
              "</table>\n",
              "</div>"
            ],
            "text/plain": [
              "                                               titolo   zona  città  \\\n",
              "885  -15min Marmore- Ampio Appartamento Terra e Cuore  Terni  terni   \n",
              "\n",
              "     distanza_centro  prezzo  numero_notti  numero_persone inizio_permanenza  \\\n",
              "885              2.9     182             1               2          01-08-25   \n",
              "\n",
              "    fine_permanenza recensione_voto_numerico recensione_voto_parola  \\\n",
              "885        02-08-25                      NaN                    NaN   \n",
              "\n",
              "     numero_recensioni                 date         permanenza indirizzo  \\\n",
              "885                  0  1 agosto - 2 agosto  1 notte, 2 adulti     Terni   \n",
              "\n",
              "     valutazione_booking  stelle                  descrizione_camera  \\\n",
              "885                  NaN     NaN  Appartamento con 2 Camere da Letto   \n",
              "\n",
              "                     configurazione_camera  \\\n",
              "885  Configurazione camera non disponibile   \n",
              "\n",
              "                               descrizione_unprocessed  \\\n",
              "885  Appartamento con 2 Camere da Letto4 letti (2 s...   \n",
              "\n",
              "    inizio_permanenza_datetime fine_permanenza_datetime  \n",
              "885                 2025-01-08               2025-02-08  "
            ]
          },
          "metadata": {},
          "output_type": "display_data"
        }
      ],
      "source": [
        "display(booking.head(1))\n",
        "display(booking.tail(1))"
      ]
    },
    {
      "cell_type": "code",
      "execution_count": 34,
      "metadata": {},
      "outputs": [
        {
          "name": "stdout",
          "output_type": "stream",
          "text": [
            "<class 'pandas.core.frame.DataFrame'>\n",
            "RangeIndex: 886 entries, 0 to 885\n",
            "Data columns (total 22 columns):\n",
            " #   Column                      Non-Null Count  Dtype         \n",
            "---  ------                      --------------  -----         \n",
            " 0   titolo                      886 non-null    object        \n",
            " 1   zona                        886 non-null    object        \n",
            " 2   città                       886 non-null    object        \n",
            " 3   distanza_centro             886 non-null    float64       \n",
            " 4   prezzo                      886 non-null    int64         \n",
            " 5   numero_notti                886 non-null    int64         \n",
            " 6   numero_persone              886 non-null    int64         \n",
            " 7   inizio_permanenza           886 non-null    object        \n",
            " 8   fine_permanenza             886 non-null    object        \n",
            " 9   recensione_voto_numerico    881 non-null    object        \n",
            " 10  recensione_voto_parola      881 non-null    object        \n",
            " 11  numero_recensioni           886 non-null    int64         \n",
            " 12  date                        886 non-null    object        \n",
            " 13  permanenza                  886 non-null    object        \n",
            " 14  indirizzo                   886 non-null    object        \n",
            " 15  valutazione_booking         534 non-null    float64       \n",
            " 16  stelle                      310 non-null    float64       \n",
            " 17  descrizione_camera          886 non-null    object        \n",
            " 18  configurazione_camera       886 non-null    object        \n",
            " 19  descrizione_unprocessed     886 non-null    object        \n",
            " 20  inizio_permanenza_datetime  886 non-null    datetime64[ns]\n",
            " 21  fine_permanenza_datetime    886 non-null    datetime64[ns]\n",
            "dtypes: datetime64[ns](2), float64(3), int64(4), object(13)\n",
            "memory usage: 152.4+ KB\n"
          ]
        }
      ],
      "source": [
        "booking.info()"
      ]
    },
    {
      "cell_type": "markdown",
      "metadata": {},
      "source": [
        "# Preparazione dati per il record linkage"
      ]
    },
    {
      "cell_type": "markdown",
      "metadata": {},
      "source": [
        "Queste ulteriori trasformazioni sono mirate all'ottimizzazione del formato dei dati in vista del record linkage.     \n",
        "Ovvero manipolare le variabili:\n",
        "   - titolo\n",
        "   - zona\n",
        "\n",
        "In modo da facilitare il più possibile le operazioni di record linkage, sia in velocità che in accuratezza."
      ]
    },
    {
      "cell_type": "markdown",
      "metadata": {},
      "source": [
        "## Titolo"
      ]
    },
    {
      "cell_type": "markdown",
      "metadata": {},
      "source": [
        "### Creazione nuova variabile "
      ]
    },
    {
      "cell_type": "markdown",
      "metadata": {},
      "source": [
        "Creare una nuova variabile dal titolo chiamata **titolo_processed**.    \n",
        "Questa variabile prende il titolo e applica diverse trasformazioni.\n",
        "   - Rende il testo minuscolo;\n",
        "   - lo ordina\n",
        "   - rimuove caratteri speciali\n",
        "In questo modo si riusciranno ad identificare più facilmente e velocemente gli stessi hotel e B&B. \n"
      ]
    },
    {
      "cell_type": "code",
      "execution_count": 35,
      "metadata": {
        "id": "KEM8Mu4iD6S4"
      },
      "outputs": [],
      "source": [
        "# Creazione nuova variabile partendo dal titolo, il titolo viene mezzo in minuscolo, rimossi caratteri speciali ed ordinato.\n",
        "agoda.insert(loc = 1,\n",
        "             column = 'titolo_processed',\n",
        "             value = agoda.titolo.apply(lambda x: alfabeto(x)))\n",
        "\n",
        "# Creazione nuova variabile partendo dal titolo, il titolo viene mezzo in minuscolo, rimossi caratteri speciali ed ordinato.\n",
        "booking.insert(loc = 1,\n",
        "               column = 'titolo_processed',\n",
        "               value = booking.titolo.apply(lambda x: alfabeto(x)))"
      ]
    },
    {
      "cell_type": "code",
      "execution_count": 36,
      "metadata": {},
      "outputs": [
        {
          "data": {
            "application/vnd.microsoft.datawrangler.viewer.v0+json": {
              "columns": [
                {
                  "name": "index",
                  "rawType": "int64",
                  "type": "integer"
                },
                {
                  "name": "titolo",
                  "rawType": "object",
                  "type": "string"
                },
                {
                  "name": "titolo_processed",
                  "rawType": "object",
                  "type": "string"
                },
                {
                  "name": "zona",
                  "rawType": "object",
                  "type": "string"
                },
                {
                  "name": "città",
                  "rawType": "object",
                  "type": "string"
                },
                {
                  "name": "distanza_centro",
                  "rawType": "float64",
                  "type": "float"
                },
                {
                  "name": "prezzo",
                  "rawType": "int64",
                  "type": "integer"
                },
                {
                  "name": "numero_notti",
                  "rawType": "int64",
                  "type": "integer"
                },
                {
                  "name": "numero_persone",
                  "rawType": "int64",
                  "type": "integer"
                },
                {
                  "name": "inizio_permanenza",
                  "rawType": "object",
                  "type": "string"
                },
                {
                  "name": "fine_permanenza",
                  "rawType": "object",
                  "type": "string"
                },
                {
                  "name": "recensione_voto_numerico",
                  "rawType": "object",
                  "type": "string"
                },
                {
                  "name": "recensione_voto_parola",
                  "rawType": "object",
                  "type": "string"
                },
                {
                  "name": "numero_recensioni",
                  "rawType": "int64",
                  "type": "integer"
                },
                {
                  "name": "date",
                  "rawType": "object",
                  "type": "string"
                },
                {
                  "name": "permanenza",
                  "rawType": "object",
                  "type": "string"
                },
                {
                  "name": "indirizzo",
                  "rawType": "object",
                  "type": "string"
                },
                {
                  "name": "valutazione",
                  "rawType": "float64",
                  "type": "float"
                },
                {
                  "name": "inizio_permanenza_datetime",
                  "rawType": "datetime64[ns]",
                  "type": "datetime"
                },
                {
                  "name": "fine_permanenza_datetime",
                  "rawType": "datetime64[ns]",
                  "type": "datetime"
                }
              ],
              "ref": "8b7cf950-4a9b-4414-b6cb-e9725e317820",
              "rows": [
                [
                  "0",
                  "Raeli Hotel Lazio",
                  "Hotel Lazio Raeli",
                  "Stazione centrale Roma Termini",
                  "roma",
                  "0.0",
                  "159",
                  "1",
                  "2",
                  "01-08-25",
                  "02-08-25",
                  "7,7",
                  "Ottimo",
                  "321",
                  "1 agosto - 2 agosto",
                  "1 notte, 2 adulti",
                  "Stazione centrale Roma Termini, Roma - In pieno centro",
                  "3.0",
                  "2025-01-08 00:00:00",
                  "2025-02-08 00:00:00"
                ]
              ],
              "shape": {
                "columns": 19,
                "rows": 1
              }
            },
            "text/html": [
              "<div>\n",
              "<style scoped>\n",
              "    .dataframe tbody tr th:only-of-type {\n",
              "        vertical-align: middle;\n",
              "    }\n",
              "\n",
              "    .dataframe tbody tr th {\n",
              "        vertical-align: top;\n",
              "    }\n",
              "\n",
              "    .dataframe thead th {\n",
              "        text-align: right;\n",
              "    }\n",
              "</style>\n",
              "<table border=\"1\" class=\"dataframe\">\n",
              "  <thead>\n",
              "    <tr style=\"text-align: right;\">\n",
              "      <th></th>\n",
              "      <th>titolo</th>\n",
              "      <th>titolo_processed</th>\n",
              "      <th>zona</th>\n",
              "      <th>città</th>\n",
              "      <th>distanza_centro</th>\n",
              "      <th>prezzo</th>\n",
              "      <th>numero_notti</th>\n",
              "      <th>numero_persone</th>\n",
              "      <th>inizio_permanenza</th>\n",
              "      <th>fine_permanenza</th>\n",
              "      <th>recensione_voto_numerico</th>\n",
              "      <th>recensione_voto_parola</th>\n",
              "      <th>numero_recensioni</th>\n",
              "      <th>date</th>\n",
              "      <th>permanenza</th>\n",
              "      <th>indirizzo</th>\n",
              "      <th>valutazione</th>\n",
              "      <th>inizio_permanenza_datetime</th>\n",
              "      <th>fine_permanenza_datetime</th>\n",
              "    </tr>\n",
              "  </thead>\n",
              "  <tbody>\n",
              "    <tr>\n",
              "      <th>0</th>\n",
              "      <td>Raeli Hotel Lazio</td>\n",
              "      <td>Hotel Lazio Raeli</td>\n",
              "      <td>Stazione centrale Roma Termini</td>\n",
              "      <td>roma</td>\n",
              "      <td>0.0</td>\n",
              "      <td>159</td>\n",
              "      <td>1</td>\n",
              "      <td>2</td>\n",
              "      <td>01-08-25</td>\n",
              "      <td>02-08-25</td>\n",
              "      <td>7,7</td>\n",
              "      <td>Ottimo</td>\n",
              "      <td>321</td>\n",
              "      <td>1 agosto - 2 agosto</td>\n",
              "      <td>1 notte, 2 adulti</td>\n",
              "      <td>Stazione centrale Roma Termini, Roma - In pien...</td>\n",
              "      <td>3.0</td>\n",
              "      <td>2025-01-08</td>\n",
              "      <td>2025-02-08</td>\n",
              "    </tr>\n",
              "  </tbody>\n",
              "</table>\n",
              "</div>"
            ],
            "text/plain": [
              "              titolo   titolo_processed                            zona città  \\\n",
              "0  Raeli Hotel Lazio  Hotel Lazio Raeli  Stazione centrale Roma Termini  roma   \n",
              "\n",
              "   distanza_centro  prezzo  numero_notti  numero_persone inizio_permanenza  \\\n",
              "0              0.0     159             1               2          01-08-25   \n",
              "\n",
              "  fine_permanenza recensione_voto_numerico recensione_voto_parola  \\\n",
              "0        02-08-25                      7,7                 Ottimo   \n",
              "\n",
              "   numero_recensioni                 date         permanenza  \\\n",
              "0                321  1 agosto - 2 agosto  1 notte, 2 adulti   \n",
              "\n",
              "                                           indirizzo  valutazione  \\\n",
              "0  Stazione centrale Roma Termini, Roma - In pien...          3.0   \n",
              "\n",
              "  inizio_permanenza_datetime fine_permanenza_datetime  \n",
              "0                 2025-01-08               2025-02-08  "
            ]
          },
          "metadata": {},
          "output_type": "display_data"
        },
        {
          "data": {
            "application/vnd.microsoft.datawrangler.viewer.v0+json": {
              "columns": [
                {
                  "name": "index",
                  "rawType": "int64",
                  "type": "integer"
                },
                {
                  "name": "titolo",
                  "rawType": "object",
                  "type": "string"
                },
                {
                  "name": "titolo_processed",
                  "rawType": "object",
                  "type": "string"
                },
                {
                  "name": "zona",
                  "rawType": "object",
                  "type": "string"
                },
                {
                  "name": "città",
                  "rawType": "object",
                  "type": "string"
                },
                {
                  "name": "distanza_centro",
                  "rawType": "float64",
                  "type": "float"
                },
                {
                  "name": "prezzo",
                  "rawType": "int64",
                  "type": "integer"
                },
                {
                  "name": "numero_notti",
                  "rawType": "int64",
                  "type": "integer"
                },
                {
                  "name": "numero_persone",
                  "rawType": "int64",
                  "type": "integer"
                },
                {
                  "name": "inizio_permanenza",
                  "rawType": "object",
                  "type": "string"
                },
                {
                  "name": "fine_permanenza",
                  "rawType": "object",
                  "type": "string"
                },
                {
                  "name": "recensione_voto_numerico",
                  "rawType": "object",
                  "type": "string"
                },
                {
                  "name": "recensione_voto_parola",
                  "rawType": "object",
                  "type": "string"
                },
                {
                  "name": "numero_recensioni",
                  "rawType": "int64",
                  "type": "integer"
                },
                {
                  "name": "date",
                  "rawType": "object",
                  "type": "string"
                },
                {
                  "name": "permanenza",
                  "rawType": "object",
                  "type": "string"
                },
                {
                  "name": "indirizzo",
                  "rawType": "object",
                  "type": "string"
                },
                {
                  "name": "valutazione_booking",
                  "rawType": "float64",
                  "type": "float"
                },
                {
                  "name": "stelle",
                  "rawType": "float64",
                  "type": "float"
                },
                {
                  "name": "descrizione_camera",
                  "rawType": "object",
                  "type": "string"
                },
                {
                  "name": "configurazione_camera",
                  "rawType": "object",
                  "type": "string"
                },
                {
                  "name": "descrizione_unprocessed",
                  "rawType": "object",
                  "type": "string"
                },
                {
                  "name": "inizio_permanenza_datetime",
                  "rawType": "datetime64[ns]",
                  "type": "datetime"
                },
                {
                  "name": "fine_permanenza_datetime",
                  "rawType": "datetime64[ns]",
                  "type": "datetime"
                }
              ],
              "ref": "e9a3242d-e18f-4274-93c1-cba64504526e",
              "rows": [
                [
                  "0",
                  "The Sereno-3",
                  "3 Sereno The",
                  "Trionfale",
                  "roma",
                  "3.5",
                  "242",
                  "1",
                  "2",
                  "01-08-25",
                  "02-08-25",
                  "8,1",
                  "Ottimo ",
                  "10",
                  "1 agosto - 2 agosto",
                  "1 notte, 2 adulti",
                  "Trionfale, Roma",
                  "4.0",
                  null,
                  "Appartamento con 2 Camere da Letto e Vista Città",
                  "Intero appartamento • 2 camere da letto • 1 bagno • 1 cucina • 88 m²",
                  "Appartamento con 2 Camere da Letto e Vista CittàIntero appartamento • 2 camere da letto • 1 bagno • 1 cucina • 88 m²3 letti (2 matrimoniali grandi, 1 divano letto)",
                  "2025-01-08 00:00:00",
                  "2025-02-08 00:00:00"
                ]
              ],
              "shape": {
                "columns": 23,
                "rows": 1
              }
            },
            "text/html": [
              "<div>\n",
              "<style scoped>\n",
              "    .dataframe tbody tr th:only-of-type {\n",
              "        vertical-align: middle;\n",
              "    }\n",
              "\n",
              "    .dataframe tbody tr th {\n",
              "        vertical-align: top;\n",
              "    }\n",
              "\n",
              "    .dataframe thead th {\n",
              "        text-align: right;\n",
              "    }\n",
              "</style>\n",
              "<table border=\"1\" class=\"dataframe\">\n",
              "  <thead>\n",
              "    <tr style=\"text-align: right;\">\n",
              "      <th></th>\n",
              "      <th>titolo</th>\n",
              "      <th>titolo_processed</th>\n",
              "      <th>zona</th>\n",
              "      <th>città</th>\n",
              "      <th>distanza_centro</th>\n",
              "      <th>prezzo</th>\n",
              "      <th>numero_notti</th>\n",
              "      <th>numero_persone</th>\n",
              "      <th>inizio_permanenza</th>\n",
              "      <th>fine_permanenza</th>\n",
              "      <th>recensione_voto_numerico</th>\n",
              "      <th>recensione_voto_parola</th>\n",
              "      <th>numero_recensioni</th>\n",
              "      <th>date</th>\n",
              "      <th>permanenza</th>\n",
              "      <th>indirizzo</th>\n",
              "      <th>valutazione_booking</th>\n",
              "      <th>stelle</th>\n",
              "      <th>descrizione_camera</th>\n",
              "      <th>configurazione_camera</th>\n",
              "      <th>descrizione_unprocessed</th>\n",
              "      <th>inizio_permanenza_datetime</th>\n",
              "      <th>fine_permanenza_datetime</th>\n",
              "    </tr>\n",
              "  </thead>\n",
              "  <tbody>\n",
              "    <tr>\n",
              "      <th>0</th>\n",
              "      <td>The Sereno-3</td>\n",
              "      <td>3 Sereno The</td>\n",
              "      <td>Trionfale</td>\n",
              "      <td>roma</td>\n",
              "      <td>3.5</td>\n",
              "      <td>242</td>\n",
              "      <td>1</td>\n",
              "      <td>2</td>\n",
              "      <td>01-08-25</td>\n",
              "      <td>02-08-25</td>\n",
              "      <td>8,1</td>\n",
              "      <td>Ottimo</td>\n",
              "      <td>10</td>\n",
              "      <td>1 agosto - 2 agosto</td>\n",
              "      <td>1 notte, 2 adulti</td>\n",
              "      <td>Trionfale, Roma</td>\n",
              "      <td>4.0</td>\n",
              "      <td>NaN</td>\n",
              "      <td>Appartamento con 2 Camere da Letto e Vista Città</td>\n",
              "      <td>Intero appartamento • 2 camere da letto • 1 ba...</td>\n",
              "      <td>Appartamento con 2 Camere da Letto e Vista Cit...</td>\n",
              "      <td>2025-01-08</td>\n",
              "      <td>2025-02-08</td>\n",
              "    </tr>\n",
              "  </tbody>\n",
              "</table>\n",
              "</div>"
            ],
            "text/plain": [
              "         titolo titolo_processed       zona città  distanza_centro  prezzo  \\\n",
              "0  The Sereno-3     3 Sereno The  Trionfale  roma              3.5     242   \n",
              "\n",
              "   numero_notti  numero_persone inizio_permanenza fine_permanenza  \\\n",
              "0             1               2          01-08-25        02-08-25   \n",
              "\n",
              "  recensione_voto_numerico recensione_voto_parola  numero_recensioni  \\\n",
              "0                      8,1                Ottimo                  10   \n",
              "\n",
              "                  date         permanenza        indirizzo  \\\n",
              "0  1 agosto - 2 agosto  1 notte, 2 adulti  Trionfale, Roma   \n",
              "\n",
              "   valutazione_booking  stelle  \\\n",
              "0                  4.0     NaN   \n",
              "\n",
              "                                 descrizione_camera  \\\n",
              "0  Appartamento con 2 Camere da Letto e Vista Città   \n",
              "\n",
              "                               configurazione_camera  \\\n",
              "0  Intero appartamento • 2 camere da letto • 1 ba...   \n",
              "\n",
              "                             descrizione_unprocessed  \\\n",
              "0  Appartamento con 2 Camere da Letto e Vista Cit...   \n",
              "\n",
              "  inizio_permanenza_datetime fine_permanenza_datetime  \n",
              "0                 2025-01-08               2025-02-08  "
            ]
          },
          "metadata": {},
          "output_type": "display_data"
        }
      ],
      "source": [
        "display(agoda.head(1))\n",
        "display(booking.head(1))"
      ]
    },
    {
      "cell_type": "markdown",
      "metadata": {},
      "source": [
        "### Pulizia della nuova variabile"
      ]
    },
    {
      "cell_type": "markdown",
      "metadata": {},
      "source": [
        "Pulizia titolo da parole roma e rome"
      ]
    },
    {
      "cell_type": "code",
      "execution_count": 37,
      "metadata": {},
      "outputs": [],
      "source": [
        "# Pulizia titolo\n",
        "agoda['titolo_processed'] = (\n",
        "    agoda['titolo_processed']\n",
        "    .str.lower()  # tutto minuscolo\n",
        "    .str.replace(r'\\s*-\\s*.*$', '', regex=True)  # rimuove tutto dopo il trattino incluso\n",
        "    .str.replace(r',?\\s*roma\\b', '', regex=True)  # rimuove \"roma\" opzionalmente preceduta da virgola\n",
        "    .str.replace(r',?\\s*rome\\b', '', regex=True)  # rimuove \"centrale\" come parola intera\n",
        "    .str.strip()  # rimuove spazi iniziali/finali\n",
        "    .str.title()\n",
        ")\n",
        "\n",
        "# Pulizia titolo\n",
        "booking['titolo_processed'] = (\n",
        "    booking['titolo_processed']\n",
        "    .str.lower()  # tutto minuscolo\n",
        "    .str.replace(r'\\s*-\\s*.*$', '', regex=True)  # rimuove tutto dopo il trattino incluso\n",
        "    .str.replace(r',?\\s*roma\\b', '', regex=True)  # rimuove \"roma\" opzionalmente preceduta da virgola\n",
        "    .str.replace(r',?\\s*rome\\b', '', regex=True)  # rimuove \"centrale\" come parola intera\n",
        "    .str.strip()  # rimuove spazi iniziali/finali\n",
        "    .str.title() \n",
        "    )"
      ]
    },
    {
      "cell_type": "markdown",
      "metadata": {
        "id": "VDubJF_ZrDrT"
      },
      "source": [
        "## Zona"
      ]
    },
    {
      "cell_type": "markdown",
      "metadata": {},
      "source": [
        "Nuova variabile **zona_processed**, rimuovere le parole più comuni dalla zona come:\n",
        "   - città\n",
        "   - piazza\n",
        "   - rione\n",
        "..."
      ]
    },
    {
      "cell_type": "code",
      "execution_count": 38,
      "metadata": {
        "colab": {
          "base_uri": "https://localhost:8080/"
        },
        "id": "DbCUHxFQt73x",
        "outputId": "1b6ef093-d8a8-43e9-eaea-65476f2bb862"
      },
      "outputs": [],
      "source": [
        "agoda.insert(loc = 3,\n",
        "             column = 'zona_processed',\n",
        "             value = agoda['zona']\n",
        "                        .str.lower()  # tutto minuscolo\n",
        "                        .str.replace(r'\\s*-\\s*.*$', '', regex=True)  # rimuove tutto dopo il trattino incluso\n",
        "                        .str.replace(r',?\\s*roma\\b', '', regex=True)  # rimuove \"roma\" opzionalmente preceduta da virgola\n",
        "                        .str.replace(r'\\bcentrale\\b', '', regex=True)  # rimuove \"centrale\" come parola intera\n",
        "                        .str.replace(r'\\b(rione|piazza|fontana|di|del|e|città|citta|citt)\\b', '', regex=True)  # rimuove parole specificate\n",
        "                        .str.replace(r'\\s+', ' ', regex=True)  # rimuove spazi multipli eventualmente lasciati\n",
        "                        .str.strip()  # rimuove spazi iniziali/finali\n",
        "            )\n",
        "\n",
        "booking.insert(loc = 3,\n",
        "                column = 'zona_processed',\n",
        "                value = booking['zona']\n",
        "                        .str.lower()  # tutto minuscolo\n",
        "                        .str.replace(r',?\\s*roma\\b', '', regex=True)  # rimuove \"roma\" opzionalmente preceduta da virgola\n",
        "                        .str.replace(r'\\bcentrale\\b', '', regex=True)  # rimuove \"centrale\" come parola intera\n",
        "                        .str.replace(r'\\b(rione|piazza|fontana|di|del|e|città|citta|citt)\\b', '', regex=True)  # rimuove parole specificate\n",
        "                        .str.replace(r'\\s+', ' ', regex=True)  # rimuove spazi multipli eventualmente lasciati\n",
        "                        .str.strip()\n",
        "            )"
      ]
    },
    {
      "cell_type": "code",
      "execution_count": 39,
      "metadata": {},
      "outputs": [
        {
          "data": {
            "application/vnd.microsoft.datawrangler.viewer.v0+json": {
              "columns": [
                {
                  "name": "index",
                  "rawType": "int64",
                  "type": "integer"
                },
                {
                  "name": "titolo",
                  "rawType": "object",
                  "type": "string"
                },
                {
                  "name": "titolo_processed",
                  "rawType": "object",
                  "type": "string"
                },
                {
                  "name": "zona",
                  "rawType": "object",
                  "type": "string"
                },
                {
                  "name": "zona_processed",
                  "rawType": "object",
                  "type": "string"
                },
                {
                  "name": "città",
                  "rawType": "object",
                  "type": "string"
                },
                {
                  "name": "distanza_centro",
                  "rawType": "float64",
                  "type": "float"
                },
                {
                  "name": "prezzo",
                  "rawType": "int64",
                  "type": "integer"
                },
                {
                  "name": "numero_notti",
                  "rawType": "int64",
                  "type": "integer"
                },
                {
                  "name": "numero_persone",
                  "rawType": "int64",
                  "type": "integer"
                },
                {
                  "name": "inizio_permanenza",
                  "rawType": "object",
                  "type": "string"
                },
                {
                  "name": "fine_permanenza",
                  "rawType": "object",
                  "type": "string"
                },
                {
                  "name": "recensione_voto_numerico",
                  "rawType": "object",
                  "type": "string"
                },
                {
                  "name": "recensione_voto_parola",
                  "rawType": "object",
                  "type": "string"
                },
                {
                  "name": "numero_recensioni",
                  "rawType": "int64",
                  "type": "integer"
                },
                {
                  "name": "date",
                  "rawType": "object",
                  "type": "string"
                },
                {
                  "name": "permanenza",
                  "rawType": "object",
                  "type": "string"
                },
                {
                  "name": "indirizzo",
                  "rawType": "object",
                  "type": "string"
                },
                {
                  "name": "valutazione",
                  "rawType": "float64",
                  "type": "float"
                },
                {
                  "name": "inizio_permanenza_datetime",
                  "rawType": "datetime64[ns]",
                  "type": "datetime"
                },
                {
                  "name": "fine_permanenza_datetime",
                  "rawType": "datetime64[ns]",
                  "type": "datetime"
                }
              ],
              "ref": "3647d487-6c95-4dfa-bf1b-47cdcdd3f2ba",
              "rows": [
                [
                  "0",
                  "Raeli Hotel Lazio",
                  "Hotel Lazio Raeli",
                  "Stazione centrale Roma Termini",
                  "stazione termini",
                  "roma",
                  "0.0",
                  "159",
                  "1",
                  "2",
                  "01-08-25",
                  "02-08-25",
                  "7,7",
                  "Ottimo",
                  "321",
                  "1 agosto - 2 agosto",
                  "1 notte, 2 adulti",
                  "Stazione centrale Roma Termini, Roma - In pieno centro",
                  "3.0",
                  "2025-01-08 00:00:00",
                  "2025-02-08 00:00:00"
                ]
              ],
              "shape": {
                "columns": 20,
                "rows": 1
              }
            },
            "text/html": [
              "<div>\n",
              "<style scoped>\n",
              "    .dataframe tbody tr th:only-of-type {\n",
              "        vertical-align: middle;\n",
              "    }\n",
              "\n",
              "    .dataframe tbody tr th {\n",
              "        vertical-align: top;\n",
              "    }\n",
              "\n",
              "    .dataframe thead th {\n",
              "        text-align: right;\n",
              "    }\n",
              "</style>\n",
              "<table border=\"1\" class=\"dataframe\">\n",
              "  <thead>\n",
              "    <tr style=\"text-align: right;\">\n",
              "      <th></th>\n",
              "      <th>titolo</th>\n",
              "      <th>titolo_processed</th>\n",
              "      <th>zona</th>\n",
              "      <th>zona_processed</th>\n",
              "      <th>città</th>\n",
              "      <th>distanza_centro</th>\n",
              "      <th>prezzo</th>\n",
              "      <th>numero_notti</th>\n",
              "      <th>numero_persone</th>\n",
              "      <th>inizio_permanenza</th>\n",
              "      <th>fine_permanenza</th>\n",
              "      <th>recensione_voto_numerico</th>\n",
              "      <th>recensione_voto_parola</th>\n",
              "      <th>numero_recensioni</th>\n",
              "      <th>date</th>\n",
              "      <th>permanenza</th>\n",
              "      <th>indirizzo</th>\n",
              "      <th>valutazione</th>\n",
              "      <th>inizio_permanenza_datetime</th>\n",
              "      <th>fine_permanenza_datetime</th>\n",
              "    </tr>\n",
              "  </thead>\n",
              "  <tbody>\n",
              "    <tr>\n",
              "      <th>0</th>\n",
              "      <td>Raeli Hotel Lazio</td>\n",
              "      <td>Hotel Lazio Raeli</td>\n",
              "      <td>Stazione centrale Roma Termini</td>\n",
              "      <td>stazione termini</td>\n",
              "      <td>roma</td>\n",
              "      <td>0.0</td>\n",
              "      <td>159</td>\n",
              "      <td>1</td>\n",
              "      <td>2</td>\n",
              "      <td>01-08-25</td>\n",
              "      <td>02-08-25</td>\n",
              "      <td>7,7</td>\n",
              "      <td>Ottimo</td>\n",
              "      <td>321</td>\n",
              "      <td>1 agosto - 2 agosto</td>\n",
              "      <td>1 notte, 2 adulti</td>\n",
              "      <td>Stazione centrale Roma Termini, Roma - In pien...</td>\n",
              "      <td>3.0</td>\n",
              "      <td>2025-01-08</td>\n",
              "      <td>2025-02-08</td>\n",
              "    </tr>\n",
              "  </tbody>\n",
              "</table>\n",
              "</div>"
            ],
            "text/plain": [
              "              titolo   titolo_processed                            zona  \\\n",
              "0  Raeli Hotel Lazio  Hotel Lazio Raeli  Stazione centrale Roma Termini   \n",
              "\n",
              "     zona_processed città  distanza_centro  prezzo  numero_notti  \\\n",
              "0  stazione termini  roma              0.0     159             1   \n",
              "\n",
              "   numero_persone inizio_permanenza fine_permanenza recensione_voto_numerico  \\\n",
              "0               2          01-08-25        02-08-25                      7,7   \n",
              "\n",
              "  recensione_voto_parola  numero_recensioni                 date  \\\n",
              "0                 Ottimo                321  1 agosto - 2 agosto   \n",
              "\n",
              "          permanenza                                          indirizzo  \\\n",
              "0  1 notte, 2 adulti  Stazione centrale Roma Termini, Roma - In pien...   \n",
              "\n",
              "   valutazione inizio_permanenza_datetime fine_permanenza_datetime  \n",
              "0          3.0                 2025-01-08               2025-02-08  "
            ]
          },
          "metadata": {},
          "output_type": "display_data"
        },
        {
          "data": {
            "application/vnd.microsoft.datawrangler.viewer.v0+json": {
              "columns": [
                {
                  "name": "index",
                  "rawType": "int64",
                  "type": "integer"
                },
                {
                  "name": "titolo",
                  "rawType": "object",
                  "type": "string"
                },
                {
                  "name": "titolo_processed",
                  "rawType": "object",
                  "type": "string"
                },
                {
                  "name": "zona",
                  "rawType": "object",
                  "type": "string"
                },
                {
                  "name": "zona_processed",
                  "rawType": "object",
                  "type": "string"
                },
                {
                  "name": "città",
                  "rawType": "object",
                  "type": "string"
                },
                {
                  "name": "distanza_centro",
                  "rawType": "float64",
                  "type": "float"
                },
                {
                  "name": "prezzo",
                  "rawType": "int64",
                  "type": "integer"
                },
                {
                  "name": "numero_notti",
                  "rawType": "int64",
                  "type": "integer"
                },
                {
                  "name": "numero_persone",
                  "rawType": "int64",
                  "type": "integer"
                },
                {
                  "name": "inizio_permanenza",
                  "rawType": "object",
                  "type": "string"
                },
                {
                  "name": "fine_permanenza",
                  "rawType": "object",
                  "type": "string"
                },
                {
                  "name": "recensione_voto_numerico",
                  "rawType": "object",
                  "type": "string"
                },
                {
                  "name": "recensione_voto_parola",
                  "rawType": "object",
                  "type": "string"
                },
                {
                  "name": "numero_recensioni",
                  "rawType": "int64",
                  "type": "integer"
                },
                {
                  "name": "date",
                  "rawType": "object",
                  "type": "string"
                },
                {
                  "name": "permanenza",
                  "rawType": "object",
                  "type": "string"
                },
                {
                  "name": "indirizzo",
                  "rawType": "object",
                  "type": "string"
                },
                {
                  "name": "valutazione_booking",
                  "rawType": "float64",
                  "type": "float"
                },
                {
                  "name": "stelle",
                  "rawType": "float64",
                  "type": "float"
                },
                {
                  "name": "descrizione_camera",
                  "rawType": "object",
                  "type": "string"
                },
                {
                  "name": "configurazione_camera",
                  "rawType": "object",
                  "type": "string"
                },
                {
                  "name": "descrizione_unprocessed",
                  "rawType": "object",
                  "type": "string"
                },
                {
                  "name": "inizio_permanenza_datetime",
                  "rawType": "datetime64[ns]",
                  "type": "datetime"
                },
                {
                  "name": "fine_permanenza_datetime",
                  "rawType": "datetime64[ns]",
                  "type": "datetime"
                }
              ],
              "ref": "c4cc9026-1909-435b-acd6-72b4399e441f",
              "rows": [
                [
                  "0",
                  "The Sereno-3",
                  "3 Sereno The",
                  "Trionfale",
                  "trionfale",
                  "roma",
                  "3.5",
                  "242",
                  "1",
                  "2",
                  "01-08-25",
                  "02-08-25",
                  "8,1",
                  "Ottimo ",
                  "10",
                  "1 agosto - 2 agosto",
                  "1 notte, 2 adulti",
                  "Trionfale, Roma",
                  "4.0",
                  null,
                  "Appartamento con 2 Camere da Letto e Vista Città",
                  "Intero appartamento • 2 camere da letto • 1 bagno • 1 cucina • 88 m²",
                  "Appartamento con 2 Camere da Letto e Vista CittàIntero appartamento • 2 camere da letto • 1 bagno • 1 cucina • 88 m²3 letti (2 matrimoniali grandi, 1 divano letto)",
                  "2025-01-08 00:00:00",
                  "2025-02-08 00:00:00"
                ]
              ],
              "shape": {
                "columns": 24,
                "rows": 1
              }
            },
            "text/html": [
              "<div>\n",
              "<style scoped>\n",
              "    .dataframe tbody tr th:only-of-type {\n",
              "        vertical-align: middle;\n",
              "    }\n",
              "\n",
              "    .dataframe tbody tr th {\n",
              "        vertical-align: top;\n",
              "    }\n",
              "\n",
              "    .dataframe thead th {\n",
              "        text-align: right;\n",
              "    }\n",
              "</style>\n",
              "<table border=\"1\" class=\"dataframe\">\n",
              "  <thead>\n",
              "    <tr style=\"text-align: right;\">\n",
              "      <th></th>\n",
              "      <th>titolo</th>\n",
              "      <th>titolo_processed</th>\n",
              "      <th>zona</th>\n",
              "      <th>zona_processed</th>\n",
              "      <th>città</th>\n",
              "      <th>distanza_centro</th>\n",
              "      <th>prezzo</th>\n",
              "      <th>numero_notti</th>\n",
              "      <th>numero_persone</th>\n",
              "      <th>inizio_permanenza</th>\n",
              "      <th>fine_permanenza</th>\n",
              "      <th>recensione_voto_numerico</th>\n",
              "      <th>recensione_voto_parola</th>\n",
              "      <th>numero_recensioni</th>\n",
              "      <th>date</th>\n",
              "      <th>permanenza</th>\n",
              "      <th>indirizzo</th>\n",
              "      <th>valutazione_booking</th>\n",
              "      <th>stelle</th>\n",
              "      <th>descrizione_camera</th>\n",
              "      <th>configurazione_camera</th>\n",
              "      <th>descrizione_unprocessed</th>\n",
              "      <th>inizio_permanenza_datetime</th>\n",
              "      <th>fine_permanenza_datetime</th>\n",
              "    </tr>\n",
              "  </thead>\n",
              "  <tbody>\n",
              "    <tr>\n",
              "      <th>0</th>\n",
              "      <td>The Sereno-3</td>\n",
              "      <td>3 Sereno The</td>\n",
              "      <td>Trionfale</td>\n",
              "      <td>trionfale</td>\n",
              "      <td>roma</td>\n",
              "      <td>3.5</td>\n",
              "      <td>242</td>\n",
              "      <td>1</td>\n",
              "      <td>2</td>\n",
              "      <td>01-08-25</td>\n",
              "      <td>02-08-25</td>\n",
              "      <td>8,1</td>\n",
              "      <td>Ottimo</td>\n",
              "      <td>10</td>\n",
              "      <td>1 agosto - 2 agosto</td>\n",
              "      <td>1 notte, 2 adulti</td>\n",
              "      <td>Trionfale, Roma</td>\n",
              "      <td>4.0</td>\n",
              "      <td>NaN</td>\n",
              "      <td>Appartamento con 2 Camere da Letto e Vista Città</td>\n",
              "      <td>Intero appartamento • 2 camere da letto • 1 ba...</td>\n",
              "      <td>Appartamento con 2 Camere da Letto e Vista Cit...</td>\n",
              "      <td>2025-01-08</td>\n",
              "      <td>2025-02-08</td>\n",
              "    </tr>\n",
              "  </tbody>\n",
              "</table>\n",
              "</div>"
            ],
            "text/plain": [
              "         titolo titolo_processed       zona zona_processed città  \\\n",
              "0  The Sereno-3     3 Sereno The  Trionfale      trionfale  roma   \n",
              "\n",
              "   distanza_centro  prezzo  numero_notti  numero_persone inizio_permanenza  \\\n",
              "0              3.5     242             1               2          01-08-25   \n",
              "\n",
              "  fine_permanenza recensione_voto_numerico recensione_voto_parola  \\\n",
              "0        02-08-25                      8,1                Ottimo    \n",
              "\n",
              "   numero_recensioni                 date         permanenza        indirizzo  \\\n",
              "0                 10  1 agosto - 2 agosto  1 notte, 2 adulti  Trionfale, Roma   \n",
              "\n",
              "   valutazione_booking  stelle  \\\n",
              "0                  4.0     NaN   \n",
              "\n",
              "                                 descrizione_camera  \\\n",
              "0  Appartamento con 2 Camere da Letto e Vista Città   \n",
              "\n",
              "                               configurazione_camera  \\\n",
              "0  Intero appartamento • 2 camere da letto • 1 ba...   \n",
              "\n",
              "                             descrizione_unprocessed  \\\n",
              "0  Appartamento con 2 Camere da Letto e Vista Cit...   \n",
              "\n",
              "  inizio_permanenza_datetime fine_permanenza_datetime  \n",
              "0                 2025-01-08               2025-02-08  "
            ]
          },
          "metadata": {},
          "output_type": "display_data"
        }
      ],
      "source": [
        "display(agoda.head(1))\n",
        "display(booking.head(1))"
      ]
    },
    {
      "cell_type": "markdown",
      "metadata": {},
      "source": [
        "## Città"
      ]
    },
    {
      "cell_type": "markdown",
      "metadata": {},
      "source": [
        " Pulizia titoli, si utilizza la funzione clean del pacchetto record linkage.\n",
        " In particolare, clean() fa le seguenti operazioni:\n",
        "  - Rende il testo minuscolo (lowercase).\n",
        "  - Rimuove punteggiatura, simboli e caratteri speciali.\n",
        "  - Rimuove spazi in eccesso (trimma e normalizza spazi multipli).\n",
        "  - Sostituisce caratteri accentati con equivalenti ASCII (es. \"é\" → \"e\")."
      ]
    },
    {
      "cell_type": "code",
      "execution_count": 40,
      "metadata": {},
      "outputs": [],
      "source": [
        "agoda['città'] = clean(agoda['città'])           # Pulizia tramite la funzione 'clean' del pacchetto recordlinkage\n",
        "booking['città'] = clean(booking['città'])       # Pulizia tramite la funzione 'clean' del pacchetto recordlinkage"
      ]
    },
    {
      "cell_type": "markdown",
      "metadata": {
        "id": "qQx-yQstG0iN"
      },
      "source": [
        "# AGGIUNTA FAKE RECORD"
      ]
    },
    {
      "cell_type": "markdown",
      "metadata": {
        "id": "JLGMb1OaCmGR"
      },
      "source": [
        "Inserire un **hotel del valentino** (presente a Terni) nella città di Roma."
      ]
    },
    {
      "cell_type": "code",
      "execution_count": 41,
      "metadata": {
        "id": "3D5IpZrj-wZn"
      },
      "outputs": [],
      "source": [
        "# Nuova riga da aggiungere\n",
        "nuova_riga = pd.DataFrame([{'titolo_processed': 'hotel valentino', 'prezzo': 190 ,'zona_processed':'eur','città':'Roma'}])\n",
        "\n",
        "# Aggiunta al dataset\n",
        "agoda = pd.concat([agoda, nuova_riga], ignore_index=True)"
      ]
    },
    {
      "cell_type": "code",
      "execution_count": 42,
      "metadata": {
        "id": "YzI3YB4xVxN1"
      },
      "outputs": [],
      "source": [
        "# Nuova riga da aggiungere\n",
        "nuova_riga = pd.DataFrame([{'titolo_processed': 'paris hotel', 'prezzo': 110 ,'zona_processed':'termini','città':'Roma'}])\n",
        "\n",
        "# Aggiunta al dataset\n",
        "agoda = pd.concat([agoda, nuova_riga], ignore_index=True)"
      ]
    },
    {
      "cell_type": "code",
      "execution_count": 43,
      "metadata": {
        "id": "mTxgbO8-V53m"
      },
      "outputs": [],
      "source": [
        "# Nuova riga da aggiungere\n",
        "nuova_riga = pd.DataFrame([{'titolo_processed': 'fiori hotel', 'prezzo': 81 ,'zona_processed':'Terni','città':'Terni'}])\n",
        "\n",
        "# Aggiunta al dataset\n",
        "agoda = pd.concat([agoda, nuova_riga], ignore_index=True)"
      ]
    },
    {
      "cell_type": "markdown",
      "metadata": {
        "id": "yTDsiMAPDwe_"
      },
      "source": [
        "Inserire un errore battitura, **classic hotel Tulipano** diventa **classic hotel Tulippano**, sarà utile per capire se verranno matchati correttamente."
      ]
    },
    {
      "cell_type": "code",
      "execution_count": 44,
      "metadata": {
        "id": "wXJ5q3I2DwHD"
      },
      "outputs": [],
      "source": [
        "# Nuova riga da aggiungere\n",
        "nuova_riga = pd.DataFrame([{'titolo_processed': 'classic hotel tulippano', 'prezzo': 109 ,'zona_processed':'Roma','città':'Roma'}])\n",
        "\n",
        "# Aggiunta al dataset\n",
        "agoda = pd.concat([agoda, nuova_riga], ignore_index=True)"
      ]
    },
    {
      "cell_type": "code",
      "execution_count": 45,
      "metadata": {},
      "outputs": [
        {
          "data": {
            "application/vnd.microsoft.datawrangler.viewer.v0+json": {
              "columns": [
                {
                  "name": "index",
                  "rawType": "int64",
                  "type": "integer"
                },
                {
                  "name": "titolo",
                  "rawType": "object",
                  "type": "unknown"
                },
                {
                  "name": "titolo_processed",
                  "rawType": "object",
                  "type": "string"
                },
                {
                  "name": "zona",
                  "rawType": "object",
                  "type": "unknown"
                },
                {
                  "name": "zona_processed",
                  "rawType": "object",
                  "type": "string"
                },
                {
                  "name": "città",
                  "rawType": "object",
                  "type": "string"
                },
                {
                  "name": "distanza_centro",
                  "rawType": "float64",
                  "type": "float"
                },
                {
                  "name": "prezzo",
                  "rawType": "int64",
                  "type": "integer"
                },
                {
                  "name": "numero_notti",
                  "rawType": "float64",
                  "type": "float"
                },
                {
                  "name": "numero_persone",
                  "rawType": "float64",
                  "type": "float"
                },
                {
                  "name": "inizio_permanenza",
                  "rawType": "object",
                  "type": "unknown"
                },
                {
                  "name": "fine_permanenza",
                  "rawType": "object",
                  "type": "unknown"
                },
                {
                  "name": "recensione_voto_numerico",
                  "rawType": "object",
                  "type": "unknown"
                },
                {
                  "name": "recensione_voto_parola",
                  "rawType": "object",
                  "type": "unknown"
                },
                {
                  "name": "numero_recensioni",
                  "rawType": "float64",
                  "type": "float"
                },
                {
                  "name": "date",
                  "rawType": "object",
                  "type": "unknown"
                },
                {
                  "name": "permanenza",
                  "rawType": "object",
                  "type": "unknown"
                },
                {
                  "name": "indirizzo",
                  "rawType": "object",
                  "type": "unknown"
                },
                {
                  "name": "valutazione",
                  "rawType": "float64",
                  "type": "float"
                },
                {
                  "name": "inizio_permanenza_datetime",
                  "rawType": "datetime64[ns]",
                  "type": "datetime"
                },
                {
                  "name": "fine_permanenza_datetime",
                  "rawType": "datetime64[ns]",
                  "type": "datetime"
                }
              ],
              "ref": "6d693748-24eb-4027-a5e6-16daeb3d9db7",
              "rows": [
                [
                  "676",
                  "Casa vacanze TERRA DI ASLAN",
                  "Aslan Casa Di Terra Vacanze",
                  "Narni",
                  "narni",
                  "terni",
                  null,
                  "119",
                  "1.0",
                  "2.0",
                  "01-08-25",
                  "02-08-25",
                  "9,6",
                  "Eccezionale",
                  "7.0",
                  "1 agosto - 2 agosto",
                  "1 notte, 2 adulti",
                  "Narni, Narni ",
                  "3.0",
                  "2025-01-08 00:00:00",
                  "2025-02-08 00:00:00"
                ],
                [
                  "677",
                  null,
                  "hotel valentino",
                  null,
                  "eur",
                  "Roma",
                  null,
                  "190",
                  null,
                  null,
                  null,
                  null,
                  null,
                  null,
                  null,
                  null,
                  null,
                  null,
                  null,
                  null,
                  null
                ],
                [
                  "678",
                  null,
                  "paris hotel",
                  null,
                  "termini",
                  "Roma",
                  null,
                  "110",
                  null,
                  null,
                  null,
                  null,
                  null,
                  null,
                  null,
                  null,
                  null,
                  null,
                  null,
                  null,
                  null
                ],
                [
                  "679",
                  null,
                  "fiori hotel",
                  null,
                  "Terni",
                  "Terni",
                  null,
                  "81",
                  null,
                  null,
                  null,
                  null,
                  null,
                  null,
                  null,
                  null,
                  null,
                  null,
                  null,
                  null,
                  null
                ],
                [
                  "680",
                  null,
                  "classic hotel tulippano",
                  null,
                  "Roma",
                  "Roma",
                  null,
                  "109",
                  null,
                  null,
                  null,
                  null,
                  null,
                  null,
                  null,
                  null,
                  null,
                  null,
                  null,
                  null,
                  null
                ]
              ],
              "shape": {
                "columns": 20,
                "rows": 5
              }
            },
            "text/html": [
              "<div>\n",
              "<style scoped>\n",
              "    .dataframe tbody tr th:only-of-type {\n",
              "        vertical-align: middle;\n",
              "    }\n",
              "\n",
              "    .dataframe tbody tr th {\n",
              "        vertical-align: top;\n",
              "    }\n",
              "\n",
              "    .dataframe thead th {\n",
              "        text-align: right;\n",
              "    }\n",
              "</style>\n",
              "<table border=\"1\" class=\"dataframe\">\n",
              "  <thead>\n",
              "    <tr style=\"text-align: right;\">\n",
              "      <th></th>\n",
              "      <th>titolo</th>\n",
              "      <th>titolo_processed</th>\n",
              "      <th>zona</th>\n",
              "      <th>zona_processed</th>\n",
              "      <th>città</th>\n",
              "      <th>distanza_centro</th>\n",
              "      <th>prezzo</th>\n",
              "      <th>numero_notti</th>\n",
              "      <th>numero_persone</th>\n",
              "      <th>inizio_permanenza</th>\n",
              "      <th>fine_permanenza</th>\n",
              "      <th>recensione_voto_numerico</th>\n",
              "      <th>recensione_voto_parola</th>\n",
              "      <th>numero_recensioni</th>\n",
              "      <th>date</th>\n",
              "      <th>permanenza</th>\n",
              "      <th>indirizzo</th>\n",
              "      <th>valutazione</th>\n",
              "      <th>inizio_permanenza_datetime</th>\n",
              "      <th>fine_permanenza_datetime</th>\n",
              "    </tr>\n",
              "  </thead>\n",
              "  <tbody>\n",
              "    <tr>\n",
              "      <th>676</th>\n",
              "      <td>Casa vacanze TERRA DI ASLAN</td>\n",
              "      <td>Aslan Casa Di Terra Vacanze</td>\n",
              "      <td>Narni</td>\n",
              "      <td>narni</td>\n",
              "      <td>terni</td>\n",
              "      <td>NaN</td>\n",
              "      <td>119</td>\n",
              "      <td>1.0</td>\n",
              "      <td>2.0</td>\n",
              "      <td>01-08-25</td>\n",
              "      <td>02-08-25</td>\n",
              "      <td>9,6</td>\n",
              "      <td>Eccezionale</td>\n",
              "      <td>7.0</td>\n",
              "      <td>1 agosto - 2 agosto</td>\n",
              "      <td>1 notte, 2 adulti</td>\n",
              "      <td>Narni, Narni</td>\n",
              "      <td>3.0</td>\n",
              "      <td>2025-01-08</td>\n",
              "      <td>2025-02-08</td>\n",
              "    </tr>\n",
              "    <tr>\n",
              "      <th>677</th>\n",
              "      <td>NaN</td>\n",
              "      <td>hotel valentino</td>\n",
              "      <td>NaN</td>\n",
              "      <td>eur</td>\n",
              "      <td>Roma</td>\n",
              "      <td>NaN</td>\n",
              "      <td>190</td>\n",
              "      <td>NaN</td>\n",
              "      <td>NaN</td>\n",
              "      <td>NaN</td>\n",
              "      <td>NaN</td>\n",
              "      <td>NaN</td>\n",
              "      <td>NaN</td>\n",
              "      <td>NaN</td>\n",
              "      <td>NaN</td>\n",
              "      <td>NaN</td>\n",
              "      <td>NaN</td>\n",
              "      <td>NaN</td>\n",
              "      <td>NaT</td>\n",
              "      <td>NaT</td>\n",
              "    </tr>\n",
              "    <tr>\n",
              "      <th>678</th>\n",
              "      <td>NaN</td>\n",
              "      <td>paris hotel</td>\n",
              "      <td>NaN</td>\n",
              "      <td>termini</td>\n",
              "      <td>Roma</td>\n",
              "      <td>NaN</td>\n",
              "      <td>110</td>\n",
              "      <td>NaN</td>\n",
              "      <td>NaN</td>\n",
              "      <td>NaN</td>\n",
              "      <td>NaN</td>\n",
              "      <td>NaN</td>\n",
              "      <td>NaN</td>\n",
              "      <td>NaN</td>\n",
              "      <td>NaN</td>\n",
              "      <td>NaN</td>\n",
              "      <td>NaN</td>\n",
              "      <td>NaN</td>\n",
              "      <td>NaT</td>\n",
              "      <td>NaT</td>\n",
              "    </tr>\n",
              "    <tr>\n",
              "      <th>679</th>\n",
              "      <td>NaN</td>\n",
              "      <td>fiori hotel</td>\n",
              "      <td>NaN</td>\n",
              "      <td>Terni</td>\n",
              "      <td>Terni</td>\n",
              "      <td>NaN</td>\n",
              "      <td>81</td>\n",
              "      <td>NaN</td>\n",
              "      <td>NaN</td>\n",
              "      <td>NaN</td>\n",
              "      <td>NaN</td>\n",
              "      <td>NaN</td>\n",
              "      <td>NaN</td>\n",
              "      <td>NaN</td>\n",
              "      <td>NaN</td>\n",
              "      <td>NaN</td>\n",
              "      <td>NaN</td>\n",
              "      <td>NaN</td>\n",
              "      <td>NaT</td>\n",
              "      <td>NaT</td>\n",
              "    </tr>\n",
              "    <tr>\n",
              "      <th>680</th>\n",
              "      <td>NaN</td>\n",
              "      <td>classic hotel tulippano</td>\n",
              "      <td>NaN</td>\n",
              "      <td>Roma</td>\n",
              "      <td>Roma</td>\n",
              "      <td>NaN</td>\n",
              "      <td>109</td>\n",
              "      <td>NaN</td>\n",
              "      <td>NaN</td>\n",
              "      <td>NaN</td>\n",
              "      <td>NaN</td>\n",
              "      <td>NaN</td>\n",
              "      <td>NaN</td>\n",
              "      <td>NaN</td>\n",
              "      <td>NaN</td>\n",
              "      <td>NaN</td>\n",
              "      <td>NaN</td>\n",
              "      <td>NaN</td>\n",
              "      <td>NaT</td>\n",
              "      <td>NaT</td>\n",
              "    </tr>\n",
              "  </tbody>\n",
              "</table>\n",
              "</div>"
            ],
            "text/plain": [
              "                          titolo             titolo_processed   zona  \\\n",
              "676  Casa vacanze TERRA DI ASLAN  Aslan Casa Di Terra Vacanze  Narni   \n",
              "677                          NaN              hotel valentino    NaN   \n",
              "678                          NaN                  paris hotel    NaN   \n",
              "679                          NaN                  fiori hotel    NaN   \n",
              "680                          NaN      classic hotel tulippano    NaN   \n",
              "\n",
              "    zona_processed  città  distanza_centro  prezzo  numero_notti  \\\n",
              "676          narni  terni              NaN     119           1.0   \n",
              "677            eur   Roma              NaN     190           NaN   \n",
              "678        termini   Roma              NaN     110           NaN   \n",
              "679          Terni  Terni              NaN      81           NaN   \n",
              "680           Roma   Roma              NaN     109           NaN   \n",
              "\n",
              "     numero_persone inizio_permanenza fine_permanenza  \\\n",
              "676             2.0          01-08-25        02-08-25   \n",
              "677             NaN               NaN             NaN   \n",
              "678             NaN               NaN             NaN   \n",
              "679             NaN               NaN             NaN   \n",
              "680             NaN               NaN             NaN   \n",
              "\n",
              "    recensione_voto_numerico recensione_voto_parola  numero_recensioni  \\\n",
              "676                      9,6            Eccezionale                7.0   \n",
              "677                      NaN                    NaN                NaN   \n",
              "678                      NaN                    NaN                NaN   \n",
              "679                      NaN                    NaN                NaN   \n",
              "680                      NaN                    NaN                NaN   \n",
              "\n",
              "                    date         permanenza      indirizzo  valutazione  \\\n",
              "676  1 agosto - 2 agosto  1 notte, 2 adulti  Narni, Narni           3.0   \n",
              "677                  NaN                NaN            NaN          NaN   \n",
              "678                  NaN                NaN            NaN          NaN   \n",
              "679                  NaN                NaN            NaN          NaN   \n",
              "680                  NaN                NaN            NaN          NaN   \n",
              "\n",
              "    inizio_permanenza_datetime fine_permanenza_datetime  \n",
              "676                 2025-01-08               2025-02-08  \n",
              "677                        NaT                      NaT  \n",
              "678                        NaT                      NaT  \n",
              "679                        NaT                      NaT  \n",
              "680                        NaT                      NaT  "
            ]
          },
          "execution_count": 45,
          "metadata": {},
          "output_type": "execute_result"
        }
      ],
      "source": [
        "# Visualizzare i fake records\n",
        "agoda.tail()"
      ]
    },
    {
      "cell_type": "markdown",
      "metadata": {},
      "source": [
        "# Esportazione dati"
      ]
    },
    {
      "cell_type": "code",
      "execution_count": 46,
      "metadata": {},
      "outputs": [],
      "source": [
        "agoda.to_csv(f\"{path_data_product}/agoda.csv\")"
      ]
    },
    {
      "cell_type": "code",
      "execution_count": 47,
      "metadata": {},
      "outputs": [],
      "source": [
        "booking.to_csv(f\"{path_data_product}/booking.csv\")"
      ]
    },
    {
      "cell_type": "code",
      "execution_count": 48,
      "metadata": {},
      "outputs": [
        {
          "data": {
            "application/vnd.microsoft.datawrangler.viewer.v0+json": {
              "columns": [
                {
                  "name": "index",
                  "rawType": "int64",
                  "type": "integer"
                },
                {
                  "name": "titolo",
                  "rawType": "object",
                  "type": "unknown"
                },
                {
                  "name": "titolo_processed",
                  "rawType": "object",
                  "type": "string"
                },
                {
                  "name": "zona",
                  "rawType": "object",
                  "type": "unknown"
                },
                {
                  "name": "zona_processed",
                  "rawType": "object",
                  "type": "string"
                },
                {
                  "name": "città",
                  "rawType": "object",
                  "type": "string"
                },
                {
                  "name": "distanza_centro",
                  "rawType": "float64",
                  "type": "float"
                },
                {
                  "name": "prezzo",
                  "rawType": "int64",
                  "type": "integer"
                },
                {
                  "name": "numero_notti",
                  "rawType": "float64",
                  "type": "float"
                },
                {
                  "name": "numero_persone",
                  "rawType": "float64",
                  "type": "float"
                },
                {
                  "name": "inizio_permanenza",
                  "rawType": "object",
                  "type": "unknown"
                },
                {
                  "name": "fine_permanenza",
                  "rawType": "object",
                  "type": "unknown"
                },
                {
                  "name": "recensione_voto_numerico",
                  "rawType": "object",
                  "type": "unknown"
                },
                {
                  "name": "recensione_voto_parola",
                  "rawType": "object",
                  "type": "unknown"
                },
                {
                  "name": "numero_recensioni",
                  "rawType": "float64",
                  "type": "float"
                },
                {
                  "name": "date",
                  "rawType": "object",
                  "type": "unknown"
                },
                {
                  "name": "permanenza",
                  "rawType": "object",
                  "type": "unknown"
                },
                {
                  "name": "indirizzo",
                  "rawType": "object",
                  "type": "unknown"
                },
                {
                  "name": "valutazione",
                  "rawType": "float64",
                  "type": "float"
                },
                {
                  "name": "inizio_permanenza_datetime",
                  "rawType": "datetime64[ns]",
                  "type": "datetime"
                },
                {
                  "name": "fine_permanenza_datetime",
                  "rawType": "datetime64[ns]",
                  "type": "datetime"
                }
              ],
              "ref": "39bc30b7-158b-4f02-a5e5-2b5a96eb0ac3",
              "rows": [
                [
                  "0",
                  "Raeli Hotel Lazio",
                  "Hotel Lazio Raeli",
                  "Stazione centrale Roma Termini",
                  "stazione termini",
                  "roma",
                  "0.0",
                  "159",
                  "1.0",
                  "2.0",
                  "01-08-25",
                  "02-08-25",
                  "7,7",
                  "Ottimo",
                  "321.0",
                  "1 agosto - 2 agosto",
                  "1 notte, 2 adulti",
                  "Stazione centrale Roma Termini, Roma - In pieno centro",
                  "3.0",
                  "2025-01-08 00:00:00",
                  "2025-02-08 00:00:00"
                ],
                [
                  "1",
                  "Raeli Hotel Noto",
                  "Hotel Noto Raeli",
                  "Stazione centrale Roma Termini",
                  "stazione termini",
                  "roma",
                  "0.0",
                  "153",
                  "1.0",
                  "2.0",
                  "01-08-25",
                  "02-08-25",
                  "7,8",
                  "Ottimo",
                  "2391.0",
                  "1 agosto - 2 agosto",
                  "1 notte, 2 adulti",
                  "Stazione centrale Roma Termini, Roma - In pieno centro",
                  "3.0",
                  "2025-01-08 00:00:00",
                  "2025-02-08 00:00:00"
                ],
                [
                  "2",
                  "Hotel King",
                  "Hotel King",
                  "Via Veneto",
                  "via veneto",
                  "roma",
                  "0.0",
                  "169",
                  "1.0",
                  "2.0",
                  "01-08-25",
                  "02-08-25",
                  "8,1",
                  "Fantastico",
                  "2109.0",
                  "1 agosto - 2 agosto",
                  "1 notte, 2 adulti",
                  "Via Veneto, Roma - In pieno centro",
                  "3.0",
                  "2025-01-08 00:00:00",
                  "2025-02-08 00:00:00"
                ],
                [
                  "3",
                  "Rome Cavalieri A Waldorf Astoria Hotel",
                  "A Astoria Cavalieri Hotel Waldorf",
                  "Trionfale",
                  "trionfale",
                  "roma",
                  "1.2",
                  "1620",
                  "1.0",
                  "2.0",
                  "01-08-25",
                  "02-08-25",
                  "8,9",
                  "Fantastico",
                  "1161.0",
                  "1 agosto - 2 agosto",
                  "1 notte, 2 adulti",
                  "Trionfale, Roma - A 1,2 km dal centro",
                  "5.0",
                  "2025-01-08 00:00:00",
                  "2025-02-08 00:00:00"
                ],
                [
                  "4",
                  "Hotel Taormina",
                  "Hotel Taormina",
                  "Stazione centrale Roma Termini",
                  "stazione termini",
                  "roma",
                  "0.0",
                  "105",
                  "1.0",
                  "2.0",
                  "01-08-25",
                  "02-08-25",
                  "8,3",
                  "Fantastico",
                  "1541.0",
                  "1 agosto - 2 agosto",
                  "1 notte, 2 adulti",
                  "Stazione centrale Roma Termini, Roma - In pieno centro",
                  "2.0",
                  "2025-01-08 00:00:00",
                  "2025-02-08 00:00:00"
                ],
                [
                  "5",
                  "B&B Hotel Roma Tuscolana San Giovanni",
                  "B B Giovanni Hotel San Tuscolana",
                  "Appio Latino",
                  "appio latino",
                  "roma",
                  "1.6",
                  "95",
                  "1.0",
                  "2.0",
                  "01-08-25",
                  "02-08-25",
                  "8,3",
                  "Fantastico",
                  "1064.0",
                  "1 agosto - 2 agosto",
                  "1 notte, 2 adulti",
                  "Appio Latino, Roma - A 1,6 km dal centro",
                  "3.0",
                  "2025-01-08 00:00:00",
                  "2025-02-08 00:00:00"
                ],
                [
                  "6",
                  "Sonder by Marriott Bonvoy Piazza Venezia Apartments",
                  "Apartments Bonvoy By Marriott Piazza Sonder Venezia",
                  "Pantheon",
                  "pantheon",
                  "roma",
                  "0.0",
                  "228",
                  "1.0",
                  "2.0",
                  "01-08-25",
                  "02-08-25",
                  "9,2",
                  "Eccezionale",
                  "4.0",
                  "1 agosto - 2 agosto",
                  "1 notte, 2 adulti",
                  "Pantheon, Roma - In pieno centro",
                  "3.0",
                  "2025-01-08 00:00:00",
                  "2025-02-08 00:00:00"
                ],
                [
                  "7",
                  "Hotel American Palace Eur",
                  "American Eur Hotel Palace",
                  "Eur e Garbatella",
                  "eur garbatella",
                  "roma",
                  "6.2",
                  "105",
                  "1.0",
                  "2.0",
                  "01-08-25",
                  "02-08-25",
                  "8,5",
                  "Fantastico",
                  "7282.0",
                  "1 agosto - 2 agosto",
                  "1 notte, 2 adulti",
                  "Eur e Garbatella, Roma - A 6,2 km dal centro",
                  "4.0",
                  "2025-01-08 00:00:00",
                  "2025-02-08 00:00:00"
                ],
                [
                  "8",
                  "hu Roma Camping in town",
                  "Camping Hu In Town",
                  "Aurelio e Monteverde",
                  "aurelio monteverde",
                  "roma",
                  "4.5",
                  "69",
                  "1.0",
                  "2.0",
                  "01-08-25",
                  "02-08-25",
                  "8,3",
                  "Fantastico",
                  "18989.0",
                  "1 agosto - 2 agosto",
                  "1 notte, 2 adulti",
                  "Aurelio e Monteverde, Roma - A 4,5 km dal centro",
                  "4.0",
                  "2025-01-08 00:00:00",
                  "2025-02-08 00:00:00"
                ],
                [
                  "9",
                  "B&B Hotel Roma Fiumicino Aeroporto Fiera 2",
                  "2 Aeroporto B B Fiera Fiumicino Hotel",
                  "Aeroporto di Fiumicino",
                  "aeroporto fiumicino",
                  "roma",
                  "17.2",
                  "100",
                  "1.0",
                  "2.0",
                  "01-08-25",
                  "02-08-25",
                  "8,4",
                  "Fantastico",
                  "6546.0",
                  "1 agosto - 2 agosto",
                  "1 notte, 2 adulti",
                  "Aeroporto di Fiumicino, Roma - A 17,2 km dal centro",
                  "3.0",
                  "2025-01-08 00:00:00",
                  "2025-02-08 00:00:00"
                ],
                [
                  "10",
                  "Ibis Roma Fiera",
                  "Fiera Ibis",
                  "Roma Ovest",
                  "ovest",
                  "roma",
                  "9.3",
                  "96",
                  "1.0",
                  "2.0",
                  "01-08-25",
                  "02-08-25",
                  "7,6",
                  "Ottimo",
                  "5166.0",
                  "1 agosto - 2 agosto",
                  "1 notte, 2 adulti",
                  "Roma Ovest, Roma - A 9,3 km dal centro",
                  "3.0",
                  "2025-01-08 00:00:00",
                  "2025-02-08 00:00:00"
                ],
                [
                  "11",
                  "B&B Hotel Roma Fiumicino",
                  "B B Fiumicino Hotel",
                  "Aeroporto di Fiumicino",
                  "aeroporto fiumicino",
                  "roma",
                  "17.2",
                  "98",
                  "1.0",
                  "2.0",
                  "01-08-25",
                  "02-08-25",
                  "8,3",
                  "Fantastico",
                  "6308.0",
                  "1 agosto - 2 agosto",
                  "1 notte, 2 adulti",
                  "Aeroporto di Fiumicino, Roma - A 17,2 km dal centro",
                  "3.0",
                  "2025-01-08 00:00:00",
                  "2025-02-08 00:00:00"
                ],
                [
                  "12",
                  "AH ROMA",
                  "Ah",
                  "Roma Nord",
                  "nord",
                  "roma",
                  "7.2",
                  "88",
                  "1.0",
                  "2.0",
                  "01-08-25",
                  "02-08-25",
                  "7,2",
                  "Ottimo",
                  "866.0",
                  "1 agosto - 2 agosto",
                  "1 notte, 2 adulti",
                  "Roma Nord, Roma - A 7,2 km dal centro",
                  "3.0",
                  "2025-01-08 00:00:00",
                  "2025-02-08 00:00:00"
                ],
                [
                  "13",
                  "Hotel Roma Tor Vergata",
                  "Hotel Tor Vergata",
                  "Roma Est",
                  "est",
                  "roma",
                  "10.3",
                  "105",
                  "1.0",
                  "2.0",
                  "01-08-25",
                  "02-08-25",
                  "7,8",
                  "Ottimo",
                  "2086.0",
                  "1 agosto - 2 agosto",
                  "1 notte, 2 adulti",
                  "Roma Est, Roma - A 10,3 km dal centro",
                  "4.0",
                  "2025-01-08 00:00:00",
                  "2025-02-08 00:00:00"
                ],
                [
                  "14",
                  "Hotel Gambrinus",
                  "Gambrinus Hotel",
                  "Via Veneto",
                  "via veneto",
                  "roma",
                  "0.0",
                  "128",
                  "1.0",
                  "2.0",
                  "01-08-25",
                  "02-08-25",
                  "8,3",
                  "Fantastico",
                  "864.0",
                  "1 agosto - 2 agosto",
                  "1 notte, 2 adulti",
                  "Via Veneto, Roma - In pieno centro",
                  "4.0",
                  "2025-01-08 00:00:00",
                  "2025-02-08 00:00:00"
                ],
                [
                  "15",
                  "Hilton Rome Airport Hotel",
                  "Airport Hilton Hotel",
                  "Aeroporto di Fiumicino",
                  "aeroporto fiumicino",
                  "roma",
                  "20.4",
                  "250",
                  "1.0",
                  "2.0",
                  "01-08-25",
                  "02-08-25",
                  "7,6",
                  "Ottimo",
                  "11241.0",
                  "1 agosto - 2 agosto",
                  "1 notte, 2 adulti",
                  "Aeroporto di Fiumicino, Roma - A 20,4 km dal centro",
                  "4.0",
                  "2025-01-08 00:00:00",
                  "2025-02-08 00:00:00"
                ],
                [
                  "16",
                  "Giglio Dell'opera Hotel",
                  "Dell Giglio Hotel Opera",
                  "Stazione centrale Roma Termini",
                  "stazione termini",
                  "roma",
                  "0.0",
                  "87",
                  "1.0",
                  "2.0",
                  "01-08-25",
                  "02-08-25",
                  "6,9",
                  "Buono",
                  "2955.0",
                  "1 agosto - 2 agosto",
                  "1 notte, 2 adulti",
                  "Stazione centrale Roma Termini, Roma - In pieno centro",
                  "3.0",
                  "2025-01-08 00:00:00",
                  "2025-02-08 00:00:00"
                ],
                [
                  "17",
                  "Maison delle Naiadi Guest House",
                  "Delle Guest House Maison Naiadi",
                  "Stazione centrale Roma Termini",
                  "stazione termini",
                  "roma",
                  "0.0",
                  "110",
                  "1.0",
                  "2.0",
                  "01-08-25",
                  "02-08-25",
                  "8,6",
                  "Fantastico",
                  "482.0",
                  "1 agosto - 2 agosto",
                  "1 notte, 2 adulti",
                  "Stazione centrale Roma Termini, Roma - In pieno centro",
                  "3.0",
                  "2025-01-08 00:00:00",
                  "2025-02-08 00:00:00"
                ],
                [
                  "18",
                  "Hotel Nord Nuova Roma",
                  "Hotel Nord Nuova",
                  "Stazione centrale Roma Termini",
                  "stazione termini",
                  "roma",
                  "0.0",
                  "198",
                  "1.0",
                  "2.0",
                  "01-08-25",
                  "02-08-25",
                  "8,4",
                  "Fantastico",
                  "7083.0",
                  "1 agosto - 2 agosto",
                  "1 notte, 2 adulti",
                  "Stazione centrale Roma Termini, Roma - In pieno centro",
                  "3.0",
                  "2025-01-08 00:00:00",
                  "2025-02-08 00:00:00"
                ],
                [
                  "19",
                  "Corot Hotel",
                  "Corot Hotel",
                  "Stazione centrale Roma Termini",
                  "stazione termini",
                  "roma",
                  "0.0",
                  "119",
                  "1.0",
                  "2.0",
                  "01-08-25",
                  "02-08-25",
                  "7,9",
                  "Ottimo",
                  "1051.0",
                  "1 agosto - 2 agosto",
                  "1 notte, 2 adulti",
                  "Stazione centrale Roma Termini, Roma - In pieno centro",
                  "3.0",
                  "2025-01-08 00:00:00",
                  "2025-02-08 00:00:00"
                ],
                [
                  "20",
                  "Hotel Oriente",
                  "Hotel Oriente",
                  "Stazione centrale Roma Termini",
                  "stazione termini",
                  "roma",
                  "0.0",
                  "80",
                  "1.0",
                  "2.0",
                  "01-08-25",
                  "02-08-25",
                  "7,2",
                  "Ottimo",
                  "444.0",
                  "1 agosto - 2 agosto",
                  "1 notte, 2 adulti",
                  "Stazione centrale Roma Termini, Roma - In pieno centro",
                  "2.0",
                  "2025-01-08 00:00:00",
                  "2025-02-08 00:00:00"
                ],
                [
                  "21",
                  "Raeli Hotel Siracusa",
                  "Hotel Raeli Siracusa",
                  "Stazione centrale Roma Termini",
                  "stazione termini",
                  "roma",
                  "0.0",
                  "160",
                  "1.0",
                  "2.0",
                  "01-08-25",
                  "02-08-25",
                  "7,7",
                  "Ottimo",
                  "4169.0",
                  "1 agosto - 2 agosto",
                  "1 notte, 2 adulti",
                  "Stazione centrale Roma Termini, Roma - In pieno centro",
                  "3.0",
                  "2025-01-08 00:00:00",
                  "2025-02-08 00:00:00"
                ],
                [
                  "22",
                  "The Kennedy Hotel",
                  "Hotel Kennedy The",
                  "Stazione centrale Roma Termini",
                  "stazione termini",
                  "roma",
                  "0.0",
                  "117",
                  "1.0",
                  "2.0",
                  "01-08-25",
                  "02-08-25",
                  "7,6",
                  "Ottimo",
                  "1260.0",
                  "1 agosto - 2 agosto",
                  "1 notte, 2 adulti",
                  "Stazione centrale Roma Termini, Roma - In pieno centro",
                  "3.0",
                  "2025-01-08 00:00:00",
                  "2025-02-08 00:00:00"
                ],
                [
                  "23",
                  "Raeli Hotel Archimede",
                  "Archimede Hotel Raeli",
                  "Stazione centrale Roma Termini",
                  "stazione termini",
                  "roma",
                  "0.0",
                  "112",
                  "1.0",
                  "2.0",
                  "01-08-25",
                  "02-08-25",
                  "7,6",
                  "Ottimo",
                  "334.0",
                  "1 agosto - 2 agosto",
                  "1 notte, 2 adulti",
                  "Stazione centrale Roma Termini, Roma - In pieno centro",
                  "4.0",
                  "2025-01-08 00:00:00",
                  "2025-02-08 00:00:00"
                ],
                [
                  "24",
                  "Hotel Villa Rosa",
                  "Hotel Rosa Villa",
                  "Trastevere",
                  "trastevere",
                  "roma",
                  "1.5",
                  "113",
                  "1.0",
                  "2.0",
                  "01-08-25",
                  "02-08-25",
                  "7,6",
                  "Ottimo",
                  "468.0",
                  "1 agosto - 2 agosto",
                  "1 notte, 2 adulti",
                  "Trastevere, Roma - A 1,5 km dal centro",
                  "3.0",
                  "2025-01-08 00:00:00",
                  "2025-02-08 00:00:00"
                ],
                [
                  "25",
                  "Air Rooms Rome Airport by HelloSky",
                  "Air Airport By Hellosky Rooms",
                  "Aeroporto di Fiumicino",
                  "aeroporto fiumicino",
                  "roma",
                  "20.5",
                  "238",
                  "1.0",
                  "2.0",
                  "01-08-25",
                  "02-08-25",
                  "8,0",
                  "Fantastico",
                  "749.0",
                  "1 agosto - 2 agosto",
                  "1 notte, 2 adulti",
                  "Aeroporto di Fiumicino, Roma - A 20,5 km dal centro",
                  "4.0",
                  "2025-01-08 00:00:00",
                  "2025-02-08 00:00:00"
                ],
                [
                  "26",
                  "Hotel Nazionale",
                  "Hotel Nazionale",
                  "Pantheon",
                  "pantheon",
                  "roma",
                  "0.0",
                  "167",
                  "1.0",
                  "2.0",
                  "01-08-25",
                  "02-08-25",
                  "9,2",
                  "Eccezionale",
                  "3632.0",
                  "1 agosto - 2 agosto",
                  "1 notte, 2 adulti",
                  "Pantheon, Roma - In pieno centro",
                  "4.0",
                  "2025-01-08 00:00:00",
                  "2025-02-08 00:00:00"
                ],
                [
                  "27",
                  "Hotel Raganelli",
                  "Hotel Raganelli",
                  "Aurelio e Monteverde",
                  "aurelio monteverde",
                  "roma",
                  "3.6",
                  "92",
                  "1.0",
                  "2.0",
                  "01-08-25",
                  "02-08-25",
                  "8,3",
                  "Fantastico",
                  "1250.0",
                  "1 agosto - 2 agosto",
                  "1 notte, 2 adulti",
                  "Aurelio e Monteverde, Roma - A 3,6 km dal centro",
                  "4.0",
                  "2025-01-08 00:00:00",
                  "2025-02-08 00:00:00"
                ],
                [
                  "28",
                  "Trevi Hotel",
                  "Hotel Trevi",
                  "Fontana di Trevi",
                  "trevi",
                  "roma",
                  "0.0",
                  "154",
                  "1.0",
                  "2.0",
                  "01-08-25",
                  "02-08-25",
                  "8,1",
                  "Fantastico",
                  "2050.0",
                  "1 agosto - 2 agosto",
                  "1 notte, 2 adulti",
                  "Fontana di Trevi, Roma - In pieno centro",
                  "3.0",
                  "2025-01-08 00:00:00",
                  "2025-02-08 00:00:00"
                ],
                [
                  "29",
                  "Adriatic Hotel",
                  "Adriatic Hotel",
                  "Città del Vaticano",
                  "vaticano",
                  "roma",
                  "0.0",
                  "105",
                  "1.0",
                  "2.0",
                  "01-08-25",
                  "02-08-25",
                  "7,9",
                  "Ottimo",
                  "992.0",
                  "1 agosto - 2 agosto",
                  "1 notte, 2 adulti",
                  "Città del Vaticano, Roma - In pieno centro",
                  "2.0",
                  "2025-01-08 00:00:00",
                  "2025-02-08 00:00:00"
                ],
                [
                  "30",
                  "Quirinale Hotel",
                  "Hotel Quirinale",
                  "Stazione centrale Roma Termini",
                  "stazione termini",
                  "roma",
                  "0.0",
                  "201",
                  "1.0",
                  "2.0",
                  "01-08-25",
                  "02-08-25",
                  "8,3",
                  "Fantastico",
                  "8240.0",
                  "1 agosto - 2 agosto",
                  "1 notte, 2 adulti",
                  "Stazione centrale Roma Termini, Roma - In pieno centro",
                  "4.0",
                  "2025-01-08 00:00:00",
                  "2025-02-08 00:00:00"
                ],
                [
                  "31",
                  "Roma Resort Termini",
                  "Resort Termini",
                  "Stazione centrale Roma Termini",
                  "stazione termini",
                  "roma",
                  "0.0",
                  "115",
                  "1.0",
                  "2.0",
                  "01-08-25",
                  "02-08-25",
                  "7,0",
                  "Ottimo",
                  "807.0",
                  "1 agosto - 2 agosto",
                  "1 notte, 2 adulti",
                  "Stazione centrale Roma Termini, Roma - In pieno centro",
                  "3.0",
                  "2025-01-08 00:00:00",
                  "2025-02-08 00:00:00"
                ],
                [
                  "32",
                  "Hotel Isola Sacra Rome Airport",
                  "Airport Hotel Isola Sacra",
                  "Aeroporto di Fiumicino",
                  "aeroporto fiumicino",
                  "roma",
                  "21.6",
                  "213",
                  "1.0",
                  "2.0",
                  "01-08-25",
                  "02-08-25",
                  "8,8",
                  "Fantastico",
                  "8292.0",
                  "1 agosto - 2 agosto",
                  "1 notte, 2 adulti",
                  "Aeroporto di Fiumicino, Roma - A 21,6 km dal centro",
                  "4.0",
                  "2025-01-08 00:00:00",
                  "2025-02-08 00:00:00"
                ],
                [
                  "33",
                  "Locanda Delle Corse",
                  "Corse Delle Locanda",
                  "Appio Latino",
                  "appio latino",
                  "roma",
                  "8.7",
                  "224",
                  "1.0",
                  "2.0",
                  "01-08-25",
                  "02-08-25",
                  "8,3",
                  "Fantastico",
                  "62.0",
                  "1 agosto - 2 agosto",
                  "1 notte, 2 adulti",
                  "Appio Latino, Roma - A 8,7 km dal centro",
                  "3.0",
                  "2025-01-08 00:00:00",
                  "2025-02-08 00:00:00"
                ],
                [
                  "34",
                  "Hotel Artis",
                  "Artis Hotel",
                  "Appio Latino",
                  "appio latino",
                  "roma",
                  "6.0",
                  "85",
                  "1.0",
                  "2.0",
                  "01-08-25",
                  "02-08-25",
                  "7,9",
                  "Ottimo",
                  "446.0",
                  "1 agosto - 2 agosto",
                  "1 notte, 2 adulti",
                  "Appio Latino, Roma - A 6,0 km dal centro",
                  "4.0",
                  "2025-01-08 00:00:00",
                  "2025-02-08 00:00:00"
                ],
                [
                  "35",
                  "Hotel Villafranca",
                  "Hotel Villafranca",
                  "Stazione centrale Roma Termini",
                  "stazione termini",
                  "roma",
                  "0.0",
                  "162",
                  "1.0",
                  "2.0",
                  "01-08-25",
                  "02-08-25",
                  "8,1",
                  "Fantastico",
                  "1956.0",
                  "1 agosto - 2 agosto",
                  "1 notte, 2 adulti",
                  "Stazione centrale Roma Termini, Roma - In pieno centro",
                  "4.0",
                  "2025-01-08 00:00:00",
                  "2025-02-08 00:00:00"
                ],
                [
                  "36",
                  "Genova Hotel",
                  "Genova Hotel",
                  "Stazione centrale Roma Termini",
                  "stazione termini",
                  "roma",
                  "0.0",
                  "179",
                  "1.0",
                  "2.0",
                  "01-08-25",
                  "02-08-25",
                  "8,3",
                  "Fantastico",
                  "2602.0",
                  "1 agosto - 2 agosto",
                  "1 notte, 2 adulti",
                  "Stazione centrale Roma Termini, Roma - In pieno centro",
                  "4.0",
                  "2025-01-08 00:00:00",
                  "2025-02-08 00:00:00"
                ],
                [
                  "37",
                  "Family House Hotel",
                  "Family Hotel House",
                  "Stazione centrale Roma Termini",
                  "stazione termini",
                  "roma",
                  "0.0",
                  "76",
                  "1.0",
                  "2.0",
                  "01-08-25",
                  "02-08-25",
                  "7,1",
                  "Ottimo",
                  "480.0",
                  "1 agosto - 2 agosto",
                  "1 notte, 2 adulti",
                  "Stazione centrale Roma Termini, Roma - In pieno centro",
                  "1.0",
                  "2025-01-08 00:00:00",
                  "2025-02-08 00:00:00"
                ],
                [
                  "38",
                  "Hotel Ripa Roma",
                  "Hotel Ripa",
                  "Trastevere",
                  "trastevere",
                  "roma",
                  "0.5",
                  "122",
                  "1.0",
                  "2.0",
                  "01-08-25",
                  "02-08-25",
                  "8,2",
                  "Fantastico",
                  "3462.0",
                  "1 agosto - 2 agosto",
                  "1 notte, 2 adulti",
                  "Trastevere, Roma - A 0,5 km dal centro",
                  "4.0",
                  "2025-01-08 00:00:00",
                  "2025-02-08 00:00:00"
                ],
                [
                  "39",
                  "Hotel Tiber",
                  "Hotel Tiber",
                  "Aeroporto di Fiumicino",
                  "aeroporto fiumicino",
                  "roma",
                  "23.9",
                  "156",
                  "1.0",
                  "2.0",
                  "01-08-25",
                  "02-08-25",
                  "8,5",
                  "Fantastico",
                  "4909.0",
                  "1 agosto - 2 agosto",
                  "1 notte, 2 adulti",
                  "Aeroporto di Fiumicino, Roma - A 23,9 km dal centro",
                  "4.0",
                  "2025-01-08 00:00:00",
                  "2025-02-08 00:00:00"
                ],
                [
                  "40",
                  "LH Hotel Roma Montemario",
                  "Hotel Lh Montemario",
                  "Trionfale",
                  "trionfale",
                  "roma",
                  "3.0",
                  "75",
                  "1.0",
                  "2.0",
                  "01-08-25",
                  "02-08-25",
                  "7,9",
                  "Ottimo",
                  "3973.0",
                  "1 agosto - 2 agosto",
                  "1 notte, 2 adulti",
                  "Trionfale, Roma - A 3,0 km dal centro",
                  "4.0",
                  "2025-01-08 00:00:00",
                  "2025-02-08 00:00:00"
                ],
                [
                  "41",
                  "Hilton Garden Inn Rome Airport",
                  "Airport Garden Hilton Inn",
                  "Aeroporto di Fiumicino",
                  "aeroporto fiumicino",
                  "roma",
                  "18.8",
                  "191",
                  "1.0",
                  "2.0",
                  "01-08-25",
                  "02-08-25",
                  "7,9",
                  "Ottimo",
                  "329.0",
                  "1 agosto - 2 agosto",
                  "1 notte, 2 adulti",
                  "Aeroporto di Fiumicino, Roma - A 18,8 km dal centro",
                  "4.0",
                  "2025-01-08 00:00:00",
                  "2025-02-08 00:00:00"
                ],
                [
                  "42",
                  "Grand Hotel Fleming by OMNIA hotels",
                  "By Fleming Grand Hotel Hotels Omnia",
                  "Flaminio e Parioli",
                  "flaminio parioli",
                  "roma",
                  "3.2",
                  "121",
                  "1.0",
                  "2.0",
                  "01-08-25",
                  "02-08-25",
                  "7,8",
                  "Ottimo",
                  "2798.0",
                  "1 agosto - 2 agosto",
                  "1 notte, 2 adulti",
                  "Flaminio e Parioli, Roma - A 3,2 km dal centro",
                  "4.0",
                  "2025-01-08 00:00:00",
                  "2025-02-08 00:00:00"
                ],
                [
                  "43",
                  "Hotel Napoleon",
                  "Hotel Napoleon",
                  "Stazione centrale Roma Termini",
                  "stazione termini",
                  "roma",
                  "0.0",
                  "122",
                  "1.0",
                  "2.0",
                  "01-08-25",
                  "02-08-25",
                  "8,1",
                  "Fantastico",
                  "1187.0",
                  "1 agosto - 2 agosto",
                  "1 notte, 2 adulti",
                  "Stazione centrale Roma Termini, Roma - In pieno centro",
                  "4.0",
                  "2025-01-08 00:00:00",
                  "2025-02-08 00:00:00"
                ],
                [
                  "44",
                  "Hotel Champagne Palace",
                  "Champagne Hotel Palace",
                  "Stazione centrale Roma Termini",
                  "stazione termini",
                  "roma",
                  "0.0",
                  "151",
                  "1.0",
                  "2.0",
                  "01-08-25",
                  "02-08-25",
                  "6,8",
                  "Buono",
                  "1557.0",
                  "1 agosto - 2 agosto",
                  "1 notte, 2 adulti",
                  "Stazione centrale Roma Termini, Roma - In pieno centro",
                  "4.0",
                  "2025-01-08 00:00:00",
                  "2025-02-08 00:00:00"
                ],
                [
                  "45",
                  "SOTEL NOMENTANA",
                  "Nomentana Sotel",
                  "Roma Est",
                  "est",
                  "roma",
                  "5.3",
                  "74",
                  "1.0",
                  "2.0",
                  "01-08-25",
                  "02-08-25",
                  "6,8",
                  "Buono",
                  "1550.0",
                  "1 agosto - 2 agosto",
                  "1 notte, 2 adulti",
                  "Roma Est, Roma - A 5,3 km dal centro",
                  "3.0",
                  "2025-01-08 00:00:00",
                  "2025-02-08 00:00:00"
                ],
                [
                  "46",
                  "Windrose Hotel",
                  "Hotel Windrose",
                  "Stazione centrale Roma Termini",
                  "stazione termini",
                  "roma",
                  "0.0",
                  "169",
                  "1.0",
                  "2.0",
                  "01-08-25",
                  "02-08-25",
                  "8,4",
                  "Fantastico",
                  "506.0",
                  "1 agosto - 2 agosto",
                  "1 notte, 2 adulti",
                  "Stazione centrale Roma Termini, Roma - In pieno centro",
                  "3.0",
                  "2025-01-08 00:00:00",
                  "2025-02-08 00:00:00"
                ],
                [
                  "47",
                  "Gialel B&B",
                  "B B Gialel",
                  "Via Veneto",
                  "via veneto",
                  "roma",
                  "0.0",
                  "91",
                  "1.0",
                  "2.0",
                  "01-08-25",
                  "02-08-25",
                  "7,3",
                  "Ottimo",
                  "152.0",
                  "1 agosto - 2 agosto",
                  "1 notte, 2 adulti",
                  "Via Veneto, Roma - In pieno centro",
                  "4.0",
                  "2025-01-08 00:00:00",
                  "2025-02-08 00:00:00"
                ],
                [
                  "48",
                  "Hotel Relais Castrum Boccea",
                  "Boccea Castrum Hotel Relais",
                  "Boccea",
                  "boccea",
                  "roma",
                  "13.1",
                  "156",
                  "1.0",
                  "2.0",
                  "01-08-25",
                  "02-08-25",
                  "8,0",
                  "Fantastico",
                  "705.0",
                  "1 agosto - 2 agosto",
                  "1 notte, 2 adulti",
                  "Boccea, Roma - A 13,1 km dal centro",
                  "4.0",
                  "2025-01-08 00:00:00",
                  "2025-02-08 00:00:00"
                ],
                [
                  "49",
                  "Hotel Varese",
                  "Hotel Varese",
                  "Stazione centrale Roma Termini",
                  "stazione termini",
                  "roma",
                  "0.0",
                  "150",
                  "1.0",
                  "2.0",
                  "01-08-25",
                  "02-08-25",
                  "8,7",
                  "Fantastico",
                  "3121.0",
                  "1 agosto - 2 agosto",
                  "1 notte, 2 adulti",
                  "Stazione centrale Roma Termini, Roma - In pieno centro",
                  "4.0",
                  "2025-01-08 00:00:00",
                  "2025-02-08 00:00:00"
                ]
              ],
              "shape": {
                "columns": 20,
                "rows": 681
              }
            },
            "text/html": [
              "<div>\n",
              "<style scoped>\n",
              "    .dataframe tbody tr th:only-of-type {\n",
              "        vertical-align: middle;\n",
              "    }\n",
              "\n",
              "    .dataframe tbody tr th {\n",
              "        vertical-align: top;\n",
              "    }\n",
              "\n",
              "    .dataframe thead th {\n",
              "        text-align: right;\n",
              "    }\n",
              "</style>\n",
              "<table border=\"1\" class=\"dataframe\">\n",
              "  <thead>\n",
              "    <tr style=\"text-align: right;\">\n",
              "      <th></th>\n",
              "      <th>titolo</th>\n",
              "      <th>titolo_processed</th>\n",
              "      <th>zona</th>\n",
              "      <th>zona_processed</th>\n",
              "      <th>città</th>\n",
              "      <th>distanza_centro</th>\n",
              "      <th>prezzo</th>\n",
              "      <th>numero_notti</th>\n",
              "      <th>numero_persone</th>\n",
              "      <th>inizio_permanenza</th>\n",
              "      <th>fine_permanenza</th>\n",
              "      <th>recensione_voto_numerico</th>\n",
              "      <th>recensione_voto_parola</th>\n",
              "      <th>numero_recensioni</th>\n",
              "      <th>date</th>\n",
              "      <th>permanenza</th>\n",
              "      <th>indirizzo</th>\n",
              "      <th>valutazione</th>\n",
              "      <th>inizio_permanenza_datetime</th>\n",
              "      <th>fine_permanenza_datetime</th>\n",
              "    </tr>\n",
              "  </thead>\n",
              "  <tbody>\n",
              "    <tr>\n",
              "      <th>0</th>\n",
              "      <td>Raeli Hotel Lazio</td>\n",
              "      <td>Hotel Lazio Raeli</td>\n",
              "      <td>Stazione centrale Roma Termini</td>\n",
              "      <td>stazione termini</td>\n",
              "      <td>roma</td>\n",
              "      <td>0.0</td>\n",
              "      <td>159</td>\n",
              "      <td>1.0</td>\n",
              "      <td>2.0</td>\n",
              "      <td>01-08-25</td>\n",
              "      <td>02-08-25</td>\n",
              "      <td>7,7</td>\n",
              "      <td>Ottimo</td>\n",
              "      <td>321.0</td>\n",
              "      <td>1 agosto - 2 agosto</td>\n",
              "      <td>1 notte, 2 adulti</td>\n",
              "      <td>Stazione centrale Roma Termini, Roma - In pien...</td>\n",
              "      <td>3.0</td>\n",
              "      <td>2025-01-08</td>\n",
              "      <td>2025-02-08</td>\n",
              "    </tr>\n",
              "    <tr>\n",
              "      <th>1</th>\n",
              "      <td>Raeli Hotel Noto</td>\n",
              "      <td>Hotel Noto Raeli</td>\n",
              "      <td>Stazione centrale Roma Termini</td>\n",
              "      <td>stazione termini</td>\n",
              "      <td>roma</td>\n",
              "      <td>0.0</td>\n",
              "      <td>153</td>\n",
              "      <td>1.0</td>\n",
              "      <td>2.0</td>\n",
              "      <td>01-08-25</td>\n",
              "      <td>02-08-25</td>\n",
              "      <td>7,8</td>\n",
              "      <td>Ottimo</td>\n",
              "      <td>2391.0</td>\n",
              "      <td>1 agosto - 2 agosto</td>\n",
              "      <td>1 notte, 2 adulti</td>\n",
              "      <td>Stazione centrale Roma Termini, Roma - In pien...</td>\n",
              "      <td>3.0</td>\n",
              "      <td>2025-01-08</td>\n",
              "      <td>2025-02-08</td>\n",
              "    </tr>\n",
              "    <tr>\n",
              "      <th>2</th>\n",
              "      <td>Hotel King</td>\n",
              "      <td>Hotel King</td>\n",
              "      <td>Via Veneto</td>\n",
              "      <td>via veneto</td>\n",
              "      <td>roma</td>\n",
              "      <td>0.0</td>\n",
              "      <td>169</td>\n",
              "      <td>1.0</td>\n",
              "      <td>2.0</td>\n",
              "      <td>01-08-25</td>\n",
              "      <td>02-08-25</td>\n",
              "      <td>8,1</td>\n",
              "      <td>Fantastico</td>\n",
              "      <td>2109.0</td>\n",
              "      <td>1 agosto - 2 agosto</td>\n",
              "      <td>1 notte, 2 adulti</td>\n",
              "      <td>Via Veneto, Roma - In pieno centro</td>\n",
              "      <td>3.0</td>\n",
              "      <td>2025-01-08</td>\n",
              "      <td>2025-02-08</td>\n",
              "    </tr>\n",
              "    <tr>\n",
              "      <th>3</th>\n",
              "      <td>Rome Cavalieri A Waldorf Astoria Hotel</td>\n",
              "      <td>A Astoria Cavalieri Hotel Waldorf</td>\n",
              "      <td>Trionfale</td>\n",
              "      <td>trionfale</td>\n",
              "      <td>roma</td>\n",
              "      <td>1.2</td>\n",
              "      <td>1620</td>\n",
              "      <td>1.0</td>\n",
              "      <td>2.0</td>\n",
              "      <td>01-08-25</td>\n",
              "      <td>02-08-25</td>\n",
              "      <td>8,9</td>\n",
              "      <td>Fantastico</td>\n",
              "      <td>1161.0</td>\n",
              "      <td>1 agosto - 2 agosto</td>\n",
              "      <td>1 notte, 2 adulti</td>\n",
              "      <td>Trionfale, Roma - A 1,2 km dal centro</td>\n",
              "      <td>5.0</td>\n",
              "      <td>2025-01-08</td>\n",
              "      <td>2025-02-08</td>\n",
              "    </tr>\n",
              "    <tr>\n",
              "      <th>4</th>\n",
              "      <td>Hotel Taormina</td>\n",
              "      <td>Hotel Taormina</td>\n",
              "      <td>Stazione centrale Roma Termini</td>\n",
              "      <td>stazione termini</td>\n",
              "      <td>roma</td>\n",
              "      <td>0.0</td>\n",
              "      <td>105</td>\n",
              "      <td>1.0</td>\n",
              "      <td>2.0</td>\n",
              "      <td>01-08-25</td>\n",
              "      <td>02-08-25</td>\n",
              "      <td>8,3</td>\n",
              "      <td>Fantastico</td>\n",
              "      <td>1541.0</td>\n",
              "      <td>1 agosto - 2 agosto</td>\n",
              "      <td>1 notte, 2 adulti</td>\n",
              "      <td>Stazione centrale Roma Termini, Roma - In pien...</td>\n",
              "      <td>2.0</td>\n",
              "      <td>2025-01-08</td>\n",
              "      <td>2025-02-08</td>\n",
              "    </tr>\n",
              "    <tr>\n",
              "      <th>...</th>\n",
              "      <td>...</td>\n",
              "      <td>...</td>\n",
              "      <td>...</td>\n",
              "      <td>...</td>\n",
              "      <td>...</td>\n",
              "      <td>...</td>\n",
              "      <td>...</td>\n",
              "      <td>...</td>\n",
              "      <td>...</td>\n",
              "      <td>...</td>\n",
              "      <td>...</td>\n",
              "      <td>...</td>\n",
              "      <td>...</td>\n",
              "      <td>...</td>\n",
              "      <td>...</td>\n",
              "      <td>...</td>\n",
              "      <td>...</td>\n",
              "      <td>...</td>\n",
              "      <td>...</td>\n",
              "      <td>...</td>\n",
              "    </tr>\n",
              "    <tr>\n",
              "      <th>676</th>\n",
              "      <td>Casa vacanze TERRA DI ASLAN</td>\n",
              "      <td>Aslan Casa Di Terra Vacanze</td>\n",
              "      <td>Narni</td>\n",
              "      <td>narni</td>\n",
              "      <td>terni</td>\n",
              "      <td>NaN</td>\n",
              "      <td>119</td>\n",
              "      <td>1.0</td>\n",
              "      <td>2.0</td>\n",
              "      <td>01-08-25</td>\n",
              "      <td>02-08-25</td>\n",
              "      <td>9,6</td>\n",
              "      <td>Eccezionale</td>\n",
              "      <td>7.0</td>\n",
              "      <td>1 agosto - 2 agosto</td>\n",
              "      <td>1 notte, 2 adulti</td>\n",
              "      <td>Narni, Narni</td>\n",
              "      <td>3.0</td>\n",
              "      <td>2025-01-08</td>\n",
              "      <td>2025-02-08</td>\n",
              "    </tr>\n",
              "    <tr>\n",
              "      <th>677</th>\n",
              "      <td>NaN</td>\n",
              "      <td>hotel valentino</td>\n",
              "      <td>NaN</td>\n",
              "      <td>eur</td>\n",
              "      <td>Roma</td>\n",
              "      <td>NaN</td>\n",
              "      <td>190</td>\n",
              "      <td>NaN</td>\n",
              "      <td>NaN</td>\n",
              "      <td>NaN</td>\n",
              "      <td>NaN</td>\n",
              "      <td>NaN</td>\n",
              "      <td>NaN</td>\n",
              "      <td>NaN</td>\n",
              "      <td>NaN</td>\n",
              "      <td>NaN</td>\n",
              "      <td>NaN</td>\n",
              "      <td>NaN</td>\n",
              "      <td>NaT</td>\n",
              "      <td>NaT</td>\n",
              "    </tr>\n",
              "    <tr>\n",
              "      <th>678</th>\n",
              "      <td>NaN</td>\n",
              "      <td>paris hotel</td>\n",
              "      <td>NaN</td>\n",
              "      <td>termini</td>\n",
              "      <td>Roma</td>\n",
              "      <td>NaN</td>\n",
              "      <td>110</td>\n",
              "      <td>NaN</td>\n",
              "      <td>NaN</td>\n",
              "      <td>NaN</td>\n",
              "      <td>NaN</td>\n",
              "      <td>NaN</td>\n",
              "      <td>NaN</td>\n",
              "      <td>NaN</td>\n",
              "      <td>NaN</td>\n",
              "      <td>NaN</td>\n",
              "      <td>NaN</td>\n",
              "      <td>NaN</td>\n",
              "      <td>NaT</td>\n",
              "      <td>NaT</td>\n",
              "    </tr>\n",
              "    <tr>\n",
              "      <th>679</th>\n",
              "      <td>NaN</td>\n",
              "      <td>fiori hotel</td>\n",
              "      <td>NaN</td>\n",
              "      <td>Terni</td>\n",
              "      <td>Terni</td>\n",
              "      <td>NaN</td>\n",
              "      <td>81</td>\n",
              "      <td>NaN</td>\n",
              "      <td>NaN</td>\n",
              "      <td>NaN</td>\n",
              "      <td>NaN</td>\n",
              "      <td>NaN</td>\n",
              "      <td>NaN</td>\n",
              "      <td>NaN</td>\n",
              "      <td>NaN</td>\n",
              "      <td>NaN</td>\n",
              "      <td>NaN</td>\n",
              "      <td>NaN</td>\n",
              "      <td>NaT</td>\n",
              "      <td>NaT</td>\n",
              "    </tr>\n",
              "    <tr>\n",
              "      <th>680</th>\n",
              "      <td>NaN</td>\n",
              "      <td>classic hotel tulippano</td>\n",
              "      <td>NaN</td>\n",
              "      <td>Roma</td>\n",
              "      <td>Roma</td>\n",
              "      <td>NaN</td>\n",
              "      <td>109</td>\n",
              "      <td>NaN</td>\n",
              "      <td>NaN</td>\n",
              "      <td>NaN</td>\n",
              "      <td>NaN</td>\n",
              "      <td>NaN</td>\n",
              "      <td>NaN</td>\n",
              "      <td>NaN</td>\n",
              "      <td>NaN</td>\n",
              "      <td>NaN</td>\n",
              "      <td>NaN</td>\n",
              "      <td>NaN</td>\n",
              "      <td>NaT</td>\n",
              "      <td>NaT</td>\n",
              "    </tr>\n",
              "  </tbody>\n",
              "</table>\n",
              "<p>681 rows × 20 columns</p>\n",
              "</div>"
            ],
            "text/plain": [
              "                                     titolo  \\\n",
              "0                         Raeli Hotel Lazio   \n",
              "1                          Raeli Hotel Noto   \n",
              "2                                Hotel King   \n",
              "3    Rome Cavalieri A Waldorf Astoria Hotel   \n",
              "4                            Hotel Taormina   \n",
              "..                                      ...   \n",
              "676             Casa vacanze TERRA DI ASLAN   \n",
              "677                                     NaN   \n",
              "678                                     NaN   \n",
              "679                                     NaN   \n",
              "680                                     NaN   \n",
              "\n",
              "                      titolo_processed                            zona  \\\n",
              "0                    Hotel Lazio Raeli  Stazione centrale Roma Termini   \n",
              "1                     Hotel Noto Raeli  Stazione centrale Roma Termini   \n",
              "2                           Hotel King                      Via Veneto   \n",
              "3    A Astoria Cavalieri Hotel Waldorf                       Trionfale   \n",
              "4                       Hotel Taormina  Stazione centrale Roma Termini   \n",
              "..                                 ...                             ...   \n",
              "676        Aslan Casa Di Terra Vacanze                           Narni   \n",
              "677                    hotel valentino                             NaN   \n",
              "678                        paris hotel                             NaN   \n",
              "679                        fiori hotel                             NaN   \n",
              "680            classic hotel tulippano                             NaN   \n",
              "\n",
              "       zona_processed  città  distanza_centro  prezzo  numero_notti  \\\n",
              "0    stazione termini   roma              0.0     159           1.0   \n",
              "1    stazione termini   roma              0.0     153           1.0   \n",
              "2          via veneto   roma              0.0     169           1.0   \n",
              "3           trionfale   roma              1.2    1620           1.0   \n",
              "4    stazione termini   roma              0.0     105           1.0   \n",
              "..                ...    ...              ...     ...           ...   \n",
              "676             narni  terni              NaN     119           1.0   \n",
              "677               eur   Roma              NaN     190           NaN   \n",
              "678           termini   Roma              NaN     110           NaN   \n",
              "679             Terni  Terni              NaN      81           NaN   \n",
              "680              Roma   Roma              NaN     109           NaN   \n",
              "\n",
              "     numero_persone inizio_permanenza fine_permanenza  \\\n",
              "0               2.0          01-08-25        02-08-25   \n",
              "1               2.0          01-08-25        02-08-25   \n",
              "2               2.0          01-08-25        02-08-25   \n",
              "3               2.0          01-08-25        02-08-25   \n",
              "4               2.0          01-08-25        02-08-25   \n",
              "..              ...               ...             ...   \n",
              "676             2.0          01-08-25        02-08-25   \n",
              "677             NaN               NaN             NaN   \n",
              "678             NaN               NaN             NaN   \n",
              "679             NaN               NaN             NaN   \n",
              "680             NaN               NaN             NaN   \n",
              "\n",
              "    recensione_voto_numerico recensione_voto_parola  numero_recensioni  \\\n",
              "0                        7,7                 Ottimo              321.0   \n",
              "1                        7,8                 Ottimo             2391.0   \n",
              "2                        8,1             Fantastico             2109.0   \n",
              "3                        8,9             Fantastico             1161.0   \n",
              "4                        8,3             Fantastico             1541.0   \n",
              "..                       ...                    ...                ...   \n",
              "676                      9,6            Eccezionale                7.0   \n",
              "677                      NaN                    NaN                NaN   \n",
              "678                      NaN                    NaN                NaN   \n",
              "679                      NaN                    NaN                NaN   \n",
              "680                      NaN                    NaN                NaN   \n",
              "\n",
              "                    date         permanenza  \\\n",
              "0    1 agosto - 2 agosto  1 notte, 2 adulti   \n",
              "1    1 agosto - 2 agosto  1 notte, 2 adulti   \n",
              "2    1 agosto - 2 agosto  1 notte, 2 adulti   \n",
              "3    1 agosto - 2 agosto  1 notte, 2 adulti   \n",
              "4    1 agosto - 2 agosto  1 notte, 2 adulti   \n",
              "..                   ...                ...   \n",
              "676  1 agosto - 2 agosto  1 notte, 2 adulti   \n",
              "677                  NaN                NaN   \n",
              "678                  NaN                NaN   \n",
              "679                  NaN                NaN   \n",
              "680                  NaN                NaN   \n",
              "\n",
              "                                             indirizzo  valutazione  \\\n",
              "0    Stazione centrale Roma Termini, Roma - In pien...          3.0   \n",
              "1    Stazione centrale Roma Termini, Roma - In pien...          3.0   \n",
              "2                   Via Veneto, Roma - In pieno centro          3.0   \n",
              "3                Trionfale, Roma - A 1,2 km dal centro          5.0   \n",
              "4    Stazione centrale Roma Termini, Roma - In pien...          2.0   \n",
              "..                                                 ...          ...   \n",
              "676                                      Narni, Narni           3.0   \n",
              "677                                                NaN          NaN   \n",
              "678                                                NaN          NaN   \n",
              "679                                                NaN          NaN   \n",
              "680                                                NaN          NaN   \n",
              "\n",
              "    inizio_permanenza_datetime fine_permanenza_datetime  \n",
              "0                   2025-01-08               2025-02-08  \n",
              "1                   2025-01-08               2025-02-08  \n",
              "2                   2025-01-08               2025-02-08  \n",
              "3                   2025-01-08               2025-02-08  \n",
              "4                   2025-01-08               2025-02-08  \n",
              "..                         ...                      ...  \n",
              "676                 2025-01-08               2025-02-08  \n",
              "677                        NaT                      NaT  \n",
              "678                        NaT                      NaT  \n",
              "679                        NaT                      NaT  \n",
              "680                        NaT                      NaT  \n",
              "\n",
              "[681 rows x 20 columns]"
            ]
          },
          "execution_count": 48,
          "metadata": {},
          "output_type": "execute_result"
        }
      ],
      "source": [
        "agoda"
      ]
    },
    {
      "cell_type": "code",
      "execution_count": 49,
      "metadata": {},
      "outputs": [
        {
          "data": {
            "application/vnd.microsoft.datawrangler.viewer.v0+json": {
              "columns": [
                {
                  "name": "index",
                  "rawType": "int64",
                  "type": "integer"
                },
                {
                  "name": "titolo",
                  "rawType": "object",
                  "type": "string"
                },
                {
                  "name": "titolo_processed",
                  "rawType": "object",
                  "type": "string"
                },
                {
                  "name": "zona",
                  "rawType": "object",
                  "type": "string"
                },
                {
                  "name": "zona_processed",
                  "rawType": "object",
                  "type": "string"
                },
                {
                  "name": "città",
                  "rawType": "object",
                  "type": "string"
                },
                {
                  "name": "distanza_centro",
                  "rawType": "float64",
                  "type": "float"
                },
                {
                  "name": "prezzo",
                  "rawType": "int64",
                  "type": "integer"
                },
                {
                  "name": "numero_notti",
                  "rawType": "int64",
                  "type": "integer"
                },
                {
                  "name": "numero_persone",
                  "rawType": "int64",
                  "type": "integer"
                },
                {
                  "name": "inizio_permanenza",
                  "rawType": "object",
                  "type": "string"
                },
                {
                  "name": "fine_permanenza",
                  "rawType": "object",
                  "type": "string"
                },
                {
                  "name": "recensione_voto_numerico",
                  "rawType": "object",
                  "type": "unknown"
                },
                {
                  "name": "recensione_voto_parola",
                  "rawType": "object",
                  "type": "unknown"
                },
                {
                  "name": "numero_recensioni",
                  "rawType": "int64",
                  "type": "integer"
                },
                {
                  "name": "date",
                  "rawType": "object",
                  "type": "string"
                },
                {
                  "name": "permanenza",
                  "rawType": "object",
                  "type": "string"
                },
                {
                  "name": "indirizzo",
                  "rawType": "object",
                  "type": "string"
                },
                {
                  "name": "valutazione_booking",
                  "rawType": "float64",
                  "type": "float"
                },
                {
                  "name": "stelle",
                  "rawType": "float64",
                  "type": "float"
                },
                {
                  "name": "descrizione_camera",
                  "rawType": "object",
                  "type": "string"
                },
                {
                  "name": "configurazione_camera",
                  "rawType": "object",
                  "type": "string"
                },
                {
                  "name": "descrizione_unprocessed",
                  "rawType": "object",
                  "type": "string"
                },
                {
                  "name": "inizio_permanenza_datetime",
                  "rawType": "datetime64[ns]",
                  "type": "datetime"
                },
                {
                  "name": "fine_permanenza_datetime",
                  "rawType": "datetime64[ns]",
                  "type": "datetime"
                }
              ],
              "ref": "a97bef96-9d19-433f-9fb9-4143353f7589",
              "rows": [
                [
                  "0",
                  "The Sereno-3",
                  "3 Sereno The",
                  "Trionfale",
                  "trionfale",
                  "roma",
                  "3.5",
                  "242",
                  "1",
                  "2",
                  "01-08-25",
                  "02-08-25",
                  "8,1",
                  "Ottimo ",
                  "10",
                  "1 agosto - 2 agosto",
                  "1 notte, 2 adulti",
                  "Trionfale, Roma",
                  "4.0",
                  null,
                  "Appartamento con 2 Camere da Letto e Vista Città",
                  "Intero appartamento • 2 camere da letto • 1 bagno • 1 cucina • 88 m²",
                  "Appartamento con 2 Camere da Letto e Vista CittàIntero appartamento • 2 camere da letto • 1 bagno • 1 cucina • 88 m²3 letti (2 matrimoniali grandi, 1 divano letto)",
                  "2025-01-08 00:00:00",
                  "2025-02-08 00:00:00"
                ],
                [
                  "1",
                  "Sonder by Marriott Bonvoy Piazza Venezia Apartments",
                  "Apartments Bonvoy By Marriott Piazza Sonder Venezia",
                  "Pantheon",
                  "pantheon",
                  "roma",
                  "0.15",
                  "322",
                  "1",
                  "2",
                  "01-08-25",
                  "02-08-25",
                  "8,1",
                  "Ottimo ",
                  "321",
                  "1 agosto - 2 agosto",
                  "1 notte, 2 adulti",
                  "Pantheon, Roma",
                  null,
                  "3.0",
                  "Camera Queen ",
                  "Configurazione camera non disponibile",
                  "Camera Queen 1 letto matrimonialeResta solo 1 camera a questo prezzo sul nostro sito",
                  "2025-01-08 00:00:00",
                  "2025-02-08 00:00:00"
                ],
                [
                  "2",
                  "GuestHouse Martin",
                  "Guesthouse Martin",
                  "Villa Borghese/Parioli",
                  "villa borghese/parioli",
                  "roma",
                  "3.3",
                  "69",
                  "1",
                  "2",
                  "01-08-25",
                  "02-08-25",
                  "8,8",
                  "Favoloso ",
                  "267",
                  "1 agosto - 2 agosto",
                  "1 notte, 2 adulti",
                  "Villa Borghese/Parioli, Roma",
                  "4.0",
                  null,
                  "Camera Doppia con Letti Singoli con Bagno Privato Esterno ",
                  "Configurazione camera non disponibile",
                  "Camera Doppia con Letti Singoli con Bagno Privato Esterno Vari tipi di lettoResta solo 1 camera a questo prezzo sul nostro sito",
                  "2025-01-08 00:00:00",
                  "2025-02-08 00:00:00"
                ],
                [
                  "3",
                  "ASTORIA GOLDEN GATE",
                  "Astoria Gate Golden",
                  "Stazione Termini",
                  "stazione termini",
                  "roma",
                  "2.0",
                  "110",
                  "1",
                  "2",
                  "01-08-25",
                  "02-08-25",
                  "8,9",
                  "Favoloso ",
                  "1446",
                  "1 agosto - 2 agosto",
                  "1 notte, 2 adulti",
                  "Stazione Termini, Roma",
                  null,
                  "2.0",
                  "Camera Matrimoniale Superior ",
                  "Configurazione camera non disponibile",
                  "Camera Matrimoniale Superior Vari tipi di lettoCancellazione gratuitaSenza pagamento anticipato – Paga in strutturaResta solo 1 camera a questo prezzo sul nostro sito",
                  "2025-01-08 00:00:00",
                  "2025-02-08 00:00:00"
                ],
                [
                  "4",
                  "Magnifico Rome",
                  "Magnifico",
                  "Stazione Termini",
                  "stazione termini",
                  "roma",
                  "1.1",
                  "107",
                  "1",
                  "2",
                  "01-08-25",
                  "02-08-25",
                  "7,8",
                  "Buono ",
                  "781",
                  "1 agosto - 2 agosto",
                  "1 notte, 2 adulti",
                  "Stazione Termini, Roma",
                  "4.0",
                  null,
                  "Camera Matrimoniale Economy",
                  "Configurazione camera non disponibile",
                  "Camera Matrimoniale Economy1 letto matrimonialeResta solo 1 camera a questo prezzo sul nostro sito",
                  "2025-01-08 00:00:00",
                  "2025-02-08 00:00:00"
                ],
                [
                  "5",
                  "Ann Inn",
                  "Ann Inn",
                  "Stazione Termini",
                  "stazione termini",
                  "roma",
                  "1.8",
                  "97",
                  "1",
                  "2",
                  "01-08-25",
                  "02-08-25",
                  "7,9",
                  "Buono ",
                  "990",
                  "1 agosto - 2 agosto",
                  "1 notte, 2 adulti",
                  "Stazione Termini, Roma",
                  "3.0",
                  null,
                  "Camera Matrimoniale con Bagno Privato",
                  "Configurazione camera non disponibile",
                  "Camera Matrimoniale con Bagno Privato1 letto matrimonialeCancellazione gratuitaSenza pagamento anticipato – Paga in strutturaRestano solo 3 camere a questo prezzo sul nostro sito",
                  "2025-01-08 00:00:00",
                  "2025-02-08 00:00:00"
                ],
                [
                  "6",
                  "Hotel Suite Caesar",
                  "Caesar Hotel Suite",
                  "Stazione Termini",
                  "stazione termini",
                  "roma",
                  "1.9",
                  "79",
                  "1",
                  "2",
                  "01-08-25",
                  "02-08-25",
                  "7,7",
                  "Buono ",
                  "659",
                  "1 agosto - 2 agosto",
                  "1 notte, 2 adulti",
                  "Stazione Termini, Roma",
                  null,
                  "2.0",
                  "Camera Deluxe Matrimoniale/Doppia con Letti Singoli",
                  "Configurazione camera non disponibile",
                  "Camera Deluxe Matrimoniale/Doppia con Letti SingoliLetti: 1 matrimoniale o 2 singoliRestano solo 3 camere a questo prezzo sul nostro sito",
                  "2025-01-08 00:00:00",
                  "2025-02-08 00:00:00"
                ],
                [
                  "7",
                  "SmooRoomS Trastevere",
                  "Smoorooms Trastevere",
                  "Gianicolense",
                  "gianicolense",
                  "roma",
                  "2.7",
                  "105",
                  "1",
                  "2",
                  "01-08-25",
                  "02-08-25",
                  "7,7",
                  "Buono ",
                  "263",
                  "1 agosto - 2 agosto",
                  "1 notte, 2 adulti",
                  "Gianicolense, Roma",
                  "4.0",
                  null,
                  "Camera Queen con Balcone",
                  "Configurazione camera non disponibile",
                  "Camera Queen con Balcone1 letto matrimonialeCancellazione gratuitaResta solo 1 camera a questo prezzo sul nostro sito",
                  "2025-01-08 00:00:00",
                  "2025-02-08 00:00:00"
                ],
                [
                  "8",
                  "Black Rooms Colosseo",
                  "Black Colosseo Rooms",
                  "Rione Monti",
                  "monti",
                  "roma",
                  "1.6",
                  "110",
                  "1",
                  "2",
                  "01-08-25",
                  "02-08-25",
                  "8,9",
                  "Favoloso ",
                  "3161",
                  "1 agosto - 2 agosto",
                  "1 notte, 2 adulti",
                  "Rione Monti, Roma",
                  "4.0",
                  null,
                  "Camera King Standard",
                  "Configurazione camera non disponibile",
                  "Camera King Standard1 letto matrimonialeRestano solo 2 camere a questo prezzo sul nostro sito",
                  "2025-01-08 00:00:00",
                  "2025-02-08 00:00:00"
                ],
                [
                  "9",
                  "Chigi's Terrace",
                  "Chigi S Terrace",
                  "Roma",
                  "",
                  "roma",
                  "5.2",
                  "350",
                  "1",
                  "2",
                  "01-08-25",
                  "02-08-25",
                  null,
                  null,
                  "0",
                  "1 agosto - 2 agosto",
                  "1 notte, 2 adulti",
                  "Roma",
                  "4.0",
                  null,
                  "Appartamento con 3 Camere da Letto",
                  "Configurazione camera non disponibile",
                  "Appartamento con 3 Camere da Letto3 letti (2 divani letto, 1 matrimoniale)",
                  "2025-01-08 00:00:00",
                  "2025-02-08 00:00:00"
                ],
                [
                  "10",
                  "Leoni di Giada GUESTHOUSE - close to CENTRAL STATION",
                  "Central Close Di Giada Guesthouse Leoni Station To",
                  "Stazione Termini",
                  "stazione termini",
                  "roma",
                  "1.5",
                  "103",
                  "1",
                  "2",
                  "01-08-25",
                  "02-08-25",
                  "7,9",
                  "Buono ",
                  "264",
                  "1 agosto - 2 agosto",
                  "1 notte, 2 adulti",
                  "Stazione Termini, Roma",
                  "3.0",
                  null,
                  "Camera Matrimoniale Economy",
                  "Configurazione camera non disponibile",
                  "Camera Matrimoniale Economy1 letto matrimoniale largeCancellazione gratuitaResta solo 1 camera a questo prezzo sul nostro sito",
                  "2025-01-08 00:00:00",
                  "2025-02-08 00:00:00"
                ],
                [
                  "11",
                  "Nori Guest House",
                  "Guest House Nori",
                  "Rione Monti",
                  "monti",
                  "roma",
                  "1.6",
                  "87",
                  "1",
                  "2",
                  "01-08-25",
                  "02-08-25",
                  "8,2",
                  "Ottimo ",
                  "723",
                  "1 agosto - 2 agosto",
                  "1 notte, 2 adulti",
                  "Rione Monti, Roma",
                  null,
                  null,
                  "Camera Matrimoniale/Doppia con Letti Singoli con Bagno in Comune",
                  "Configurazione camera non disponibile",
                  "Camera Matrimoniale/Doppia con Letti Singoli con Bagno in Comune2 letti singoliCancellazione gratuitaSenza pagamento anticipato – Paga in strutturaResta solo 1 camera a questo prezzo sul nostro sito",
                  "2025-01-08 00:00:00",
                  "2025-02-08 00:00:00"
                ],
                [
                  "12",
                  "ECCE ROMA",
                  "Ecce",
                  "Stazione Termini",
                  "stazione termini",
                  "roma",
                  "1.4",
                  "125",
                  "1",
                  "2",
                  "01-08-25",
                  "02-08-25",
                  "8,2",
                  "Ottimo ",
                  "489",
                  "1 agosto - 2 agosto",
                  "1 notte, 2 adulti",
                  "Stazione Termini, Roma",
                  "4.0",
                  null,
                  "Camera Matrimoniale Standard",
                  "Configurazione camera non disponibile",
                  "Camera Matrimoniale StandardLetti: 1 matrimoniale o 2 singoliRestano solo 2 camere a questo prezzo sul nostro sito",
                  "2025-01-08 00:00:00",
                  "2025-02-08 00:00:00"
                ],
                [
                  "13",
                  "Comfy Vatican Suite",
                  "Comfy Suite Vatican",
                  "Trionfale",
                  "trionfale",
                  "roma",
                  "2.9",
                  "102",
                  "1",
                  "2",
                  "01-08-25",
                  "02-08-25",
                  "8,6",
                  "Favoloso ",
                  "797",
                  "1 agosto - 2 agosto",
                  "1 notte, 2 adulti",
                  "Trionfale, Roma",
                  "4.0",
                  null,
                  "Camera Matrimoniale con Bagno Privato",
                  "Configurazione camera non disponibile",
                  "Camera Matrimoniale con Bagno Privato1 letto matrimonialeCancellazione gratuitaResta solo 1 camera a questo prezzo sul nostro sito",
                  "2025-01-08 00:00:00",
                  "2025-02-08 00:00:00"
                ],
                [
                  "14",
                  "House 4 Mori",
                  "4 House Mori",
                  "Centro di Roma",
                  "centro",
                  "roma",
                  "1.9",
                  "119",
                  "1",
                  "2",
                  "01-08-25",
                  "02-08-25",
                  "8,8",
                  "Favoloso ",
                  "272",
                  "1 agosto - 2 agosto",
                  "1 notte, 2 adulti",
                  "Centro di Roma, Roma",
                  "4.0",
                  null,
                  "Camera Matrimoniale Standard",
                  "Configurazione camera non disponibile",
                  "Camera Matrimoniale Standard1 letto singoloCancellazione gratuitaSenza pagamento anticipato – Paga in strutturaRestano solo 3 camere a questo prezzo sul nostro sito",
                  "2025-01-08 00:00:00",
                  "2025-02-08 00:00:00"
                ],
                [
                  "15",
                  "Clara Domus",
                  "Clara Domus",
                  "Stazione Termini",
                  "stazione termini",
                  "roma",
                  "1.9",
                  "90",
                  "1",
                  "2",
                  "01-08-25",
                  "02-08-25",
                  "7,0",
                  "Buono ",
                  "500",
                  "1 agosto - 2 agosto",
                  "1 notte, 2 adulti",
                  "Stazione Termini, Roma",
                  "3.0",
                  null,
                  "Camera Matrimoniale/Doppia con Letti Singoli",
                  "Configurazione camera non disponibile",
                  "Camera Matrimoniale/Doppia con Letti SingoliLetti: 1 matrimoniale o 2 singoliCancellazione gratuitaSenza pagamento anticipato – Paga in strutturaResta solo 1 camera a questo prezzo sul nostro sito",
                  "2025-01-08 00:00:00",
                  "2025-02-08 00:00:00"
                ],
                [
                  "16",
                  "MC Guest House",
                  "Guest House Mc",
                  "San Giovanni",
                  "san giovanni",
                  "roma",
                  "2.5",
                  "84",
                  "1",
                  "2",
                  "01-08-25",
                  "02-08-25",
                  "8,1",
                  "Ottimo ",
                  "538",
                  "1 agosto - 2 agosto",
                  "1 notte, 2 adulti",
                  "San Giovanni, Roma",
                  null,
                  null,
                  "Camera Matrimoniale con Bagno in Comune ",
                  "Configurazione camera non disponibile",
                  "Camera Matrimoniale con Bagno in Comune 2 letti (1 singolo, 1 matrimoniale alla francese)Cancellazione gratuitaResta solo 1 camera a questo prezzo sul nostro sito",
                  "2025-01-08 00:00:00",
                  "2025-02-08 00:00:00"
                ],
                [
                  "17",
                  "Suite Art Navona",
                  "Art Navona Suite",
                  "Piazza Navona",
                  "navona",
                  "roma",
                  "1.0",
                  "162",
                  "1",
                  "2",
                  "01-08-25",
                  "02-08-25",
                  "8,1",
                  "Ottimo ",
                  "1176",
                  "1 agosto - 2 agosto",
                  "1 notte, 2 adulti",
                  "Piazza Navona, Roma",
                  "4.0",
                  null,
                  "Camera Matrimoniale Deluxe con Letto Matrimoniale alla Francese ",
                  "Configurazione camera non disponibile",
                  "Camera Matrimoniale Deluxe con Letto Matrimoniale alla Francese 1 letto matrimoniale alla franceseCancellazione gratuitaSenza pagamento anticipato – Paga in strutturaResta solo 1 camera a questo prezzo sul nostro sito",
                  "2025-01-08 00:00:00",
                  "2025-02-08 00:00:00"
                ],
                [
                  "18",
                  "I LOVE ROMA Guest House",
                  "Guest House I Love",
                  "Vaticano Prati",
                  "vaticano prati",
                  "roma",
                  "1.6",
                  "113",
                  "1",
                  "2",
                  "01-08-25",
                  "02-08-25",
                  "8,2",
                  "Ottimo ",
                  "952",
                  "1 agosto - 2 agosto",
                  "1 notte, 2 adulti",
                  "Vaticano Prati, Roma",
                  "4.0",
                  null,
                  "Camera Matrimoniale Piccola",
                  "Configurazione camera non disponibile",
                  "Camera Matrimoniale Piccola1 letto matrimonialeCancellazione gratuitaRestano solo 5 camere a questo prezzo sul nostro sito",
                  "2025-01-08 00:00:00",
                  "2025-02-08 00:00:00"
                ],
                [
                  "19",
                  "La Casa Di Iulia",
                  "Casa Di Iulia La",
                  "Vaticano Prati",
                  "vaticano prati",
                  "roma",
                  "2.1",
                  "126",
                  "1",
                  "2",
                  "01-08-25",
                  "02-08-25",
                  "8,5",
                  "Ottimo ",
                  "366",
                  "1 agosto - 2 agosto",
                  "1 notte, 2 adulti",
                  "Vaticano Prati, Roma",
                  "4.0",
                  null,
                  "Camera Matrimoniale Piccola",
                  "Configurazione camera non disponibile",
                  "Camera Matrimoniale Piccola1 letto matrimoniale alla franceseCancellazione gratuitaResta solo 1 camera a questo prezzo sul nostro sito",
                  "2025-01-08 00:00:00",
                  "2025-02-08 00:00:00"
                ],
                [
                  "20",
                  "Guest's Heaven",
                  "Guest Heaven S",
                  "Roma",
                  "",
                  "roma",
                  "3.7",
                  "91",
                  "1",
                  "2",
                  "01-08-25",
                  "02-08-25",
                  "9,0",
                  "Eccellente ",
                  "1949",
                  "1 agosto - 2 agosto",
                  "1 notte, 2 adulti",
                  "Roma",
                  "4.0",
                  null,
                  "Camera Matrimoniale con Letto Queen-Size - Seminterrato ",
                  "Configurazione camera non disponibile",
                  "Camera Matrimoniale con Letto Queen-Size - Seminterrato 1 letto matrimonialeCancellazione gratuitaSenza pagamento anticipato – Paga in strutturaResta solo 1 camera a questo prezzo sul nostro sito",
                  "2025-01-08 00:00:00",
                  "2025-02-08 00:00:00"
                ],
                [
                  "21",
                  "Mecenate Rooms",
                  "Mecenate Rooms",
                  "Rione Monti",
                  "monti",
                  "roma",
                  "1.4",
                  "127",
                  "1",
                  "2",
                  "01-08-25",
                  "02-08-25",
                  "8,7",
                  "Favoloso ",
                  "446",
                  "1 agosto - 2 agosto",
                  "1 notte, 2 adulti",
                  "Rione Monti, Roma",
                  "4.0",
                  null,
                  "Camera Deluxe ",
                  "Configurazione camera non disponibile",
                  "Camera Deluxe Vari tipi di lettoCancellazione gratuitaResta solo 1 camera a questo prezzo sul nostro sito",
                  "2025-01-08 00:00:00",
                  "2025-02-08 00:00:00"
                ],
                [
                  "22",
                  "Domus Castroni Scipioni",
                  "Castroni Domus Scipioni",
                  "Vaticano Prati",
                  "vaticano prati",
                  "roma",
                  "2.2",
                  "126",
                  "1",
                  "2",
                  "01-08-25",
                  "02-08-25",
                  "8,8",
                  "Favoloso ",
                  "432",
                  "1 agosto - 2 agosto",
                  "1 notte, 2 adulti",
                  "Vaticano Prati, Roma",
                  "4.0",
                  null,
                  "Camera Matrimoniale Deluxe",
                  "Configurazione camera non disponibile",
                  "Camera Matrimoniale Deluxe1 letto matrimoniale alla franceseColazione inclusaResta solo 1 camera a questo prezzo sul nostro sito",
                  "2025-01-08 00:00:00",
                  "2025-02-08 00:00:00"
                ],
                [
                  "23",
                  "WE LOVE ROMA Guest House",
                  "Guest House Love We",
                  "Vaticano Prati",
                  "vaticano prati",
                  "roma",
                  "1.5",
                  "153",
                  "1",
                  "2",
                  "01-08-25",
                  "02-08-25",
                  "8,1",
                  "Ottimo ",
                  "974",
                  "1 agosto - 2 agosto",
                  "1 notte, 2 adulti",
                  "Vaticano Prati, Roma",
                  "4.0",
                  null,
                  "Camera Matrimoniale",
                  "Configurazione camera non disponibile",
                  "Camera Matrimoniale1 letto matrimonialeCancellazione gratuitaRestano solo 6 camere a questo prezzo sul nostro sito",
                  "2025-01-08 00:00:00",
                  "2025-02-08 00:00:00"
                ],
                [
                  "24",
                  "Colosseo Relais",
                  "Colosseo Relais",
                  "Rione Monti",
                  "monti",
                  "roma",
                  "0.5",
                  "120",
                  "1",
                  "2",
                  "01-08-25",
                  "02-08-25",
                  "9,2",
                  "Eccellente ",
                  "513",
                  "1 agosto - 2 agosto",
                  "1 notte, 2 adulti",
                  "Rione Monti, Roma",
                  "4.0",
                  null,
                  "Piccola Camera Matrimoniale Romantica",
                  "Configurazione camera non disponibile",
                  "Piccola Camera Matrimoniale Romantica1 letto matrimoniale alla franceseResta solo 1 camera a questo prezzo sul nostro sito",
                  "2025-01-08 00:00:00",
                  "2025-02-08 00:00:00"
                ],
                [
                  "25",
                  "Oscar Rooms",
                  "Oscar Rooms",
                  "Stazione Termini",
                  "stazione termini",
                  "roma",
                  "1.6",
                  "94",
                  "1",
                  "2",
                  "01-08-25",
                  "02-08-25",
                  "7,3",
                  "Buono ",
                  "788",
                  "1 agosto - 2 agosto",
                  "1 notte, 2 adulti",
                  "Stazione Termini, Roma",
                  "2.0",
                  null,
                  "Camera Matrimoniale con Bagno Privato",
                  "Configurazione camera non disponibile",
                  "Camera Matrimoniale con Bagno Privato1 letto matrimoniale largeCancellazione gratuitaResta solo 1 camera a questo prezzo sul nostro sito",
                  "2025-01-08 00:00:00",
                  "2025-02-08 00:00:00"
                ],
                [
                  "26",
                  "St Peter Suites Boutique Music Guesthouse",
                  "Boutique Guesthouse Music Peter St Suites",
                  "Vaticano Prati",
                  "vaticano prati",
                  "roma",
                  "2.1",
                  "163",
                  "1",
                  "2",
                  "01-08-25",
                  "02-08-25",
                  "8,7",
                  "Favoloso ",
                  "197",
                  "1 agosto - 2 agosto",
                  "1 notte, 2 adulti",
                  "Vaticano Prati, Roma",
                  "4.0",
                  null,
                  "Camera Matrimoniale Standard",
                  "Configurazione camera non disponibile",
                  "Camera Matrimoniale Standard1 letto matrimonialeCancellazione gratuitaRestano solo 2 camere a questo prezzo sul nostro sito",
                  "2025-01-08 00:00:00",
                  "2025-02-08 00:00:00"
                ],
                [
                  "27",
                  "Terrace Pantheon Relais",
                  "Pantheon Relais Terrace",
                  "Pantheon",
                  "pantheon",
                  "roma",
                  "0.5",
                  "366",
                  "1",
                  "2",
                  "01-08-25",
                  "02-08-25",
                  "9,3",
                  "Eccellente ",
                  "907",
                  "1 agosto - 2 agosto",
                  "1 notte, 2 adulti",
                  "Pantheon, Roma",
                  null,
                  "4.0",
                  "Camera Matrimoniale Classic",
                  "Configurazione camera non disponibile",
                  "Camera Matrimoniale Classic1 letto matrimonialeRestano solo 2 camere a questo prezzo sul nostro sito",
                  "2025-01-08 00:00:00",
                  "2025-02-08 00:00:00"
                ],
                [
                  "28",
                  "Penthouse Suite Rome - Private Suites",
                  "Penthouse Private Suite Suites",
                  "Trevi",
                  "trevi",
                  "roma",
                  "1.0",
                  "270",
                  "1",
                  "2",
                  "01-08-25",
                  "02-08-25",
                  "8,7",
                  "Favoloso ",
                  "438",
                  "1 agosto - 2 agosto",
                  "1 notte, 2 adulti",
                  "Trevi, Roma",
                  "4.0",
                  null,
                  "Junior Suite",
                  "Suite privata",
                  "Junior SuiteSuite privata2 letti (1 matrimoniale grande, 1 matrimoniale)Ne resta solo 1 a questo prezzo sul nostro sito",
                  "2025-01-08 00:00:00",
                  "2025-02-08 00:00:00"
                ],
                [
                  "29",
                  "Hotel Fiori",
                  "Fiori Hotel",
                  "Rione Monti",
                  "monti",
                  "roma",
                  "0.4",
                  "150",
                  "1",
                  "2",
                  "01-08-25",
                  "02-08-25",
                  "8,6",
                  "Favoloso ",
                  "718",
                  "1 agosto - 2 agosto",
                  "1 notte, 2 adulti",
                  "Rione Monti, Roma",
                  null,
                  "2.0",
                  "Camera Matrimoniale/Doppia con Letti Singoli",
                  "Configurazione camera non disponibile",
                  "Camera Matrimoniale/Doppia con Letti SingoliLetti: 1 matrimoniale o 2 singoli • Culla gratuita sempre disponibileResta solo 1 camera a questo prezzo sul nostro sito",
                  "2025-01-08 00:00:00",
                  "2025-02-08 00:00:00"
                ],
                [
                  "30",
                  "Massimi City Garden",
                  "City Garden Massimi",
                  "Trionfale",
                  "trionfale",
                  "roma",
                  "4.7",
                  "327",
                  "1",
                  "2",
                  "01-08-25",
                  "02-08-25",
                  "8,9",
                  "Favoloso ",
                  "1526",
                  "1 agosto - 2 agosto",
                  "1 notte, 2 adulti",
                  "Trionfale, Roma",
                  null,
                  "4.0",
                  "Camera Standard Matrimoniale/Doppia con Letti Singoli",
                  "Configurazione camera non disponibile",
                  "Camera Standard Matrimoniale/Doppia con Letti SingoliLetti: 1 matrimoniale o 2 singoliColazione inclusaResta solo 1 camera a questo prezzo sul nostro sito",
                  "2025-01-08 00:00:00",
                  "2025-02-08 00:00:00"
                ],
                [
                  "31",
                  "Bhr Cavour 150",
                  "150 Bhr Cavour",
                  "Rione Monti",
                  "monti",
                  "roma",
                  "1.1",
                  "170",
                  "1",
                  "2",
                  "01-08-25",
                  "02-08-25",
                  "8,6",
                  "Favoloso ",
                  "235",
                  "1 agosto - 2 agosto",
                  "1 notte, 2 adulti",
                  "Rione Monti, Roma",
                  "4.0",
                  null,
                  "Camera King Deluxe ",
                  "Configurazione camera non disponibile",
                  "Camera King Deluxe 1 letto matrimoniale largeColazione inclusaResta solo 1 camera a questo prezzo sul nostro sito",
                  "2025-01-08 00:00:00",
                  "2025-02-08 00:00:00"
                ],
                [
                  "32",
                  "Hotel Pacific",
                  "Hotel Pacific",
                  "Trionfale",
                  "trionfale",
                  "roma",
                  "3.4",
                  "237",
                  "1",
                  "2",
                  "01-08-25",
                  "02-08-25",
                  "8,5",
                  "Ottimo ",
                  "4319",
                  "1 agosto - 2 agosto",
                  "1 notte, 2 adulti",
                  "Trionfale, Roma",
                  null,
                  "3.0",
                  "Camera Superior Matrimoniale/Doppia con Letti Singoli ",
                  "Configurazione camera non disponibile",
                  "Camera Superior Matrimoniale/Doppia con Letti Singoli Letti: 1 matrimoniale o 2 singoliColazione inclusa",
                  "2025-01-08 00:00:00",
                  "2025-02-08 00:00:00"
                ],
                [
                  "33",
                  "Room Mate Collection Filippo, Rome-Fontana di Trevi",
                  "Collection Di Filippo Fontana Mate Room Trevi",
                  "Via Veneto",
                  "via veneto",
                  "roma",
                  "1.1",
                  "384",
                  "1",
                  "2",
                  "01-08-25",
                  "02-08-25",
                  "9,4",
                  "Eccellente ",
                  "1169",
                  "1 agosto - 2 agosto",
                  "1 notte, 2 adulti",
                  "Via Veneto, Roma",
                  null,
                  "4.0",
                  "Camera Superior Matrimoniale/Doppia con Letti Singoli ",
                  "Configurazione camera non disponibile",
                  "Camera Superior Matrimoniale/Doppia con Letti Singoli 1 letto matrimonialeColazione inclusa",
                  "2025-01-08 00:00:00",
                  "2025-02-08 00:00:00"
                ],
                [
                  "34",
                  "Goldoni 47",
                  "47 Goldoni",
                  "Spagna",
                  "spagna",
                  "roma",
                  "1.0",
                  "286",
                  "1",
                  "2",
                  "01-08-25",
                  "02-08-25",
                  "9,3",
                  "Eccellente ",
                  "268",
                  "1 agosto - 2 agosto",
                  "1 notte, 2 adulti",
                  "Spagna, Roma",
                  null,
                  "3.0",
                  "Camera Matrimoniale Deluxe",
                  "Configurazione camera non disponibile",
                  "Camera Matrimoniale DeluxeLetti: 1 matrimoniale o 2 singoliResta solo 1 camera a questo prezzo sul nostro sito",
                  "2025-01-08 00:00:00",
                  "2025-02-08 00:00:00"
                ],
                [
                  "35",
                  "My Suites Piazza di Spagna",
                  "Di My Piazza Spagna Suites",
                  "Spagna",
                  "spagna",
                  "roma",
                  "1.2",
                  "205",
                  "1",
                  "2",
                  "01-08-25",
                  "02-08-25",
                  "9,0",
                  "Eccellente ",
                  "616",
                  "1 agosto - 2 agosto",
                  "1 notte, 2 adulti",
                  "Spagna, Roma",
                  "4.0",
                  null,
                  "Camera Matrimoniale",
                  "Configurazione camera non disponibile",
                  "Camera Matrimoniale1 letto matrimonialeRestano solo 3 camere a questo prezzo sul nostro sito",
                  "2025-01-08 00:00:00",
                  "2025-02-08 00:00:00"
                ],
                [
                  "36",
                  "Little Queen Suite",
                  "Little Queen Suite",
                  "Pantheon",
                  "pantheon",
                  "roma",
                  "0.5",
                  "243",
                  "1",
                  "2",
                  "01-08-25",
                  "02-08-25",
                  "8,4",
                  "Ottimo ",
                  "1480",
                  "1 agosto - 2 agosto",
                  "1 notte, 2 adulti",
                  "Pantheon, Roma",
                  "4.0",
                  null,
                  "Camera Matrimoniale con Terrazza",
                  "Configurazione camera non disponibile",
                  "Camera Matrimoniale con Terrazza1 letto matrimoniale alla franceseResta solo 1 camera a questo prezzo sul nostro sito",
                  "2025-01-08 00:00:00",
                  "2025-02-08 00:00:00"
                ],
                [
                  "37",
                  "G55 Design Hotel",
                  "Design G55 Hotel",
                  "Pantheon",
                  "pantheon",
                  "roma",
                  "0.3",
                  "273",
                  "1",
                  "2",
                  "01-08-25",
                  "02-08-25",
                  "8,2",
                  "Ottimo ",
                  "753",
                  "1 agosto - 2 agosto",
                  "1 notte, 2 adulti",
                  "Pantheon, Roma",
                  null,
                  "3.0",
                  "Camera Matrimoniale Superior",
                  "Configurazione camera non disponibile",
                  "Camera Matrimoniale Superior1 letto matrimonialeResta solo 1 camera a questo prezzo sul nostro sito",
                  "2025-01-08 00:00:00",
                  "2025-02-08 00:00:00"
                ],
                [
                  "38",
                  "Parisii Luxury Relais Rome",
                  "Luxury Parisii Relais",
                  "Via Veneto",
                  "via veneto",
                  "roma",
                  "1.0",
                  "251",
                  "1",
                  "2",
                  "01-08-25",
                  "02-08-25",
                  "9,4",
                  "Eccellente ",
                  "783",
                  "1 agosto - 2 agosto",
                  "1 notte, 2 adulti",
                  "Via Veneto, Roma",
                  "4.0",
                  null,
                  "Camera Matrimoniale Piccola",
                  "Configurazione camera non disponibile",
                  "Camera Matrimoniale Piccola1 letto matrimonialeCancellazione gratuitaRestano solo 2 camere a questo prezzo sul nostro sito",
                  "2025-01-08 00:00:00",
                  "2025-02-08 00:00:00"
                ],
                [
                  "39",
                  "Nikis Collection Trastevere",
                  "Collection Nikis Trastevere",
                  "Trastevere",
                  "trastevere",
                  "roma",
                  "1.2",
                  "251",
                  "1",
                  "2",
                  "01-08-25",
                  "02-08-25",
                  "9,0",
                  "Eccellente ",
                  "1345",
                  "1 agosto - 2 agosto",
                  "1 notte, 2 adulti",
                  "Trastevere, Roma",
                  "4.0",
                  null,
                  "Camera Matrimoniale Classic",
                  "Configurazione camera non disponibile",
                  "Camera Matrimoniale Classic1 letto matrimoniale largeRestano solo 3 camere a questo prezzo sul nostro sito",
                  "2025-01-08 00:00:00",
                  "2025-02-08 00:00:00"
                ],
                [
                  "40",
                  "Charme Spagna Boutique Hotel",
                  "Boutique Charme Hotel Spagna",
                  "Spagna",
                  "spagna",
                  "roma",
                  "0.8",
                  "249",
                  "1",
                  "2",
                  "01-08-25",
                  "02-08-25",
                  "8,7",
                  "Favoloso ",
                  "1149",
                  "1 agosto - 2 agosto",
                  "1 notte, 2 adulti",
                  "Spagna, Roma",
                  null,
                  "3.0",
                  "Camera Matrimoniale Standard - Dependance ",
                  "Configurazione camera non disponibile",
                  "Camera Matrimoniale Standard - Dependance 1 letto matrimonialeRestano solo 5 camere a questo prezzo sul nostro sito",
                  "2025-01-08 00:00:00",
                  "2025-02-08 00:00:00"
                ],
                [
                  "41",
                  "Luxury Navona",
                  "Luxury Navona",
                  "Piazza Navona",
                  "navona",
                  "roma",
                  "1.2",
                  "219",
                  "1",
                  "2",
                  "01-08-25",
                  "02-08-25",
                  "8,6",
                  "Favoloso ",
                  "875",
                  "1 agosto - 2 agosto",
                  "1 notte, 2 adulti",
                  "Piazza Navona, Roma",
                  "4.0",
                  null,
                  "Camera Matrimoniale Standard",
                  "Configurazione camera non disponibile",
                  "Camera Matrimoniale Standard1 letto matrimonialeColazione inclusaResta solo 1 camera a questo prezzo sul nostro sito",
                  "2025-01-08 00:00:00",
                  "2025-02-08 00:00:00"
                ],
                [
                  "42",
                  "Palazzo Goldoni Condotti Collection",
                  "Collection Condotti Goldoni Palazzo",
                  "Spagna",
                  "spagna",
                  "roma",
                  "1.0",
                  "440",
                  "1",
                  "2",
                  "01-08-25",
                  "02-08-25",
                  "9,5",
                  "Eccezionale ",
                  "383",
                  "1 agosto - 2 agosto",
                  "1 notte, 2 adulti",
                  "Spagna, Roma",
                  "4.0",
                  null,
                  "Camera Matrimoniale Splendid",
                  "Configurazione camera non disponibile",
                  "Camera Matrimoniale Splendid1 letto matrimoniale largeColazione inclusaResta solo 1 camera a questo prezzo sul nostro sito",
                  "2025-01-08 00:00:00",
                  "2025-02-08 00:00:00"
                ],
                [
                  "43",
                  "Minerva Monks Inn",
                  "Inn Minerva Monks",
                  "Pantheon",
                  "pantheon",
                  "roma",
                  "0.3",
                  "206",
                  "1",
                  "2",
                  "01-08-25",
                  "02-08-25",
                  "7,9",
                  "Buono ",
                  "1672",
                  "1 agosto - 2 agosto",
                  "1 notte, 2 adulti",
                  "Pantheon, Roma",
                  "4.0",
                  null,
                  "Camera Tripla Standard",
                  "Configurazione camera non disponibile",
                  "Camera Tripla Standard2 letti (1 singolo, 1 matrimoniale)Colazione inclusaResta solo 1 camera a questo prezzo sul nostro sito",
                  "2025-01-08 00:00:00",
                  "2025-02-08 00:00:00"
                ],
                [
                  "44",
                  "Hotel Relais Dei Papi",
                  "Dei Hotel Papi Relais",
                  "Vaticano Prati",
                  "vaticano prati",
                  "roma",
                  "2.1",
                  "264",
                  "1",
                  "2",
                  "01-08-25",
                  "02-08-25",
                  "8,2",
                  "Ottimo ",
                  "3342",
                  "1 agosto - 2 agosto",
                  "1 notte, 2 adulti",
                  "Vaticano Prati, Roma",
                  null,
                  "3.0",
                  "Camera Deluxe con Vasca Idromassaggio",
                  "Configurazione camera non disponibile",
                  "Camera Deluxe con Vasca Idromassaggio1 letto matrimonialeResta solo 1 camera a questo prezzo sul nostro sito",
                  "2025-01-08 00:00:00",
                  "2025-02-08 00:00:00"
                ],
                [
                  "45",
                  "Colonna Inn",
                  "Colonna Inn",
                  "Vaticano Prati",
                  "vaticano prati",
                  "roma",
                  "2.0",
                  "304",
                  "1",
                  "2",
                  "01-08-25",
                  "02-08-25",
                  "9,4",
                  "Eccellente ",
                  "131",
                  "1 agosto - 2 agosto",
                  "1 notte, 2 adulti",
                  "Vaticano Prati, Roma",
                  "4.0",
                  null,
                  "Camera Matrimoniale/Doppia con Letti Singoli con Terrazza",
                  "Configurazione camera non disponibile",
                  "Camera Matrimoniale/Doppia con Letti Singoli con Terrazza1 letto matrimoniale • Culla gratuita sempre disponibileCancellazione gratuitaResta solo 1 camera a questo prezzo sul nostro sito",
                  "2025-01-08 00:00:00",
                  "2025-02-08 00:00:00"
                ],
                [
                  "46",
                  "Jb Relais Luxury",
                  "Jb Luxury Relais",
                  "Piazza Navona",
                  "navona",
                  "roma",
                  "0.7",
                  "201",
                  "1",
                  "2",
                  "01-08-25",
                  "02-08-25",
                  "9,1",
                  "Eccellente ",
                  "571",
                  "1 agosto - 2 agosto",
                  "1 notte, 2 adulti",
                  "Piazza Navona, Roma",
                  "4.0",
                  null,
                  "Camera King Deluxe ",
                  "Configurazione camera non disponibile",
                  "Camera King Deluxe Vari tipi di lettoResta solo 1 camera a questo prezzo sul nostro sito",
                  "2025-01-08 00:00:00",
                  "2025-02-08 00:00:00"
                ],
                [
                  "47",
                  "Cancelleriadieci",
                  "Cancelleriadieci",
                  "Piazza Navona",
                  "navona",
                  "roma",
                  "1.0",
                  "198",
                  "1",
                  "2",
                  "01-08-25",
                  "02-08-25",
                  "8,7",
                  "Favoloso ",
                  "688",
                  "1 agosto - 2 agosto",
                  "1 notte, 2 adulti",
                  "Piazza Navona, Roma",
                  "4.0",
                  null,
                  "Camera Matrimoniale/Doppia con Letti Singoli con Balcone ",
                  "Configurazione camera non disponibile",
                  "Camera Matrimoniale/Doppia con Letti Singoli con Balcone Vari tipi di lettoResta solo 1 camera a questo prezzo sul nostro sito",
                  "2025-01-08 00:00:00",
                  "2025-02-08 00:00:00"
                ],
                [
                  "48",
                  "Minerva Relais",
                  "Minerva Relais",
                  "Pantheon",
                  "pantheon",
                  "roma",
                  "0.35",
                  "278",
                  "1",
                  "2",
                  "01-08-25",
                  "02-08-25",
                  "9,1",
                  "Eccellente ",
                  "604",
                  "1 agosto - 2 agosto",
                  "1 notte, 2 adulti",
                  "Pantheon, Roma",
                  "4.0",
                  null,
                  "Camera Superior Matrimoniale/Doppia con Letti Singoli",
                  "Configurazione camera non disponibile",
                  "Camera Superior Matrimoniale/Doppia con Letti SingoliVari tipi di lettoResta solo 1 camera a questo prezzo sul nostro sito",
                  "2025-01-08 00:00:00",
                  "2025-02-08 00:00:00"
                ],
                [
                  "49",
                  "HT Residence Maximus",
                  "Ht Maximus Residence",
                  "Colosseo",
                  "colosseo",
                  "roma",
                  "1.2",
                  "256",
                  "1",
                  "2",
                  "01-08-25",
                  "02-08-25",
                  "8,2",
                  "Ottimo ",
                  "1038",
                  "1 agosto - 2 agosto",
                  "1 notte, 2 adulti",
                  "Colosseo, Roma",
                  "4.0",
                  null,
                  "Camera Matrimoniale",
                  "Configurazione camera non disponibile",
                  "Camera Matrimoniale1 letto matrimonialeRestano solo 3 camere a questo prezzo sul nostro sito",
                  "2025-01-08 00:00:00",
                  "2025-02-08 00:00:00"
                ]
              ],
              "shape": {
                "columns": 24,
                "rows": 886
              }
            },
            "text/html": [
              "<div>\n",
              "<style scoped>\n",
              "    .dataframe tbody tr th:only-of-type {\n",
              "        vertical-align: middle;\n",
              "    }\n",
              "\n",
              "    .dataframe tbody tr th {\n",
              "        vertical-align: top;\n",
              "    }\n",
              "\n",
              "    .dataframe thead th {\n",
              "        text-align: right;\n",
              "    }\n",
              "</style>\n",
              "<table border=\"1\" class=\"dataframe\">\n",
              "  <thead>\n",
              "    <tr style=\"text-align: right;\">\n",
              "      <th></th>\n",
              "      <th>titolo</th>\n",
              "      <th>titolo_processed</th>\n",
              "      <th>zona</th>\n",
              "      <th>zona_processed</th>\n",
              "      <th>città</th>\n",
              "      <th>distanza_centro</th>\n",
              "      <th>prezzo</th>\n",
              "      <th>numero_notti</th>\n",
              "      <th>numero_persone</th>\n",
              "      <th>inizio_permanenza</th>\n",
              "      <th>fine_permanenza</th>\n",
              "      <th>recensione_voto_numerico</th>\n",
              "      <th>recensione_voto_parola</th>\n",
              "      <th>numero_recensioni</th>\n",
              "      <th>date</th>\n",
              "      <th>permanenza</th>\n",
              "      <th>indirizzo</th>\n",
              "      <th>valutazione_booking</th>\n",
              "      <th>stelle</th>\n",
              "      <th>descrizione_camera</th>\n",
              "      <th>configurazione_camera</th>\n",
              "      <th>descrizione_unprocessed</th>\n",
              "      <th>inizio_permanenza_datetime</th>\n",
              "      <th>fine_permanenza_datetime</th>\n",
              "    </tr>\n",
              "  </thead>\n",
              "  <tbody>\n",
              "    <tr>\n",
              "      <th>0</th>\n",
              "      <td>The Sereno-3</td>\n",
              "      <td>3 Sereno The</td>\n",
              "      <td>Trionfale</td>\n",
              "      <td>trionfale</td>\n",
              "      <td>roma</td>\n",
              "      <td>3.50</td>\n",
              "      <td>242</td>\n",
              "      <td>1</td>\n",
              "      <td>2</td>\n",
              "      <td>01-08-25</td>\n",
              "      <td>02-08-25</td>\n",
              "      <td>8,1</td>\n",
              "      <td>Ottimo</td>\n",
              "      <td>10</td>\n",
              "      <td>1 agosto - 2 agosto</td>\n",
              "      <td>1 notte, 2 adulti</td>\n",
              "      <td>Trionfale, Roma</td>\n",
              "      <td>4.0</td>\n",
              "      <td>NaN</td>\n",
              "      <td>Appartamento con 2 Camere da Letto e Vista Città</td>\n",
              "      <td>Intero appartamento • 2 camere da letto • 1 ba...</td>\n",
              "      <td>Appartamento con 2 Camere da Letto e Vista Cit...</td>\n",
              "      <td>2025-01-08</td>\n",
              "      <td>2025-02-08</td>\n",
              "    </tr>\n",
              "    <tr>\n",
              "      <th>1</th>\n",
              "      <td>Sonder by Marriott Bonvoy Piazza Venezia Apart...</td>\n",
              "      <td>Apartments Bonvoy By Marriott Piazza Sonder Ve...</td>\n",
              "      <td>Pantheon</td>\n",
              "      <td>pantheon</td>\n",
              "      <td>roma</td>\n",
              "      <td>0.15</td>\n",
              "      <td>322</td>\n",
              "      <td>1</td>\n",
              "      <td>2</td>\n",
              "      <td>01-08-25</td>\n",
              "      <td>02-08-25</td>\n",
              "      <td>8,1</td>\n",
              "      <td>Ottimo</td>\n",
              "      <td>321</td>\n",
              "      <td>1 agosto - 2 agosto</td>\n",
              "      <td>1 notte, 2 adulti</td>\n",
              "      <td>Pantheon, Roma</td>\n",
              "      <td>NaN</td>\n",
              "      <td>3.0</td>\n",
              "      <td>Camera Queen</td>\n",
              "      <td>Configurazione camera non disponibile</td>\n",
              "      <td>Camera Queen 1 letto matrimonialeResta solo 1 ...</td>\n",
              "      <td>2025-01-08</td>\n",
              "      <td>2025-02-08</td>\n",
              "    </tr>\n",
              "    <tr>\n",
              "      <th>2</th>\n",
              "      <td>GuestHouse Martin</td>\n",
              "      <td>Guesthouse Martin</td>\n",
              "      <td>Villa Borghese/Parioli</td>\n",
              "      <td>villa borghese/parioli</td>\n",
              "      <td>roma</td>\n",
              "      <td>3.30</td>\n",
              "      <td>69</td>\n",
              "      <td>1</td>\n",
              "      <td>2</td>\n",
              "      <td>01-08-25</td>\n",
              "      <td>02-08-25</td>\n",
              "      <td>8,8</td>\n",
              "      <td>Favoloso</td>\n",
              "      <td>267</td>\n",
              "      <td>1 agosto - 2 agosto</td>\n",
              "      <td>1 notte, 2 adulti</td>\n",
              "      <td>Villa Borghese/Parioli, Roma</td>\n",
              "      <td>4.0</td>\n",
              "      <td>NaN</td>\n",
              "      <td>Camera Doppia con Letti Singoli con Bagno Priv...</td>\n",
              "      <td>Configurazione camera non disponibile</td>\n",
              "      <td>Camera Doppia con Letti Singoli con Bagno Priv...</td>\n",
              "      <td>2025-01-08</td>\n",
              "      <td>2025-02-08</td>\n",
              "    </tr>\n",
              "    <tr>\n",
              "      <th>3</th>\n",
              "      <td>ASTORIA GOLDEN GATE</td>\n",
              "      <td>Astoria Gate Golden</td>\n",
              "      <td>Stazione Termini</td>\n",
              "      <td>stazione termini</td>\n",
              "      <td>roma</td>\n",
              "      <td>2.00</td>\n",
              "      <td>110</td>\n",
              "      <td>1</td>\n",
              "      <td>2</td>\n",
              "      <td>01-08-25</td>\n",
              "      <td>02-08-25</td>\n",
              "      <td>8,9</td>\n",
              "      <td>Favoloso</td>\n",
              "      <td>1446</td>\n",
              "      <td>1 agosto - 2 agosto</td>\n",
              "      <td>1 notte, 2 adulti</td>\n",
              "      <td>Stazione Termini, Roma</td>\n",
              "      <td>NaN</td>\n",
              "      <td>2.0</td>\n",
              "      <td>Camera Matrimoniale Superior</td>\n",
              "      <td>Configurazione camera non disponibile</td>\n",
              "      <td>Camera Matrimoniale Superior Vari tipi di lett...</td>\n",
              "      <td>2025-01-08</td>\n",
              "      <td>2025-02-08</td>\n",
              "    </tr>\n",
              "    <tr>\n",
              "      <th>4</th>\n",
              "      <td>Magnifico Rome</td>\n",
              "      <td>Magnifico</td>\n",
              "      <td>Stazione Termini</td>\n",
              "      <td>stazione termini</td>\n",
              "      <td>roma</td>\n",
              "      <td>1.10</td>\n",
              "      <td>107</td>\n",
              "      <td>1</td>\n",
              "      <td>2</td>\n",
              "      <td>01-08-25</td>\n",
              "      <td>02-08-25</td>\n",
              "      <td>7,8</td>\n",
              "      <td>Buono</td>\n",
              "      <td>781</td>\n",
              "      <td>1 agosto - 2 agosto</td>\n",
              "      <td>1 notte, 2 adulti</td>\n",
              "      <td>Stazione Termini, Roma</td>\n",
              "      <td>4.0</td>\n",
              "      <td>NaN</td>\n",
              "      <td>Camera Matrimoniale Economy</td>\n",
              "      <td>Configurazione camera non disponibile</td>\n",
              "      <td>Camera Matrimoniale Economy1 letto matrimonial...</td>\n",
              "      <td>2025-01-08</td>\n",
              "      <td>2025-02-08</td>\n",
              "    </tr>\n",
              "    <tr>\n",
              "      <th>...</th>\n",
              "      <td>...</td>\n",
              "      <td>...</td>\n",
              "      <td>...</td>\n",
              "      <td>...</td>\n",
              "      <td>...</td>\n",
              "      <td>...</td>\n",
              "      <td>...</td>\n",
              "      <td>...</td>\n",
              "      <td>...</td>\n",
              "      <td>...</td>\n",
              "      <td>...</td>\n",
              "      <td>...</td>\n",
              "      <td>...</td>\n",
              "      <td>...</td>\n",
              "      <td>...</td>\n",
              "      <td>...</td>\n",
              "      <td>...</td>\n",
              "      <td>...</td>\n",
              "      <td>...</td>\n",
              "      <td>...</td>\n",
              "      <td>...</td>\n",
              "      <td>...</td>\n",
              "      <td>...</td>\n",
              "      <td>...</td>\n",
              "    </tr>\n",
              "    <tr>\n",
              "      <th>881</th>\n",
              "      <td>Cuore di Terni</td>\n",
              "      <td>Cuore Di Terni</td>\n",
              "      <td>Terni</td>\n",
              "      <td>terni</td>\n",
              "      <td>terni</td>\n",
              "      <td>0.80</td>\n",
              "      <td>96</td>\n",
              "      <td>1</td>\n",
              "      <td>2</td>\n",
              "      <td>01-08-25</td>\n",
              "      <td>02-08-25</td>\n",
              "      <td>NaN</td>\n",
              "      <td>NaN</td>\n",
              "      <td>0</td>\n",
              "      <td>1 agosto - 2 agosto</td>\n",
              "      <td>1 notte, 2 adulti</td>\n",
              "      <td>Terni</td>\n",
              "      <td>NaN</td>\n",
              "      <td>NaN</td>\n",
              "      <td>Appartamento con 2 Camere da Letto</td>\n",
              "      <td>Intero appartamento • 2 camere da letto • 1 ba...</td>\n",
              "      <td>Appartamento con 2 Camere da LettoIntero appar...</td>\n",
              "      <td>2025-01-08</td>\n",
              "      <td>2025-02-08</td>\n",
              "    </tr>\n",
              "    <tr>\n",
              "      <th>882</th>\n",
              "      <td>Frantoio Pistelli</td>\n",
              "      <td>Frantoio Pistelli</td>\n",
              "      <td>Terni</td>\n",
              "      <td>terni</td>\n",
              "      <td>terni</td>\n",
              "      <td>2.00</td>\n",
              "      <td>81</td>\n",
              "      <td>1</td>\n",
              "      <td>2</td>\n",
              "      <td>01-08-25</td>\n",
              "      <td>02-08-25</td>\n",
              "      <td>9,0</td>\n",
              "      <td>Eccellente</td>\n",
              "      <td>6</td>\n",
              "      <td>1 agosto - 2 agosto</td>\n",
              "      <td>1 notte, 2 adulti</td>\n",
              "      <td>Terni</td>\n",
              "      <td>NaN</td>\n",
              "      <td>NaN</td>\n",
              "      <td>Appartamento con 1 Camera da Letto</td>\n",
              "      <td>Intero appartamento • 1 camera da letto • 1 zo...</td>\n",
              "      <td>Appartamento con 1 Camera da LettoIntero appar...</td>\n",
              "      <td>2025-01-08</td>\n",
              "      <td>2025-02-08</td>\n",
              "    </tr>\n",
              "    <tr>\n",
              "      <th>883</th>\n",
              "      <td>Favolosa \"Dimora del Capriolo\" con Giardino e ...</td>\n",
              "      <td>Capriolo Con Del Dimora E Favolosa Giardino Pa...</td>\n",
              "      <td>Terni</td>\n",
              "      <td>terni</td>\n",
              "      <td>terni</td>\n",
              "      <td>2.90</td>\n",
              "      <td>216</td>\n",
              "      <td>1</td>\n",
              "      <td>2</td>\n",
              "      <td>01-08-25</td>\n",
              "      <td>02-08-25</td>\n",
              "      <td>9,3</td>\n",
              "      <td>Eccellente</td>\n",
              "      <td>13</td>\n",
              "      <td>1 agosto - 2 agosto</td>\n",
              "      <td>1 notte, 2 adulti</td>\n",
              "      <td>Terni</td>\n",
              "      <td>3.0</td>\n",
              "      <td>NaN</td>\n",
              "      <td>Appartamento con 1 Camera da Letto</td>\n",
              "      <td>Intero appartamento • 1 camera da letto • 1 zo...</td>\n",
              "      <td>Appartamento con 1 Camera da LettoIntero appar...</td>\n",
              "      <td>2025-01-08</td>\n",
              "      <td>2025-02-08</td>\n",
              "    </tr>\n",
              "    <tr>\n",
              "      <th>884</th>\n",
              "      <td>La Severa 2</td>\n",
              "      <td>2 La Severa</td>\n",
              "      <td>Terni</td>\n",
              "      <td>terni</td>\n",
              "      <td>terni</td>\n",
              "      <td>1.40</td>\n",
              "      <td>96</td>\n",
              "      <td>1</td>\n",
              "      <td>2</td>\n",
              "      <td>01-08-25</td>\n",
              "      <td>02-08-25</td>\n",
              "      <td>8,4</td>\n",
              "      <td>Ottimo</td>\n",
              "      <td>11</td>\n",
              "      <td>1 agosto - 2 agosto</td>\n",
              "      <td>1 notte, 2 adulti</td>\n",
              "      <td>Terni</td>\n",
              "      <td>4.0</td>\n",
              "      <td>NaN</td>\n",
              "      <td>Appartamento con 1 Camera da Letto</td>\n",
              "      <td>Intero appartamento • 1 camera da letto • 1 zo...</td>\n",
              "      <td>Appartamento con 1 Camera da LettoIntero appar...</td>\n",
              "      <td>2025-01-08</td>\n",
              "      <td>2025-02-08</td>\n",
              "    </tr>\n",
              "    <tr>\n",
              "      <th>885</th>\n",
              "      <td>-15min Marmore- Ampio Appartamento Terra e Cuore</td>\n",
              "      <td>15Min Ampio Appartamento Cuore E Marmore Terra</td>\n",
              "      <td>Terni</td>\n",
              "      <td>terni</td>\n",
              "      <td>terni</td>\n",
              "      <td>2.90</td>\n",
              "      <td>182</td>\n",
              "      <td>1</td>\n",
              "      <td>2</td>\n",
              "      <td>01-08-25</td>\n",
              "      <td>02-08-25</td>\n",
              "      <td>NaN</td>\n",
              "      <td>NaN</td>\n",
              "      <td>0</td>\n",
              "      <td>1 agosto - 2 agosto</td>\n",
              "      <td>1 notte, 2 adulti</td>\n",
              "      <td>Terni</td>\n",
              "      <td>NaN</td>\n",
              "      <td>NaN</td>\n",
              "      <td>Appartamento con 2 Camere da Letto</td>\n",
              "      <td>Configurazione camera non disponibile</td>\n",
              "      <td>Appartamento con 2 Camere da Letto4 letti (2 s...</td>\n",
              "      <td>2025-01-08</td>\n",
              "      <td>2025-02-08</td>\n",
              "    </tr>\n",
              "  </tbody>\n",
              "</table>\n",
              "<p>886 rows × 24 columns</p>\n",
              "</div>"
            ],
            "text/plain": [
              "                                                titolo  \\\n",
              "0                                         The Sereno-3   \n",
              "1    Sonder by Marriott Bonvoy Piazza Venezia Apart...   \n",
              "2                                    GuestHouse Martin   \n",
              "3                                  ASTORIA GOLDEN GATE   \n",
              "4                                       Magnifico Rome   \n",
              "..                                                 ...   \n",
              "881                                     Cuore di Terni   \n",
              "882                                  Frantoio Pistelli   \n",
              "883  Favolosa \"Dimora del Capriolo\" con Giardino e ...   \n",
              "884                                        La Severa 2   \n",
              "885   -15min Marmore- Ampio Appartamento Terra e Cuore   \n",
              "\n",
              "                                      titolo_processed  \\\n",
              "0                                         3 Sereno The   \n",
              "1    Apartments Bonvoy By Marriott Piazza Sonder Ve...   \n",
              "2                                    Guesthouse Martin   \n",
              "3                                  Astoria Gate Golden   \n",
              "4                                            Magnifico   \n",
              "..                                                 ...   \n",
              "881                                     Cuore Di Terni   \n",
              "882                                  Frantoio Pistelli   \n",
              "883  Capriolo Con Del Dimora E Favolosa Giardino Pa...   \n",
              "884                                        2 La Severa   \n",
              "885     15Min Ampio Appartamento Cuore E Marmore Terra   \n",
              "\n",
              "                       zona          zona_processed  città  distanza_centro  \\\n",
              "0                 Trionfale               trionfale   roma             3.50   \n",
              "1                  Pantheon                pantheon   roma             0.15   \n",
              "2    Villa Borghese/Parioli  villa borghese/parioli   roma             3.30   \n",
              "3          Stazione Termini        stazione termini   roma             2.00   \n",
              "4          Stazione Termini        stazione termini   roma             1.10   \n",
              "..                      ...                     ...    ...              ...   \n",
              "881                   Terni                   terni  terni             0.80   \n",
              "882                   Terni                   terni  terni             2.00   \n",
              "883                   Terni                   terni  terni             2.90   \n",
              "884                   Terni                   terni  terni             1.40   \n",
              "885                   Terni                   terni  terni             2.90   \n",
              "\n",
              "     prezzo  numero_notti  numero_persone inizio_permanenza fine_permanenza  \\\n",
              "0       242             1               2          01-08-25        02-08-25   \n",
              "1       322             1               2          01-08-25        02-08-25   \n",
              "2        69             1               2          01-08-25        02-08-25   \n",
              "3       110             1               2          01-08-25        02-08-25   \n",
              "4       107             1               2          01-08-25        02-08-25   \n",
              "..      ...           ...             ...               ...             ...   \n",
              "881      96             1               2          01-08-25        02-08-25   \n",
              "882      81             1               2          01-08-25        02-08-25   \n",
              "883     216             1               2          01-08-25        02-08-25   \n",
              "884      96             1               2          01-08-25        02-08-25   \n",
              "885     182             1               2          01-08-25        02-08-25   \n",
              "\n",
              "    recensione_voto_numerico recensione_voto_parola  numero_recensioni  \\\n",
              "0                        8,1                Ottimo                  10   \n",
              "1                        8,1                Ottimo                 321   \n",
              "2                        8,8              Favoloso                 267   \n",
              "3                        8,9              Favoloso                1446   \n",
              "4                        7,8                 Buono                 781   \n",
              "..                       ...                    ...                ...   \n",
              "881                      NaN                    NaN                  0   \n",
              "882                      9,0            Eccellente                   6   \n",
              "883                      9,3            Eccellente                  13   \n",
              "884                      8,4                Ottimo                  11   \n",
              "885                      NaN                    NaN                  0   \n",
              "\n",
              "                    date         permanenza                     indirizzo  \\\n",
              "0    1 agosto - 2 agosto  1 notte, 2 adulti               Trionfale, Roma   \n",
              "1    1 agosto - 2 agosto  1 notte, 2 adulti                Pantheon, Roma   \n",
              "2    1 agosto - 2 agosto  1 notte, 2 adulti  Villa Borghese/Parioli, Roma   \n",
              "3    1 agosto - 2 agosto  1 notte, 2 adulti        Stazione Termini, Roma   \n",
              "4    1 agosto - 2 agosto  1 notte, 2 adulti        Stazione Termini, Roma   \n",
              "..                   ...                ...                           ...   \n",
              "881  1 agosto - 2 agosto  1 notte, 2 adulti                         Terni   \n",
              "882  1 agosto - 2 agosto  1 notte, 2 adulti                         Terni   \n",
              "883  1 agosto - 2 agosto  1 notte, 2 adulti                         Terni   \n",
              "884  1 agosto - 2 agosto  1 notte, 2 adulti                         Terni   \n",
              "885  1 agosto - 2 agosto  1 notte, 2 adulti                         Terni   \n",
              "\n",
              "     valutazione_booking  stelle  \\\n",
              "0                    4.0     NaN   \n",
              "1                    NaN     3.0   \n",
              "2                    4.0     NaN   \n",
              "3                    NaN     2.0   \n",
              "4                    4.0     NaN   \n",
              "..                   ...     ...   \n",
              "881                  NaN     NaN   \n",
              "882                  NaN     NaN   \n",
              "883                  3.0     NaN   \n",
              "884                  4.0     NaN   \n",
              "885                  NaN     NaN   \n",
              "\n",
              "                                    descrizione_camera  \\\n",
              "0     Appartamento con 2 Camere da Letto e Vista Città   \n",
              "1                                        Camera Queen    \n",
              "2    Camera Doppia con Letti Singoli con Bagno Priv...   \n",
              "3                        Camera Matrimoniale Superior    \n",
              "4                          Camera Matrimoniale Economy   \n",
              "..                                                 ...   \n",
              "881                 Appartamento con 2 Camere da Letto   \n",
              "882                 Appartamento con 1 Camera da Letto   \n",
              "883                 Appartamento con 1 Camera da Letto   \n",
              "884                 Appartamento con 1 Camera da Letto   \n",
              "885                 Appartamento con 2 Camere da Letto   \n",
              "\n",
              "                                 configurazione_camera  \\\n",
              "0    Intero appartamento • 2 camere da letto • 1 ba...   \n",
              "1                Configurazione camera non disponibile   \n",
              "2                Configurazione camera non disponibile   \n",
              "3                Configurazione camera non disponibile   \n",
              "4                Configurazione camera non disponibile   \n",
              "..                                                 ...   \n",
              "881  Intero appartamento • 2 camere da letto • 1 ba...   \n",
              "882  Intero appartamento • 1 camera da letto • 1 zo...   \n",
              "883  Intero appartamento • 1 camera da letto • 1 zo...   \n",
              "884  Intero appartamento • 1 camera da letto • 1 zo...   \n",
              "885              Configurazione camera non disponibile   \n",
              "\n",
              "                               descrizione_unprocessed  \\\n",
              "0    Appartamento con 2 Camere da Letto e Vista Cit...   \n",
              "1    Camera Queen 1 letto matrimonialeResta solo 1 ...   \n",
              "2    Camera Doppia con Letti Singoli con Bagno Priv...   \n",
              "3    Camera Matrimoniale Superior Vari tipi di lett...   \n",
              "4    Camera Matrimoniale Economy1 letto matrimonial...   \n",
              "..                                                 ...   \n",
              "881  Appartamento con 2 Camere da LettoIntero appar...   \n",
              "882  Appartamento con 1 Camera da LettoIntero appar...   \n",
              "883  Appartamento con 1 Camera da LettoIntero appar...   \n",
              "884  Appartamento con 1 Camera da LettoIntero appar...   \n",
              "885  Appartamento con 2 Camere da Letto4 letti (2 s...   \n",
              "\n",
              "    inizio_permanenza_datetime fine_permanenza_datetime  \n",
              "0                   2025-01-08               2025-02-08  \n",
              "1                   2025-01-08               2025-02-08  \n",
              "2                   2025-01-08               2025-02-08  \n",
              "3                   2025-01-08               2025-02-08  \n",
              "4                   2025-01-08               2025-02-08  \n",
              "..                         ...                      ...  \n",
              "881                 2025-01-08               2025-02-08  \n",
              "882                 2025-01-08               2025-02-08  \n",
              "883                 2025-01-08               2025-02-08  \n",
              "884                 2025-01-08               2025-02-08  \n",
              "885                 2025-01-08               2025-02-08  \n",
              "\n",
              "[886 rows x 24 columns]"
            ]
          },
          "execution_count": 49,
          "metadata": {},
          "output_type": "execute_result"
        }
      ],
      "source": [
        "booking"
      ]
    }
  ],
  "metadata": {
    "colab": {
      "provenance": []
    },
    "kernelspec": {
      "display_name": "recordlinkage",
      "language": "python",
      "name": "python3"
    },
    "language_info": {
      "codemirror_mode": {
        "name": "ipython",
        "version": 3
      },
      "file_extension": ".py",
      "mimetype": "text/x-python",
      "name": "python",
      "nbconvert_exporter": "python",
      "pygments_lexer": "ipython3",
      "version": "3.10.18"
    }
  },
  "nbformat": 4,
  "nbformat_minor": 0
}
