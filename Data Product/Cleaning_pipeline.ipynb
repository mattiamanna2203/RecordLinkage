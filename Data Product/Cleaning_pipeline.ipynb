{
  "cells": [
    {
      "cell_type": "markdown",
      "metadata": {},
      "source": [
        "# Set Up"
      ]
    },
    {
      "cell_type": "markdown",
      "metadata": {},
      "source": [
        "## Import Packages"
      ]
    },
    {
      "cell_type": "code",
      "execution_count": null,
      "metadata": {
        "colab": {
          "base_uri": "https://localhost:8080/"
        },
        "id": "_YJZe2bN2R9V",
        "outputId": "2ca5d035-9b43-4513-8286-d74f69736f3d"
      },
      "outputs": [],
      "source": [
        "# Lavorare con i dataframe\n",
        "import pandas as pd\n",
        "#pd.set_option('display.max_rows', None)\n",
        "\n",
        "# Importare sys per indicare il path della cartella ove sono collocate le funzioni selfmade.\n",
        "import sys\n",
        "sys.path.append('/Users/mattia/Desktop/MatchAnalysis_Imputation/Progetto/Funzioni')\n",
        "from funzioni import alfabeto, pulisci_prezzo # Funzioni fatte da se\n",
        "\n",
        "\n",
        "path_data_lake = \"/Users/mattia/Desktop/MatchAnalysis_Imputation/Progetto/Data Lake\"\n",
        "path_data_product = \"/Users/mattia/Desktop/MatchAnalysis_Imputation/Progetto/Data Product\""
      ]
    },
    {
      "cell_type": "markdown",
      "metadata": {
        "id": "oaZ6x0c_2R9a"
      },
      "source": [
        "## Load the Data"
      ]
    },
    {
      "cell_type": "markdown",
      "metadata": {},
      "source": [
        "Importare i dataframe contenenti informazioni su hotel e B&B riguardanti le città di Roma e Terni disponibili\n",
        "sulle piattaforme di agoda e booking."
      ]
    },
    {
      "cell_type": "code",
      "execution_count": 17,
      "metadata": {},
      "outputs": [],
      "source": [
        "agoda_terni = pd.read_csv(f'{path_data_lake}/agoda_Terni.csv',index_col=0)\n",
        "booking_terni = pd.read_csv(f'{path_data_lake}/booking_Terni.csv',index_col=0)\n",
        "\n",
        "booking_roma = pd.read_csv(f'{path_data_lake}/booking_Roma.csv',index_col=0)\n",
        "agoda_roma = pd.read_csv(f'{path_data_lake}/agoda_Roma.csv',index_col=0)"
      ]
    },
    {
      "cell_type": "markdown",
      "metadata": {},
      "source": [
        "# Data overview"
      ]
    },
    {
      "cell_type": "markdown",
      "metadata": {},
      "source": [
        "Osservare i dati e capire se c'è possibilità di feature engineering, capire inoltre se ci sono delle variabili\n",
        "che necessitano di pulizia."
      ]
    },
    {
      "cell_type": "markdown",
      "metadata": {},
      "source": [
        "## Dati riguardanti Agoda"
      ]
    },
    {
      "cell_type": "markdown",
      "metadata": {},
      "source": [
        "Controllare che le variabili tra sul sito di **agoda** riguardo a Roma e Terni siano le stesse."
      ]
    },
    {
      "cell_type": "code",
      "execution_count": 53,
      "metadata": {},
      "outputs": [
        {
          "data": {
            "text/html": [
              "<div>\n",
              "<style scoped>\n",
              "    .dataframe tbody tr th:only-of-type {\n",
              "        vertical-align: middle;\n",
              "    }\n",
              "\n",
              "    .dataframe tbody tr th {\n",
              "        vertical-align: top;\n",
              "    }\n",
              "\n",
              "    .dataframe thead th {\n",
              "        text-align: right;\n",
              "    }\n",
              "</style>\n",
              "<table border=\"1\" class=\"dataframe\">\n",
              "  <thead>\n",
              "    <tr style=\"text-align: right;\">\n",
              "      <th></th>\n",
              "      <th>titolo</th>\n",
              "      <th>recensione_voto_numerico</th>\n",
              "      <th>recensione_voto_parola</th>\n",
              "      <th>numero_recensioni</th>\n",
              "      <th>date</th>\n",
              "      <th>permanenza</th>\n",
              "      <th>prezzo</th>\n",
              "      <th>indirizzo</th>\n",
              "      <th>valutazione</th>\n",
              "    </tr>\n",
              "  </thead>\n",
              "  <tbody>\n",
              "    <tr>\n",
              "      <th>0</th>\n",
              "      <td>Hotel Valentino</td>\n",
              "      <td>9,0</td>\n",
              "      <td>Eccezionale</td>\n",
              "      <td>2 recensioni</td>\n",
              "      <td>1 agosto - 2 agosto</td>\n",
              "      <td>1 notte, 2 adulti</td>\n",
              "      <td>258 €</td>\n",
              "      <td>Terni, Terni</td>\n",
              "      <td>4.0</td>\n",
              "    </tr>\n",
              "  </tbody>\n",
              "</table>\n",
              "</div>"
            ],
            "text/plain": [
              "            titolo recensione_voto_numerico recensione_voto_parola  \\\n",
              "0  Hotel Valentino                      9,0            Eccezionale   \n",
              "\n",
              "  numero_recensioni                 date         permanenza prezzo  \\\n",
              "0      2 recensioni  1 agosto - 2 agosto  1 notte, 2 adulti  258 €   \n",
              "\n",
              "       indirizzo  valutazione  \n",
              "0  Terni, Terni           4.0  "
            ]
          },
          "execution_count": 53,
          "metadata": {},
          "output_type": "execute_result"
        }
      ],
      "source": [
        "agoda_terni.head(1)"
      ]
    },
    {
      "cell_type": "code",
      "execution_count": null,
      "metadata": {},
      "outputs": [
        {
          "data": {
            "text/plain": [
              "True"
            ]
          },
          "execution_count": 32,
          "metadata": {},
          "output_type": "execute_result"
        }
      ],
      "source": [
        "agoda_terni.columns.equals(agoda_roma.columns)"
      ]
    },
    {
      "cell_type": "markdown",
      "metadata": {},
      "source": [
        "Le variabili tra agoda Roma e agoda Terni sono le stesse e sono:\n",
        "   1. **Titolo** -> Nome della struttura;\n",
        "\n",
        "   2. **Recensione voto numerico** -> Recensione con voto numerico;\n",
        "\n",
        "   3. **Recensione voto parola** -> Recensione con voto a parola;\n",
        "\n",
        "   4. **Numero recensioni** -> Numero di recensioni fatte alla struttura;\n",
        "\n",
        "   5. **Date** -> Data di permanenza nella struttura;\n",
        "\n",
        "   6. **Permanenza** -> Informazioni sulla permanenza, numero di notti e numero di personev(adulti o bambini);\n",
        "\n",
        "   7. **Prezzo** -> Costo della permanenza;\n",
        "\n",
        "   8. **Indirizzo** -> Indirizzo della struttura formato (città, provincia);\n",
        "\n",
        "   9. **Valutazione** -> Le stelle di un hotel o la valutazione assegnata al B&B."
      ]
    },
    {
      "cell_type": "markdown",
      "metadata": {},
      "source": [
        "Sul dataset di agoda si può fare del feature engineering:\n",
        "\n",
        "   - Creare variabile NUMERO NOTTI dalla variabile **permanenza**, deve essere un numero;\n",
        "\n",
        "   - Creare variabile NUMERO PERSONE (adulte) e NUMERO PERSONE (bambini) dalla variabile **permanenza**;\n",
        "\n",
        "   - Creare variabile DATA CHECK IN da **date**;\n",
        "\n",
        "   - Creare variabile DATA CHECK OUT da **date**.\n",
        "\n",
        "\n",
        "\n",
        "Per quanto riguarda la variabile **indirizzo**:\n",
        "   - Nel dataframe **ROMA** ha il formato (zona, città - distanza centro)  es. Stazione centrale Roma Termini, Roma - In pieno centro;\n",
        "\n",
        "   - Nel dataframe **TERNI** ha il formato (zona, città)  es. Terni, Terni;\n",
        "\n",
        "\n",
        "Perciò per quanto riguarda Roma può anche essere creata la variabile **distanza dal centro**, oltre a **zona** e **città**.      \n",
        "Invece riguarda Terni può essere creata la variabile **zona** e **città**.                  "
      ]
    },
    {
      "cell_type": "markdown",
      "metadata": {},
      "source": [
        "Inoltre per effettuare le dovute analisi bisogna:\n",
        "   - Ricodificare la variabile **prezzo** rimuovendo il simbolo dell'euro (accertarsi che i prezzi siano tutti in euro);\n",
        "\n",
        "   - Sempre riguardo alla variabile **prezzo** eliminare il punto come separatore delle migliaia;\n",
        "\n",
        "   - **numero recensioni** qualora comparisse \"Novità su Agoda\" inserire 0 (zero).\n",
        "\n",
        "   - **numero recensioni** estrarre solo il numero di recensioni eliminado la stringa **recensioni** contenuta.\n",
        "\n",
        "   - La variabile **distanza centro** andrà pulita e resa un numero (float)."
      ]
    },
    {
      "cell_type": "markdown",
      "metadata": {},
      "source": [
        "## Dati riguardanti booking"
      ]
    },
    {
      "cell_type": "markdown",
      "metadata": {},
      "source": [
        "Controllare che le variabili tra sul sito di **booking** riguardo a Roma e Terni siano le stesse."
      ]
    },
    {
      "cell_type": "code",
      "execution_count": null,
      "metadata": {},
      "outputs": [
        {
          "data": {
            "text/html": [
              "<div>\n",
              "<style scoped>\n",
              "    .dataframe tbody tr th:only-of-type {\n",
              "        vertical-align: middle;\n",
              "    }\n",
              "\n",
              "    .dataframe tbody tr th {\n",
              "        vertical-align: top;\n",
              "    }\n",
              "\n",
              "    .dataframe thead th {\n",
              "        text-align: right;\n",
              "    }\n",
              "</style>\n",
              "<table border=\"1\" class=\"dataframe\">\n",
              "  <thead>\n",
              "    <tr style=\"text-align: right;\">\n",
              "      <th></th>\n",
              "      <th>titolo</th>\n",
              "      <th>recensione_voto_numerico</th>\n",
              "      <th>recensione_voto_parola</th>\n",
              "      <th>numero_recensioni</th>\n",
              "      <th>date</th>\n",
              "      <th>permanenza</th>\n",
              "      <th>prezzo</th>\n",
              "      <th>distanza_centro</th>\n",
              "      <th>indirizzo</th>\n",
              "      <th>stelle</th>\n",
              "      <th>valutazione_booking</th>\n",
              "      <th>descrizione_camera</th>\n",
              "      <th>configurazione_camera</th>\n",
              "      <th>descrizione_unprocessed</th>\n",
              "    </tr>\n",
              "  </thead>\n",
              "  <tbody>\n",
              "    <tr>\n",
              "      <th>0</th>\n",
              "      <td>The Sereno-3</td>\n",
              "      <td>8,1</td>\n",
              "      <td>Ottimo</td>\n",
              "      <td>10 recensioni</td>\n",
              "      <td>1 agosto - 2 agosto</td>\n",
              "      <td>1 notte, 2 adulti</td>\n",
              "      <td>€ 242</td>\n",
              "      <td>3,5 km dal centro</td>\n",
              "      <td>Trionfale, Roma</td>\n",
              "      <td>NaN</td>\n",
              "      <td>4.0</td>\n",
              "      <td>Appartamento con 2 Camere da Letto e Vista Città</td>\n",
              "      <td>Intero appartamento • 2 camere da letto • 1 ba...</td>\n",
              "      <td>Appartamento con 2 Camere da Letto e Vista Cit...</td>\n",
              "    </tr>\n",
              "    <tr>\n",
              "      <th>1</th>\n",
              "      <td>Sonder by Marriott Bonvoy Piazza Venezia Apart...</td>\n",
              "      <td>8,1</td>\n",
              "      <td>Ottimo</td>\n",
              "      <td>321 recensioni</td>\n",
              "      <td>1 agosto - 2 agosto</td>\n",
              "      <td>1 notte, 2 adulti</td>\n",
              "      <td>€ 322</td>\n",
              "      <td>150 m dal centro</td>\n",
              "      <td>Pantheon, Roma</td>\n",
              "      <td>3.0</td>\n",
              "      <td>NaN</td>\n",
              "      <td>Camera Queen</td>\n",
              "      <td>Configurazione camera non disponibile</td>\n",
              "      <td>Camera Queen 1 letto matrimonialeResta solo 1 ...</td>\n",
              "    </tr>\n",
              "    <tr>\n",
              "      <th>2</th>\n",
              "      <td>GuestHouse Martin</td>\n",
              "      <td>8,8</td>\n",
              "      <td>Favoloso</td>\n",
              "      <td>267 recensioni</td>\n",
              "      <td>1 agosto - 2 agosto</td>\n",
              "      <td>1 notte, 2 adulti</td>\n",
              "      <td>€ 69</td>\n",
              "      <td>3,3 km dal centro</td>\n",
              "      <td>Villa Borghese/Parioli, Roma</td>\n",
              "      <td>NaN</td>\n",
              "      <td>4.0</td>\n",
              "      <td>Camera Doppia con Letti Singoli con Bagno Priv...</td>\n",
              "      <td>Configurazione camera non disponibile</td>\n",
              "      <td>Camera Doppia con Letti Singoli con Bagno Priv...</td>\n",
              "    </tr>\n",
              "    <tr>\n",
              "      <th>3</th>\n",
              "      <td>ASTORIA GOLDEN GATE</td>\n",
              "      <td>8,9</td>\n",
              "      <td>Favoloso</td>\n",
              "      <td>1.446 recensioni</td>\n",
              "      <td>1 agosto - 2 agosto</td>\n",
              "      <td>1 notte, 2 adulti</td>\n",
              "      <td>€ 110</td>\n",
              "      <td>2 km dal centro</td>\n",
              "      <td>Stazione Termini, Roma</td>\n",
              "      <td>2.0</td>\n",
              "      <td>NaN</td>\n",
              "      <td>Camera Matrimoniale Superior</td>\n",
              "      <td>Configurazione camera non disponibile</td>\n",
              "      <td>Camera Matrimoniale Superior Vari tipi di lett...</td>\n",
              "    </tr>\n",
              "    <tr>\n",
              "      <th>4</th>\n",
              "      <td>Magnifico Rome</td>\n",
              "      <td>7,8</td>\n",
              "      <td>Buono</td>\n",
              "      <td>781 recensioni</td>\n",
              "      <td>1 agosto - 2 agosto</td>\n",
              "      <td>1 notte, 2 adulti</td>\n",
              "      <td>€ 107</td>\n",
              "      <td>1,1 km dal centro</td>\n",
              "      <td>Stazione Termini, Roma</td>\n",
              "      <td>NaN</td>\n",
              "      <td>4.0</td>\n",
              "      <td>Camera Matrimoniale Economy</td>\n",
              "      <td>Configurazione camera non disponibile</td>\n",
              "      <td>Camera Matrimoniale Economy1 letto matrimonial...</td>\n",
              "    </tr>\n",
              "    <tr>\n",
              "      <th>...</th>\n",
              "      <td>...</td>\n",
              "      <td>...</td>\n",
              "      <td>...</td>\n",
              "      <td>...</td>\n",
              "      <td>...</td>\n",
              "      <td>...</td>\n",
              "      <td>...</td>\n",
              "      <td>...</td>\n",
              "      <td>...</td>\n",
              "      <td>...</td>\n",
              "      <td>...</td>\n",
              "      <td>...</td>\n",
              "      <td>...</td>\n",
              "      <td>...</td>\n",
              "    </tr>\n",
              "    <tr>\n",
              "      <th>811</th>\n",
              "      <td>Boutique Hotel Campo de' Fiori</td>\n",
              "      <td>8,8</td>\n",
              "      <td>Favoloso</td>\n",
              "      <td>805 recensioni</td>\n",
              "      <td>1 agosto - 2 agosto</td>\n",
              "      <td>1 notte, 2 adulti</td>\n",
              "      <td>€ 499</td>\n",
              "      <td>0,8 km dal centro</td>\n",
              "      <td>Piazza Navona, Roma</td>\n",
              "      <td>3.0</td>\n",
              "      <td>NaN</td>\n",
              "      <td>Camera Matrimoniale</td>\n",
              "      <td>Configurazione camera non disponibile</td>\n",
              "      <td>Camera Matrimoniale1 letto matrimonialeCancell...</td>\n",
              "    </tr>\n",
              "    <tr>\n",
              "      <th>812</th>\n",
              "      <td>Daphne Suites</td>\n",
              "      <td>7,7</td>\n",
              "      <td>Buono</td>\n",
              "      <td>961 recensioni</td>\n",
              "      <td>1 agosto - 2 agosto</td>\n",
              "      <td>1 notte, 2 adulti</td>\n",
              "      <td>€ 163</td>\n",
              "      <td>0,9 km dal centro</td>\n",
              "      <td>Trevi, Roma</td>\n",
              "      <td>NaN</td>\n",
              "      <td>3.0</td>\n",
              "      <td>Camera Matrimoniale Comfort</td>\n",
              "      <td>Configurazione camera non disponibile</td>\n",
              "      <td>Camera Matrimoniale Comfort 1 letto matrimonia...</td>\n",
              "    </tr>\n",
              "    <tr>\n",
              "      <th>813</th>\n",
              "      <td>Tridente Suites</td>\n",
              "      <td>9,3</td>\n",
              "      <td>Eccellente</td>\n",
              "      <td>913 recensioni</td>\n",
              "      <td>1 agosto - 2 agosto</td>\n",
              "      <td>1 notte, 2 adulti</td>\n",
              "      <td>€ 185</td>\n",
              "      <td>1,6 km dal centro</td>\n",
              "      <td>Spagna, Roma</td>\n",
              "      <td>NaN</td>\n",
              "      <td>4.0</td>\n",
              "      <td>Camera Matrimoniale/Doppia con Letti Singoli</td>\n",
              "      <td>Configurazione camera non disponibile</td>\n",
              "      <td>Camera Matrimoniale/Doppia con Letti SingoliVa...</td>\n",
              "    </tr>\n",
              "    <tr>\n",
              "      <th>814</th>\n",
              "      <td>AD2015 Guest House</td>\n",
              "      <td>9,1</td>\n",
              "      <td>Eccellente</td>\n",
              "      <td>542 recensioni</td>\n",
              "      <td>1 agosto - 2 agosto</td>\n",
              "      <td>1 notte, 2 adulti</td>\n",
              "      <td>€ 164</td>\n",
              "      <td>2,5 km dal centro</td>\n",
              "      <td>Vaticano Prati, Roma</td>\n",
              "      <td>NaN</td>\n",
              "      <td>4.0</td>\n",
              "      <td>Double Room with St. Peter View</td>\n",
              "      <td>Configurazione camera non disponibile</td>\n",
              "      <td>Double Room with St. Peter ViewVari tipi di le...</td>\n",
              "    </tr>\n",
              "    <tr>\n",
              "      <th>815</th>\n",
              "      <td>Heart of Rome - Pantheon View</td>\n",
              "      <td>9,5</td>\n",
              "      <td>Eccezionale</td>\n",
              "      <td>4 recensioni</td>\n",
              "      <td>1 agosto - 2 agosto</td>\n",
              "      <td>1 notte, 2 adulti</td>\n",
              "      <td>€ 625</td>\n",
              "      <td>0,6 km dal centro</td>\n",
              "      <td>Pantheon, Roma</td>\n",
              "      <td>NaN</td>\n",
              "      <td>4.0</td>\n",
              "      <td>Casa con 3 Camere da Letto</td>\n",
              "      <td>Intera casa vacanze • 3 camere da letto • 1 zo...</td>\n",
              "      <td>Casa con 3 Camere da LettoIntera casa vacanze ...</td>\n",
              "    </tr>\n",
              "  </tbody>\n",
              "</table>\n",
              "<p>816 rows × 14 columns</p>\n",
              "</div>"
            ],
            "text/plain": [
              "                                                titolo  \\\n",
              "0                                         The Sereno-3   \n",
              "1    Sonder by Marriott Bonvoy Piazza Venezia Apart...   \n",
              "2                                    GuestHouse Martin   \n",
              "3                                  ASTORIA GOLDEN GATE   \n",
              "4                                       Magnifico Rome   \n",
              "..                                                 ...   \n",
              "811                     Boutique Hotel Campo de' Fiori   \n",
              "812                                      Daphne Suites   \n",
              "813                                    Tridente Suites   \n",
              "814                                 AD2015 Guest House   \n",
              "815                      Heart of Rome - Pantheon View   \n",
              "\n",
              "    recensione_voto_numerico recensione_voto_parola numero_recensioni  \\\n",
              "0                        8,1                Ottimo      10 recensioni   \n",
              "1                        8,1                Ottimo     321 recensioni   \n",
              "2                        8,8              Favoloso     267 recensioni   \n",
              "3                        8,9              Favoloso   1.446 recensioni   \n",
              "4                        7,8                 Buono     781 recensioni   \n",
              "..                       ...                    ...               ...   \n",
              "811                      8,8              Favoloso     805 recensioni   \n",
              "812                      7,7                 Buono     961 recensioni   \n",
              "813                      9,3            Eccellente     913 recensioni   \n",
              "814                      9,1            Eccellente     542 recensioni   \n",
              "815                      9,5           Eccezionale       4 recensioni   \n",
              "\n",
              "                    date         permanenza prezzo    distanza_centro  \\\n",
              "0    1 agosto - 2 agosto  1 notte, 2 adulti  € 242  3,5 km dal centro   \n",
              "1    1 agosto - 2 agosto  1 notte, 2 adulti  € 322   150 m dal centro   \n",
              "2    1 agosto - 2 agosto  1 notte, 2 adulti   € 69  3,3 km dal centro   \n",
              "3    1 agosto - 2 agosto  1 notte, 2 adulti  € 110    2 km dal centro   \n",
              "4    1 agosto - 2 agosto  1 notte, 2 adulti  € 107  1,1 km dal centro   \n",
              "..                   ...                ...    ...                ...   \n",
              "811  1 agosto - 2 agosto  1 notte, 2 adulti  € 499  0,8 km dal centro   \n",
              "812  1 agosto - 2 agosto  1 notte, 2 adulti  € 163  0,9 km dal centro   \n",
              "813  1 agosto - 2 agosto  1 notte, 2 adulti  € 185  1,6 km dal centro   \n",
              "814  1 agosto - 2 agosto  1 notte, 2 adulti  € 164  2,5 km dal centro   \n",
              "815  1 agosto - 2 agosto  1 notte, 2 adulti  € 625  0,6 km dal centro   \n",
              "\n",
              "                        indirizzo  stelle  valutazione_booking  \\\n",
              "0                 Trionfale, Roma     NaN                  4.0   \n",
              "1                  Pantheon, Roma     3.0                  NaN   \n",
              "2    Villa Borghese/Parioli, Roma     NaN                  4.0   \n",
              "3          Stazione Termini, Roma     2.0                  NaN   \n",
              "4          Stazione Termini, Roma     NaN                  4.0   \n",
              "..                            ...     ...                  ...   \n",
              "811           Piazza Navona, Roma     3.0                  NaN   \n",
              "812                   Trevi, Roma     NaN                  3.0   \n",
              "813                  Spagna, Roma     NaN                  4.0   \n",
              "814          Vaticano Prati, Roma     NaN                  4.0   \n",
              "815                Pantheon, Roma     NaN                  4.0   \n",
              "\n",
              "                                    descrizione_camera  \\\n",
              "0     Appartamento con 2 Camere da Letto e Vista Città   \n",
              "1                                        Camera Queen    \n",
              "2    Camera Doppia con Letti Singoli con Bagno Priv...   \n",
              "3                        Camera Matrimoniale Superior    \n",
              "4                          Camera Matrimoniale Economy   \n",
              "..                                                 ...   \n",
              "811                                Camera Matrimoniale   \n",
              "812                       Camera Matrimoniale Comfort    \n",
              "813       Camera Matrimoniale/Doppia con Letti Singoli   \n",
              "814                    Double Room with St. Peter View   \n",
              "815                         Casa con 3 Camere da Letto   \n",
              "\n",
              "                                 configurazione_camera  \\\n",
              "0    Intero appartamento • 2 camere da letto • 1 ba...   \n",
              "1                Configurazione camera non disponibile   \n",
              "2                Configurazione camera non disponibile   \n",
              "3                Configurazione camera non disponibile   \n",
              "4                Configurazione camera non disponibile   \n",
              "..                                                 ...   \n",
              "811              Configurazione camera non disponibile   \n",
              "812              Configurazione camera non disponibile   \n",
              "813              Configurazione camera non disponibile   \n",
              "814              Configurazione camera non disponibile   \n",
              "815  Intera casa vacanze • 3 camere da letto • 1 zo...   \n",
              "\n",
              "                               descrizione_unprocessed  \n",
              "0    Appartamento con 2 Camere da Letto e Vista Cit...  \n",
              "1    Camera Queen 1 letto matrimonialeResta solo 1 ...  \n",
              "2    Camera Doppia con Letti Singoli con Bagno Priv...  \n",
              "3    Camera Matrimoniale Superior Vari tipi di lett...  \n",
              "4    Camera Matrimoniale Economy1 letto matrimonial...  \n",
              "..                                                 ...  \n",
              "811  Camera Matrimoniale1 letto matrimonialeCancell...  \n",
              "812  Camera Matrimoniale Comfort 1 letto matrimonia...  \n",
              "813  Camera Matrimoniale/Doppia con Letti SingoliVa...  \n",
              "814  Double Room with St. Peter ViewVari tipi di le...  \n",
              "815  Casa con 3 Camere da LettoIntera casa vacanze ...  \n",
              "\n",
              "[816 rows x 14 columns]"
            ]
          },
          "metadata": {},
          "output_type": "display_data"
        }
      ],
      "source": [
        "booking_roma.head(1)"
      ]
    },
    {
      "cell_type": "code",
      "execution_count": 38,
      "metadata": {},
      "outputs": [
        {
          "data": {
            "text/plain": [
              "True"
            ]
          },
          "execution_count": 38,
          "metadata": {},
          "output_type": "execute_result"
        }
      ],
      "source": [
        "booking_terni.columns.equals(booking_roma.columns)"
      ]
    },
    {
      "cell_type": "markdown",
      "metadata": {},
      "source": [
        "Le variabili tra agoda Roma e agoda Terni sono le stesse e sono:\n",
        "   1. **Titolo** -> Nome della struttura;\n",
        "\n",
        "   2. **Recensione voto numerico** -> Recensione con voto numerico;\n",
        "\n",
        "   3. **Recensione voto parola** -> Recensione con voto a parola;\n",
        "\n",
        "   4. **Numero recensioni** -> Numero di recensioni fatte alla struttura;\n",
        "\n",
        "   5. **Date** -> Data di permanenza nella struttura;\n",
        "\n",
        "   6. **Permanenza** -> Informazioni sulla permanenza, numero di notti e numero di personev(adulti o bambini);\n",
        "\n",
        "   7. **Prezzo** -> Costo della permanenza;\n",
        "\n",
        "   8. **Distanza centro** -> Distanza dal centro della città di riferimento; \n",
        "\n",
        "   9. **Indirizzo** -> Indirizzo della struttura formato (città, provincia);\n",
        "\n",
        "   10. **Stelle** -> Stelle se la struttura è un hotel (NAN se non è hotel);\n",
        "\n",
        "   11. **Valutazione booking** -> Valutazione assegnata al B&B (NAN se non è B&B);\n",
        "\n",
        "   12. **Descrizione camera** -> Descrizione della camera, quante camere se c'è vista ecc...;\n",
        "\n",
        "   13. **Configurazione camera** -> Se c'è il bagno, numero di letti ecc...;\n",
        "\n",
        "   14. **Descrizione unprocessed** -> Descrizione camera + Configurazione camera."
      ]
    },
    {
      "cell_type": "markdown",
      "metadata": {},
      "source": [
        "Sul dataset di booking si può fare del feature engineering:\n",
        "   - Creare variabile NUMERO NOTTI dalla variabile **permanenza**, deve essere un numero;\n",
        "\n",
        "   - Creare variabile NUMERO PERSONE (adulte) e NUMERO PERSONE (bambini) dalla variabile **permanenza**;\n",
        "\n",
        "   - Creare variabile DATA CHECK IN da **date**;\n",
        "\n",
        "   - Creare variabile DATA CHECK OUT da **date**.\n",
        "\n",
        "Per quanto riguarda la variabile **indirizzo**:\n",
        "   - Nel dataframe **ROMA** ha il formato (zona, città)  es. Trionfale, Roma;\n",
        "\n",
        "   - Nel dataframe **TERNI** ha il formato (città)  es. Terni;\n",
        "\n",
        "\n",
        "Perciò per quanto riguarda Roma può anche essere creata la variabile **distanza dal centro**, oltre a **zona** e **città**.      \n",
        "Invece riguarda Terni può essere creata la variabile **zona** e **città**.   "
      ]
    },
    {
      "cell_type": "markdown",
      "metadata": {},
      "source": [
        "Inoltre per effettuare le dovute analisi bisogna:\n",
        "   - Ricodificare la variabile **prezzo** rimuovendo il simbolo dell'euro (accertarsi che i prezzi siano tutti in euro);\n",
        "\n",
        "   - Sempre riguardo alla variabile **prezzo** eliminare il punto come separatore delle migliaia;\n",
        "\n",
        "   - **numero recensioni** qualora comparisse \"Novità su booking\" inserire 0 (zero).\n",
        "\n",
        "   - **numero recensioni** estrarre solo il numero di recensioni eliminado la stringa **recensioni** contenuta.\n",
        "\n",
        "   - La variabile **distanza centro** andrà pulita e resa un numero (float)."
      ]
    },
    {
      "cell_type": "markdown",
      "metadata": {},
      "source": [
        "# Data Cleaning"
      ]
    },
    {
      "cell_type": "markdown",
      "metadata": {},
      "source": [
        "## Cleaning dei dati riguardanti Agoda"
      ]
    },
    {
      "cell_type": "markdown",
      "metadata": {},
      "source": [
        "### Agoda Terni"
      ]
    },
    {
      "cell_type": "code",
      "execution_count": null,
      "metadata": {},
      "outputs": [],
      "source": []
    },
    {
      "cell_type": "markdown",
      "metadata": {},
      "source": [
        "### Agoda Roma"
      ]
    },
    {
      "cell_type": "code",
      "execution_count": 4,
      "metadata": {
        "id": "YQCkVMY72R9c"
      },
      "outputs": [],
      "source": [
        "# Aggiungere variabili e modificarle (feature engeneering)\n",
        "## Estrarre solo il primo nome, assegnarlo a variabile 'città'\n",
        "agoda_terni['città'] = agoda_terni['indirizzo'].str.split(',').str[0].str.strip()\n",
        "agoda_terni['comune'] = agoda_terni['indirizzo'].str.split(',').str[0].str.strip()\n",
        "\n",
        "## Creare nuova variabile città, utile in seguito\n",
        "booking_terni['città'] = booking_terni['indirizzo']\n",
        "\n",
        "## Rinominare città Papigno come Terni\n",
        "agoda_terni.loc[agoda_terni['città'] == 'Papigno', 'città'] = 'Terni'\n",
        "\n",
        "## Creare variabile città\n",
        "booking_roma['città']='Roma'\n",
        "agoda_roma['città']='Roma'\n",
        "\n",
        "# Facciamo merge dei due dataset separatamente per agoda e booking\n",
        "## Unione dei dataset Agoda\n",
        "agoda = pd.concat([agoda_terni, agoda_roma], ignore_index=True)\n",
        "\n",
        "## Unione dei dataset Booking\n",
        "booking = pd.concat([booking_terni, booking_roma], ignore_index=True)\n"
      ]
    },
    {
      "cell_type": "markdown",
      "metadata": {
        "id": "JLdxAYjD2R9t"
      },
      "source": [
        "\n",
        "For the purposes of our analysis, we only want to know a title. Let's toss the other columns so we have something more manageable to work with."
      ]
    },
    {
      "cell_type": "code",
      "execution_count": 5,
      "metadata": {
        "id": "KEM8Mu4iD6S4"
      },
      "outputs": [],
      "source": [
        "agoda[\"titolo\"]=agoda.titolo.apply(lambda x: alfabeto(x))\n",
        "\n",
        "booking[\"titolo\"]=booking.titolo.apply(lambda x: alfabeto(x))"
      ]
    },
    {
      "cell_type": "code",
      "execution_count": 6,
      "metadata": {
        "colab": {
          "base_uri": "https://localhost:8080/",
          "height": 504
        },
        "id": "gsVnwxSLJdoJ",
        "outputId": "5f3e4c71-cadf-402f-e5a2-c0c39512e703"
      },
      "outputs": [
        {
          "data": {
            "text/html": [
              "<div>\n",
              "<style scoped>\n",
              "    .dataframe tbody tr th:only-of-type {\n",
              "        vertical-align: middle;\n",
              "    }\n",
              "\n",
              "    .dataframe tbody tr th {\n",
              "        vertical-align: top;\n",
              "    }\n",
              "\n",
              "    .dataframe thead th {\n",
              "        text-align: right;\n",
              "    }\n",
              "</style>\n",
              "<table border=\"1\" class=\"dataframe\">\n",
              "  <thead>\n",
              "    <tr style=\"text-align: right;\">\n",
              "      <th></th>\n",
              "      <th>Unnamed: 0</th>\n",
              "      <th>titolo</th>\n",
              "      <th>recensione_voto_numerico</th>\n",
              "      <th>recensione_voto_parola</th>\n",
              "      <th>numero_recensioni</th>\n",
              "      <th>date</th>\n",
              "      <th>permanenza</th>\n",
              "      <th>prezzo</th>\n",
              "      <th>indirizzo</th>\n",
              "      <th>valutazione</th>\n",
              "      <th>città</th>\n",
              "      <th>comune</th>\n",
              "    </tr>\n",
              "  </thead>\n",
              "  <tbody>\n",
              "    <tr>\n",
              "      <th>0</th>\n",
              "      <td>0</td>\n",
              "      <td>hotel valentino</td>\n",
              "      <td>9,0</td>\n",
              "      <td>Eccezionale</td>\n",
              "      <td>2 recensioni</td>\n",
              "      <td>1 agosto - 2 agosto</td>\n",
              "      <td>1 notte, 2 adulti</td>\n",
              "      <td>258 €</td>\n",
              "      <td>Terni, Terni</td>\n",
              "      <td>4.0</td>\n",
              "      <td>Terni</td>\n",
              "      <td>Terni</td>\n",
              "    </tr>\n",
              "    <tr>\n",
              "      <th>1</th>\n",
              "      <td>1</td>\n",
              "      <td>garden hotel terni</td>\n",
              "      <td>7,9</td>\n",
              "      <td>Ottimo</td>\n",
              "      <td>505 recensioni</td>\n",
              "      <td>1 agosto - 2 agosto</td>\n",
              "      <td>1 notte, 2 adulti</td>\n",
              "      <td>138 €</td>\n",
              "      <td>Terni, Terni</td>\n",
              "      <td>4.0</td>\n",
              "      <td>Terni</td>\n",
              "      <td>Terni</td>\n",
              "    </tr>\n",
              "    <tr>\n",
              "      <th>2</th>\n",
              "      <td>2</td>\n",
              "      <td>hotel michelangelo palace spa</td>\n",
              "      <td>8,0</td>\n",
              "      <td>Fantastico</td>\n",
              "      <td>718 recensioni</td>\n",
              "      <td>1 agosto - 2 agosto</td>\n",
              "      <td>1 notte, 2 adulti</td>\n",
              "      <td>174 €</td>\n",
              "      <td>Terni, Terni</td>\n",
              "      <td>4.0</td>\n",
              "      <td>Terni</td>\n",
              "      <td>Terni</td>\n",
              "    </tr>\n",
              "    <tr>\n",
              "      <th>3</th>\n",
              "      <td>3</td>\n",
              "      <td>classic hotel tulipano</td>\n",
              "      <td>7,6</td>\n",
              "      <td>Ottimo</td>\n",
              "      <td>453 recensioni</td>\n",
              "      <td>1 agosto - 2 agosto</td>\n",
              "      <td>1 notte, 2 adulti</td>\n",
              "      <td>98 €</td>\n",
              "      <td>Terni, Terni</td>\n",
              "      <td>3.0</td>\n",
              "      <td>Terni</td>\n",
              "      <td>Terni</td>\n",
              "    </tr>\n",
              "    <tr>\n",
              "      <th>4</th>\n",
              "      <td>4</td>\n",
              "      <td>de hotel paris</td>\n",
              "      <td>8,1</td>\n",
              "      <td>Fantastico</td>\n",
              "      <td>11 recensioni</td>\n",
              "      <td>1 agosto - 2 agosto</td>\n",
              "      <td>1 notte, 2 adulti</td>\n",
              "      <td>69 €</td>\n",
              "      <td>Terni, Terni</td>\n",
              "      <td>3.0</td>\n",
              "      <td>Terni</td>\n",
              "      <td>Terni</td>\n",
              "    </tr>\n",
              "  </tbody>\n",
              "</table>\n",
              "</div>"
            ],
            "text/plain": [
              "   Unnamed: 0                         titolo recensione_voto_numerico  \\\n",
              "0           0                hotel valentino                      9,0   \n",
              "1           1             garden hotel terni                      7,9   \n",
              "2           2  hotel michelangelo palace spa                      8,0   \n",
              "3           3         classic hotel tulipano                      7,6   \n",
              "4           4                 de hotel paris                      8,1   \n",
              "\n",
              "  recensione_voto_parola numero_recensioni                 date  \\\n",
              "0            Eccezionale      2 recensioni  1 agosto - 2 agosto   \n",
              "1                 Ottimo    505 recensioni  1 agosto - 2 agosto   \n",
              "2             Fantastico    718 recensioni  1 agosto - 2 agosto   \n",
              "3                 Ottimo    453 recensioni  1 agosto - 2 agosto   \n",
              "4             Fantastico     11 recensioni  1 agosto - 2 agosto   \n",
              "\n",
              "          permanenza prezzo      indirizzo  valutazione  città comune  \n",
              "0  1 notte, 2 adulti  258 €  Terni, Terni           4.0  Terni  Terni  \n",
              "1  1 notte, 2 adulti  138 €  Terni, Terni           4.0  Terni  Terni  \n",
              "2  1 notte, 2 adulti  174 €  Terni, Terni           4.0  Terni  Terni  \n",
              "3  1 notte, 2 adulti   98 €  Terni, Terni           3.0  Terni  Terni  \n",
              "4  1 notte, 2 adulti   69 €  Terni, Terni           3.0  Terni  Terni  "
            ]
          },
          "execution_count": 6,
          "metadata": {},
          "output_type": "execute_result"
        }
      ],
      "source": [
        "# Take a first look at the data\n",
        "agoda.head()"
      ]
    },
    {
      "cell_type": "code",
      "execution_count": 7,
      "metadata": {
        "colab": {
          "base_uri": "https://localhost:8080/",
          "height": 504
        },
        "id": "Z1cUMSMzJmY6",
        "outputId": "44f2c5e3-6efc-4e18-be1b-af67ea16a167"
      },
      "outputs": [
        {
          "data": {
            "text/html": [
              "<div>\n",
              "<style scoped>\n",
              "    .dataframe tbody tr th:only-of-type {\n",
              "        vertical-align: middle;\n",
              "    }\n",
              "\n",
              "    .dataframe tbody tr th {\n",
              "        vertical-align: top;\n",
              "    }\n",
              "\n",
              "    .dataframe thead th {\n",
              "        text-align: right;\n",
              "    }\n",
              "</style>\n",
              "<table border=\"1\" class=\"dataframe\">\n",
              "  <thead>\n",
              "    <tr style=\"text-align: right;\">\n",
              "      <th></th>\n",
              "      <th>Unnamed: 0</th>\n",
              "      <th>titolo</th>\n",
              "      <th>recensione_voto_numerico</th>\n",
              "      <th>recensione_voto_parola</th>\n",
              "      <th>numero_recensioni</th>\n",
              "      <th>date</th>\n",
              "      <th>permanenza</th>\n",
              "      <th>prezzo</th>\n",
              "      <th>distanza_centro</th>\n",
              "      <th>indirizzo</th>\n",
              "      <th>stelle</th>\n",
              "      <th>valutazione_booking</th>\n",
              "      <th>descrizione_camera</th>\n",
              "      <th>configurazione_camera</th>\n",
              "      <th>descrizione_unprocessed</th>\n",
              "      <th>città</th>\n",
              "    </tr>\n",
              "  </thead>\n",
              "  <tbody>\n",
              "    <tr>\n",
              "      <th>0</th>\n",
              "      <td>0</td>\n",
              "      <td>de hotel paris</td>\n",
              "      <td>7,2</td>\n",
              "      <td>Buono</td>\n",
              "      <td>869 recensioni</td>\n",
              "      <td>1 agosto - 2 agosto</td>\n",
              "      <td>1 notte, 2 adulti</td>\n",
              "      <td>€ 69</td>\n",
              "      <td>0,9 km dal centro</td>\n",
              "      <td>Terni</td>\n",
              "      <td>3.0</td>\n",
              "      <td>NaN</td>\n",
              "      <td>Camera Doppia con Letti Singoli</td>\n",
              "      <td>Configurazione camera non disponibile</td>\n",
              "      <td>Camera Doppia con Letti Singoli2 letti singoli...</td>\n",
              "      <td>Terni</td>\n",
              "    </tr>\n",
              "    <tr>\n",
              "      <th>1</th>\n",
              "      <td>1</td>\n",
              "      <td>bb cospea</td>\n",
              "      <td>9,0</td>\n",
              "      <td>Eccellente</td>\n",
              "      <td>674 recensioni</td>\n",
              "      <td>1 agosto - 2 agosto</td>\n",
              "      <td>1 notte, 2 adulti</td>\n",
              "      <td>€ 55</td>\n",
              "      <td>1,7 km dal centro</td>\n",
              "      <td>Terni</td>\n",
              "      <td>NaN</td>\n",
              "      <td>3.0</td>\n",
              "      <td>Camera Doppia con Letti Singoli</td>\n",
              "      <td>Configurazione camera non disponibile</td>\n",
              "      <td>Camera Doppia con Letti Singoli2 letti singoli...</td>\n",
              "      <td>Terni</td>\n",
              "    </tr>\n",
              "    <tr>\n",
              "      <th>2</th>\n",
              "      <td>2</td>\n",
              "      <td>bedbreakfast rosy</td>\n",
              "      <td>9,0</td>\n",
              "      <td>Eccellente</td>\n",
              "      <td>330 recensioni</td>\n",
              "      <td>1 agosto - 2 agosto</td>\n",
              "      <td>1 notte, 2 adulti</td>\n",
              "      <td>€ 77</td>\n",
              "      <td>1 km dal centro</td>\n",
              "      <td>Terni</td>\n",
              "      <td>NaN</td>\n",
              "      <td>4.0</td>\n",
              "      <td>Camera Matrimoniale con Bagno Privato Esterno</td>\n",
              "      <td>Configurazione camera non disponibile</td>\n",
              "      <td>Camera Matrimoniale con Bagno Privato Esterno ...</td>\n",
              "      <td>Terni</td>\n",
              "    </tr>\n",
              "    <tr>\n",
              "      <th>3</th>\n",
              "      <td>3</td>\n",
              "      <td>angolo bb verde</td>\n",
              "      <td>8,6</td>\n",
              "      <td>Favoloso</td>\n",
              "      <td>219 recensioni</td>\n",
              "      <td>1 agosto - 2 agosto</td>\n",
              "      <td>1 notte, 2 adulti</td>\n",
              "      <td>€ 69</td>\n",
              "      <td>2,6 km dal centro</td>\n",
              "      <td>Terni</td>\n",
              "      <td>NaN</td>\n",
              "      <td>3.0</td>\n",
              "      <td>Camera Matrimoniale</td>\n",
              "      <td>Configurazione camera non disponibile</td>\n",
              "      <td>Camera Matrimoniale1 letto matrimoniale alla f...</td>\n",
              "      <td>Terni</td>\n",
              "    </tr>\n",
              "    <tr>\n",
              "      <th>4</th>\n",
              "      <td>4</td>\n",
              "      <td>filomena guest house santa</td>\n",
              "      <td>9,7</td>\n",
              "      <td>Eccezionale</td>\n",
              "      <td>11 recensioni</td>\n",
              "      <td>1 agosto - 2 agosto</td>\n",
              "      <td>1 notte, 2 adulti</td>\n",
              "      <td>€ 74</td>\n",
              "      <td>1 km dal centro</td>\n",
              "      <td>Terni</td>\n",
              "      <td>NaN</td>\n",
              "      <td>3.0</td>\n",
              "      <td>Camera Tripla</td>\n",
              "      <td>Configurazione camera non disponibile</td>\n",
              "      <td>Camera Tripla2 letti (1 singolo, 1 matrimonial...</td>\n",
              "      <td>Terni</td>\n",
              "    </tr>\n",
              "  </tbody>\n",
              "</table>\n",
              "</div>"
            ],
            "text/plain": [
              "   Unnamed: 0                      titolo recensione_voto_numerico  \\\n",
              "0           0              de hotel paris                      7,2   \n",
              "1           1                   bb cospea                      9,0   \n",
              "2           2           bedbreakfast rosy                      9,0   \n",
              "3           3             angolo bb verde                      8,6   \n",
              "4           4  filomena guest house santa                      9,7   \n",
              "\n",
              "  recensione_voto_parola numero_recensioni                 date  \\\n",
              "0                 Buono     869 recensioni  1 agosto - 2 agosto   \n",
              "1            Eccellente     674 recensioni  1 agosto - 2 agosto   \n",
              "2            Eccellente     330 recensioni  1 agosto - 2 agosto   \n",
              "3              Favoloso     219 recensioni  1 agosto - 2 agosto   \n",
              "4           Eccezionale      11 recensioni  1 agosto - 2 agosto   \n",
              "\n",
              "          permanenza prezzo    distanza_centro indirizzo  stelle  \\\n",
              "0  1 notte, 2 adulti   € 69  0,9 km dal centro     Terni     3.0   \n",
              "1  1 notte, 2 adulti   € 55  1,7 km dal centro     Terni     NaN   \n",
              "2  1 notte, 2 adulti   € 77    1 km dal centro     Terni     NaN   \n",
              "3  1 notte, 2 adulti   € 69  2,6 km dal centro     Terni     NaN   \n",
              "4  1 notte, 2 adulti   € 74    1 km dal centro     Terni     NaN   \n",
              "\n",
              "   valutazione_booking                              descrizione_camera  \\\n",
              "0                  NaN                 Camera Doppia con Letti Singoli   \n",
              "1                  3.0                 Camera Doppia con Letti Singoli   \n",
              "2                  4.0  Camera Matrimoniale con Bagno Privato Esterno    \n",
              "3                  3.0                             Camera Matrimoniale   \n",
              "4                  3.0                                   Camera Tripla   \n",
              "\n",
              "                   configurazione_camera  \\\n",
              "0  Configurazione camera non disponibile   \n",
              "1  Configurazione camera non disponibile   \n",
              "2  Configurazione camera non disponibile   \n",
              "3  Configurazione camera non disponibile   \n",
              "4  Configurazione camera non disponibile   \n",
              "\n",
              "                             descrizione_unprocessed  città  \n",
              "0  Camera Doppia con Letti Singoli2 letti singoli...  Terni  \n",
              "1  Camera Doppia con Letti Singoli2 letti singoli...  Terni  \n",
              "2  Camera Matrimoniale con Bagno Privato Esterno ...  Terni  \n",
              "3  Camera Matrimoniale1 letto matrimoniale alla f...  Terni  \n",
              "4  Camera Tripla2 letti (1 singolo, 1 matrimonial...  Terni  "
            ]
          },
          "execution_count": 7,
          "metadata": {},
          "output_type": "execute_result"
        }
      ],
      "source": [
        "booking.head()"
      ]
    },
    {
      "cell_type": "code",
      "execution_count": 8,
      "metadata": {
        "id": "_frQ6hUI2R9t"
      },
      "outputs": [],
      "source": [
        "# List of columns to keep\n",
        "selected_columns = ['titolo','prezzo', 'indirizzo','città','numero_recensioni','valutazione_booking']\n",
        "\n",
        "# Subset data frame to only include those columns\n",
        "booking_reduced = booking[selected_columns]\n"
      ]
    },
    {
      "cell_type": "code",
      "execution_count": 9,
      "metadata": {
        "colab": {
          "base_uri": "https://localhost:8080/",
          "height": 206
        },
        "id": "zy0b6gY-2R9u",
        "outputId": "c7e5f528-25e5-4eed-fc19-c8dc81b8b546"
      },
      "outputs": [
        {
          "data": {
            "text/html": [
              "<div>\n",
              "<style scoped>\n",
              "    .dataframe tbody tr th:only-of-type {\n",
              "        vertical-align: middle;\n",
              "    }\n",
              "\n",
              "    .dataframe tbody tr th {\n",
              "        vertical-align: top;\n",
              "    }\n",
              "\n",
              "    .dataframe thead th {\n",
              "        text-align: right;\n",
              "    }\n",
              "</style>\n",
              "<table border=\"1\" class=\"dataframe\">\n",
              "  <thead>\n",
              "    <tr style=\"text-align: right;\">\n",
              "      <th></th>\n",
              "      <th>titolo</th>\n",
              "      <th>prezzo</th>\n",
              "      <th>indirizzo</th>\n",
              "      <th>città</th>\n",
              "      <th>numero_recensioni</th>\n",
              "      <th>valutazione_booking</th>\n",
              "    </tr>\n",
              "  </thead>\n",
              "  <tbody>\n",
              "    <tr>\n",
              "      <th>0</th>\n",
              "      <td>de hotel paris</td>\n",
              "      <td>€ 69</td>\n",
              "      <td>Terni</td>\n",
              "      <td>Terni</td>\n",
              "      <td>869 recensioni</td>\n",
              "      <td>NaN</td>\n",
              "    </tr>\n",
              "    <tr>\n",
              "      <th>1</th>\n",
              "      <td>bb cospea</td>\n",
              "      <td>€ 55</td>\n",
              "      <td>Terni</td>\n",
              "      <td>Terni</td>\n",
              "      <td>674 recensioni</td>\n",
              "      <td>3.0</td>\n",
              "    </tr>\n",
              "    <tr>\n",
              "      <th>2</th>\n",
              "      <td>bedbreakfast rosy</td>\n",
              "      <td>€ 77</td>\n",
              "      <td>Terni</td>\n",
              "      <td>Terni</td>\n",
              "      <td>330 recensioni</td>\n",
              "      <td>4.0</td>\n",
              "    </tr>\n",
              "    <tr>\n",
              "      <th>3</th>\n",
              "      <td>angolo bb verde</td>\n",
              "      <td>€ 69</td>\n",
              "      <td>Terni</td>\n",
              "      <td>Terni</td>\n",
              "      <td>219 recensioni</td>\n",
              "      <td>3.0</td>\n",
              "    </tr>\n",
              "    <tr>\n",
              "      <th>4</th>\n",
              "      <td>filomena guest house santa</td>\n",
              "      <td>€ 74</td>\n",
              "      <td>Terni</td>\n",
              "      <td>Terni</td>\n",
              "      <td>11 recensioni</td>\n",
              "      <td>3.0</td>\n",
              "    </tr>\n",
              "  </tbody>\n",
              "</table>\n",
              "</div>"
            ],
            "text/plain": [
              "                       titolo prezzo indirizzo  città numero_recensioni  \\\n",
              "0              de hotel paris   € 69     Terni  Terni    869 recensioni   \n",
              "1                   bb cospea   € 55     Terni  Terni    674 recensioni   \n",
              "2           bedbreakfast rosy   € 77     Terni  Terni    330 recensioni   \n",
              "3             angolo bb verde   € 69     Terni  Terni    219 recensioni   \n",
              "4  filomena guest house santa   € 74     Terni  Terni     11 recensioni   \n",
              "\n",
              "   valutazione_booking  \n",
              "0                  NaN  \n",
              "1                  3.0  \n",
              "2                  4.0  \n",
              "3                  3.0  \n",
              "4                  3.0  "
            ]
          },
          "execution_count": 9,
          "metadata": {},
          "output_type": "execute_result"
        }
      ],
      "source": [
        "# Look at the updated dataframe\n",
        "booking_reduced.head()"
      ]
    },
    {
      "cell_type": "code",
      "execution_count": 10,
      "metadata": {
        "colab": {
          "base_uri": "https://localhost:8080/",
          "height": 206
        },
        "id": "5_fIhYKS_MOp",
        "outputId": "dc1545c9-51e6-46a8-bd94-cde6fd3fb1c5"
      },
      "outputs": [
        {
          "data": {
            "text/html": [
              "<div>\n",
              "<style scoped>\n",
              "    .dataframe tbody tr th:only-of-type {\n",
              "        vertical-align: middle;\n",
              "    }\n",
              "\n",
              "    .dataframe tbody tr th {\n",
              "        vertical-align: top;\n",
              "    }\n",
              "\n",
              "    .dataframe thead th {\n",
              "        text-align: right;\n",
              "    }\n",
              "</style>\n",
              "<table border=\"1\" class=\"dataframe\">\n",
              "  <thead>\n",
              "    <tr style=\"text-align: right;\">\n",
              "      <th></th>\n",
              "      <th>titolo</th>\n",
              "      <th>prezzo</th>\n",
              "      <th>indirizzo</th>\n",
              "      <th>città</th>\n",
              "      <th>numero_recensioni</th>\n",
              "      <th>valutazione</th>\n",
              "    </tr>\n",
              "  </thead>\n",
              "  <tbody>\n",
              "    <tr>\n",
              "      <th>0</th>\n",
              "      <td>hotel valentino</td>\n",
              "      <td>258 €</td>\n",
              "      <td>Terni, Terni</td>\n",
              "      <td>Terni</td>\n",
              "      <td>2 recensioni</td>\n",
              "      <td>4.0</td>\n",
              "    </tr>\n",
              "    <tr>\n",
              "      <th>1</th>\n",
              "      <td>garden hotel terni</td>\n",
              "      <td>138 €</td>\n",
              "      <td>Terni, Terni</td>\n",
              "      <td>Terni</td>\n",
              "      <td>505 recensioni</td>\n",
              "      <td>4.0</td>\n",
              "    </tr>\n",
              "    <tr>\n",
              "      <th>2</th>\n",
              "      <td>hotel michelangelo palace spa</td>\n",
              "      <td>174 €</td>\n",
              "      <td>Terni, Terni</td>\n",
              "      <td>Terni</td>\n",
              "      <td>718 recensioni</td>\n",
              "      <td>4.0</td>\n",
              "    </tr>\n",
              "    <tr>\n",
              "      <th>3</th>\n",
              "      <td>classic hotel tulipano</td>\n",
              "      <td>98 €</td>\n",
              "      <td>Terni, Terni</td>\n",
              "      <td>Terni</td>\n",
              "      <td>453 recensioni</td>\n",
              "      <td>3.0</td>\n",
              "    </tr>\n",
              "    <tr>\n",
              "      <th>4</th>\n",
              "      <td>de hotel paris</td>\n",
              "      <td>69 €</td>\n",
              "      <td>Terni, Terni</td>\n",
              "      <td>Terni</td>\n",
              "      <td>11 recensioni</td>\n",
              "      <td>3.0</td>\n",
              "    </tr>\n",
              "  </tbody>\n",
              "</table>\n",
              "</div>"
            ],
            "text/plain": [
              "                          titolo prezzo      indirizzo  città  \\\n",
              "0                hotel valentino  258 €  Terni, Terni   Terni   \n",
              "1             garden hotel terni  138 €  Terni, Terni   Terni   \n",
              "2  hotel michelangelo palace spa  174 €  Terni, Terni   Terni   \n",
              "3         classic hotel tulipano   98 €  Terni, Terni   Terni   \n",
              "4                 de hotel paris   69 €  Terni, Terni   Terni   \n",
              "\n",
              "  numero_recensioni  valutazione  \n",
              "0      2 recensioni          4.0  \n",
              "1    505 recensioni          4.0  \n",
              "2    718 recensioni          4.0  \n",
              "3    453 recensioni          3.0  \n",
              "4     11 recensioni          3.0  "
            ]
          },
          "execution_count": 10,
          "metadata": {},
          "output_type": "execute_result"
        }
      ],
      "source": [
        "selected_columns = ['titolo','prezzo', 'indirizzo','città','numero_recensioni','valutazione']\n",
        "agoda_reduced = agoda[selected_columns]\n",
        "agoda_reduced.head()"
      ]
    },
    {
      "cell_type": "markdown",
      "metadata": {
        "id": "VDubJF_ZrDrT"
      },
      "source": [
        "#pulizia variabile indirizzo"
      ]
    },
    {
      "cell_type": "code",
      "execution_count": 11,
      "metadata": {
        "colab": {
          "base_uri": "https://localhost:8080/"
        },
        "id": "DbCUHxFQt73x",
        "outputId": "1b6ef093-d8a8-43e9-eaea-65476f2bb862"
      },
      "outputs": [
        {
          "name": "stderr",
          "output_type": "stream",
          "text": [
            "/var/folders/j4/9fk3st2d30g22vff83pj6cnw0000gn/T/ipykernel_8489/3028220868.py:2: SettingWithCopyWarning: \n",
            "A value is trying to be set on a copy of a slice from a DataFrame.\n",
            "Try using .loc[row_indexer,col_indexer] = value instead\n",
            "\n",
            "See the caveats in the documentation: https://pandas.pydata.org/pandas-docs/stable/user_guide/indexing.html#returning-a-view-versus-a-copy\n",
            "  agoda_reduced['indirizzo'] = (\n"
          ]
        }
      ],
      "source": [
        "#nuova pulizia indirizzo\n",
        "agoda_reduced['indirizzo'] = (\n",
        "    agoda_reduced['indirizzo']\n",
        "    .str.lower()  # tutto minuscolo\n",
        "    .str.replace(r'\\s*-\\s*.*$', '', regex=True)  # rimuove tutto dopo il trattino incluso\n",
        "    .str.replace(r',?\\s*roma\\b', '', regex=True)  # rimuove \"roma\" opzionalmente preceduta da virgola\n",
        "    .str.replace(r'\\bcentrale\\b', '', regex=True)  # rimuove \"centrale\" come parola intera\n",
        "    .str.replace(r'\\b(rione|piazza|fontana|di|del|e|città|citta|citt)\\b', '', regex=True)  # rimuove parole specificate\n",
        "    .str.replace(r'\\s+', ' ', regex=True)  # rimuove spazi multipli eventualmente lasciati\n",
        "    .str.strip()  # rimuove spazi iniziali/finali\n",
        ")\n"
      ]
    },
    {
      "cell_type": "code",
      "execution_count": 12,
      "metadata": {
        "colab": {
          "base_uri": "https://localhost:8080/"
        },
        "id": "NtS0TWJIuLY2",
        "outputId": "c3cffad4-c3c3-44b1-c526-32ccc9320348"
      },
      "outputs": [
        {
          "data": {
            "text/plain": [
              "array(['terni, terni', 'san gemini, san gemini', 'narni, narni',\n",
              "       'stroncone, stroncone', 'montefranco, montefranco',\n",
              "       \"calvi dell' umbria, terni\", 'papigno, papigno',\n",
              "       'stazione termini', 'via veneto', 'trionfale', 'appio latino',\n",
              "       'pantheon', 'eur garbatella', 'aurelio monteverde',\n",
              "       'aeroporto fiumicino', 'ovest', 'nord', 'est', 'trastevere',\n",
              "       'trevi', 'vaticano', 'flaminio parioli', 'boccea', 'nomentano',\n",
              "       'navona', 'monti', 'colosseo foro romano', 'policlinico',\n",
              "       'aeroporto ciampino', 'ostia', 'spagna', 'san giovanni'],\n",
              "      dtype=object)"
            ]
          },
          "execution_count": 12,
          "metadata": {},
          "output_type": "execute_result"
        }
      ],
      "source": [
        "agoda_reduced.indirizzo.unique()"
      ]
    },
    {
      "cell_type": "code",
      "execution_count": 13,
      "metadata": {
        "colab": {
          "base_uri": "https://localhost:8080/"
        },
        "id": "FL9KAM1BrhsF",
        "outputId": "c7f35a82-facd-493d-a731-6559ae43110d"
      },
      "outputs": [
        {
          "name": "stderr",
          "output_type": "stream",
          "text": [
            "/var/folders/j4/9fk3st2d30g22vff83pj6cnw0000gn/T/ipykernel_8489/542438600.py:1: SettingWithCopyWarning: \n",
            "A value is trying to be set on a copy of a slice from a DataFrame.\n",
            "Try using .loc[row_indexer,col_indexer] = value instead\n",
            "\n",
            "See the caveats in the documentation: https://pandas.pydata.org/pandas-docs/stable/user_guide/indexing.html#returning-a-view-versus-a-copy\n",
            "  booking_reduced['indirizzo'] = (\n"
          ]
        }
      ],
      "source": [
        "booking_reduced['indirizzo'] = (\n",
        "    booking_reduced['indirizzo']\n",
        "    .str.lower()  # tutto minuscolo\n",
        "    .str.replace(r',?\\s*roma\\b', '', regex=True)  # rimuove \"roma\" opzionalmente preceduta da virgola\n",
        "    .str.replace(r'\\bcentrale\\b', '', regex=True)  # rimuove \"centrale\" come parola intera\n",
        "    .str.replace(r'\\b(rione|piazza|fontana|di|del|e|città|citta|citt)\\b', '', regex=True)  # rimuove parole specificate\n",
        "    .str.replace(r'\\s+', ' ', regex=True)  # rimuove spazi multipli eventualmente lasciati\n",
        "    .str.strip())"
      ]
    },
    {
      "cell_type": "code",
      "execution_count": 14,
      "metadata": {
        "colab": {
          "base_uri": "https://localhost:8080/"
        },
        "id": "1mX0aeRmuxmC",
        "outputId": "cb9e05d5-0ec9-42a9-c0d8-2d5448319ddc"
      },
      "outputs": [
        {
          "data": {
            "text/plain": [
              "array(['terni', 'trionfale', 'pantheon', 'villa borghese/parioli',\n",
              "       'stazione termini', 'gianicolense', 'monti', '', 'centro',\n",
              "       'san giovanni', 'navona', 'vaticano prati', 'trevi', 'via veneto',\n",
              "       'spagna', 'trastevere', 'colosseo', 'aventino', 'tor quinto',\n",
              "       'ostiense', 'eur', 'nomentano', 'magliana vecchia',\n",
              "       'giuliano-dalmata', 'fonte ostiense', 'aurelio', 'appio latino',\n",
              "       'portuense', 'torrino', 'monte sacro', 'san lorenzo', 'tiburtino',\n",
              "       'ardeatino'], dtype=object)"
            ]
          },
          "execution_count": 14,
          "metadata": {},
          "output_type": "execute_result"
        }
      ],
      "source": [
        "booking_reduced.indirizzo.unique()"
      ]
    },
    {
      "cell_type": "code",
      "execution_count": 15,
      "metadata": {
        "colab": {
          "base_uri": "https://localhost:8080/",
          "height": 295
        },
        "id": "FM78RumjR9-v",
        "outputId": "94c2163b-2c59-4267-c94e-e9def5b941d3"
      },
      "outputs": [
        {
          "data": {
            "text/html": [
              "<div>\n",
              "<style scoped>\n",
              "    .dataframe tbody tr th:only-of-type {\n",
              "        vertical-align: middle;\n",
              "    }\n",
              "\n",
              "    .dataframe tbody tr th {\n",
              "        vertical-align: top;\n",
              "    }\n",
              "\n",
              "    .dataframe thead th {\n",
              "        text-align: right;\n",
              "    }\n",
              "</style>\n",
              "<table border=\"1\" class=\"dataframe\">\n",
              "  <thead>\n",
              "    <tr style=\"text-align: right;\">\n",
              "      <th></th>\n",
              "      <th>titolo</th>\n",
              "      <th>prezzo</th>\n",
              "      <th>indirizzo</th>\n",
              "      <th>città</th>\n",
              "      <th>numero_recensioni</th>\n",
              "      <th>valutazione</th>\n",
              "    </tr>\n",
              "  </thead>\n",
              "  <tbody>\n",
              "    <tr>\n",
              "      <th>0</th>\n",
              "      <td>hotel valentino</td>\n",
              "      <td>258 €</td>\n",
              "      <td>terni, terni</td>\n",
              "      <td>Terni</td>\n",
              "      <td>2 recensioni</td>\n",
              "      <td>4.0</td>\n",
              "    </tr>\n",
              "    <tr>\n",
              "      <th>1</th>\n",
              "      <td>garden hotel terni</td>\n",
              "      <td>138 €</td>\n",
              "      <td>terni, terni</td>\n",
              "      <td>Terni</td>\n",
              "      <td>505 recensioni</td>\n",
              "      <td>4.0</td>\n",
              "    </tr>\n",
              "    <tr>\n",
              "      <th>2</th>\n",
              "      <td>hotel michelangelo palace spa</td>\n",
              "      <td>174 €</td>\n",
              "      <td>terni, terni</td>\n",
              "      <td>Terni</td>\n",
              "      <td>718 recensioni</td>\n",
              "      <td>4.0</td>\n",
              "    </tr>\n",
              "    <tr>\n",
              "      <th>3</th>\n",
              "      <td>classic hotel tulipano</td>\n",
              "      <td>98 €</td>\n",
              "      <td>terni, terni</td>\n",
              "      <td>Terni</td>\n",
              "      <td>453 recensioni</td>\n",
              "      <td>3.0</td>\n",
              "    </tr>\n",
              "    <tr>\n",
              "      <th>4</th>\n",
              "      <td>de hotel paris</td>\n",
              "      <td>69 €</td>\n",
              "      <td>terni, terni</td>\n",
              "      <td>Terni</td>\n",
              "      <td>11 recensioni</td>\n",
              "      <td>3.0</td>\n",
              "    </tr>\n",
              "  </tbody>\n",
              "</table>\n",
              "</div>"
            ],
            "text/plain": [
              "                          titolo prezzo     indirizzo  città  \\\n",
              "0                hotel valentino  258 €  terni, terni  Terni   \n",
              "1             garden hotel terni  138 €  terni, terni  Terni   \n",
              "2  hotel michelangelo palace spa  174 €  terni, terni  Terni   \n",
              "3         classic hotel tulipano   98 €  terni, terni  Terni   \n",
              "4                 de hotel paris   69 €  terni, terni  Terni   \n",
              "\n",
              "  numero_recensioni  valutazione  \n",
              "0      2 recensioni          4.0  \n",
              "1    505 recensioni          4.0  \n",
              "2    718 recensioni          4.0  \n",
              "3    453 recensioni          3.0  \n",
              "4     11 recensioni          3.0  "
            ]
          },
          "execution_count": 15,
          "metadata": {},
          "output_type": "execute_result"
        }
      ],
      "source": [
        "agoda_reduced.head()"
      ]
    },
    {
      "cell_type": "code",
      "execution_count": 16,
      "metadata": {
        "colab": {
          "base_uri": "https://localhost:8080/",
          "height": 206
        },
        "id": "i14S_l6xKLWL",
        "outputId": "7336308f-44b6-40f7-abf1-924632b2114e"
      },
      "outputs": [
        {
          "data": {
            "text/html": [
              "<div>\n",
              "<style scoped>\n",
              "    .dataframe tbody tr th:only-of-type {\n",
              "        vertical-align: middle;\n",
              "    }\n",
              "\n",
              "    .dataframe tbody tr th {\n",
              "        vertical-align: top;\n",
              "    }\n",
              "\n",
              "    .dataframe thead th {\n",
              "        text-align: right;\n",
              "    }\n",
              "</style>\n",
              "<table border=\"1\" class=\"dataframe\">\n",
              "  <thead>\n",
              "    <tr style=\"text-align: right;\">\n",
              "      <th></th>\n",
              "      <th>titolo</th>\n",
              "      <th>prezzo</th>\n",
              "      <th>indirizzo</th>\n",
              "      <th>città</th>\n",
              "      <th>numero_recensioni</th>\n",
              "      <th>valutazione_booking</th>\n",
              "    </tr>\n",
              "  </thead>\n",
              "  <tbody>\n",
              "    <tr>\n",
              "      <th>0</th>\n",
              "      <td>de hotel paris</td>\n",
              "      <td>€ 69</td>\n",
              "      <td>terni</td>\n",
              "      <td>Terni</td>\n",
              "      <td>869 recensioni</td>\n",
              "      <td>NaN</td>\n",
              "    </tr>\n",
              "    <tr>\n",
              "      <th>1</th>\n",
              "      <td>bb cospea</td>\n",
              "      <td>€ 55</td>\n",
              "      <td>terni</td>\n",
              "      <td>Terni</td>\n",
              "      <td>674 recensioni</td>\n",
              "      <td>3.0</td>\n",
              "    </tr>\n",
              "    <tr>\n",
              "      <th>2</th>\n",
              "      <td>bedbreakfast rosy</td>\n",
              "      <td>€ 77</td>\n",
              "      <td>terni</td>\n",
              "      <td>Terni</td>\n",
              "      <td>330 recensioni</td>\n",
              "      <td>4.0</td>\n",
              "    </tr>\n",
              "    <tr>\n",
              "      <th>3</th>\n",
              "      <td>angolo bb verde</td>\n",
              "      <td>€ 69</td>\n",
              "      <td>terni</td>\n",
              "      <td>Terni</td>\n",
              "      <td>219 recensioni</td>\n",
              "      <td>3.0</td>\n",
              "    </tr>\n",
              "    <tr>\n",
              "      <th>4</th>\n",
              "      <td>filomena guest house santa</td>\n",
              "      <td>€ 74</td>\n",
              "      <td>terni</td>\n",
              "      <td>Terni</td>\n",
              "      <td>11 recensioni</td>\n",
              "      <td>3.0</td>\n",
              "    </tr>\n",
              "  </tbody>\n",
              "</table>\n",
              "</div>"
            ],
            "text/plain": [
              "                       titolo prezzo indirizzo  città numero_recensioni  \\\n",
              "0              de hotel paris   € 69     terni  Terni    869 recensioni   \n",
              "1                   bb cospea   € 55     terni  Terni    674 recensioni   \n",
              "2           bedbreakfast rosy   € 77     terni  Terni    330 recensioni   \n",
              "3             angolo bb verde   € 69     terni  Terni    219 recensioni   \n",
              "4  filomena guest house santa   € 74     terni  Terni     11 recensioni   \n",
              "\n",
              "   valutazione_booking  \n",
              "0                  NaN  \n",
              "1                  3.0  \n",
              "2                  4.0  \n",
              "3                  3.0  \n",
              "4                  3.0  "
            ]
          },
          "execution_count": 16,
          "metadata": {},
          "output_type": "execute_result"
        }
      ],
      "source": [
        "booking_reduced.head()"
      ]
    },
    {
      "cell_type": "markdown",
      "metadata": {
        "id": "FUZb-Eb12R9w"
      },
      "source": [
        "Great! Now we have what we need to do our analysis, and not a whole lot of extraneous information. Let's move on to preprocessing."
      ]
    },
    {
      "cell_type": "markdown",
      "metadata": {
        "id": "PNcLaKewOkv4"
      },
      "source": [
        "# pulizia titolo da parole roma e rome"
      ]
    },
    {
      "cell_type": "code",
      "execution_count": 17,
      "metadata": {
        "colab": {
          "base_uri": "https://localhost:8080/"
        },
        "id": "0-8GifWgNzte",
        "outputId": "68d0d199-b6bc-4a43-d755-4e81d0934110"
      },
      "outputs": [
        {
          "name": "stderr",
          "output_type": "stream",
          "text": [
            "/var/folders/j4/9fk3st2d30g22vff83pj6cnw0000gn/T/ipykernel_8489/2607220419.py:2: SettingWithCopyWarning: \n",
            "A value is trying to be set on a copy of a slice from a DataFrame.\n",
            "Try using .loc[row_indexer,col_indexer] = value instead\n",
            "\n",
            "See the caveats in the documentation: https://pandas.pydata.org/pandas-docs/stable/user_guide/indexing.html#returning-a-view-versus-a-copy\n",
            "  agoda_reduced['titolo'] = (\n"
          ]
        }
      ],
      "source": [
        "#nuova pulizia indirizzo\n",
        "agoda_reduced['titolo'] = (\n",
        "    agoda_reduced['titolo']\n",
        "    .str.lower()  # tutto minuscolo\n",
        "    .str.replace(r'\\s*-\\s*.*$', '', regex=True)  # rimuove tutto dopo il trattino incluso\n",
        "    .str.replace(r',?\\s*roma\\b', '', regex=True)  # rimuove \"roma\" opzionalmente preceduta da virgola\n",
        "    .str.replace(r',?\\s*rome\\b', '', regex=True)  # rimuove \"centrale\" come parola intera\n",
        "    .str.strip()  # rimuove spazi iniziali/finali\n",
        ")"
      ]
    },
    {
      "cell_type": "code",
      "execution_count": 18,
      "metadata": {
        "colab": {
          "base_uri": "https://localhost:8080/"
        },
        "id": "PPvuqoIiOetd",
        "outputId": "cf79c325-e40a-4cfc-f942-4c2fed127858"
      },
      "outputs": [
        {
          "name": "stderr",
          "output_type": "stream",
          "text": [
            "/var/folders/j4/9fk3st2d30g22vff83pj6cnw0000gn/T/ipykernel_8489/600013662.py:2: SettingWithCopyWarning: \n",
            "A value is trying to be set on a copy of a slice from a DataFrame.\n",
            "Try using .loc[row_indexer,col_indexer] = value instead\n",
            "\n",
            "See the caveats in the documentation: https://pandas.pydata.org/pandas-docs/stable/user_guide/indexing.html#returning-a-view-versus-a-copy\n",
            "  booking_reduced['titolo'] = (\n"
          ]
        }
      ],
      "source": [
        "#nuova pulizia indirizzo\n",
        "booking_reduced['titolo'] = (\n",
        "    booking_reduced['titolo']\n",
        "    .str.lower()  # tutto minuscolo\n",
        "    .str.replace(r'\\s*-\\s*.*$', '', regex=True)  # rimuove tutto dopo il trattino incluso\n",
        "    .str.replace(r',?\\s*roma\\b', '', regex=True)  # rimuove \"roma\" opzionalmente preceduta da virgola\n",
        "    .str.replace(r',?\\s*rome\\b', '', regex=True)  # rimuove \"centrale\" come parola intera\n",
        "    .str.strip()  # rimuove spazi iniziali/finali\n",
        ")"
      ]
    },
    {
      "cell_type": "markdown",
      "metadata": {
        "id": "EcfDExy1sEWi"
      },
      "source": [
        "# pulizia prezzo"
      ]
    },
    {
      "cell_type": "code",
      "execution_count": 19,
      "metadata": {
        "colab": {
          "base_uri": "https://localhost:8080/"
        },
        "id": "yDSS4hjvsFO4",
        "outputId": "91ac2530-b14e-44eb-81ac-e7704686f06d"
      },
      "outputs": [
        {
          "name": "stderr",
          "output_type": "stream",
          "text": [
            "/var/folders/j4/9fk3st2d30g22vff83pj6cnw0000gn/T/ipykernel_8489/2615639504.py:2: SettingWithCopyWarning: \n",
            "A value is trying to be set on a copy of a slice from a DataFrame.\n",
            "Try using .loc[row_indexer,col_indexer] = value instead\n",
            "\n",
            "See the caveats in the documentation: https://pandas.pydata.org/pandas-docs/stable/user_guide/indexing.html#returning-a-view-versus-a-copy\n",
            "  booking_reduced['prezzo'] = pulisci_prezzo(booking_reduced['prezzo'])\n",
            "/var/folders/j4/9fk3st2d30g22vff83pj6cnw0000gn/T/ipykernel_8489/2615639504.py:3: SettingWithCopyWarning: \n",
            "A value is trying to be set on a copy of a slice from a DataFrame.\n",
            "Try using .loc[row_indexer,col_indexer] = value instead\n",
            "\n",
            "See the caveats in the documentation: https://pandas.pydata.org/pandas-docs/stable/user_guide/indexing.html#returning-a-view-versus-a-copy\n",
            "  agoda_reduced['prezzo'] = pulisci_prezzo(agoda_reduced['prezzo'])\n"
          ]
        }
      ],
      "source": [
        "# Applica la pulizia\n",
        "booking_reduced['prezzo'] = pulisci_prezzo(booking_reduced['prezzo'])\n",
        "agoda_reduced['prezzo'] = pulisci_prezzo(agoda_reduced['prezzo'])"
      ]
    },
    {
      "cell_type": "markdown",
      "metadata": {
        "id": "YOAslKKQ8Syt"
      },
      "source": [
        "# pulizia numero recensioni"
      ]
    },
    {
      "cell_type": "code",
      "execution_count": 20,
      "metadata": {
        "colab": {
          "base_uri": "https://localhost:8080/"
        },
        "id": "5c9LKT-88VxB",
        "outputId": "4f91e024-8f2f-4034-fed1-66164c6c7dc8"
      },
      "outputs": [
        {
          "name": "stderr",
          "output_type": "stream",
          "text": [
            "/var/folders/j4/9fk3st2d30g22vff83pj6cnw0000gn/T/ipykernel_8489/4137780272.py:2: SettingWithCopyWarning: \n",
            "A value is trying to be set on a copy of a slice from a DataFrame.\n",
            "Try using .loc[row_indexer,col_indexer] = value instead\n",
            "\n",
            "See the caveats in the documentation: https://pandas.pydata.org/pandas-docs/stable/user_guide/indexing.html#returning-a-view-versus-a-copy\n",
            "  booking_reduced['numero_recensioni'] = booking_reduced['numero_recensioni']\\\n",
            "/var/folders/j4/9fk3st2d30g22vff83pj6cnw0000gn/T/ipykernel_8489/4137780272.py:8: SettingWithCopyWarning: \n",
            "A value is trying to be set on a copy of a slice from a DataFrame.\n",
            "Try using .loc[row_indexer,col_indexer] = value instead\n",
            "\n",
            "See the caveats in the documentation: https://pandas.pydata.org/pandas-docs/stable/user_guide/indexing.html#returning-a-view-versus-a-copy\n",
            "  agoda_reduced['numero_recensioni'] = agoda_reduced['numero_recensioni']\\\n"
          ]
        }
      ],
      "source": [
        "# su booking\n",
        "booking_reduced['numero_recensioni'] = booking_reduced['numero_recensioni']\\\n",
        "    .astype(str)\\\n",
        "    .str.extract(r'(\\d+)')\\\n",
        "    .astype(float)\n",
        "\n",
        "# su agoda\n",
        "agoda_reduced['numero_recensioni'] = agoda_reduced['numero_recensioni']\\\n",
        "    .astype(str)\\\n",
        "    .str.extract(r'(\\d+)')\\\n",
        "    .astype(float)\n"
      ]
    },
    {
      "cell_type": "code",
      "execution_count": 21,
      "metadata": {
        "colab": {
          "base_uri": "https://localhost:8080/",
          "height": 206
        },
        "id": "pRfRGfta8d4V",
        "outputId": "3c95db29-d715-464a-9827-b9bd7d645b15"
      },
      "outputs": [
        {
          "data": {
            "text/html": [
              "<div>\n",
              "<style scoped>\n",
              "    .dataframe tbody tr th:only-of-type {\n",
              "        vertical-align: middle;\n",
              "    }\n",
              "\n",
              "    .dataframe tbody tr th {\n",
              "        vertical-align: top;\n",
              "    }\n",
              "\n",
              "    .dataframe thead th {\n",
              "        text-align: right;\n",
              "    }\n",
              "</style>\n",
              "<table border=\"1\" class=\"dataframe\">\n",
              "  <thead>\n",
              "    <tr style=\"text-align: right;\">\n",
              "      <th></th>\n",
              "      <th>titolo</th>\n",
              "      <th>prezzo</th>\n",
              "      <th>indirizzo</th>\n",
              "      <th>città</th>\n",
              "      <th>numero_recensioni</th>\n",
              "      <th>valutazione_booking</th>\n",
              "    </tr>\n",
              "  </thead>\n",
              "  <tbody>\n",
              "    <tr>\n",
              "      <th>0</th>\n",
              "      <td>de hotel paris</td>\n",
              "      <td>69</td>\n",
              "      <td>terni</td>\n",
              "      <td>Terni</td>\n",
              "      <td>869.0</td>\n",
              "      <td>NaN</td>\n",
              "    </tr>\n",
              "    <tr>\n",
              "      <th>1</th>\n",
              "      <td>bb cospea</td>\n",
              "      <td>55</td>\n",
              "      <td>terni</td>\n",
              "      <td>Terni</td>\n",
              "      <td>674.0</td>\n",
              "      <td>3.0</td>\n",
              "    </tr>\n",
              "    <tr>\n",
              "      <th>2</th>\n",
              "      <td>bedbreakfast rosy</td>\n",
              "      <td>77</td>\n",
              "      <td>terni</td>\n",
              "      <td>Terni</td>\n",
              "      <td>330.0</td>\n",
              "      <td>4.0</td>\n",
              "    </tr>\n",
              "    <tr>\n",
              "      <th>3</th>\n",
              "      <td>angolo bb verde</td>\n",
              "      <td>69</td>\n",
              "      <td>terni</td>\n",
              "      <td>Terni</td>\n",
              "      <td>219.0</td>\n",
              "      <td>3.0</td>\n",
              "    </tr>\n",
              "    <tr>\n",
              "      <th>4</th>\n",
              "      <td>filomena guest house santa</td>\n",
              "      <td>74</td>\n",
              "      <td>terni</td>\n",
              "      <td>Terni</td>\n",
              "      <td>11.0</td>\n",
              "      <td>3.0</td>\n",
              "    </tr>\n",
              "  </tbody>\n",
              "</table>\n",
              "</div>"
            ],
            "text/plain": [
              "                       titolo  prezzo indirizzo  città  numero_recensioni  \\\n",
              "0              de hotel paris      69     terni  Terni              869.0   \n",
              "1                   bb cospea      55     terni  Terni              674.0   \n",
              "2           bedbreakfast rosy      77     terni  Terni              330.0   \n",
              "3             angolo bb verde      69     terni  Terni              219.0   \n",
              "4  filomena guest house santa      74     terni  Terni               11.0   \n",
              "\n",
              "   valutazione_booking  \n",
              "0                  NaN  \n",
              "1                  3.0  \n",
              "2                  4.0  \n",
              "3                  3.0  \n",
              "4                  3.0  "
            ]
          },
          "execution_count": 21,
          "metadata": {},
          "output_type": "execute_result"
        }
      ],
      "source": [
        "booking_reduced.head()"
      ]
    },
    {
      "cell_type": "markdown",
      "metadata": {
        "id": "sMhr5wP62R9w"
      },
      "source": [
        "<a id='Preprocess:-clean-Up-Names-and-separate-to-first-middle-and-last-name'></a>\n",
        "## Preprocessing the Data\n",
        "-----"
      ]
    },
    {
      "cell_type": "markdown",
      "metadata": {
        "id": "5QDX_nhxaRdU"
      },
      "source": [
        "# rinominiamo i dataset"
      ]
    },
    {
      "cell_type": "code",
      "execution_count": 22,
      "metadata": {
        "id": "MIGn4qNwZbBp"
      },
      "outputs": [],
      "source": [
        "booking_reduced = booking_reduced.rename(columns={'titolo': 'titolo_booking', 'prezzo': 'prezzo_booking', 'indirizzo': 'indirizzo_booking','città':'città_booking','numero_recensioni':'numero_recensioni_booking'})"
      ]
    },
    {
      "cell_type": "code",
      "execution_count": 23,
      "metadata": {
        "id": "hvQCqyBuZv96"
      },
      "outputs": [],
      "source": [
        "agoda_reduced = agoda_reduced.rename(columns={'titolo': 'titolo_agoda', 'prezzo': 'prezzo_agoda', 'indirizzo': 'indirizzo_agoda','città':'città_agoda','numero_recensioni':'numero_recensioni_agoda','valutazione':'valutazione_agoda'})"
      ]
    },
    {
      "cell_type": "code",
      "execution_count": 24,
      "metadata": {
        "colab": {
          "base_uri": "https://localhost:8080/"
        },
        "id": "L5QCc_rb0HI2",
        "outputId": "db71b4a5-34d2-42e3-e726-cc39aa411efc"
      },
      "outputs": [
        {
          "data": {
            "text/plain": [
              "(886, 6)"
            ]
          },
          "execution_count": 24,
          "metadata": {},
          "output_type": "execute_result"
        }
      ],
      "source": [
        "booking_reduced.shape"
      ]
    },
    {
      "cell_type": "markdown",
      "metadata": {
        "id": "qQx-yQstG0iN"
      },
      "source": [
        "# AGGIUNTA FAKE RECORD"
      ]
    },
    {
      "cell_type": "markdown",
      "metadata": {
        "id": "zHGJM-2uGwey"
      },
      "source": [
        "-----------------------------------------------------------------"
      ]
    },
    {
      "cell_type": "markdown",
      "metadata": {
        "id": "JLGMb1OaCmGR"
      },
      "source": [
        "hotel del valentino ma che sta a Roma"
      ]
    },
    {
      "cell_type": "code",
      "execution_count": 25,
      "metadata": {
        "id": "3D5IpZrj-wZn"
      },
      "outputs": [],
      "source": [
        "# Nuova riga da aggiungere\n",
        "nuova_riga = pd.DataFrame([{'titolo_agoda': 'hotel valentino', 'prezzo_agoda': 190 ,'indirizzo_agoda':'eur','città_agoda':'Roma'}])\n",
        "\n",
        "# Aggiunta al dataset\n",
        "agoda_reduced = pd.concat([agoda_reduced, nuova_riga], ignore_index=True)"
      ]
    },
    {
      "cell_type": "code",
      "execution_count": 26,
      "metadata": {
        "id": "YzI3YB4xVxN1"
      },
      "outputs": [],
      "source": [
        "# Nuova riga da aggiungere\n",
        "nuova_riga = pd.DataFrame([{'titolo_agoda': 'paris hotel', 'prezzo_agoda': 110 ,'indirizzo_agoda':'termini','città_agoda':'Roma'}])\n",
        "\n",
        "# Aggiunta al dataset\n",
        "agoda_reduced = pd.concat([agoda_reduced, nuova_riga], ignore_index=True)"
      ]
    },
    {
      "cell_type": "code",
      "execution_count": 27,
      "metadata": {
        "id": "mTxgbO8-V53m"
      },
      "outputs": [],
      "source": [
        "# Nuova riga da aggiungere\n",
        "nuova_riga = pd.DataFrame([{'titolo_agoda': 'fiori hotel', 'prezzo_agoda': 81 ,'indirizzo_agoda':'Terni','città_agoda':'Terni'}])\n",
        "\n",
        "# Aggiunta al dataset\n",
        "agoda_reduced = pd.concat([agoda_reduced, nuova_riga], ignore_index=True)"
      ]
    },
    {
      "cell_type": "markdown",
      "metadata": {
        "id": "0oly5QY4Cog0"
      },
      "source": [
        "inverto ordine parole\n",
        "\n",
        "(non funziona perchè fa index sulle lettere) cambiare con matching var"
      ]
    },
    {
      "cell_type": "markdown",
      "metadata": {
        "id": "yTDsiMAPDwe_"
      },
      "source": [
        "errore battitura\n",
        "classic hotel Tulipano e classic hotel Tulippano sono matchati correttamente"
      ]
    },
    {
      "cell_type": "code",
      "execution_count": 28,
      "metadata": {
        "id": "wXJ5q3I2DwHD"
      },
      "outputs": [],
      "source": [
        "# Nuova riga da aggiungere\n",
        "nuova_riga = pd.DataFrame([{'titolo_agoda': 'classic hotel tulippano', 'prezzo_agoda': 109 ,'indirizzo_agoda':'Roma','città_agoda':'Roma'}])\n",
        "\n",
        "# Aggiunta al dataset\n",
        "agoda_reduced = pd.concat([agoda_reduced, nuova_riga], ignore_index=True)"
      ]
    },
    {
      "cell_type": "markdown",
      "metadata": {
        "id": "jfTrmhZdG-dM"
      },
      "source": [
        "-----------------------------------------------------------------"
      ]
    },
    {
      "cell_type": "markdown",
      "metadata": {},
      "source": [
        "# Esportazione dati"
      ]
    },
    {
      "cell_type": "code",
      "execution_count": 29,
      "metadata": {},
      "outputs": [],
      "source": [
        "agoda_reduced.to_csv(f\"{path_data_product}/agoda.csv\")"
      ]
    },
    {
      "cell_type": "code",
      "execution_count": 30,
      "metadata": {},
      "outputs": [],
      "source": [
        "booking_reduced.to_csv(f\"{path_data_product}/booking.csv\")"
      ]
    }
  ],
  "metadata": {
    "colab": {
      "provenance": []
    },
    "kernelspec": {
      "display_name": "recordlinkage",
      "language": "python",
      "name": "python3"
    },
    "language_info": {
      "codemirror_mode": {
        "name": "ipython",
        "version": 3
      },
      "file_extension": ".py",
      "mimetype": "text/x-python",
      "name": "python",
      "nbconvert_exporter": "python",
      "pygments_lexer": "ipython3",
      "version": "3.10.18"
    }
  },
  "nbformat": 4,
  "nbformat_minor": 0
}
